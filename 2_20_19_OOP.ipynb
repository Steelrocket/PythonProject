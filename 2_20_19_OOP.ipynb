{
  "cells": [
    {
      "metadata": {
        "trusted": true
      },
      "cell_type": "code",
      "source": "class Employee:\n  'Common base class for all employees'\n  empCount = 0\n\n  def __init__(self, name, salary):\n     self.name = name\n     self.salary = salary\n     Employee.empCount += 1\n\n  def displayCount(self):\n    print (\"Total Employee %d\" % Employee.empCount)\n\n  def displayEmployee(self):\n     print (\"Name : \", self.name,  \", Salary: \", self.salary)\nemp1 = Employee(\"Zara\", 2000)\nemp1.displayEmployee()\nemp1.name",
      "execution_count": 1,
      "outputs": [
        {
          "output_type": "stream",
          "text": "Name :  Zara , Salary:  2000\n",
          "name": "stdout"
        },
        {
          "output_type": "execute_result",
          "execution_count": 1,
          "data": {
            "text/plain": "'Zara'"
          },
          "metadata": {}
        }
      ]
    },
    {
      "metadata": {
        "trusted": true
      },
      "cell_type": "code",
      "source": "class kitchen:        # define parent class\n  rooti = 100\n  def __init__(self):\n     print (\"Calling kitchen constructor\")\n\n  def kitchenmethod(self):\n     print( 'Calling parent method')\n\n  def setrooti(self, newrooti):\n     kitchen.rooti = newrooti\n\n  def getrooti(self):\n     print (\"Parent attribute :\", kitchen.rooti)\n\nclass dtable(kitchen): # define child class\n  def __init__(self):\n     print (\"Calling dt constructor\")\n\n  def dtMethod(self):\n     print ('Calling dt child method')",
      "execution_count": 2,
      "outputs": []
    },
    {
      "metadata": {
        "trusted": true
      },
      "cell_type": "code",
      "source": "c=dtable()\nc",
      "execution_count": 3,
      "outputs": [
        {
          "output_type": "stream",
          "text": "Calling dt constructor\n",
          "name": "stdout"
        },
        {
          "output_type": "execute_result",
          "execution_count": 3,
          "data": {
            "text/plain": "<__main__.dtable at 0x7f5098efc588>"
          },
          "metadata": {}
        }
      ]
    },
    {
      "metadata": {
        "trusted": true
      },
      "cell_type": "code",
      "source": "c.getrooti()     # calls parent's method\nc.setrooti(200)       # again call parent's method\nc.getrooti()          # again call parent's method\nkitchen.rooti",
      "execution_count": 4,
      "outputs": [
        {
          "output_type": "stream",
          "text": "Parent attribute : 100\nParent attribute : 200\n",
          "name": "stdout"
        },
        {
          "output_type": "execute_result",
          "execution_count": 4,
          "data": {
            "text/plain": "200"
          },
          "metadata": {}
        }
      ]
    },
    {
      "metadata": {
        "trusted": true
      },
      "cell_type": "code",
      "source": "import _thread\nimport time\n\n# Define a function for the thread\ndef print_time( threadName, delay):\n  count = 0\n  while count < 5:\n     time.sleep(delay)\n     count += 1\n     print (\"%s: %s\" % ( threadName, time.ctime(time.time()) ))\n\n# Create two threads as follows\ntry:\n  _thread.start_new_thread( print_time, (\"Thread-1\", 2, ) )\n  _thread.start_new_thread( print_time, (\"Thread-2\", 4, ) )\nexcept:\n  print (\"Error: unable to start thread\")\n\nwhile 1:\n  pass",
      "execution_count": 10,
      "outputs": [
        {
          "output_type": "stream",
          "text": "Thread-1: Wed Feb 20 17:40:00 2019\nThread-2: Wed Feb 20 17:40:02 2019\nThread-1: Wed Feb 20 17:40:02 2019\nThread-1: Wed Feb 20 17:40:04 2019\nThread-2: Wed Feb 20 17:40:06 2019\nThread-1: Wed Feb 20 17:40:06 2019\nThread-1: Wed Feb 20 17:40:08 2019\nThread-2: Wed Feb 20 17:40:10 2019\nThread-2: Wed Feb 20 17:40:14 2019\nThread-2: Wed Feb 20 17:40:18 2019\n",
          "name": "stdout"
        },
        {
          "output_type": "error",
          "ename": "KeyboardInterrupt",
          "evalue": "",
          "traceback": [
            "\u001b[0;31m---------------------------------------------------------------------------\u001b[0m",
            "\u001b[0;31mKeyboardInterrupt\u001b[0m                         Traceback (most recent call last)",
            "\u001b[0;32m<ipython-input-10-03f71594a5cc>\u001b[0m in \u001b[0;36m<module>\u001b[0;34m\u001b[0m\n\u001b[1;32m     18\u001b[0m \u001b[0;34m\u001b[0m\u001b[0m\n\u001b[1;32m     19\u001b[0m \u001b[0;32mwhile\u001b[0m \u001b[0;36m1\u001b[0m\u001b[0;34m:\u001b[0m\u001b[0;34m\u001b[0m\u001b[0m\n\u001b[0;32m---> 20\u001b[0;31m   \u001b[0;32mpass\u001b[0m\u001b[0;34m\u001b[0m\u001b[0m\n\u001b[0m",
            "\u001b[0;31mKeyboardInterrupt\u001b[0m: "
          ]
        }
      ]
    },
    {
      "metadata": {
        "trusted": true
      },
      "cell_type": "code",
      "source": "print(\"hi\")\ntime.sleep(10)\nprint(\"hi\")",
      "execution_count": 8,
      "outputs": [
        {
          "output_type": "stream",
          "text": "hi\nhi\n",
          "name": "stdout"
        }
      ]
    },
    {
      "metadata": {
        "trusted": true
      },
      "cell_type": "code",
      "source": "print(\"hi\")\nprint(time.ctime(time.time()))\ntime.sleep(10)\nprint(\"hi\")\nprint(time.ctime(time.time()))",
      "execution_count": 9,
      "outputs": [
        {
          "output_type": "stream",
          "text": "hi\nWed Feb 20 17:37:58 2019\nhi\nWed Feb 20 17:38:08 2019\n",
          "name": "stdout"
        }
      ]
    },
    {
      "metadata": {
        "trusted": true
      },
      "cell_type": "code",
      "source": "import threading\nimport time\n\nexitFlag = 0\n\nclass myThread (threading.Thread):\n   def __init__(self, threadID, name, counter):\n      threading.Thread.__init__(self)\n      self.threadID = threadID\n      self.name = name\n      self.counter = counter\n   def run(self):\n      print (\"Starting\" + self.name)\n      print_time(self.name, 5, self.counter)\n      print (\"Exiting\" + self.name)\n\ndef print_time(threadName, counter, delay):\n   while counter:\n      if exitFlag:\n         threadName.exit()\n      time.sleep(delay)\n      print ()\"%s: %s\" % (threadName, time.ctime(time.time()))\n      counter -= 1\n\n# Create new threads\nthread1 = myThread(1, \"Thread-1\", 1)\nthread2 = myThread(2, \"Thread-2\", 2)\n\n# Start new Threads\nthread1.start()\nthread2.start()\n\nprint \"Exiting Main Thread\"",
      "execution_count": 13,
      "outputs": [
        {
          "output_type": "error",
          "ename": "SyntaxError",
          "evalue": "invalid syntax (<ipython-input-13-3181287ef62c>, line 22)",
          "traceback": [
            "\u001b[0;36m  File \u001b[0;32m\"<ipython-input-13-3181287ef62c>\"\u001b[0;36m, line \u001b[0;32m22\u001b[0m\n\u001b[0;31m    print \"%s: %s\" % (threadName, time.ctime(time.time()))\u001b[0m\n\u001b[0m                 ^\u001b[0m\n\u001b[0;31mSyntaxError\u001b[0m\u001b[0;31m:\u001b[0m invalid syntax\n"
          ]
        }
      ]
    },
    {
      "metadata": {
        "trusted": true
      },
      "cell_type": "code",
      "source": "",
      "execution_count": null,
      "outputs": []
    }
  ],
  "metadata": {
    "kernelspec": {
      "name": "python36",
      "display_name": "Python 3.6",
      "language": "python"
    },
    "language_info": {
      "mimetype": "text/x-python",
      "nbconvert_exporter": "python",
      "name": "python",
      "pygments_lexer": "ipython3",
      "version": "3.6.6",
      "file_extension": ".py",
      "codemirror_mode": {
        "version": 3,
        "name": "ipython"
      }
    }
  },
  "nbformat": 4,
  "nbformat_minor": 2
}