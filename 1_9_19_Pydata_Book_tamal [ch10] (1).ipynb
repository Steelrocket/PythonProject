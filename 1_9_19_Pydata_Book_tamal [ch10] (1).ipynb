{
  "cells": [
    {
      "metadata": {
        "trusted": true
      },
      "cell_type": "code",
      "source": "import numpy as np\nimport pandas as pd\nPREVIOUS_MAX_ROWS = pd.options.display.max_rows\npd.options.display.max_rows = 20\nnp.random.seed(12345)\nimport matplotlib.pyplot as plt\nplt.rc('figure', figsize=(10, 6))\nnp.set_printoptions(precision=4, suppress=True)",
      "execution_count": 1,
      "outputs": [
        {
          "output_type": "stream",
          "text": "/home/nbuser/anaconda3_501/lib/python3.6/site-packages/matplotlib/font_manager.py:229: UserWarning: Matplotlib is building the font cache using fc-list. This may take a moment.\n  'Matplotlib is building the font cache using fc-list. '\n",
          "name": "stderr"
        }
      ]
    },
    {
      "metadata": {
        "trusted": true
      },
      "cell_type": "code",
      "source": "df = pd.DataFrame({'key1' : ['a', 'a', 'b', 'b', 'a'],\n                   'key2' : ['one', 'two', 'one', 'two', 'one'],\n                   'data1' : np.random.randn(5),\n                   'data2' : np.random.randn(5)})\ndf",
      "execution_count": 2,
      "outputs": [
        {
          "output_type": "execute_result",
          "execution_count": 2,
          "data": {
            "text/html": "<div>\n<style scoped>\n    .dataframe tbody tr th:only-of-type {\n        vertical-align: middle;\n    }\n\n    .dataframe tbody tr th {\n        vertical-align: top;\n    }\n\n    .dataframe thead th {\n        text-align: right;\n    }\n</style>\n<table border=\"1\" class=\"dataframe\">\n  <thead>\n    <tr style=\"text-align: right;\">\n      <th></th>\n      <th>data1</th>\n      <th>data2</th>\n      <th>key1</th>\n      <th>key2</th>\n    </tr>\n  </thead>\n  <tbody>\n    <tr>\n      <th>0</th>\n      <td>-0.204708</td>\n      <td>1.393406</td>\n      <td>a</td>\n      <td>one</td>\n    </tr>\n    <tr>\n      <th>1</th>\n      <td>0.478943</td>\n      <td>0.092908</td>\n      <td>a</td>\n      <td>two</td>\n    </tr>\n    <tr>\n      <th>2</th>\n      <td>-0.519439</td>\n      <td>0.281746</td>\n      <td>b</td>\n      <td>one</td>\n    </tr>\n    <tr>\n      <th>3</th>\n      <td>-0.555730</td>\n      <td>0.769023</td>\n      <td>b</td>\n      <td>two</td>\n    </tr>\n    <tr>\n      <th>4</th>\n      <td>1.965781</td>\n      <td>1.246435</td>\n      <td>a</td>\n      <td>one</td>\n    </tr>\n  </tbody>\n</table>\n</div>",
            "text/plain": "      data1     data2 key1 key2\n0 -0.204708  1.393406    a  one\n1  0.478943  0.092908    a  two\n2 -0.519439  0.281746    b  one\n3 -0.555730  0.769023    b  two\n4  1.965781  1.246435    a  one"
          },
          "metadata": {}
        }
      ]
    },
    {
      "metadata": {
        "trusted": true
      },
      "cell_type": "code",
      "source": "grouped = df['data1'].groupby(df['key1'])\ngrouped",
      "execution_count": 3,
      "outputs": [
        {
          "output_type": "execute_result",
          "execution_count": 3,
          "data": {
            "text/plain": "<pandas.core.groupby.SeriesGroupBy object at 0x7f0868579588>"
          },
          "metadata": {}
        }
      ]
    },
    {
      "metadata": {
        "trusted": true
      },
      "cell_type": "code",
      "source": "grouped.mean()",
      "execution_count": 4,
      "outputs": [
        {
          "output_type": "execute_result",
          "execution_count": 4,
          "data": {
            "text/plain": "key1\na    0.746672\nb   -0.537585\nName: data1, dtype: float64"
          },
          "metadata": {}
        }
      ]
    },
    {
      "metadata": {
        "trusted": true
      },
      "cell_type": "code",
      "source": "means = df['data1'].groupby([df['key1'], df['key2']]).mean()\nmeans",
      "execution_count": 5,
      "outputs": [
        {
          "output_type": "execute_result",
          "execution_count": 5,
          "data": {
            "text/plain": "key1  key2\na     one     0.880536\n      two     0.478943\nb     one    -0.519439\n      two    -0.555730\nName: data1, dtype: float64"
          },
          "metadata": {}
        }
      ]
    },
    {
      "metadata": {
        "trusted": true
      },
      "cell_type": "code",
      "source": "means.unstack()",
      "execution_count": 6,
      "outputs": [
        {
          "output_type": "execute_result",
          "execution_count": 6,
          "data": {
            "text/html": "<div>\n<style scoped>\n    .dataframe tbody tr th:only-of-type {\n        vertical-align: middle;\n    }\n\n    .dataframe tbody tr th {\n        vertical-align: top;\n    }\n\n    .dataframe thead th {\n        text-align: right;\n    }\n</style>\n<table border=\"1\" class=\"dataframe\">\n  <thead>\n    <tr style=\"text-align: right;\">\n      <th>key2</th>\n      <th>one</th>\n      <th>two</th>\n    </tr>\n    <tr>\n      <th>key1</th>\n      <th></th>\n      <th></th>\n    </tr>\n  </thead>\n  <tbody>\n    <tr>\n      <th>a</th>\n      <td>0.880536</td>\n      <td>0.478943</td>\n    </tr>\n    <tr>\n      <th>b</th>\n      <td>-0.519439</td>\n      <td>-0.555730</td>\n    </tr>\n  </tbody>\n</table>\n</div>",
            "text/plain": "key2       one       two\nkey1                    \na     0.880536  0.478943\nb    -0.519439 -0.555730"
          },
          "metadata": {}
        }
      ]
    },
    {
      "metadata": {
        "trusted": true
      },
      "cell_type": "code",
      "source": "states = np.array(['Ohio', 'California', 'California', 'Ohio', 'Ohio'])\nyears = np.array([2005, 2005, 2006, 2005, 2006])\ndf['data1'].groupby([states, years]).mean()",
      "execution_count": 7,
      "outputs": [
        {
          "output_type": "execute_result",
          "execution_count": 7,
          "data": {
            "text/plain": "California  2005    0.478943\n            2006   -0.519439\nOhio        2005   -0.380219\n            2006    1.965781\nName: data1, dtype: float64"
          },
          "metadata": {}
        }
      ]
    },
    {
      "metadata": {
        "trusted": true
      },
      "cell_type": "code",
      "source": "df.groupby('key1').mean()",
      "execution_count": 8,
      "outputs": [
        {
          "output_type": "execute_result",
          "execution_count": 8,
          "data": {
            "text/html": "<div>\n<style scoped>\n    .dataframe tbody tr th:only-of-type {\n        vertical-align: middle;\n    }\n\n    .dataframe tbody tr th {\n        vertical-align: top;\n    }\n\n    .dataframe thead th {\n        text-align: right;\n    }\n</style>\n<table border=\"1\" class=\"dataframe\">\n  <thead>\n    <tr style=\"text-align: right;\">\n      <th></th>\n      <th>data1</th>\n      <th>data2</th>\n    </tr>\n    <tr>\n      <th>key1</th>\n      <th></th>\n      <th></th>\n    </tr>\n  </thead>\n  <tbody>\n    <tr>\n      <th>a</th>\n      <td>0.746672</td>\n      <td>0.910916</td>\n    </tr>\n    <tr>\n      <th>b</th>\n      <td>-0.537585</td>\n      <td>0.525384</td>\n    </tr>\n  </tbody>\n</table>\n</div>",
            "text/plain": "         data1     data2\nkey1                    \na     0.746672  0.910916\nb    -0.537585  0.525384"
          },
          "metadata": {}
        }
      ]
    },
    {
      "metadata": {
        "trusted": true
      },
      "cell_type": "code",
      "source": "df.groupby(['key1', 'key2']).mean()",
      "execution_count": 9,
      "outputs": [
        {
          "output_type": "execute_result",
          "execution_count": 9,
          "data": {
            "text/html": "<div>\n<style scoped>\n    .dataframe tbody tr th:only-of-type {\n        vertical-align: middle;\n    }\n\n    .dataframe tbody tr th {\n        vertical-align: top;\n    }\n\n    .dataframe thead th {\n        text-align: right;\n    }\n</style>\n<table border=\"1\" class=\"dataframe\">\n  <thead>\n    <tr style=\"text-align: right;\">\n      <th></th>\n      <th></th>\n      <th>data1</th>\n      <th>data2</th>\n    </tr>\n    <tr>\n      <th>key1</th>\n      <th>key2</th>\n      <th></th>\n      <th></th>\n    </tr>\n  </thead>\n  <tbody>\n    <tr>\n      <th rowspan=\"2\" valign=\"top\">a</th>\n      <th>one</th>\n      <td>0.880536</td>\n      <td>1.319920</td>\n    </tr>\n    <tr>\n      <th>two</th>\n      <td>0.478943</td>\n      <td>0.092908</td>\n    </tr>\n    <tr>\n      <th rowspan=\"2\" valign=\"top\">b</th>\n      <th>one</th>\n      <td>-0.519439</td>\n      <td>0.281746</td>\n    </tr>\n    <tr>\n      <th>two</th>\n      <td>-0.555730</td>\n      <td>0.769023</td>\n    </tr>\n  </tbody>\n</table>\n</div>",
            "text/plain": "              data1     data2\nkey1 key2                    \na    one   0.880536  1.319920\n     two   0.478943  0.092908\nb    one  -0.519439  0.281746\n     two  -0.555730  0.769023"
          },
          "metadata": {}
        }
      ]
    },
    {
      "metadata": {
        "trusted": true
      },
      "cell_type": "code",
      "source": "df.groupby(['key1', 'key2']).size()",
      "execution_count": 10,
      "outputs": [
        {
          "output_type": "execute_result",
          "execution_count": 10,
          "data": {
            "text/plain": "key1  key2\na     one     2\n      two     1\nb     one     1\n      two     1\ndtype: int64"
          },
          "metadata": {}
        }
      ]
    },
    {
      "metadata": {
        "trusted": true
      },
      "cell_type": "code",
      "source": "for name, group in df.groupby('key1'):\n    print(name)\n    print(group)",
      "execution_count": 11,
      "outputs": [
        {
          "output_type": "stream",
          "text": "a\n      data1     data2 key1 key2\n0 -0.204708  1.393406    a  one\n1  0.478943  0.092908    a  two\n4  1.965781  1.246435    a  one\nb\n      data1     data2 key1 key2\n2 -0.519439  0.281746    b  one\n3 -0.555730  0.769023    b  two\n",
          "name": "stdout"
        }
      ]
    },
    {
      "metadata": {
        "trusted": true
      },
      "cell_type": "code",
      "source": "s_grouped = df.groupby(['key1', 'key2'])['data2']\ns_grouped",
      "execution_count": 12,
      "outputs": [
        {
          "output_type": "execute_result",
          "execution_count": 12,
          "data": {
            "text/plain": "<pandas.core.groupby.SeriesGroupBy object at 0x7f08657022b0>"
          },
          "metadata": {}
        }
      ]
    },
    {
      "metadata": {
        "trusted": true
      },
      "cell_type": "code",
      "source": "s_grouped.mean()",
      "execution_count": 13,
      "outputs": [
        {
          "output_type": "execute_result",
          "execution_count": 13,
          "data": {
            "text/plain": "key1  key2\na     one     1.319920\n      two     0.092908\nb     one     0.281746\n      two     0.769023\nName: data2, dtype: float64"
          },
          "metadata": {}
        }
      ]
    },
    {
      "metadata": {
        "trusted": true
      },
      "cell_type": "code",
      "source": "people = pd.DataFrame(np.random.randn(5, 5),\n                      columns=['a', 'b', 'c', 'd', 'e'],\n                      index=['Joe', 'Steve', 'Wes', 'Jim', 'Travis'])\npeople.iloc[2:3, [1, 2]] = np.nan # Add a few NA values\npeople",
      "execution_count": 14,
      "outputs": [
        {
          "output_type": "execute_result",
          "execution_count": 14,
          "data": {
            "text/html": "<div>\n<style scoped>\n    .dataframe tbody tr th:only-of-type {\n        vertical-align: middle;\n    }\n\n    .dataframe tbody tr th {\n        vertical-align: top;\n    }\n\n    .dataframe thead th {\n        text-align: right;\n    }\n</style>\n<table border=\"1\" class=\"dataframe\">\n  <thead>\n    <tr style=\"text-align: right;\">\n      <th></th>\n      <th>a</th>\n      <th>b</th>\n      <th>c</th>\n      <th>d</th>\n      <th>e</th>\n    </tr>\n  </thead>\n  <tbody>\n    <tr>\n      <th>Joe</th>\n      <td>1.007189</td>\n      <td>-1.296221</td>\n      <td>0.274992</td>\n      <td>0.228913</td>\n      <td>1.352917</td>\n    </tr>\n    <tr>\n      <th>Steve</th>\n      <td>0.886429</td>\n      <td>-2.001637</td>\n      <td>-0.371843</td>\n      <td>1.669025</td>\n      <td>-0.438570</td>\n    </tr>\n    <tr>\n      <th>Wes</th>\n      <td>-0.539741</td>\n      <td>NaN</td>\n      <td>NaN</td>\n      <td>-1.021228</td>\n      <td>-0.577087</td>\n    </tr>\n    <tr>\n      <th>Jim</th>\n      <td>0.124121</td>\n      <td>0.302614</td>\n      <td>0.523772</td>\n      <td>0.000940</td>\n      <td>1.343810</td>\n    </tr>\n    <tr>\n      <th>Travis</th>\n      <td>-0.713544</td>\n      <td>-0.831154</td>\n      <td>-2.370232</td>\n      <td>-1.860761</td>\n      <td>-0.860757</td>\n    </tr>\n  </tbody>\n</table>\n</div>",
            "text/plain": "               a         b         c         d         e\nJoe     1.007189 -1.296221  0.274992  0.228913  1.352917\nSteve   0.886429 -2.001637 -0.371843  1.669025 -0.438570\nWes    -0.539741       NaN       NaN -1.021228 -0.577087\nJim     0.124121  0.302614  0.523772  0.000940  1.343810\nTravis -0.713544 -0.831154 -2.370232 -1.860761 -0.860757"
          },
          "metadata": {}
        }
      ]
    },
    {
      "metadata": {
        "trusted": true
      },
      "cell_type": "code",
      "source": "mapping = {'a': 'red', 'b': 'red', 'c': 'blue',\n           'd': 'blue', 'e': 'red', 'f' : 'orange'}",
      "execution_count": 16,
      "outputs": []
    },
    {
      "metadata": {
        "trusted": true
      },
      "cell_type": "code",
      "source": "by_column = people.groupby(mapping, axis=1)\nby_column.sum()",
      "execution_count": 17,
      "outputs": [
        {
          "output_type": "execute_result",
          "execution_count": 17,
          "data": {
            "text/html": "<div>\n<style scoped>\n    .dataframe tbody tr th:only-of-type {\n        vertical-align: middle;\n    }\n\n    .dataframe tbody tr th {\n        vertical-align: top;\n    }\n\n    .dataframe thead th {\n        text-align: right;\n    }\n</style>\n<table border=\"1\" class=\"dataframe\">\n  <thead>\n    <tr style=\"text-align: right;\">\n      <th></th>\n      <th>blue</th>\n      <th>red</th>\n    </tr>\n  </thead>\n  <tbody>\n    <tr>\n      <th>Joe</th>\n      <td>0.503905</td>\n      <td>1.063885</td>\n    </tr>\n    <tr>\n      <th>Steve</th>\n      <td>1.297183</td>\n      <td>-1.553778</td>\n    </tr>\n    <tr>\n      <th>Wes</th>\n      <td>-1.021228</td>\n      <td>-1.116829</td>\n    </tr>\n    <tr>\n      <th>Jim</th>\n      <td>0.524712</td>\n      <td>1.770545</td>\n    </tr>\n    <tr>\n      <th>Travis</th>\n      <td>-4.230992</td>\n      <td>-2.405455</td>\n    </tr>\n  </tbody>\n</table>\n</div>",
            "text/plain": "            blue       red\nJoe     0.503905  1.063885\nSteve   1.297183 -1.553778\nWes    -1.021228 -1.116829\nJim     0.524712  1.770545\nTravis -4.230992 -2.405455"
          },
          "metadata": {}
        }
      ]
    },
    {
      "metadata": {
        "trusted": true
      },
      "cell_type": "code",
      "source": "map_series = pd.Series(mapping)\nmap_series",
      "execution_count": 18,
      "outputs": [
        {
          "output_type": "execute_result",
          "execution_count": 18,
          "data": {
            "text/plain": "a       red\nb       red\nc      blue\nd      blue\ne       red\nf    orange\ndtype: object"
          },
          "metadata": {}
        }
      ]
    },
    {
      "metadata": {
        "trusted": true
      },
      "cell_type": "code",
      "source": "people.groupby(map_series, axis=1).count()",
      "execution_count": 19,
      "outputs": [
        {
          "output_type": "execute_result",
          "execution_count": 19,
          "data": {
            "text/html": "<div>\n<style scoped>\n    .dataframe tbody tr th:only-of-type {\n        vertical-align: middle;\n    }\n\n    .dataframe tbody tr th {\n        vertical-align: top;\n    }\n\n    .dataframe thead th {\n        text-align: right;\n    }\n</style>\n<table border=\"1\" class=\"dataframe\">\n  <thead>\n    <tr style=\"text-align: right;\">\n      <th></th>\n      <th>blue</th>\n      <th>red</th>\n    </tr>\n  </thead>\n  <tbody>\n    <tr>\n      <th>Joe</th>\n      <td>2</td>\n      <td>3</td>\n    </tr>\n    <tr>\n      <th>Steve</th>\n      <td>2</td>\n      <td>3</td>\n    </tr>\n    <tr>\n      <th>Wes</th>\n      <td>1</td>\n      <td>2</td>\n    </tr>\n    <tr>\n      <th>Jim</th>\n      <td>2</td>\n      <td>3</td>\n    </tr>\n    <tr>\n      <th>Travis</th>\n      <td>2</td>\n      <td>3</td>\n    </tr>\n  </tbody>\n</table>\n</div>",
            "text/plain": "        blue  red\nJoe        2    3\nSteve      2    3\nWes        1    2\nJim        2    3\nTravis     2    3"
          },
          "metadata": {}
        }
      ]
    },
    {
      "metadata": {
        "trusted": true
      },
      "cell_type": "code",
      "source": "people.groupby(len).sum() #groups by the length of the names",
      "execution_count": 20,
      "outputs": [
        {
          "output_type": "execute_result",
          "execution_count": 20,
          "data": {
            "text/html": "<div>\n<style scoped>\n    .dataframe tbody tr th:only-of-type {\n        vertical-align: middle;\n    }\n\n    .dataframe tbody tr th {\n        vertical-align: top;\n    }\n\n    .dataframe thead th {\n        text-align: right;\n    }\n</style>\n<table border=\"1\" class=\"dataframe\">\n  <thead>\n    <tr style=\"text-align: right;\">\n      <th></th>\n      <th>a</th>\n      <th>b</th>\n      <th>c</th>\n      <th>d</th>\n      <th>e</th>\n    </tr>\n  </thead>\n  <tbody>\n    <tr>\n      <th>3</th>\n      <td>0.591569</td>\n      <td>-0.993608</td>\n      <td>0.798764</td>\n      <td>-0.791374</td>\n      <td>2.119639</td>\n    </tr>\n    <tr>\n      <th>5</th>\n      <td>0.886429</td>\n      <td>-2.001637</td>\n      <td>-0.371843</td>\n      <td>1.669025</td>\n      <td>-0.438570</td>\n    </tr>\n    <tr>\n      <th>6</th>\n      <td>-0.713544</td>\n      <td>-0.831154</td>\n      <td>-2.370232</td>\n      <td>-1.860761</td>\n      <td>-0.860757</td>\n    </tr>\n  </tbody>\n</table>\n</div>",
            "text/plain": "          a         b         c         d         e\n3  0.591569 -0.993608  0.798764 -0.791374  2.119639\n5  0.886429 -2.001637 -0.371843  1.669025 -0.438570\n6 -0.713544 -0.831154 -2.370232 -1.860761 -0.860757"
          },
          "metadata": {}
        }
      ]
    },
    {
      "metadata": {
        "trusted": true
      },
      "cell_type": "code",
      "source": "peoplelen = people.groupby(len)\nfor name, group in peoplelen:\n   print(group)",
      "execution_count": 22,
      "outputs": [
        {
          "output_type": "stream",
          "text": "            a         b         c         d         e\nJoe  1.007189 -1.296221  0.274992  0.228913  1.352917\nWes -0.539741       NaN       NaN -1.021228 -0.577087\nJim  0.124121  0.302614  0.523772  0.000940  1.343810\n              a         b         c         d        e\nSteve  0.886429 -2.001637 -0.371843  1.669025 -0.43857\n               a         b         c         d         e\nTravis -0.713544 -0.831154 -2.370232 -1.860761 -0.860757\n",
          "name": "stdout"
        }
      ]
    },
    {
      "metadata": {
        "trusted": true
      },
      "cell_type": "code",
      "source": "key_list = ['one', 'one', 'one', 'two', 'two']\npeople.groupby([len, key_list]).min()",
      "execution_count": 21,
      "outputs": [
        {
          "output_type": "execute_result",
          "execution_count": 21,
          "data": {
            "text/html": "<div>\n<style scoped>\n    .dataframe tbody tr th:only-of-type {\n        vertical-align: middle;\n    }\n\n    .dataframe tbody tr th {\n        vertical-align: top;\n    }\n\n    .dataframe thead th {\n        text-align: right;\n    }\n</style>\n<table border=\"1\" class=\"dataframe\">\n  <thead>\n    <tr style=\"text-align: right;\">\n      <th></th>\n      <th></th>\n      <th>a</th>\n      <th>b</th>\n      <th>c</th>\n      <th>d</th>\n      <th>e</th>\n    </tr>\n  </thead>\n  <tbody>\n    <tr>\n      <th rowspan=\"2\" valign=\"top\">3</th>\n      <th>one</th>\n      <td>-0.539741</td>\n      <td>-1.296221</td>\n      <td>0.274992</td>\n      <td>-1.021228</td>\n      <td>-0.577087</td>\n    </tr>\n    <tr>\n      <th>two</th>\n      <td>0.124121</td>\n      <td>0.302614</td>\n      <td>0.523772</td>\n      <td>0.000940</td>\n      <td>1.343810</td>\n    </tr>\n    <tr>\n      <th>5</th>\n      <th>one</th>\n      <td>0.886429</td>\n      <td>-2.001637</td>\n      <td>-0.371843</td>\n      <td>1.669025</td>\n      <td>-0.438570</td>\n    </tr>\n    <tr>\n      <th>6</th>\n      <th>two</th>\n      <td>-0.713544</td>\n      <td>-0.831154</td>\n      <td>-2.370232</td>\n      <td>-1.860761</td>\n      <td>-0.860757</td>\n    </tr>\n  </tbody>\n</table>\n</div>",
            "text/plain": "              a         b         c         d         e\n3 one -0.539741 -1.296221  0.274992 -1.021228 -0.577087\n  two  0.124121  0.302614  0.523772  0.000940  1.343810\n5 one  0.886429 -2.001637 -0.371843  1.669025 -0.438570\n6 two -0.713544 -0.831154 -2.370232 -1.860761 -0.860757"
          },
          "metadata": {}
        }
      ]
    },
    {
      "metadata": {
        "trusted": true
      },
      "cell_type": "code",
      "source": "df",
      "execution_count": 23,
      "outputs": [
        {
          "output_type": "execute_result",
          "execution_count": 23,
          "data": {
            "text/html": "<div>\n<style scoped>\n    .dataframe tbody tr th:only-of-type {\n        vertical-align: middle;\n    }\n\n    .dataframe tbody tr th {\n        vertical-align: top;\n    }\n\n    .dataframe thead th {\n        text-align: right;\n    }\n</style>\n<table border=\"1\" class=\"dataframe\">\n  <thead>\n    <tr style=\"text-align: right;\">\n      <th></th>\n      <th>data1</th>\n      <th>data2</th>\n      <th>key1</th>\n      <th>key2</th>\n    </tr>\n  </thead>\n  <tbody>\n    <tr>\n      <th>0</th>\n      <td>-0.204708</td>\n      <td>1.393406</td>\n      <td>a</td>\n      <td>one</td>\n    </tr>\n    <tr>\n      <th>1</th>\n      <td>0.478943</td>\n      <td>0.092908</td>\n      <td>a</td>\n      <td>two</td>\n    </tr>\n    <tr>\n      <th>2</th>\n      <td>-0.519439</td>\n      <td>0.281746</td>\n      <td>b</td>\n      <td>one</td>\n    </tr>\n    <tr>\n      <th>3</th>\n      <td>-0.555730</td>\n      <td>0.769023</td>\n      <td>b</td>\n      <td>two</td>\n    </tr>\n    <tr>\n      <th>4</th>\n      <td>1.965781</td>\n      <td>1.246435</td>\n      <td>a</td>\n      <td>one</td>\n    </tr>\n  </tbody>\n</table>\n</div>",
            "text/plain": "      data1     data2 key1 key2\n0 -0.204708  1.393406    a  one\n1  0.478943  0.092908    a  two\n2 -0.519439  0.281746    b  one\n3 -0.555730  0.769023    b  two\n4  1.965781  1.246435    a  one"
          },
          "metadata": {}
        }
      ]
    },
    {
      "metadata": {
        "trusted": true
      },
      "cell_type": "code",
      "source": "grouped = df.groupby('key1')\ngrouped",
      "execution_count": 24,
      "outputs": [
        {
          "output_type": "execute_result",
          "execution_count": 24,
          "data": {
            "text/plain": "<pandas.core.groupby.DataFrameGroupBy object at 0x7f0864b7f7b8>"
          },
          "metadata": {}
        }
      ]
    },
    {
      "metadata": {
        "trusted": true
      },
      "cell_type": "code",
      "source": "grouped['data1'].quantile(0.9)",
      "execution_count": 25,
      "outputs": [
        {
          "output_type": "execute_result",
          "execution_count": 25,
          "data": {
            "text/plain": "key1\na    1.668413\nb   -0.523068\nName: data1, dtype: float64"
          },
          "metadata": {}
        }
      ]
    },
    {
      "metadata": {
        "trusted": true
      },
      "cell_type": "code",
      "source": "def peak_to_peak(arr):\n    return arr.max() - arr.min()\ngrouped.agg(peak_to_peak)",
      "execution_count": 26,
      "outputs": [
        {
          "output_type": "execute_result",
          "execution_count": 26,
          "data": {
            "text/html": "<div>\n<style scoped>\n    .dataframe tbody tr th:only-of-type {\n        vertical-align: middle;\n    }\n\n    .dataframe tbody tr th {\n        vertical-align: top;\n    }\n\n    .dataframe thead th {\n        text-align: right;\n    }\n</style>\n<table border=\"1\" class=\"dataframe\">\n  <thead>\n    <tr style=\"text-align: right;\">\n      <th></th>\n      <th>data1</th>\n      <th>data2</th>\n    </tr>\n    <tr>\n      <th>key1</th>\n      <th></th>\n      <th></th>\n    </tr>\n  </thead>\n  <tbody>\n    <tr>\n      <th>a</th>\n      <td>2.170488</td>\n      <td>1.300498</td>\n    </tr>\n    <tr>\n      <th>b</th>\n      <td>0.036292</td>\n      <td>0.487276</td>\n    </tr>\n  </tbody>\n</table>\n</div>",
            "text/plain": "         data1     data2\nkey1                    \na     2.170488  1.300498\nb     0.036292  0.487276"
          },
          "metadata": {}
        }
      ]
    },
    {
      "metadata": {
        "trusted": true
      },
      "cell_type": "code",
      "source": "grouped.describe()",
      "execution_count": 27,
      "outputs": [
        {
          "output_type": "execute_result",
          "execution_count": 27,
          "data": {
            "text/html": "<div>\n<style scoped>\n    .dataframe tbody tr th:only-of-type {\n        vertical-align: middle;\n    }\n\n    .dataframe tbody tr th {\n        vertical-align: top;\n    }\n\n    .dataframe thead tr th {\n        text-align: left;\n    }\n\n    .dataframe thead tr:last-of-type th {\n        text-align: right;\n    }\n</style>\n<table border=\"1\" class=\"dataframe\">\n  <thead>\n    <tr>\n      <th></th>\n      <th colspan=\"8\" halign=\"left\">data1</th>\n      <th colspan=\"8\" halign=\"left\">data2</th>\n    </tr>\n    <tr>\n      <th></th>\n      <th>count</th>\n      <th>mean</th>\n      <th>std</th>\n      <th>min</th>\n      <th>25%</th>\n      <th>50%</th>\n      <th>75%</th>\n      <th>max</th>\n      <th>count</th>\n      <th>mean</th>\n      <th>std</th>\n      <th>min</th>\n      <th>25%</th>\n      <th>50%</th>\n      <th>75%</th>\n      <th>max</th>\n    </tr>\n    <tr>\n      <th>key1</th>\n      <th></th>\n      <th></th>\n      <th></th>\n      <th></th>\n      <th></th>\n      <th></th>\n      <th></th>\n      <th></th>\n      <th></th>\n      <th></th>\n      <th></th>\n      <th></th>\n      <th></th>\n      <th></th>\n      <th></th>\n      <th></th>\n    </tr>\n  </thead>\n  <tbody>\n    <tr>\n      <th>a</th>\n      <td>3.0</td>\n      <td>0.746672</td>\n      <td>1.109736</td>\n      <td>-0.204708</td>\n      <td>0.137118</td>\n      <td>0.478943</td>\n      <td>1.222362</td>\n      <td>1.965781</td>\n      <td>3.0</td>\n      <td>0.910916</td>\n      <td>0.712217</td>\n      <td>0.092908</td>\n      <td>0.669671</td>\n      <td>1.246435</td>\n      <td>1.319920</td>\n      <td>1.393406</td>\n    </tr>\n    <tr>\n      <th>b</th>\n      <td>2.0</td>\n      <td>-0.537585</td>\n      <td>0.025662</td>\n      <td>-0.555730</td>\n      <td>-0.546657</td>\n      <td>-0.537585</td>\n      <td>-0.528512</td>\n      <td>-0.519439</td>\n      <td>2.0</td>\n      <td>0.525384</td>\n      <td>0.344556</td>\n      <td>0.281746</td>\n      <td>0.403565</td>\n      <td>0.525384</td>\n      <td>0.647203</td>\n      <td>0.769023</td>\n    </tr>\n  </tbody>\n</table>\n</div>",
            "text/plain": "     data1                                                              \\\n     count      mean       std       min       25%       50%       75%   \nkey1                                                                     \na      3.0  0.746672  1.109736 -0.204708  0.137118  0.478943  1.222362   \nb      2.0 -0.537585  0.025662 -0.555730 -0.546657 -0.537585 -0.528512   \n\n               data2                                                    \\\n           max count      mean       std       min       25%       50%   \nkey1                                                                     \na     1.965781   3.0  0.910916  0.712217  0.092908  0.669671  1.246435   \nb    -0.519439   2.0  0.525384  0.344556  0.281746  0.403565  0.525384   \n\n                          \n           75%       max  \nkey1                      \na     1.319920  1.393406  \nb     0.647203  0.769023  "
          },
          "metadata": {}
        }
      ]
    },
    {
      "metadata": {
        "trusted": true
      },
      "cell_type": "code",
      "source": "tips = pd.read_csv('pydata-book/examples/tips.csv')\ntips",
      "execution_count": 35,
      "outputs": [
        {
          "output_type": "execute_result",
          "execution_count": 35,
          "data": {
            "text/html": "<div>\n<style scoped>\n    .dataframe tbody tr th:only-of-type {\n        vertical-align: middle;\n    }\n\n    .dataframe tbody tr th {\n        vertical-align: top;\n    }\n\n    .dataframe thead th {\n        text-align: right;\n    }\n</style>\n<table border=\"1\" class=\"dataframe\">\n  <thead>\n    <tr style=\"text-align: right;\">\n      <th></th>\n      <th>total_bill</th>\n      <th>tip</th>\n      <th>smoker</th>\n      <th>day</th>\n      <th>time</th>\n      <th>size</th>\n    </tr>\n  </thead>\n  <tbody>\n    <tr>\n      <th>0</th>\n      <td>16.99</td>\n      <td>1.01</td>\n      <td>No</td>\n      <td>Sun</td>\n      <td>Dinner</td>\n      <td>2</td>\n    </tr>\n    <tr>\n      <th>1</th>\n      <td>10.34</td>\n      <td>1.66</td>\n      <td>No</td>\n      <td>Sun</td>\n      <td>Dinner</td>\n      <td>3</td>\n    </tr>\n    <tr>\n      <th>2</th>\n      <td>21.01</td>\n      <td>3.50</td>\n      <td>No</td>\n      <td>Sun</td>\n      <td>Dinner</td>\n      <td>3</td>\n    </tr>\n    <tr>\n      <th>3</th>\n      <td>23.68</td>\n      <td>3.31</td>\n      <td>No</td>\n      <td>Sun</td>\n      <td>Dinner</td>\n      <td>2</td>\n    </tr>\n    <tr>\n      <th>4</th>\n      <td>24.59</td>\n      <td>3.61</td>\n      <td>No</td>\n      <td>Sun</td>\n      <td>Dinner</td>\n      <td>4</td>\n    </tr>\n    <tr>\n      <th>5</th>\n      <td>25.29</td>\n      <td>4.71</td>\n      <td>No</td>\n      <td>Sun</td>\n      <td>Dinner</td>\n      <td>4</td>\n    </tr>\n    <tr>\n      <th>6</th>\n      <td>8.77</td>\n      <td>2.00</td>\n      <td>No</td>\n      <td>Sun</td>\n      <td>Dinner</td>\n      <td>2</td>\n    </tr>\n    <tr>\n      <th>7</th>\n      <td>26.88</td>\n      <td>3.12</td>\n      <td>No</td>\n      <td>Sun</td>\n      <td>Dinner</td>\n      <td>4</td>\n    </tr>\n    <tr>\n      <th>8</th>\n      <td>15.04</td>\n      <td>1.96</td>\n      <td>No</td>\n      <td>Sun</td>\n      <td>Dinner</td>\n      <td>2</td>\n    </tr>\n    <tr>\n      <th>9</th>\n      <td>14.78</td>\n      <td>3.23</td>\n      <td>No</td>\n      <td>Sun</td>\n      <td>Dinner</td>\n      <td>2</td>\n    </tr>\n    <tr>\n      <th>...</th>\n      <td>...</td>\n      <td>...</td>\n      <td>...</td>\n      <td>...</td>\n      <td>...</td>\n      <td>...</td>\n    </tr>\n    <tr>\n      <th>234</th>\n      <td>15.53</td>\n      <td>3.00</td>\n      <td>Yes</td>\n      <td>Sat</td>\n      <td>Dinner</td>\n      <td>2</td>\n    </tr>\n    <tr>\n      <th>235</th>\n      <td>10.07</td>\n      <td>1.25</td>\n      <td>No</td>\n      <td>Sat</td>\n      <td>Dinner</td>\n      <td>2</td>\n    </tr>\n    <tr>\n      <th>236</th>\n      <td>12.60</td>\n      <td>1.00</td>\n      <td>Yes</td>\n      <td>Sat</td>\n      <td>Dinner</td>\n      <td>2</td>\n    </tr>\n    <tr>\n      <th>237</th>\n      <td>32.83</td>\n      <td>1.17</td>\n      <td>Yes</td>\n      <td>Sat</td>\n      <td>Dinner</td>\n      <td>2</td>\n    </tr>\n    <tr>\n      <th>238</th>\n      <td>35.83</td>\n      <td>4.67</td>\n      <td>No</td>\n      <td>Sat</td>\n      <td>Dinner</td>\n      <td>3</td>\n    </tr>\n    <tr>\n      <th>239</th>\n      <td>29.03</td>\n      <td>5.92</td>\n      <td>No</td>\n      <td>Sat</td>\n      <td>Dinner</td>\n      <td>3</td>\n    </tr>\n    <tr>\n      <th>240</th>\n      <td>27.18</td>\n      <td>2.00</td>\n      <td>Yes</td>\n      <td>Sat</td>\n      <td>Dinner</td>\n      <td>2</td>\n    </tr>\n    <tr>\n      <th>241</th>\n      <td>22.67</td>\n      <td>2.00</td>\n      <td>Yes</td>\n      <td>Sat</td>\n      <td>Dinner</td>\n      <td>2</td>\n    </tr>\n    <tr>\n      <th>242</th>\n      <td>17.82</td>\n      <td>1.75</td>\n      <td>No</td>\n      <td>Sat</td>\n      <td>Dinner</td>\n      <td>2</td>\n    </tr>\n    <tr>\n      <th>243</th>\n      <td>18.78</td>\n      <td>3.00</td>\n      <td>No</td>\n      <td>Thur</td>\n      <td>Dinner</td>\n      <td>2</td>\n    </tr>\n  </tbody>\n</table>\n<p>244 rows × 6 columns</p>\n</div>",
            "text/plain": "     total_bill   tip smoker   day    time  size\n0         16.99  1.01     No   Sun  Dinner     2\n1         10.34  1.66     No   Sun  Dinner     3\n2         21.01  3.50     No   Sun  Dinner     3\n3         23.68  3.31     No   Sun  Dinner     2\n4         24.59  3.61     No   Sun  Dinner     4\n5         25.29  4.71     No   Sun  Dinner     4\n6          8.77  2.00     No   Sun  Dinner     2\n7         26.88  3.12     No   Sun  Dinner     4\n8         15.04  1.96     No   Sun  Dinner     2\n9         14.78  3.23     No   Sun  Dinner     2\n..          ...   ...    ...   ...     ...   ...\n234       15.53  3.00    Yes   Sat  Dinner     2\n235       10.07  1.25     No   Sat  Dinner     2\n236       12.60  1.00    Yes   Sat  Dinner     2\n237       32.83  1.17    Yes   Sat  Dinner     2\n238       35.83  4.67     No   Sat  Dinner     3\n239       29.03  5.92     No   Sat  Dinner     3\n240       27.18  2.00    Yes   Sat  Dinner     2\n241       22.67  2.00    Yes   Sat  Dinner     2\n242       17.82  1.75     No   Sat  Dinner     2\n243       18.78  3.00     No  Thur  Dinner     2\n\n[244 rows x 6 columns]"
          },
          "metadata": {}
        }
      ]
    },
    {
      "metadata": {
        "trusted": true
      },
      "cell_type": "code",
      "source": "# Add tip percentage of total bill\ntips['tip_pct'] = tips['tip'] / tips['total_bill']",
      "execution_count": 36,
      "outputs": []
    },
    {
      "metadata": {
        "trusted": true
      },
      "cell_type": "code",
      "source": "tips[:6]",
      "execution_count": 37,
      "outputs": [
        {
          "output_type": "execute_result",
          "execution_count": 37,
          "data": {
            "text/html": "<div>\n<style scoped>\n    .dataframe tbody tr th:only-of-type {\n        vertical-align: middle;\n    }\n\n    .dataframe tbody tr th {\n        vertical-align: top;\n    }\n\n    .dataframe thead th {\n        text-align: right;\n    }\n</style>\n<table border=\"1\" class=\"dataframe\">\n  <thead>\n    <tr style=\"text-align: right;\">\n      <th></th>\n      <th>total_bill</th>\n      <th>tip</th>\n      <th>smoker</th>\n      <th>day</th>\n      <th>time</th>\n      <th>size</th>\n      <th>tip_pct</th>\n    </tr>\n  </thead>\n  <tbody>\n    <tr>\n      <th>0</th>\n      <td>16.99</td>\n      <td>1.01</td>\n      <td>No</td>\n      <td>Sun</td>\n      <td>Dinner</td>\n      <td>2</td>\n      <td>0.059447</td>\n    </tr>\n    <tr>\n      <th>1</th>\n      <td>10.34</td>\n      <td>1.66</td>\n      <td>No</td>\n      <td>Sun</td>\n      <td>Dinner</td>\n      <td>3</td>\n      <td>0.160542</td>\n    </tr>\n    <tr>\n      <th>2</th>\n      <td>21.01</td>\n      <td>3.50</td>\n      <td>No</td>\n      <td>Sun</td>\n      <td>Dinner</td>\n      <td>3</td>\n      <td>0.166587</td>\n    </tr>\n    <tr>\n      <th>3</th>\n      <td>23.68</td>\n      <td>3.31</td>\n      <td>No</td>\n      <td>Sun</td>\n      <td>Dinner</td>\n      <td>2</td>\n      <td>0.139780</td>\n    </tr>\n    <tr>\n      <th>4</th>\n      <td>24.59</td>\n      <td>3.61</td>\n      <td>No</td>\n      <td>Sun</td>\n      <td>Dinner</td>\n      <td>4</td>\n      <td>0.146808</td>\n    </tr>\n    <tr>\n      <th>5</th>\n      <td>25.29</td>\n      <td>4.71</td>\n      <td>No</td>\n      <td>Sun</td>\n      <td>Dinner</td>\n      <td>4</td>\n      <td>0.186240</td>\n    </tr>\n  </tbody>\n</table>\n</div>",
            "text/plain": "   total_bill   tip smoker  day    time  size   tip_pct\n0       16.99  1.01     No  Sun  Dinner     2  0.059447\n1       10.34  1.66     No  Sun  Dinner     3  0.160542\n2       21.01  3.50     No  Sun  Dinner     3  0.166587\n3       23.68  3.31     No  Sun  Dinner     2  0.139780\n4       24.59  3.61     No  Sun  Dinner     4  0.146808\n5       25.29  4.71     No  Sun  Dinner     4  0.186240"
          },
          "metadata": {}
        }
      ]
    },
    {
      "metadata": {
        "trusted": true
      },
      "cell_type": "code",
      "source": "grouped = tips.groupby(['day', 'smoker'])\ngrouped",
      "execution_count": 49,
      "outputs": [
        {
          "output_type": "execute_result",
          "execution_count": 49,
          "data": {
            "text/plain": "<pandas.core.groupby.DataFrameGroupBy object at 0x7f0864a3c438>"
          },
          "metadata": {}
        }
      ]
    },
    {
      "metadata": {
        "trusted": true
      },
      "cell_type": "code",
      "source": "grouped_pct = grouped['tip_pct']\ngrouped_pct.agg('mean')",
      "execution_count": 39,
      "outputs": [
        {
          "output_type": "execute_result",
          "execution_count": 39,
          "data": {
            "text/plain": "day   smoker\nFri   No        0.151650\n      Yes       0.174783\nSat   No        0.158048\n      Yes       0.147906\nSun   No        0.160113\n      Yes       0.187250\nThur  No        0.160298\n      Yes       0.163863\nName: tip_pct, dtype: float64"
          },
          "metadata": {}
        }
      ]
    },
    {
      "metadata": {
        "trusted": true
      },
      "cell_type": "code",
      "source": "grouped_pct.agg(['mean', 'std', peak_to_peak])",
      "execution_count": 41,
      "outputs": [
        {
          "output_type": "execute_result",
          "execution_count": 41,
          "data": {
            "text/html": "<div>\n<style scoped>\n    .dataframe tbody tr th:only-of-type {\n        vertical-align: middle;\n    }\n\n    .dataframe tbody tr th {\n        vertical-align: top;\n    }\n\n    .dataframe thead th {\n        text-align: right;\n    }\n</style>\n<table border=\"1\" class=\"dataframe\">\n  <thead>\n    <tr style=\"text-align: right;\">\n      <th></th>\n      <th></th>\n      <th>mean</th>\n      <th>std</th>\n      <th>peak_to_peak</th>\n    </tr>\n    <tr>\n      <th>day</th>\n      <th>smoker</th>\n      <th></th>\n      <th></th>\n      <th></th>\n    </tr>\n  </thead>\n  <tbody>\n    <tr>\n      <th rowspan=\"2\" valign=\"top\">Fri</th>\n      <th>No</th>\n      <td>0.151650</td>\n      <td>0.028123</td>\n      <td>0.067349</td>\n    </tr>\n    <tr>\n      <th>Yes</th>\n      <td>0.174783</td>\n      <td>0.051293</td>\n      <td>0.159925</td>\n    </tr>\n    <tr>\n      <th rowspan=\"2\" valign=\"top\">Sat</th>\n      <th>No</th>\n      <td>0.158048</td>\n      <td>0.039767</td>\n      <td>0.235193</td>\n    </tr>\n    <tr>\n      <th>Yes</th>\n      <td>0.147906</td>\n      <td>0.061375</td>\n      <td>0.290095</td>\n    </tr>\n    <tr>\n      <th rowspan=\"2\" valign=\"top\">Sun</th>\n      <th>No</th>\n      <td>0.160113</td>\n      <td>0.042347</td>\n      <td>0.193226</td>\n    </tr>\n    <tr>\n      <th>Yes</th>\n      <td>0.187250</td>\n      <td>0.154134</td>\n      <td>0.644685</td>\n    </tr>\n    <tr>\n      <th rowspan=\"2\" valign=\"top\">Thur</th>\n      <th>No</th>\n      <td>0.160298</td>\n      <td>0.038774</td>\n      <td>0.193350</td>\n    </tr>\n    <tr>\n      <th>Yes</th>\n      <td>0.163863</td>\n      <td>0.039389</td>\n      <td>0.151240</td>\n    </tr>\n  </tbody>\n</table>\n</div>",
            "text/plain": "                 mean       std  peak_to_peak\nday  smoker                                  \nFri  No      0.151650  0.028123      0.067349\n     Yes     0.174783  0.051293      0.159925\nSat  No      0.158048  0.039767      0.235193\n     Yes     0.147906  0.061375      0.290095\nSun  No      0.160113  0.042347      0.193226\n     Yes     0.187250  0.154134      0.644685\nThur No      0.160298  0.038774      0.193350\n     Yes     0.163863  0.039389      0.151240"
          },
          "metadata": {}
        }
      ]
    },
    {
      "metadata": {
        "trusted": true
      },
      "cell_type": "code",
      "source": "grouped_pct.agg([('foo', 'mean'), ('bar', np.std)])",
      "execution_count": 43,
      "outputs": [
        {
          "output_type": "execute_result",
          "execution_count": 43,
          "data": {
            "text/html": "<div>\n<style scoped>\n    .dataframe tbody tr th:only-of-type {\n        vertical-align: middle;\n    }\n\n    .dataframe tbody tr th {\n        vertical-align: top;\n    }\n\n    .dataframe thead th {\n        text-align: right;\n    }\n</style>\n<table border=\"1\" class=\"dataframe\">\n  <thead>\n    <tr style=\"text-align: right;\">\n      <th></th>\n      <th></th>\n      <th>foo</th>\n      <th>bar</th>\n    </tr>\n    <tr>\n      <th>day</th>\n      <th>smoker</th>\n      <th></th>\n      <th></th>\n    </tr>\n  </thead>\n  <tbody>\n    <tr>\n      <th rowspan=\"2\" valign=\"top\">Fri</th>\n      <th>No</th>\n      <td>0.151650</td>\n      <td>0.028123</td>\n    </tr>\n    <tr>\n      <th>Yes</th>\n      <td>0.174783</td>\n      <td>0.051293</td>\n    </tr>\n    <tr>\n      <th rowspan=\"2\" valign=\"top\">Sat</th>\n      <th>No</th>\n      <td>0.158048</td>\n      <td>0.039767</td>\n    </tr>\n    <tr>\n      <th>Yes</th>\n      <td>0.147906</td>\n      <td>0.061375</td>\n    </tr>\n    <tr>\n      <th rowspan=\"2\" valign=\"top\">Sun</th>\n      <th>No</th>\n      <td>0.160113</td>\n      <td>0.042347</td>\n    </tr>\n    <tr>\n      <th>Yes</th>\n      <td>0.187250</td>\n      <td>0.154134</td>\n    </tr>\n    <tr>\n      <th rowspan=\"2\" valign=\"top\">Thur</th>\n      <th>No</th>\n      <td>0.160298</td>\n      <td>0.038774</td>\n    </tr>\n    <tr>\n      <th>Yes</th>\n      <td>0.163863</td>\n      <td>0.039389</td>\n    </tr>\n  </tbody>\n</table>\n</div>",
            "text/plain": "                  foo       bar\nday  smoker                    \nFri  No      0.151650  0.028123\n     Yes     0.174783  0.051293\nSat  No      0.158048  0.039767\n     Yes     0.147906  0.061375\nSun  No      0.160113  0.042347\n     Yes     0.187250  0.154134\nThur No      0.160298  0.038774\n     Yes     0.163863  0.039389"
          },
          "metadata": {}
        }
      ]
    },
    {
      "metadata": {
        "trusted": true
      },
      "cell_type": "code",
      "source": "grouped_pct.agg([('foo', 'mean'), ('bar', np.std), ('maxofvalues', 'max')])",
      "execution_count": 44,
      "outputs": [
        {
          "output_type": "execute_result",
          "execution_count": 44,
          "data": {
            "text/html": "<div>\n<style scoped>\n    .dataframe tbody tr th:only-of-type {\n        vertical-align: middle;\n    }\n\n    .dataframe tbody tr th {\n        vertical-align: top;\n    }\n\n    .dataframe thead th {\n        text-align: right;\n    }\n</style>\n<table border=\"1\" class=\"dataframe\">\n  <thead>\n    <tr style=\"text-align: right;\">\n      <th></th>\n      <th></th>\n      <th>foo</th>\n      <th>bar</th>\n      <th>maxofvalues</th>\n    </tr>\n    <tr>\n      <th>day</th>\n      <th>smoker</th>\n      <th></th>\n      <th></th>\n      <th></th>\n    </tr>\n  </thead>\n  <tbody>\n    <tr>\n      <th rowspan=\"2\" valign=\"top\">Fri</th>\n      <th>No</th>\n      <td>0.151650</td>\n      <td>0.028123</td>\n      <td>0.187735</td>\n    </tr>\n    <tr>\n      <th>Yes</th>\n      <td>0.174783</td>\n      <td>0.051293</td>\n      <td>0.263480</td>\n    </tr>\n    <tr>\n      <th rowspan=\"2\" valign=\"top\">Sat</th>\n      <th>No</th>\n      <td>0.158048</td>\n      <td>0.039767</td>\n      <td>0.291990</td>\n    </tr>\n    <tr>\n      <th>Yes</th>\n      <td>0.147906</td>\n      <td>0.061375</td>\n      <td>0.325733</td>\n    </tr>\n    <tr>\n      <th rowspan=\"2\" valign=\"top\">Sun</th>\n      <th>No</th>\n      <td>0.160113</td>\n      <td>0.042347</td>\n      <td>0.252672</td>\n    </tr>\n    <tr>\n      <th>Yes</th>\n      <td>0.187250</td>\n      <td>0.154134</td>\n      <td>0.710345</td>\n    </tr>\n    <tr>\n      <th rowspan=\"2\" valign=\"top\">Thur</th>\n      <th>No</th>\n      <td>0.160298</td>\n      <td>0.038774</td>\n      <td>0.266312</td>\n    </tr>\n    <tr>\n      <th>Yes</th>\n      <td>0.163863</td>\n      <td>0.039389</td>\n      <td>0.241255</td>\n    </tr>\n  </tbody>\n</table>\n</div>",
            "text/plain": "                  foo       bar  maxofvalues\nday  smoker                                 \nFri  No      0.151650  0.028123     0.187735\n     Yes     0.174783  0.051293     0.263480\nSat  No      0.158048  0.039767     0.291990\n     Yes     0.147906  0.061375     0.325733\nSun  No      0.160113  0.042347     0.252672\n     Yes     0.187250  0.154134     0.710345\nThur No      0.160298  0.038774     0.266312\n     Yes     0.163863  0.039389     0.241255"
          },
          "metadata": {}
        }
      ]
    },
    {
      "metadata": {
        "trusted": true
      },
      "cell_type": "code",
      "source": "functions = ['count', 'mean', 'max']\nresult = grouped['tip_pct', 'total_bill'].agg(functions)\nresult",
      "execution_count": 34,
      "outputs": [
        {
          "output_type": "execute_result",
          "execution_count": 34,
          "data": {
            "text/html": "<div>\n<style scoped>\n    .dataframe tbody tr th:only-of-type {\n        vertical-align: middle;\n    }\n\n    .dataframe tbody tr th {\n        vertical-align: top;\n    }\n\n    .dataframe thead tr th {\n        text-align: left;\n    }\n\n    .dataframe thead tr:last-of-type th {\n        text-align: right;\n    }\n</style>\n<table border=\"1\" class=\"dataframe\">\n  <thead>\n    <tr>\n      <th></th>\n      <th></th>\n      <th colspan=\"3\" halign=\"left\">tip_pct</th>\n      <th colspan=\"3\" halign=\"left\">total_bill</th>\n    </tr>\n    <tr>\n      <th></th>\n      <th></th>\n      <th>count</th>\n      <th>mean</th>\n      <th>max</th>\n      <th>count</th>\n      <th>mean</th>\n      <th>max</th>\n    </tr>\n    <tr>\n      <th>day</th>\n      <th>smoker</th>\n      <th></th>\n      <th></th>\n      <th></th>\n      <th></th>\n      <th></th>\n      <th></th>\n    </tr>\n  </thead>\n  <tbody>\n    <tr>\n      <th rowspan=\"2\" valign=\"top\">Fri</th>\n      <th>No</th>\n      <td>4</td>\n      <td>0.151650</td>\n      <td>0.187735</td>\n      <td>4</td>\n      <td>18.420000</td>\n      <td>22.75</td>\n    </tr>\n    <tr>\n      <th>Yes</th>\n      <td>15</td>\n      <td>0.174783</td>\n      <td>0.263480</td>\n      <td>15</td>\n      <td>16.813333</td>\n      <td>40.17</td>\n    </tr>\n    <tr>\n      <th rowspan=\"2\" valign=\"top\">Sat</th>\n      <th>No</th>\n      <td>45</td>\n      <td>0.158048</td>\n      <td>0.291990</td>\n      <td>45</td>\n      <td>19.661778</td>\n      <td>48.33</td>\n    </tr>\n    <tr>\n      <th>Yes</th>\n      <td>42</td>\n      <td>0.147906</td>\n      <td>0.325733</td>\n      <td>42</td>\n      <td>21.276667</td>\n      <td>50.81</td>\n    </tr>\n    <tr>\n      <th rowspan=\"2\" valign=\"top\">Sun</th>\n      <th>No</th>\n      <td>57</td>\n      <td>0.160113</td>\n      <td>0.252672</td>\n      <td>57</td>\n      <td>20.506667</td>\n      <td>48.17</td>\n    </tr>\n    <tr>\n      <th>Yes</th>\n      <td>19</td>\n      <td>0.187250</td>\n      <td>0.710345</td>\n      <td>19</td>\n      <td>24.120000</td>\n      <td>45.35</td>\n    </tr>\n    <tr>\n      <th rowspan=\"2\" valign=\"top\">Thur</th>\n      <th>No</th>\n      <td>45</td>\n      <td>0.160298</td>\n      <td>0.266312</td>\n      <td>45</td>\n      <td>17.113111</td>\n      <td>41.19</td>\n    </tr>\n    <tr>\n      <th>Yes</th>\n      <td>17</td>\n      <td>0.163863</td>\n      <td>0.241255</td>\n      <td>17</td>\n      <td>19.190588</td>\n      <td>43.11</td>\n    </tr>\n  </tbody>\n</table>\n</div>",
            "text/plain": "            tip_pct                     total_bill                  \n              count      mean       max      count       mean    max\nday  smoker                                                         \nFri  No           4  0.151650  0.187735          4  18.420000  22.75\n     Yes         15  0.174783  0.263480         15  16.813333  40.17\nSat  No          45  0.158048  0.291990         45  19.661778  48.33\n     Yes         42  0.147906  0.325733         42  21.276667  50.81\nSun  No          57  0.160113  0.252672         57  20.506667  48.17\n     Yes         19  0.187250  0.710345         19  24.120000  45.35\nThur No          45  0.160298  0.266312         45  17.113111  41.19\n     Yes         17  0.163863  0.241255         17  19.190588  43.11"
          },
          "metadata": {}
        }
      ]
    },
    {
      "metadata": {
        "trusted": true
      },
      "cell_type": "code",
      "source": "result['tip_pct']",
      "execution_count": 45,
      "outputs": [
        {
          "output_type": "execute_result",
          "execution_count": 45,
          "data": {
            "text/html": "<div>\n<style scoped>\n    .dataframe tbody tr th:only-of-type {\n        vertical-align: middle;\n    }\n\n    .dataframe tbody tr th {\n        vertical-align: top;\n    }\n\n    .dataframe thead th {\n        text-align: right;\n    }\n</style>\n<table border=\"1\" class=\"dataframe\">\n  <thead>\n    <tr style=\"text-align: right;\">\n      <th></th>\n      <th></th>\n      <th>count</th>\n      <th>mean</th>\n      <th>max</th>\n    </tr>\n    <tr>\n      <th>day</th>\n      <th>smoker</th>\n      <th></th>\n      <th></th>\n      <th></th>\n    </tr>\n  </thead>\n  <tbody>\n    <tr>\n      <th rowspan=\"2\" valign=\"top\">Fri</th>\n      <th>No</th>\n      <td>4</td>\n      <td>0.151650</td>\n      <td>0.187735</td>\n    </tr>\n    <tr>\n      <th>Yes</th>\n      <td>15</td>\n      <td>0.174783</td>\n      <td>0.263480</td>\n    </tr>\n    <tr>\n      <th rowspan=\"2\" valign=\"top\">Sat</th>\n      <th>No</th>\n      <td>45</td>\n      <td>0.158048</td>\n      <td>0.291990</td>\n    </tr>\n    <tr>\n      <th>Yes</th>\n      <td>42</td>\n      <td>0.147906</td>\n      <td>0.325733</td>\n    </tr>\n    <tr>\n      <th rowspan=\"2\" valign=\"top\">Sun</th>\n      <th>No</th>\n      <td>57</td>\n      <td>0.160113</td>\n      <td>0.252672</td>\n    </tr>\n    <tr>\n      <th>Yes</th>\n      <td>19</td>\n      <td>0.187250</td>\n      <td>0.710345</td>\n    </tr>\n    <tr>\n      <th rowspan=\"2\" valign=\"top\">Thur</th>\n      <th>No</th>\n      <td>45</td>\n      <td>0.160298</td>\n      <td>0.266312</td>\n    </tr>\n    <tr>\n      <th>Yes</th>\n      <td>17</td>\n      <td>0.163863</td>\n      <td>0.241255</td>\n    </tr>\n  </tbody>\n</table>\n</div>",
            "text/plain": "             count      mean       max\nday  smoker                           \nFri  No          4  0.151650  0.187735\n     Yes        15  0.174783  0.263480\nSat  No         45  0.158048  0.291990\n     Yes        42  0.147906  0.325733\nSun  No         57  0.160113  0.252672\n     Yes        19  0.187250  0.710345\nThur No         45  0.160298  0.266312\n     Yes        17  0.163863  0.241255"
          },
          "metadata": {}
        }
      ]
    },
    {
      "metadata": {
        "trusted": true
      },
      "cell_type": "code",
      "source": "ftuples = [('Durchschnitt', 'mean'), ('Abweichung', np.var)]\ngrouped['tip_pct', 'total_bill'].agg(ftuples)",
      "execution_count": 46,
      "outputs": [
        {
          "output_type": "execute_result",
          "execution_count": 46,
          "data": {
            "text/html": "<div>\n<style scoped>\n    .dataframe tbody tr th:only-of-type {\n        vertical-align: middle;\n    }\n\n    .dataframe tbody tr th {\n        vertical-align: top;\n    }\n\n    .dataframe thead tr th {\n        text-align: left;\n    }\n\n    .dataframe thead tr:last-of-type th {\n        text-align: right;\n    }\n</style>\n<table border=\"1\" class=\"dataframe\">\n  <thead>\n    <tr>\n      <th></th>\n      <th></th>\n      <th colspan=\"2\" halign=\"left\">tip_pct</th>\n      <th colspan=\"2\" halign=\"left\">total_bill</th>\n    </tr>\n    <tr>\n      <th></th>\n      <th></th>\n      <th>Durchschnitt</th>\n      <th>Abweichung</th>\n      <th>Durchschnitt</th>\n      <th>Abweichung</th>\n    </tr>\n    <tr>\n      <th>day</th>\n      <th>smoker</th>\n      <th></th>\n      <th></th>\n      <th></th>\n      <th></th>\n    </tr>\n  </thead>\n  <tbody>\n    <tr>\n      <th rowspan=\"2\" valign=\"top\">Fri</th>\n      <th>No</th>\n      <td>0.151650</td>\n      <td>0.000791</td>\n      <td>18.420000</td>\n      <td>25.596333</td>\n    </tr>\n    <tr>\n      <th>Yes</th>\n      <td>0.174783</td>\n      <td>0.002631</td>\n      <td>16.813333</td>\n      <td>82.562438</td>\n    </tr>\n    <tr>\n      <th rowspan=\"2\" valign=\"top\">Sat</th>\n      <th>No</th>\n      <td>0.158048</td>\n      <td>0.001581</td>\n      <td>19.661778</td>\n      <td>79.908965</td>\n    </tr>\n    <tr>\n      <th>Yes</th>\n      <td>0.147906</td>\n      <td>0.003767</td>\n      <td>21.276667</td>\n      <td>101.387535</td>\n    </tr>\n    <tr>\n      <th rowspan=\"2\" valign=\"top\">Sun</th>\n      <th>No</th>\n      <td>0.160113</td>\n      <td>0.001793</td>\n      <td>20.506667</td>\n      <td>66.099980</td>\n    </tr>\n    <tr>\n      <th>Yes</th>\n      <td>0.187250</td>\n      <td>0.023757</td>\n      <td>24.120000</td>\n      <td>109.046044</td>\n    </tr>\n    <tr>\n      <th rowspan=\"2\" valign=\"top\">Thur</th>\n      <th>No</th>\n      <td>0.160298</td>\n      <td>0.001503</td>\n      <td>17.113111</td>\n      <td>59.625081</td>\n    </tr>\n    <tr>\n      <th>Yes</th>\n      <td>0.163863</td>\n      <td>0.001551</td>\n      <td>19.190588</td>\n      <td>69.808518</td>\n    </tr>\n  </tbody>\n</table>\n</div>",
            "text/plain": "                 tip_pct              total_bill            \n            Durchschnitt Abweichung Durchschnitt  Abweichung\nday  smoker                                                 \nFri  No         0.151650   0.000791    18.420000   25.596333\n     Yes        0.174783   0.002631    16.813333   82.562438\nSat  No         0.158048   0.001581    19.661778   79.908965\n     Yes        0.147906   0.003767    21.276667  101.387535\nSun  No         0.160113   0.001793    20.506667   66.099980\n     Yes        0.187250   0.023757    24.120000  109.046044\nThur No         0.160298   0.001503    17.113111   59.625081\n     Yes        0.163863   0.001551    19.190588   69.808518"
          },
          "metadata": {}
        }
      ]
    },
    {
      "metadata": {
        "trusted": true
      },
      "cell_type": "code",
      "source": "grouped.agg({'tip' : np.max, 'size' : 'sum'})",
      "execution_count": 47,
      "outputs": [
        {
          "output_type": "execute_result",
          "execution_count": 47,
          "data": {
            "text/html": "<div>\n<style scoped>\n    .dataframe tbody tr th:only-of-type {\n        vertical-align: middle;\n    }\n\n    .dataframe tbody tr th {\n        vertical-align: top;\n    }\n\n    .dataframe thead th {\n        text-align: right;\n    }\n</style>\n<table border=\"1\" class=\"dataframe\">\n  <thead>\n    <tr style=\"text-align: right;\">\n      <th></th>\n      <th></th>\n      <th>tip</th>\n      <th>size</th>\n    </tr>\n    <tr>\n      <th>day</th>\n      <th>smoker</th>\n      <th></th>\n      <th></th>\n    </tr>\n  </thead>\n  <tbody>\n    <tr>\n      <th rowspan=\"2\" valign=\"top\">Fri</th>\n      <th>No</th>\n      <td>3.50</td>\n      <td>9</td>\n    </tr>\n    <tr>\n      <th>Yes</th>\n      <td>4.73</td>\n      <td>31</td>\n    </tr>\n    <tr>\n      <th rowspan=\"2\" valign=\"top\">Sat</th>\n      <th>No</th>\n      <td>9.00</td>\n      <td>115</td>\n    </tr>\n    <tr>\n      <th>Yes</th>\n      <td>10.00</td>\n      <td>104</td>\n    </tr>\n    <tr>\n      <th rowspan=\"2\" valign=\"top\">Sun</th>\n      <th>No</th>\n      <td>6.00</td>\n      <td>167</td>\n    </tr>\n    <tr>\n      <th>Yes</th>\n      <td>6.50</td>\n      <td>49</td>\n    </tr>\n    <tr>\n      <th rowspan=\"2\" valign=\"top\">Thur</th>\n      <th>No</th>\n      <td>6.70</td>\n      <td>112</td>\n    </tr>\n    <tr>\n      <th>Yes</th>\n      <td>5.00</td>\n      <td>40</td>\n    </tr>\n  </tbody>\n</table>\n</div>",
            "text/plain": "               tip  size\nday  smoker             \nFri  No       3.50     9\n     Yes      4.73    31\nSat  No       9.00   115\n     Yes     10.00   104\nSun  No       6.00   167\n     Yes      6.50    49\nThur No       6.70   112\n     Yes      5.00    40"
          },
          "metadata": {}
        }
      ]
    },
    {
      "metadata": {
        "trusted": true
      },
      "cell_type": "code",
      "source": "grouped.agg({'tip_pct' : ['min', 'max', 'mean', 'std'],\n             'size' : 'sum'})",
      "execution_count": 48,
      "outputs": [
        {
          "output_type": "execute_result",
          "execution_count": 48,
          "data": {
            "text/html": "<div>\n<style scoped>\n    .dataframe tbody tr th:only-of-type {\n        vertical-align: middle;\n    }\n\n    .dataframe tbody tr th {\n        vertical-align: top;\n    }\n\n    .dataframe thead tr th {\n        text-align: left;\n    }\n\n    .dataframe thead tr:last-of-type th {\n        text-align: right;\n    }\n</style>\n<table border=\"1\" class=\"dataframe\">\n  <thead>\n    <tr>\n      <th></th>\n      <th></th>\n      <th colspan=\"4\" halign=\"left\">tip_pct</th>\n      <th>size</th>\n    </tr>\n    <tr>\n      <th></th>\n      <th></th>\n      <th>min</th>\n      <th>max</th>\n      <th>mean</th>\n      <th>std</th>\n      <th>sum</th>\n    </tr>\n    <tr>\n      <th>day</th>\n      <th>smoker</th>\n      <th></th>\n      <th></th>\n      <th></th>\n      <th></th>\n      <th></th>\n    </tr>\n  </thead>\n  <tbody>\n    <tr>\n      <th rowspan=\"2\" valign=\"top\">Fri</th>\n      <th>No</th>\n      <td>0.120385</td>\n      <td>0.187735</td>\n      <td>0.151650</td>\n      <td>0.028123</td>\n      <td>9</td>\n    </tr>\n    <tr>\n      <th>Yes</th>\n      <td>0.103555</td>\n      <td>0.263480</td>\n      <td>0.174783</td>\n      <td>0.051293</td>\n      <td>31</td>\n    </tr>\n    <tr>\n      <th rowspan=\"2\" valign=\"top\">Sat</th>\n      <th>No</th>\n      <td>0.056797</td>\n      <td>0.291990</td>\n      <td>0.158048</td>\n      <td>0.039767</td>\n      <td>115</td>\n    </tr>\n    <tr>\n      <th>Yes</th>\n      <td>0.035638</td>\n      <td>0.325733</td>\n      <td>0.147906</td>\n      <td>0.061375</td>\n      <td>104</td>\n    </tr>\n    <tr>\n      <th rowspan=\"2\" valign=\"top\">Sun</th>\n      <th>No</th>\n      <td>0.059447</td>\n      <td>0.252672</td>\n      <td>0.160113</td>\n      <td>0.042347</td>\n      <td>167</td>\n    </tr>\n    <tr>\n      <th>Yes</th>\n      <td>0.065660</td>\n      <td>0.710345</td>\n      <td>0.187250</td>\n      <td>0.154134</td>\n      <td>49</td>\n    </tr>\n    <tr>\n      <th rowspan=\"2\" valign=\"top\">Thur</th>\n      <th>No</th>\n      <td>0.072961</td>\n      <td>0.266312</td>\n      <td>0.160298</td>\n      <td>0.038774</td>\n      <td>112</td>\n    </tr>\n    <tr>\n      <th>Yes</th>\n      <td>0.090014</td>\n      <td>0.241255</td>\n      <td>0.163863</td>\n      <td>0.039389</td>\n      <td>40</td>\n    </tr>\n  </tbody>\n</table>\n</div>",
            "text/plain": "              tip_pct                               size\n                  min       max      mean       std  sum\nday  smoker                                             \nFri  No      0.120385  0.187735  0.151650  0.028123    9\n     Yes     0.103555  0.263480  0.174783  0.051293   31\nSat  No      0.056797  0.291990  0.158048  0.039767  115\n     Yes     0.035638  0.325733  0.147906  0.061375  104\nSun  No      0.059447  0.252672  0.160113  0.042347  167\n     Yes     0.065660  0.710345  0.187250  0.154134   49\nThur No      0.072961  0.266312  0.160298  0.038774  112\n     Yes     0.090014  0.241255  0.163863  0.039389   40"
          },
          "metadata": {}
        }
      ]
    },
    {
      "metadata": {
        "trusted": true
      },
      "cell_type": "code",
      "source": "tips.groupby(['day', 'smoker'], as_index=True).mean()",
      "execution_count": 52,
      "outputs": [
        {
          "output_type": "execute_result",
          "execution_count": 52,
          "data": {
            "text/html": "<div>\n<style scoped>\n    .dataframe tbody tr th:only-of-type {\n        vertical-align: middle;\n    }\n\n    .dataframe tbody tr th {\n        vertical-align: top;\n    }\n\n    .dataframe thead th {\n        text-align: right;\n    }\n</style>\n<table border=\"1\" class=\"dataframe\">\n  <thead>\n    <tr style=\"text-align: right;\">\n      <th></th>\n      <th></th>\n      <th>total_bill</th>\n      <th>tip</th>\n      <th>size</th>\n      <th>tip_pct</th>\n    </tr>\n    <tr>\n      <th>day</th>\n      <th>smoker</th>\n      <th></th>\n      <th></th>\n      <th></th>\n      <th></th>\n    </tr>\n  </thead>\n  <tbody>\n    <tr>\n      <th rowspan=\"2\" valign=\"top\">Fri</th>\n      <th>No</th>\n      <td>18.420000</td>\n      <td>2.812500</td>\n      <td>2.250000</td>\n      <td>0.151650</td>\n    </tr>\n    <tr>\n      <th>Yes</th>\n      <td>16.813333</td>\n      <td>2.714000</td>\n      <td>2.066667</td>\n      <td>0.174783</td>\n    </tr>\n    <tr>\n      <th rowspan=\"2\" valign=\"top\">Sat</th>\n      <th>No</th>\n      <td>19.661778</td>\n      <td>3.102889</td>\n      <td>2.555556</td>\n      <td>0.158048</td>\n    </tr>\n    <tr>\n      <th>Yes</th>\n      <td>21.276667</td>\n      <td>2.875476</td>\n      <td>2.476190</td>\n      <td>0.147906</td>\n    </tr>\n    <tr>\n      <th rowspan=\"2\" valign=\"top\">Sun</th>\n      <th>No</th>\n      <td>20.506667</td>\n      <td>3.167895</td>\n      <td>2.929825</td>\n      <td>0.160113</td>\n    </tr>\n    <tr>\n      <th>Yes</th>\n      <td>24.120000</td>\n      <td>3.516842</td>\n      <td>2.578947</td>\n      <td>0.187250</td>\n    </tr>\n    <tr>\n      <th rowspan=\"2\" valign=\"top\">Thur</th>\n      <th>No</th>\n      <td>17.113111</td>\n      <td>2.673778</td>\n      <td>2.488889</td>\n      <td>0.160298</td>\n    </tr>\n    <tr>\n      <th>Yes</th>\n      <td>19.190588</td>\n      <td>3.030000</td>\n      <td>2.352941</td>\n      <td>0.163863</td>\n    </tr>\n  </tbody>\n</table>\n</div>",
            "text/plain": "             total_bill       tip      size   tip_pct\nday  smoker                                          \nFri  No       18.420000  2.812500  2.250000  0.151650\n     Yes      16.813333  2.714000  2.066667  0.174783\nSat  No       19.661778  3.102889  2.555556  0.158048\n     Yes      21.276667  2.875476  2.476190  0.147906\nSun  No       20.506667  3.167895  2.929825  0.160113\n     Yes      24.120000  3.516842  2.578947  0.187250\nThur No       17.113111  2.673778  2.488889  0.160298\n     Yes      19.190588  3.030000  2.352941  0.163863"
          },
          "metadata": {}
        }
      ]
    },
    {
      "metadata": {
        "trusted": true
      },
      "cell_type": "code",
      "source": "tips.groupby(['day', 'smoker'], as_index=False).mean()",
      "execution_count": 50,
      "outputs": [
        {
          "output_type": "execute_result",
          "execution_count": 50,
          "data": {
            "text/html": "<div>\n<style scoped>\n    .dataframe tbody tr th:only-of-type {\n        vertical-align: middle;\n    }\n\n    .dataframe tbody tr th {\n        vertical-align: top;\n    }\n\n    .dataframe thead th {\n        text-align: right;\n    }\n</style>\n<table border=\"1\" class=\"dataframe\">\n  <thead>\n    <tr style=\"text-align: right;\">\n      <th></th>\n      <th>day</th>\n      <th>smoker</th>\n      <th>total_bill</th>\n      <th>tip</th>\n      <th>size</th>\n      <th>tip_pct</th>\n    </tr>\n  </thead>\n  <tbody>\n    <tr>\n      <th>0</th>\n      <td>Fri</td>\n      <td>No</td>\n      <td>18.420000</td>\n      <td>2.812500</td>\n      <td>2.250000</td>\n      <td>0.151650</td>\n    </tr>\n    <tr>\n      <th>1</th>\n      <td>Fri</td>\n      <td>Yes</td>\n      <td>16.813333</td>\n      <td>2.714000</td>\n      <td>2.066667</td>\n      <td>0.174783</td>\n    </tr>\n    <tr>\n      <th>2</th>\n      <td>Sat</td>\n      <td>No</td>\n      <td>19.661778</td>\n      <td>3.102889</td>\n      <td>2.555556</td>\n      <td>0.158048</td>\n    </tr>\n    <tr>\n      <th>3</th>\n      <td>Sat</td>\n      <td>Yes</td>\n      <td>21.276667</td>\n      <td>2.875476</td>\n      <td>2.476190</td>\n      <td>0.147906</td>\n    </tr>\n    <tr>\n      <th>4</th>\n      <td>Sun</td>\n      <td>No</td>\n      <td>20.506667</td>\n      <td>3.167895</td>\n      <td>2.929825</td>\n      <td>0.160113</td>\n    </tr>\n    <tr>\n      <th>5</th>\n      <td>Sun</td>\n      <td>Yes</td>\n      <td>24.120000</td>\n      <td>3.516842</td>\n      <td>2.578947</td>\n      <td>0.187250</td>\n    </tr>\n    <tr>\n      <th>6</th>\n      <td>Thur</td>\n      <td>No</td>\n      <td>17.113111</td>\n      <td>2.673778</td>\n      <td>2.488889</td>\n      <td>0.160298</td>\n    </tr>\n    <tr>\n      <th>7</th>\n      <td>Thur</td>\n      <td>Yes</td>\n      <td>19.190588</td>\n      <td>3.030000</td>\n      <td>2.352941</td>\n      <td>0.163863</td>\n    </tr>\n  </tbody>\n</table>\n</div>",
            "text/plain": "    day smoker  total_bill       tip      size   tip_pct\n0   Fri     No   18.420000  2.812500  2.250000  0.151650\n1   Fri    Yes   16.813333  2.714000  2.066667  0.174783\n2   Sat     No   19.661778  3.102889  2.555556  0.158048\n3   Sat    Yes   21.276667  2.875476  2.476190  0.147906\n4   Sun     No   20.506667  3.167895  2.929825  0.160113\n5   Sun    Yes   24.120000  3.516842  2.578947  0.187250\n6  Thur     No   17.113111  2.673778  2.488889  0.160298\n7  Thur    Yes   19.190588  3.030000  2.352941  0.163863"
          },
          "metadata": {}
        }
      ]
    },
    {
      "metadata": {
        "trusted": true
      },
      "cell_type": "code",
      "source": "def top(df, n=5, column='tip_pct'):\n    return df.sort_values(by=column)[-n:]\ntop(tips, n=6)",
      "execution_count": 53,
      "outputs": [
        {
          "output_type": "execute_result",
          "execution_count": 53,
          "data": {
            "text/html": "<div>\n<style scoped>\n    .dataframe tbody tr th:only-of-type {\n        vertical-align: middle;\n    }\n\n    .dataframe tbody tr th {\n        vertical-align: top;\n    }\n\n    .dataframe thead th {\n        text-align: right;\n    }\n</style>\n<table border=\"1\" class=\"dataframe\">\n  <thead>\n    <tr style=\"text-align: right;\">\n      <th></th>\n      <th>total_bill</th>\n      <th>tip</th>\n      <th>smoker</th>\n      <th>day</th>\n      <th>time</th>\n      <th>size</th>\n      <th>tip_pct</th>\n    </tr>\n  </thead>\n  <tbody>\n    <tr>\n      <th>109</th>\n      <td>14.31</td>\n      <td>4.00</td>\n      <td>Yes</td>\n      <td>Sat</td>\n      <td>Dinner</td>\n      <td>2</td>\n      <td>0.279525</td>\n    </tr>\n    <tr>\n      <th>183</th>\n      <td>23.17</td>\n      <td>6.50</td>\n      <td>Yes</td>\n      <td>Sun</td>\n      <td>Dinner</td>\n      <td>4</td>\n      <td>0.280535</td>\n    </tr>\n    <tr>\n      <th>232</th>\n      <td>11.61</td>\n      <td>3.39</td>\n      <td>No</td>\n      <td>Sat</td>\n      <td>Dinner</td>\n      <td>2</td>\n      <td>0.291990</td>\n    </tr>\n    <tr>\n      <th>67</th>\n      <td>3.07</td>\n      <td>1.00</td>\n      <td>Yes</td>\n      <td>Sat</td>\n      <td>Dinner</td>\n      <td>1</td>\n      <td>0.325733</td>\n    </tr>\n    <tr>\n      <th>178</th>\n      <td>9.60</td>\n      <td>4.00</td>\n      <td>Yes</td>\n      <td>Sun</td>\n      <td>Dinner</td>\n      <td>2</td>\n      <td>0.416667</td>\n    </tr>\n    <tr>\n      <th>172</th>\n      <td>7.25</td>\n      <td>5.15</td>\n      <td>Yes</td>\n      <td>Sun</td>\n      <td>Dinner</td>\n      <td>2</td>\n      <td>0.710345</td>\n    </tr>\n  </tbody>\n</table>\n</div>",
            "text/plain": "     total_bill   tip smoker  day    time  size   tip_pct\n109       14.31  4.00    Yes  Sat  Dinner     2  0.279525\n183       23.17  6.50    Yes  Sun  Dinner     4  0.280535\n232       11.61  3.39     No  Sat  Dinner     2  0.291990\n67         3.07  1.00    Yes  Sat  Dinner     1  0.325733\n178        9.60  4.00    Yes  Sun  Dinner     2  0.416667\n172        7.25  5.15    Yes  Sun  Dinner     2  0.710345"
          },
          "metadata": {}
        }
      ]
    },
    {
      "metadata": {
        "trusted": true
      },
      "cell_type": "code",
      "source": "tips.groupby('smoker').apply(top)",
      "execution_count": 54,
      "outputs": [
        {
          "output_type": "execute_result",
          "execution_count": 54,
          "data": {
            "text/html": "<div>\n<style scoped>\n    .dataframe tbody tr th:only-of-type {\n        vertical-align: middle;\n    }\n\n    .dataframe tbody tr th {\n        vertical-align: top;\n    }\n\n    .dataframe thead th {\n        text-align: right;\n    }\n</style>\n<table border=\"1\" class=\"dataframe\">\n  <thead>\n    <tr style=\"text-align: right;\">\n      <th></th>\n      <th></th>\n      <th>total_bill</th>\n      <th>tip</th>\n      <th>smoker</th>\n      <th>day</th>\n      <th>time</th>\n      <th>size</th>\n      <th>tip_pct</th>\n    </tr>\n    <tr>\n      <th>smoker</th>\n      <th></th>\n      <th></th>\n      <th></th>\n      <th></th>\n      <th></th>\n      <th></th>\n      <th></th>\n      <th></th>\n    </tr>\n  </thead>\n  <tbody>\n    <tr>\n      <th rowspan=\"5\" valign=\"top\">No</th>\n      <th>88</th>\n      <td>24.71</td>\n      <td>5.85</td>\n      <td>No</td>\n      <td>Thur</td>\n      <td>Lunch</td>\n      <td>2</td>\n      <td>0.236746</td>\n    </tr>\n    <tr>\n      <th>185</th>\n      <td>20.69</td>\n      <td>5.00</td>\n      <td>No</td>\n      <td>Sun</td>\n      <td>Dinner</td>\n      <td>5</td>\n      <td>0.241663</td>\n    </tr>\n    <tr>\n      <th>51</th>\n      <td>10.29</td>\n      <td>2.60</td>\n      <td>No</td>\n      <td>Sun</td>\n      <td>Dinner</td>\n      <td>2</td>\n      <td>0.252672</td>\n    </tr>\n    <tr>\n      <th>149</th>\n      <td>7.51</td>\n      <td>2.00</td>\n      <td>No</td>\n      <td>Thur</td>\n      <td>Lunch</td>\n      <td>2</td>\n      <td>0.266312</td>\n    </tr>\n    <tr>\n      <th>232</th>\n      <td>11.61</td>\n      <td>3.39</td>\n      <td>No</td>\n      <td>Sat</td>\n      <td>Dinner</td>\n      <td>2</td>\n      <td>0.291990</td>\n    </tr>\n    <tr>\n      <th rowspan=\"5\" valign=\"top\">Yes</th>\n      <th>109</th>\n      <td>14.31</td>\n      <td>4.00</td>\n      <td>Yes</td>\n      <td>Sat</td>\n      <td>Dinner</td>\n      <td>2</td>\n      <td>0.279525</td>\n    </tr>\n    <tr>\n      <th>183</th>\n      <td>23.17</td>\n      <td>6.50</td>\n      <td>Yes</td>\n      <td>Sun</td>\n      <td>Dinner</td>\n      <td>4</td>\n      <td>0.280535</td>\n    </tr>\n    <tr>\n      <th>67</th>\n      <td>3.07</td>\n      <td>1.00</td>\n      <td>Yes</td>\n      <td>Sat</td>\n      <td>Dinner</td>\n      <td>1</td>\n      <td>0.325733</td>\n    </tr>\n    <tr>\n      <th>178</th>\n      <td>9.60</td>\n      <td>4.00</td>\n      <td>Yes</td>\n      <td>Sun</td>\n      <td>Dinner</td>\n      <td>2</td>\n      <td>0.416667</td>\n    </tr>\n    <tr>\n      <th>172</th>\n      <td>7.25</td>\n      <td>5.15</td>\n      <td>Yes</td>\n      <td>Sun</td>\n      <td>Dinner</td>\n      <td>2</td>\n      <td>0.710345</td>\n    </tr>\n  </tbody>\n</table>\n</div>",
            "text/plain": "            total_bill   tip smoker   day    time  size   tip_pct\nsmoker                                                           \nNo     88        24.71  5.85     No  Thur   Lunch     2  0.236746\n       185       20.69  5.00     No   Sun  Dinner     5  0.241663\n       51        10.29  2.60     No   Sun  Dinner     2  0.252672\n       149        7.51  2.00     No  Thur   Lunch     2  0.266312\n       232       11.61  3.39     No   Sat  Dinner     2  0.291990\nYes    109       14.31  4.00    Yes   Sat  Dinner     2  0.279525\n       183       23.17  6.50    Yes   Sun  Dinner     4  0.280535\n       67         3.07  1.00    Yes   Sat  Dinner     1  0.325733\n       178        9.60  4.00    Yes   Sun  Dinner     2  0.416667\n       172        7.25  5.15    Yes   Sun  Dinner     2  0.710345"
          },
          "metadata": {}
        }
      ]
    },
    {
      "metadata": {
        "trusted": true
      },
      "cell_type": "code",
      "source": "tips.groupby(['smoker', 'day']).apply(top, n=1, column='total_bill')",
      "execution_count": 55,
      "outputs": [
        {
          "output_type": "execute_result",
          "execution_count": 55,
          "data": {
            "text/html": "<div>\n<style scoped>\n    .dataframe tbody tr th:only-of-type {\n        vertical-align: middle;\n    }\n\n    .dataframe tbody tr th {\n        vertical-align: top;\n    }\n\n    .dataframe thead th {\n        text-align: right;\n    }\n</style>\n<table border=\"1\" class=\"dataframe\">\n  <thead>\n    <tr style=\"text-align: right;\">\n      <th></th>\n      <th></th>\n      <th></th>\n      <th>total_bill</th>\n      <th>tip</th>\n      <th>smoker</th>\n      <th>day</th>\n      <th>time</th>\n      <th>size</th>\n      <th>tip_pct</th>\n    </tr>\n    <tr>\n      <th>smoker</th>\n      <th>day</th>\n      <th></th>\n      <th></th>\n      <th></th>\n      <th></th>\n      <th></th>\n      <th></th>\n      <th></th>\n      <th></th>\n    </tr>\n  </thead>\n  <tbody>\n    <tr>\n      <th rowspan=\"4\" valign=\"top\">No</th>\n      <th>Fri</th>\n      <th>94</th>\n      <td>22.75</td>\n      <td>3.25</td>\n      <td>No</td>\n      <td>Fri</td>\n      <td>Dinner</td>\n      <td>2</td>\n      <td>0.142857</td>\n    </tr>\n    <tr>\n      <th>Sat</th>\n      <th>212</th>\n      <td>48.33</td>\n      <td>9.00</td>\n      <td>No</td>\n      <td>Sat</td>\n      <td>Dinner</td>\n      <td>4</td>\n      <td>0.186220</td>\n    </tr>\n    <tr>\n      <th>Sun</th>\n      <th>156</th>\n      <td>48.17</td>\n      <td>5.00</td>\n      <td>No</td>\n      <td>Sun</td>\n      <td>Dinner</td>\n      <td>6</td>\n      <td>0.103799</td>\n    </tr>\n    <tr>\n      <th>Thur</th>\n      <th>142</th>\n      <td>41.19</td>\n      <td>5.00</td>\n      <td>No</td>\n      <td>Thur</td>\n      <td>Lunch</td>\n      <td>5</td>\n      <td>0.121389</td>\n    </tr>\n    <tr>\n      <th rowspan=\"4\" valign=\"top\">Yes</th>\n      <th>Fri</th>\n      <th>95</th>\n      <td>40.17</td>\n      <td>4.73</td>\n      <td>Yes</td>\n      <td>Fri</td>\n      <td>Dinner</td>\n      <td>4</td>\n      <td>0.117750</td>\n    </tr>\n    <tr>\n      <th>Sat</th>\n      <th>170</th>\n      <td>50.81</td>\n      <td>10.00</td>\n      <td>Yes</td>\n      <td>Sat</td>\n      <td>Dinner</td>\n      <td>3</td>\n      <td>0.196812</td>\n    </tr>\n    <tr>\n      <th>Sun</th>\n      <th>182</th>\n      <td>45.35</td>\n      <td>3.50</td>\n      <td>Yes</td>\n      <td>Sun</td>\n      <td>Dinner</td>\n      <td>3</td>\n      <td>0.077178</td>\n    </tr>\n    <tr>\n      <th>Thur</th>\n      <th>197</th>\n      <td>43.11</td>\n      <td>5.00</td>\n      <td>Yes</td>\n      <td>Thur</td>\n      <td>Lunch</td>\n      <td>4</td>\n      <td>0.115982</td>\n    </tr>\n  </tbody>\n</table>\n</div>",
            "text/plain": "                 total_bill    tip smoker   day    time  size   tip_pct\nsmoker day                                                             \nNo     Fri  94        22.75   3.25     No   Fri  Dinner     2  0.142857\n       Sat  212       48.33   9.00     No   Sat  Dinner     4  0.186220\n       Sun  156       48.17   5.00     No   Sun  Dinner     6  0.103799\n       Thur 142       41.19   5.00     No  Thur   Lunch     5  0.121389\nYes    Fri  95        40.17   4.73    Yes   Fri  Dinner     4  0.117750\n       Sat  170       50.81  10.00    Yes   Sat  Dinner     3  0.196812\n       Sun  182       45.35   3.50    Yes   Sun  Dinner     3  0.077178\n       Thur 197       43.11   5.00    Yes  Thur   Lunch     4  0.115982"
          },
          "metadata": {}
        }
      ]
    },
    {
      "metadata": {
        "trusted": true
      },
      "cell_type": "code",
      "source": "result = tips.groupby('smoker')['tip_pct'].describe()\nresult",
      "execution_count": 56,
      "outputs": [
        {
          "output_type": "execute_result",
          "execution_count": 56,
          "data": {
            "text/html": "<div>\n<style scoped>\n    .dataframe tbody tr th:only-of-type {\n        vertical-align: middle;\n    }\n\n    .dataframe tbody tr th {\n        vertical-align: top;\n    }\n\n    .dataframe thead th {\n        text-align: right;\n    }\n</style>\n<table border=\"1\" class=\"dataframe\">\n  <thead>\n    <tr style=\"text-align: right;\">\n      <th></th>\n      <th>count</th>\n      <th>mean</th>\n      <th>std</th>\n      <th>min</th>\n      <th>25%</th>\n      <th>50%</th>\n      <th>75%</th>\n      <th>max</th>\n    </tr>\n    <tr>\n      <th>smoker</th>\n      <th></th>\n      <th></th>\n      <th></th>\n      <th></th>\n      <th></th>\n      <th></th>\n      <th></th>\n      <th></th>\n    </tr>\n  </thead>\n  <tbody>\n    <tr>\n      <th>No</th>\n      <td>151.0</td>\n      <td>0.159328</td>\n      <td>0.039910</td>\n      <td>0.056797</td>\n      <td>0.136906</td>\n      <td>0.155625</td>\n      <td>0.185014</td>\n      <td>0.291990</td>\n    </tr>\n    <tr>\n      <th>Yes</th>\n      <td>93.0</td>\n      <td>0.163196</td>\n      <td>0.085119</td>\n      <td>0.035638</td>\n      <td>0.106771</td>\n      <td>0.153846</td>\n      <td>0.195059</td>\n      <td>0.710345</td>\n    </tr>\n  </tbody>\n</table>\n</div>",
            "text/plain": "        count      mean       std       min       25%       50%       75%  \\\nsmoker                                                                      \nNo      151.0  0.159328  0.039910  0.056797  0.136906  0.155625  0.185014   \nYes      93.0  0.163196  0.085119  0.035638  0.106771  0.153846  0.195059   \n\n             max  \nsmoker            \nNo      0.291990  \nYes     0.710345  "
          },
          "metadata": {}
        }
      ]
    },
    {
      "metadata": {
        "trusted": true
      },
      "cell_type": "code",
      "source": "result.unstack('smoker')",
      "execution_count": 57,
      "outputs": [
        {
          "output_type": "execute_result",
          "execution_count": 57,
          "data": {
            "text/plain": "       smoker\ncount  No        151.000000\n       Yes        93.000000\nmean   No          0.159328\n       Yes         0.163196\nstd    No          0.039910\n       Yes         0.085119\nmin    No          0.056797\n       Yes         0.035638\n25%    No          0.136906\n       Yes         0.106771\n50%    No          0.155625\n       Yes         0.153846\n75%    No          0.185014\n       Yes         0.195059\nmax    No          0.291990\n       Yes         0.710345\ndtype: float64"
          },
          "metadata": {}
        }
      ]
    },
    {
      "metadata": {
        "trusted": true
      },
      "cell_type": "code",
      "source": "tips.groupby('smoker', group_keys=False).apply(top)",
      "execution_count": 58,
      "outputs": [
        {
          "output_type": "execute_result",
          "execution_count": 58,
          "data": {
            "text/html": "<div>\n<style scoped>\n    .dataframe tbody tr th:only-of-type {\n        vertical-align: middle;\n    }\n\n    .dataframe tbody tr th {\n        vertical-align: top;\n    }\n\n    .dataframe thead th {\n        text-align: right;\n    }\n</style>\n<table border=\"1\" class=\"dataframe\">\n  <thead>\n    <tr style=\"text-align: right;\">\n      <th></th>\n      <th>total_bill</th>\n      <th>tip</th>\n      <th>smoker</th>\n      <th>day</th>\n      <th>time</th>\n      <th>size</th>\n      <th>tip_pct</th>\n    </tr>\n  </thead>\n  <tbody>\n    <tr>\n      <th>88</th>\n      <td>24.71</td>\n      <td>5.85</td>\n      <td>No</td>\n      <td>Thur</td>\n      <td>Lunch</td>\n      <td>2</td>\n      <td>0.236746</td>\n    </tr>\n    <tr>\n      <th>185</th>\n      <td>20.69</td>\n      <td>5.00</td>\n      <td>No</td>\n      <td>Sun</td>\n      <td>Dinner</td>\n      <td>5</td>\n      <td>0.241663</td>\n    </tr>\n    <tr>\n      <th>51</th>\n      <td>10.29</td>\n      <td>2.60</td>\n      <td>No</td>\n      <td>Sun</td>\n      <td>Dinner</td>\n      <td>2</td>\n      <td>0.252672</td>\n    </tr>\n    <tr>\n      <th>149</th>\n      <td>7.51</td>\n      <td>2.00</td>\n      <td>No</td>\n      <td>Thur</td>\n      <td>Lunch</td>\n      <td>2</td>\n      <td>0.266312</td>\n    </tr>\n    <tr>\n      <th>232</th>\n      <td>11.61</td>\n      <td>3.39</td>\n      <td>No</td>\n      <td>Sat</td>\n      <td>Dinner</td>\n      <td>2</td>\n      <td>0.291990</td>\n    </tr>\n    <tr>\n      <th>109</th>\n      <td>14.31</td>\n      <td>4.00</td>\n      <td>Yes</td>\n      <td>Sat</td>\n      <td>Dinner</td>\n      <td>2</td>\n      <td>0.279525</td>\n    </tr>\n    <tr>\n      <th>183</th>\n      <td>23.17</td>\n      <td>6.50</td>\n      <td>Yes</td>\n      <td>Sun</td>\n      <td>Dinner</td>\n      <td>4</td>\n      <td>0.280535</td>\n    </tr>\n    <tr>\n      <th>67</th>\n      <td>3.07</td>\n      <td>1.00</td>\n      <td>Yes</td>\n      <td>Sat</td>\n      <td>Dinner</td>\n      <td>1</td>\n      <td>0.325733</td>\n    </tr>\n    <tr>\n      <th>178</th>\n      <td>9.60</td>\n      <td>4.00</td>\n      <td>Yes</td>\n      <td>Sun</td>\n      <td>Dinner</td>\n      <td>2</td>\n      <td>0.416667</td>\n    </tr>\n    <tr>\n      <th>172</th>\n      <td>7.25</td>\n      <td>5.15</td>\n      <td>Yes</td>\n      <td>Sun</td>\n      <td>Dinner</td>\n      <td>2</td>\n      <td>0.710345</td>\n    </tr>\n  </tbody>\n</table>\n</div>",
            "text/plain": "     total_bill   tip smoker   day    time  size   tip_pct\n88        24.71  5.85     No  Thur   Lunch     2  0.236746\n185       20.69  5.00     No   Sun  Dinner     5  0.241663\n51        10.29  2.60     No   Sun  Dinner     2  0.252672\n149        7.51  2.00     No  Thur   Lunch     2  0.266312\n232       11.61  3.39     No   Sat  Dinner     2  0.291990\n109       14.31  4.00    Yes   Sat  Dinner     2  0.279525\n183       23.17  6.50    Yes   Sun  Dinner     4  0.280535\n67         3.07  1.00    Yes   Sat  Dinner     1  0.325733\n178        9.60  4.00    Yes   Sun  Dinner     2  0.416667\n172        7.25  5.15    Yes   Sun  Dinner     2  0.710345"
          },
          "metadata": {}
        }
      ]
    },
    {
      "metadata": {
        "trusted": true
      },
      "cell_type": "code",
      "source": "frame = pd.DataFrame({'data1': np.random.randn(1000),\n                      'data2': np.random.randn(1000)})\nframe",
      "execution_count": 60,
      "outputs": [
        {
          "output_type": "execute_result",
          "execution_count": 60,
          "data": {
            "text/html": "<div>\n<style scoped>\n    .dataframe tbody tr th:only-of-type {\n        vertical-align: middle;\n    }\n\n    .dataframe tbody tr th {\n        vertical-align: top;\n    }\n\n    .dataframe thead th {\n        text-align: right;\n    }\n</style>\n<table border=\"1\" class=\"dataframe\">\n  <thead>\n    <tr style=\"text-align: right;\">\n      <th></th>\n      <th>data1</th>\n      <th>data2</th>\n    </tr>\n  </thead>\n  <tbody>\n    <tr>\n      <th>0</th>\n      <td>-1.251781</td>\n      <td>1.533124</td>\n    </tr>\n    <tr>\n      <th>1</th>\n      <td>-0.150109</td>\n      <td>0.910570</td>\n    </tr>\n    <tr>\n      <th>2</th>\n      <td>0.214664</td>\n      <td>-0.410950</td>\n    </tr>\n    <tr>\n      <th>3</th>\n      <td>-1.950098</td>\n      <td>-0.402272</td>\n    </tr>\n    <tr>\n      <th>4</th>\n      <td>-1.338659</td>\n      <td>-0.119117</td>\n    </tr>\n    <tr>\n      <th>5</th>\n      <td>0.371224</td>\n      <td>-0.560719</td>\n    </tr>\n    <tr>\n      <th>6</th>\n      <td>1.428753</td>\n      <td>-0.284725</td>\n    </tr>\n    <tr>\n      <th>7</th>\n      <td>-0.592818</td>\n      <td>1.761764</td>\n    </tr>\n    <tr>\n      <th>8</th>\n      <td>-0.312449</td>\n      <td>1.009692</td>\n    </tr>\n    <tr>\n      <th>9</th>\n      <td>0.048451</td>\n      <td>0.678634</td>\n    </tr>\n    <tr>\n      <th>...</th>\n      <td>...</td>\n      <td>...</td>\n    </tr>\n    <tr>\n      <th>990</th>\n      <td>0.370509</td>\n      <td>0.722045</td>\n    </tr>\n    <tr>\n      <th>991</th>\n      <td>-1.621348</td>\n      <td>-0.954567</td>\n    </tr>\n    <tr>\n      <th>992</th>\n      <td>0.053447</td>\n      <td>0.943233</td>\n    </tr>\n    <tr>\n      <th>993</th>\n      <td>-0.421686</td>\n      <td>1.192702</td>\n    </tr>\n    <tr>\n      <th>994</th>\n      <td>1.050658</td>\n      <td>1.035828</td>\n    </tr>\n    <tr>\n      <th>995</th>\n      <td>-0.173546</td>\n      <td>1.031435</td>\n    </tr>\n    <tr>\n      <th>996</th>\n      <td>-0.443632</td>\n      <td>0.179642</td>\n    </tr>\n    <tr>\n      <th>997</th>\n      <td>-0.630470</td>\n      <td>-0.625160</td>\n    </tr>\n    <tr>\n      <th>998</th>\n      <td>-0.984048</td>\n      <td>1.754117</td>\n    </tr>\n    <tr>\n      <th>999</th>\n      <td>-0.157021</td>\n      <td>0.665097</td>\n    </tr>\n  </tbody>\n</table>\n<p>1000 rows × 2 columns</p>\n</div>",
            "text/plain": "        data1     data2\n0   -1.251781  1.533124\n1   -0.150109  0.910570\n2    0.214664 -0.410950\n3   -1.950098 -0.402272\n4   -1.338659 -0.119117\n5    0.371224 -0.560719\n6    1.428753 -0.284725\n7   -0.592818  1.761764\n8   -0.312449  1.009692\n9    0.048451  0.678634\n..        ...       ...\n990  0.370509  0.722045\n991 -1.621348 -0.954567\n992  0.053447  0.943233\n993 -0.421686  1.192702\n994  1.050658  1.035828\n995 -0.173546  1.031435\n996 -0.443632  0.179642\n997 -0.630470 -0.625160\n998 -0.984048  1.754117\n999 -0.157021  0.665097\n\n[1000 rows x 2 columns]"
          },
          "metadata": {}
        }
      ]
    },
    {
      "metadata": {
        "trusted": true
      },
      "cell_type": "code",
      "source": "quartiles = pd.cut(frame.data1, 4)\nquartiles",
      "execution_count": 62,
      "outputs": [
        {
          "output_type": "execute_result",
          "execution_count": 62,
          "data": {
            "text/plain": "0      (-1.908, -0.387]\n1       (-0.387, 1.133]\n2       (-0.387, 1.133]\n3      (-3.434, -1.908]\n4      (-1.908, -0.387]\n5       (-0.387, 1.133]\n6        (1.133, 2.654]\n7      (-1.908, -0.387]\n8       (-0.387, 1.133]\n9       (-0.387, 1.133]\n             ...       \n990     (-0.387, 1.133]\n991    (-1.908, -0.387]\n992     (-0.387, 1.133]\n993    (-1.908, -0.387]\n994     (-0.387, 1.133]\n995     (-0.387, 1.133]\n996    (-1.908, -0.387]\n997    (-1.908, -0.387]\n998    (-1.908, -0.387]\n999     (-0.387, 1.133]\nName: data1, Length: 1000, dtype: category\nCategories (4, interval[float64]): [(-3.434, -1.908] < (-1.908, -0.387] < (-0.387, 1.133] < (1.133, 2.654]]"
          },
          "metadata": {}
        }
      ]
    },
    {
      "metadata": {
        "trusted": true
      },
      "cell_type": "code",
      "source": "quartiles[:10]",
      "execution_count": 63,
      "outputs": [
        {
          "output_type": "execute_result",
          "execution_count": 63,
          "data": {
            "text/plain": "0    (-1.908, -0.387]\n1     (-0.387, 1.133]\n2     (-0.387, 1.133]\n3    (-3.434, -1.908]\n4    (-1.908, -0.387]\n5     (-0.387, 1.133]\n6      (1.133, 2.654]\n7    (-1.908, -0.387]\n8     (-0.387, 1.133]\n9     (-0.387, 1.133]\nName: data1, dtype: category\nCategories (4, interval[float64]): [(-3.434, -1.908] < (-1.908, -0.387] < (-0.387, 1.133] < (1.133, 2.654]]"
          },
          "metadata": {}
        }
      ]
    },
    {
      "metadata": {
        "trusted": true
      },
      "cell_type": "code",
      "source": "def get_stats(group):\n    return {'min': group.min(), 'max': group.max(),\n            'count': group.count(), 'mean': group.mean()}\ngrouped = frame.data2.groupby(quartiles)\ngrouped.apply(get_stats).unstack()",
      "execution_count": 65,
      "outputs": [
        {
          "output_type": "execute_result",
          "execution_count": 65,
          "data": {
            "text/html": "<div>\n<style scoped>\n    .dataframe tbody tr th:only-of-type {\n        vertical-align: middle;\n    }\n\n    .dataframe tbody tr th {\n        vertical-align: top;\n    }\n\n    .dataframe thead th {\n        text-align: right;\n    }\n</style>\n<table border=\"1\" class=\"dataframe\">\n  <thead>\n    <tr style=\"text-align: right;\">\n      <th></th>\n      <th>count</th>\n      <th>max</th>\n      <th>mean</th>\n      <th>min</th>\n    </tr>\n    <tr>\n      <th>data1</th>\n      <th></th>\n      <th></th>\n      <th></th>\n      <th></th>\n    </tr>\n  </thead>\n  <tbody>\n    <tr>\n      <th>(-3.434, -1.908]</th>\n      <td>26.0</td>\n      <td>1.388465</td>\n      <td>-0.094763</td>\n      <td>-2.079446</td>\n    </tr>\n    <tr>\n      <th>(-1.908, -0.387]</th>\n      <td>322.0</td>\n      <td>2.531127</td>\n      <td>-0.046121</td>\n      <td>-2.909373</td>\n    </tr>\n    <tr>\n      <th>(-0.387, 1.133]</th>\n      <td>517.0</td>\n      <td>3.366626</td>\n      <td>0.032501</td>\n      <td>-3.548824</td>\n    </tr>\n    <tr>\n      <th>(1.133, 2.654]</th>\n      <td>135.0</td>\n      <td>2.615416</td>\n      <td>0.045577</td>\n      <td>-2.091554</td>\n    </tr>\n  </tbody>\n</table>\n</div>",
            "text/plain": "                  count       max      mean       min\ndata1                                                \n(-3.434, -1.908]   26.0  1.388465 -0.094763 -2.079446\n(-1.908, -0.387]  322.0  2.531127 -0.046121 -2.909373\n(-0.387, 1.133]   517.0  3.366626  0.032501 -3.548824\n(1.133, 2.654]    135.0  2.615416  0.045577 -2.091554"
          },
          "metadata": {}
        }
      ]
    },
    {
      "metadata": {
        "trusted": true
      },
      "cell_type": "code",
      "source": "# Return quantile numbers\ngrouping = pd.qcut(frame.data1, 10, labels=False)\ngrouping",
      "execution_count": 67,
      "outputs": [
        {
          "output_type": "execute_result",
          "execution_count": 67,
          "data": {
            "text/plain": "0      1\n1      4\n2      5\n3      0\n4      0\n5      6\n6      9\n7      2\n8      3\n9      5\n      ..\n990    6\n991    0\n992    5\n993    3\n994    8\n995    4\n996    3\n997    2\n998    1\n999    4\nName: data1, Length: 1000, dtype: int64"
          },
          "metadata": {}
        }
      ]
    },
    {
      "metadata": {
        "trusted": true
      },
      "cell_type": "code",
      "source": "grouped = frame.data2.groupby(grouping)\ngrouped",
      "execution_count": 68,
      "outputs": [
        {
          "output_type": "execute_result",
          "execution_count": 68,
          "data": {
            "text/plain": "<pandas.core.groupby.SeriesGroupBy object at 0x7f0864a6b940>"
          },
          "metadata": {}
        }
      ]
    },
    {
      "metadata": {
        "trusted": true
      },
      "cell_type": "code",
      "source": "grouped.apply(get_stats).unstack()",
      "execution_count": 69,
      "outputs": [
        {
          "output_type": "execute_result",
          "execution_count": 69,
          "data": {
            "text/html": "<div>\n<style scoped>\n    .dataframe tbody tr th:only-of-type {\n        vertical-align: middle;\n    }\n\n    .dataframe tbody tr th {\n        vertical-align: top;\n    }\n\n    .dataframe thead th {\n        text-align: right;\n    }\n</style>\n<table border=\"1\" class=\"dataframe\">\n  <thead>\n    <tr style=\"text-align: right;\">\n      <th></th>\n      <th>count</th>\n      <th>max</th>\n      <th>mean</th>\n      <th>min</th>\n    </tr>\n    <tr>\n      <th>data1</th>\n      <th></th>\n      <th></th>\n      <th></th>\n      <th></th>\n    </tr>\n  </thead>\n  <tbody>\n    <tr>\n      <th>0</th>\n      <td>100.0</td>\n      <td>2.465567</td>\n      <td>-0.027111</td>\n      <td>-2.434322</td>\n    </tr>\n    <tr>\n      <th>1</th>\n      <td>100.0</td>\n      <td>2.531127</td>\n      <td>-0.161060</td>\n      <td>-2.909373</td>\n    </tr>\n    <tr>\n      <th>2</th>\n      <td>100.0</td>\n      <td>2.275784</td>\n      <td>-0.013747</td>\n      <td>-2.480208</td>\n    </tr>\n    <tr>\n      <th>3</th>\n      <td>100.0</td>\n      <td>2.374374</td>\n      <td>0.010769</td>\n      <td>-3.548824</td>\n    </tr>\n    <tr>\n      <th>4</th>\n      <td>100.0</td>\n      <td>2.419003</td>\n      <td>0.064701</td>\n      <td>-2.128789</td>\n    </tr>\n    <tr>\n      <th>5</th>\n      <td>100.0</td>\n      <td>2.492224</td>\n      <td>-0.006828</td>\n      <td>-2.611124</td>\n    </tr>\n    <tr>\n      <th>6</th>\n      <td>100.0</td>\n      <td>3.366626</td>\n      <td>0.083753</td>\n      <td>-2.372214</td>\n    </tr>\n    <tr>\n      <th>7</th>\n      <td>100.0</td>\n      <td>1.861150</td>\n      <td>0.000396</td>\n      <td>-2.186301</td>\n    </tr>\n    <tr>\n      <th>8</th>\n      <td>100.0</td>\n      <td>2.452835</td>\n      <td>-0.017748</td>\n      <td>-2.748685</td>\n    </tr>\n    <tr>\n      <th>9</th>\n      <td>100.0</td>\n      <td>2.615416</td>\n      <td>0.123286</td>\n      <td>-1.872121</td>\n    </tr>\n  </tbody>\n</table>\n</div>",
            "text/plain": "       count       max      mean       min\ndata1                                     \n0      100.0  2.465567 -0.027111 -2.434322\n1      100.0  2.531127 -0.161060 -2.909373\n2      100.0  2.275784 -0.013747 -2.480208\n3      100.0  2.374374  0.010769 -3.548824\n4      100.0  2.419003  0.064701 -2.128789\n5      100.0  2.492224 -0.006828 -2.611124\n6      100.0  3.366626  0.083753 -2.372214\n7      100.0  1.861150  0.000396 -2.186301\n8      100.0  2.452835 -0.017748 -2.748685\n9      100.0  2.615416  0.123286 -1.872121"
          },
          "metadata": {}
        }
      ]
    },
    {
      "metadata": {
        "trusted": true
      },
      "cell_type": "code",
      "source": "s = pd.Series(np.random.randn(6))\ns[::2] = np.nan #step function\ns",
      "execution_count": 70,
      "outputs": [
        {
          "output_type": "execute_result",
          "execution_count": 70,
          "data": {
            "text/plain": "0         NaN\n1    1.254051\n2         NaN\n3    1.140204\n4         NaN\n5    0.130148\ndtype: float64"
          },
          "metadata": {}
        }
      ]
    },
    {
      "metadata": {
        "trusted": true
      },
      "cell_type": "code",
      "source": "s.fillna(s.mean())",
      "execution_count": 71,
      "outputs": [
        {
          "output_type": "execute_result",
          "execution_count": 71,
          "data": {
            "text/plain": "0    0.841468\n1    1.254051\n2    0.841468\n3    1.140204\n4    0.841468\n5    0.130148\ndtype: float64"
          },
          "metadata": {}
        }
      ]
    },
    {
      "metadata": {
        "trusted": true
      },
      "cell_type": "code",
      "source": "states = ['Ohio', 'New York', 'Vermont', 'Florida',\n          'Oregon', 'Nevada', 'California', 'Idaho']\ngroup_key = ['East'] * 4 + ['West'] * 4\ndata = pd.Series(np.random.randn(8), index=states)\ndata",
      "execution_count": 72,
      "outputs": [
        {
          "output_type": "execute_result",
          "execution_count": 72,
          "data": {
            "text/plain": "Ohio          0.673429\nNew York     -0.439194\nVermont      -0.450105\nFlorida       1.543588\nOregon       -0.174925\nNevada       -1.766967\nCalifornia    1.395191\nIdaho        -0.712856\ndtype: float64"
          },
          "metadata": {}
        }
      ]
    },
    {
      "metadata": {
        "trusted": true
      },
      "cell_type": "code",
      "source": "data[['Vermont', 'Nevada', 'Idaho']] = np.nan\ndata",
      "execution_count": 73,
      "outputs": [
        {
          "output_type": "execute_result",
          "execution_count": 73,
          "data": {
            "text/plain": "Ohio          0.673429\nNew York     -0.439194\nVermont            NaN\nFlorida       1.543588\nOregon       -0.174925\nNevada             NaN\nCalifornia    1.395191\nIdaho              NaN\ndtype: float64"
          },
          "metadata": {}
        }
      ]
    },
    {
      "metadata": {
        "trusted": true
      },
      "cell_type": "code",
      "source": "data.groupby(group_key).mean()",
      "execution_count": 74,
      "outputs": [
        {
          "output_type": "execute_result",
          "execution_count": 74,
          "data": {
            "text/plain": "East    0.592608\nWest    0.610133\ndtype: float64"
          },
          "metadata": {}
        }
      ]
    },
    {
      "metadata": {
        "trusted": true
      },
      "cell_type": "code",
      "source": "fill_mean = lambda g: g.fillna(g.mean())\ndata.groupby(group_key).apply(fill_mean)",
      "execution_count": 75,
      "outputs": [
        {
          "output_type": "execute_result",
          "execution_count": 75,
          "data": {
            "text/plain": "Ohio          0.673429\nNew York     -0.439194\nVermont       0.592608\nFlorida       1.543588\nOregon       -0.174925\nNevada        0.610133\nCalifornia    1.395191\nIdaho         0.610133\ndtype: float64"
          },
          "metadata": {}
        }
      ]
    },
    {
      "metadata": {
        "trusted": true
      },
      "cell_type": "code",
      "source": "fill_values = {'East': 0.5, 'West': -1}\nfill_func = lambda g: g.fillna(fill_values[g.name])\ndata.groupby(group_key).apply(fill_func)",
      "execution_count": 76,
      "outputs": [
        {
          "output_type": "execute_result",
          "execution_count": 76,
          "data": {
            "text/plain": "Ohio          0.673429\nNew York     -0.439194\nVermont       0.500000\nFlorida       1.543588\nOregon       -0.174925\nNevada       -1.000000\nCalifornia    1.395191\nIdaho        -1.000000\ndtype: float64"
          },
          "metadata": {}
        }
      ]
    },
    {
      "metadata": {
        "trusted": true
      },
      "cell_type": "code",
      "source": "df = pd.DataFrame({'category': ['a', 'a', 'a', 'a',\n                                'b', 'b', 'b', 'b'],\n                   'data': np.random.randn(8),\n                   'weights': np.random.rand(8)})\ndf",
      "execution_count": 77,
      "outputs": [
        {
          "output_type": "execute_result",
          "execution_count": 77,
          "data": {
            "text/html": "<div>\n<style scoped>\n    .dataframe tbody tr th:only-of-type {\n        vertical-align: middle;\n    }\n\n    .dataframe tbody tr th {\n        vertical-align: top;\n    }\n\n    .dataframe thead th {\n        text-align: right;\n    }\n</style>\n<table border=\"1\" class=\"dataframe\">\n  <thead>\n    <tr style=\"text-align: right;\">\n      <th></th>\n      <th>category</th>\n      <th>data</th>\n      <th>weights</th>\n    </tr>\n  </thead>\n  <tbody>\n    <tr>\n      <th>0</th>\n      <td>a</td>\n      <td>0.620955</td>\n      <td>0.607513</td>\n    </tr>\n    <tr>\n      <th>1</th>\n      <td>a</td>\n      <td>-0.490551</td>\n      <td>0.423487</td>\n    </tr>\n    <tr>\n      <th>2</th>\n      <td>a</td>\n      <td>-1.416465</td>\n      <td>0.963984</td>\n    </tr>\n    <tr>\n      <th>3</th>\n      <td>a</td>\n      <td>0.232588</td>\n      <td>0.938966</td>\n    </tr>\n    <tr>\n      <th>4</th>\n      <td>b</td>\n      <td>2.162370</td>\n      <td>0.420755</td>\n    </tr>\n    <tr>\n      <th>5</th>\n      <td>b</td>\n      <td>-0.703736</td>\n      <td>0.801839</td>\n    </tr>\n    <tr>\n      <th>6</th>\n      <td>b</td>\n      <td>-0.703728</td>\n      <td>0.792374</td>\n    </tr>\n    <tr>\n      <th>7</th>\n      <td>b</td>\n      <td>0.811639</td>\n      <td>0.178099</td>\n    </tr>\n  </tbody>\n</table>\n</div>",
            "text/plain": "  category      data   weights\n0        a  0.620955  0.607513\n1        a -0.490551  0.423487\n2        a -1.416465  0.963984\n3        a  0.232588  0.938966\n4        b  2.162370  0.420755\n5        b -0.703736  0.801839\n6        b -0.703728  0.792374\n7        b  0.811639  0.178099"
          },
          "metadata": {}
        }
      ]
    },
    {
      "metadata": {
        "trusted": true
      },
      "cell_type": "code",
      "source": "grouped = df.groupby('category')\ngrouped",
      "execution_count": 78,
      "outputs": [
        {
          "output_type": "execute_result",
          "execution_count": 78,
          "data": {
            "text/plain": "<pandas.core.groupby.DataFrameGroupBy object at 0x7f08647c7240>"
          },
          "metadata": {}
        }
      ]
    },
    {
      "metadata": {
        "trusted": true
      },
      "cell_type": "code",
      "source": "get_wavg = lambda g: np.average(g['data'], weights=g['weights'])\ngrouped.apply(get_wavg)",
      "execution_count": 79,
      "outputs": [
        {
          "output_type": "execute_result",
          "execution_count": 79,
          "data": {
            "text/plain": "category\na   -0.333190\nb   -0.030788\ndtype: float64"
          },
          "metadata": {}
        }
      ]
    },
    {
      "metadata": {
        "trusted": true
      },
      "cell_type": "code",
      "source": "close_px = pd.read_csv('pydata-book/examples/stock_px_2.csv', parse_dates=True,\n                       index_col=0)\nclose_px",
      "execution_count": 81,
      "outputs": [
        {
          "output_type": "execute_result",
          "execution_count": 81,
          "data": {
            "text/html": "<div>\n<style scoped>\n    .dataframe tbody tr th:only-of-type {\n        vertical-align: middle;\n    }\n\n    .dataframe tbody tr th {\n        vertical-align: top;\n    }\n\n    .dataframe thead th {\n        text-align: right;\n    }\n</style>\n<table border=\"1\" class=\"dataframe\">\n  <thead>\n    <tr style=\"text-align: right;\">\n      <th></th>\n      <th>AAPL</th>\n      <th>MSFT</th>\n      <th>XOM</th>\n      <th>SPX</th>\n    </tr>\n  </thead>\n  <tbody>\n    <tr>\n      <th>2003-01-02</th>\n      <td>7.40</td>\n      <td>21.11</td>\n      <td>29.22</td>\n      <td>909.03</td>\n    </tr>\n    <tr>\n      <th>2003-01-03</th>\n      <td>7.45</td>\n      <td>21.14</td>\n      <td>29.24</td>\n      <td>908.59</td>\n    </tr>\n    <tr>\n      <th>2003-01-06</th>\n      <td>7.45</td>\n      <td>21.52</td>\n      <td>29.96</td>\n      <td>929.01</td>\n    </tr>\n    <tr>\n      <th>2003-01-07</th>\n      <td>7.43</td>\n      <td>21.93</td>\n      <td>28.95</td>\n      <td>922.93</td>\n    </tr>\n    <tr>\n      <th>2003-01-08</th>\n      <td>7.28</td>\n      <td>21.31</td>\n      <td>28.83</td>\n      <td>909.93</td>\n    </tr>\n    <tr>\n      <th>2003-01-09</th>\n      <td>7.34</td>\n      <td>21.93</td>\n      <td>29.44</td>\n      <td>927.57</td>\n    </tr>\n    <tr>\n      <th>2003-01-10</th>\n      <td>7.36</td>\n      <td>21.97</td>\n      <td>29.03</td>\n      <td>927.57</td>\n    </tr>\n    <tr>\n      <th>2003-01-13</th>\n      <td>7.32</td>\n      <td>22.16</td>\n      <td>28.91</td>\n      <td>926.26</td>\n    </tr>\n    <tr>\n      <th>2003-01-14</th>\n      <td>7.30</td>\n      <td>22.39</td>\n      <td>29.17</td>\n      <td>931.66</td>\n    </tr>\n    <tr>\n      <th>2003-01-15</th>\n      <td>7.22</td>\n      <td>22.11</td>\n      <td>28.77</td>\n      <td>918.22</td>\n    </tr>\n    <tr>\n      <th>...</th>\n      <td>...</td>\n      <td>...</td>\n      <td>...</td>\n      <td>...</td>\n    </tr>\n    <tr>\n      <th>2011-10-03</th>\n      <td>374.60</td>\n      <td>24.53</td>\n      <td>71.15</td>\n      <td>1099.23</td>\n    </tr>\n    <tr>\n      <th>2011-10-04</th>\n      <td>372.50</td>\n      <td>25.34</td>\n      <td>72.83</td>\n      <td>1123.95</td>\n    </tr>\n    <tr>\n      <th>2011-10-05</th>\n      <td>378.25</td>\n      <td>25.89</td>\n      <td>73.95</td>\n      <td>1144.03</td>\n    </tr>\n    <tr>\n      <th>2011-10-06</th>\n      <td>377.37</td>\n      <td>26.34</td>\n      <td>73.89</td>\n      <td>1164.97</td>\n    </tr>\n    <tr>\n      <th>2011-10-07</th>\n      <td>369.80</td>\n      <td>26.25</td>\n      <td>73.56</td>\n      <td>1155.46</td>\n    </tr>\n    <tr>\n      <th>2011-10-10</th>\n      <td>388.81</td>\n      <td>26.94</td>\n      <td>76.28</td>\n      <td>1194.89</td>\n    </tr>\n    <tr>\n      <th>2011-10-11</th>\n      <td>400.29</td>\n      <td>27.00</td>\n      <td>76.27</td>\n      <td>1195.54</td>\n    </tr>\n    <tr>\n      <th>2011-10-12</th>\n      <td>402.19</td>\n      <td>26.96</td>\n      <td>77.16</td>\n      <td>1207.25</td>\n    </tr>\n    <tr>\n      <th>2011-10-13</th>\n      <td>408.43</td>\n      <td>27.18</td>\n      <td>76.37</td>\n      <td>1203.66</td>\n    </tr>\n    <tr>\n      <th>2011-10-14</th>\n      <td>422.00</td>\n      <td>27.27</td>\n      <td>78.11</td>\n      <td>1224.58</td>\n    </tr>\n  </tbody>\n</table>\n<p>2214 rows × 4 columns</p>\n</div>",
            "text/plain": "              AAPL   MSFT    XOM      SPX\n2003-01-02    7.40  21.11  29.22   909.03\n2003-01-03    7.45  21.14  29.24   908.59\n2003-01-06    7.45  21.52  29.96   929.01\n2003-01-07    7.43  21.93  28.95   922.93\n2003-01-08    7.28  21.31  28.83   909.93\n2003-01-09    7.34  21.93  29.44   927.57\n2003-01-10    7.36  21.97  29.03   927.57\n2003-01-13    7.32  22.16  28.91   926.26\n2003-01-14    7.30  22.39  29.17   931.66\n2003-01-15    7.22  22.11  28.77   918.22\n...            ...    ...    ...      ...\n2011-10-03  374.60  24.53  71.15  1099.23\n2011-10-04  372.50  25.34  72.83  1123.95\n2011-10-05  378.25  25.89  73.95  1144.03\n2011-10-06  377.37  26.34  73.89  1164.97\n2011-10-07  369.80  26.25  73.56  1155.46\n2011-10-10  388.81  26.94  76.28  1194.89\n2011-10-11  400.29  27.00  76.27  1195.54\n2011-10-12  402.19  26.96  77.16  1207.25\n2011-10-13  408.43  27.18  76.37  1203.66\n2011-10-14  422.00  27.27  78.11  1224.58\n\n[2214 rows x 4 columns]"
          },
          "metadata": {}
        }
      ]
    },
    {
      "metadata": {
        "trusted": true
      },
      "cell_type": "code",
      "source": "close_px.info()",
      "execution_count": 82,
      "outputs": [
        {
          "output_type": "stream",
          "text": "<class 'pandas.core.frame.DataFrame'>\nDatetimeIndex: 2214 entries, 2003-01-02 to 2011-10-14\nData columns (total 4 columns):\nAAPL    2214 non-null float64\nMSFT    2214 non-null float64\nXOM     2214 non-null float64\nSPX     2214 non-null float64\ndtypes: float64(4)\nmemory usage: 86.5 KB\n",
          "name": "stdout"
        }
      ]
    },
    {
      "metadata": {
        "trusted": true
      },
      "cell_type": "code",
      "source": "close_px[-4:]",
      "execution_count": 83,
      "outputs": [
        {
          "output_type": "execute_result",
          "execution_count": 83,
          "data": {
            "text/html": "<div>\n<style scoped>\n    .dataframe tbody tr th:only-of-type {\n        vertical-align: middle;\n    }\n\n    .dataframe tbody tr th {\n        vertical-align: top;\n    }\n\n    .dataframe thead th {\n        text-align: right;\n    }\n</style>\n<table border=\"1\" class=\"dataframe\">\n  <thead>\n    <tr style=\"text-align: right;\">\n      <th></th>\n      <th>AAPL</th>\n      <th>MSFT</th>\n      <th>XOM</th>\n      <th>SPX</th>\n    </tr>\n  </thead>\n  <tbody>\n    <tr>\n      <th>2011-10-11</th>\n      <td>400.29</td>\n      <td>27.00</td>\n      <td>76.27</td>\n      <td>1195.54</td>\n    </tr>\n    <tr>\n      <th>2011-10-12</th>\n      <td>402.19</td>\n      <td>26.96</td>\n      <td>77.16</td>\n      <td>1207.25</td>\n    </tr>\n    <tr>\n      <th>2011-10-13</th>\n      <td>408.43</td>\n      <td>27.18</td>\n      <td>76.37</td>\n      <td>1203.66</td>\n    </tr>\n    <tr>\n      <th>2011-10-14</th>\n      <td>422.00</td>\n      <td>27.27</td>\n      <td>78.11</td>\n      <td>1224.58</td>\n    </tr>\n  </tbody>\n</table>\n</div>",
            "text/plain": "              AAPL   MSFT    XOM      SPX\n2011-10-11  400.29  27.00  76.27  1195.54\n2011-10-12  402.19  26.96  77.16  1207.25\n2011-10-13  408.43  27.18  76.37  1203.66\n2011-10-14  422.00  27.27  78.11  1224.58"
          },
          "metadata": {}
        }
      ]
    },
    {
      "metadata": {
        "trusted": true
      },
      "cell_type": "code",
      "source": "spx_corr = lambda x: x.corrwith(x['SPX'])",
      "execution_count": 84,
      "outputs": []
    },
    {
      "metadata": {
        "trusted": true
      },
      "cell_type": "code",
      "source": "rets = close_px.pct_change().dropna()\nrets",
      "execution_count": 86,
      "outputs": [
        {
          "output_type": "execute_result",
          "execution_count": 86,
          "data": {
            "text/html": "<div>\n<style scoped>\n    .dataframe tbody tr th:only-of-type {\n        vertical-align: middle;\n    }\n\n    .dataframe tbody tr th {\n        vertical-align: top;\n    }\n\n    .dataframe thead th {\n        text-align: right;\n    }\n</style>\n<table border=\"1\" class=\"dataframe\">\n  <thead>\n    <tr style=\"text-align: right;\">\n      <th></th>\n      <th>AAPL</th>\n      <th>MSFT</th>\n      <th>XOM</th>\n      <th>SPX</th>\n    </tr>\n  </thead>\n  <tbody>\n    <tr>\n      <th>2003-01-03</th>\n      <td>0.006757</td>\n      <td>0.001421</td>\n      <td>0.000684</td>\n      <td>-0.000484</td>\n    </tr>\n    <tr>\n      <th>2003-01-06</th>\n      <td>0.000000</td>\n      <td>0.017975</td>\n      <td>0.024624</td>\n      <td>0.022474</td>\n    </tr>\n    <tr>\n      <th>2003-01-07</th>\n      <td>-0.002685</td>\n      <td>0.019052</td>\n      <td>-0.033712</td>\n      <td>-0.006545</td>\n    </tr>\n    <tr>\n      <th>2003-01-08</th>\n      <td>-0.020188</td>\n      <td>-0.028272</td>\n      <td>-0.004145</td>\n      <td>-0.014086</td>\n    </tr>\n    <tr>\n      <th>2003-01-09</th>\n      <td>0.008242</td>\n      <td>0.029094</td>\n      <td>0.021159</td>\n      <td>0.019386</td>\n    </tr>\n    <tr>\n      <th>2003-01-10</th>\n      <td>0.002725</td>\n      <td>0.001824</td>\n      <td>-0.013927</td>\n      <td>0.000000</td>\n    </tr>\n    <tr>\n      <th>2003-01-13</th>\n      <td>-0.005435</td>\n      <td>0.008648</td>\n      <td>-0.004134</td>\n      <td>-0.001412</td>\n    </tr>\n    <tr>\n      <th>2003-01-14</th>\n      <td>-0.002732</td>\n      <td>0.010379</td>\n      <td>0.008993</td>\n      <td>0.005830</td>\n    </tr>\n    <tr>\n      <th>2003-01-15</th>\n      <td>-0.010959</td>\n      <td>-0.012506</td>\n      <td>-0.013713</td>\n      <td>-0.014426</td>\n    </tr>\n    <tr>\n      <th>2003-01-16</th>\n      <td>0.012465</td>\n      <td>-0.016282</td>\n      <td>0.004519</td>\n      <td>-0.003942</td>\n    </tr>\n    <tr>\n      <th>...</th>\n      <td>...</td>\n      <td>...</td>\n      <td>...</td>\n      <td>...</td>\n    </tr>\n    <tr>\n      <th>2011-10-03</th>\n      <td>-0.017623</td>\n      <td>-0.014464</td>\n      <td>-0.020377</td>\n      <td>-0.028451</td>\n    </tr>\n    <tr>\n      <th>2011-10-04</th>\n      <td>-0.005606</td>\n      <td>0.033021</td>\n      <td>0.023612</td>\n      <td>0.022488</td>\n    </tr>\n    <tr>\n      <th>2011-10-05</th>\n      <td>0.015436</td>\n      <td>0.021705</td>\n      <td>0.015378</td>\n      <td>0.017866</td>\n    </tr>\n    <tr>\n      <th>2011-10-06</th>\n      <td>-0.002327</td>\n      <td>0.017381</td>\n      <td>-0.000811</td>\n      <td>0.018304</td>\n    </tr>\n    <tr>\n      <th>2011-10-07</th>\n      <td>-0.020060</td>\n      <td>-0.003417</td>\n      <td>-0.004466</td>\n      <td>-0.008163</td>\n    </tr>\n    <tr>\n      <th>2011-10-10</th>\n      <td>0.051406</td>\n      <td>0.026286</td>\n      <td>0.036977</td>\n      <td>0.034125</td>\n    </tr>\n    <tr>\n      <th>2011-10-11</th>\n      <td>0.029526</td>\n      <td>0.002227</td>\n      <td>-0.000131</td>\n      <td>0.000544</td>\n    </tr>\n    <tr>\n      <th>2011-10-12</th>\n      <td>0.004747</td>\n      <td>-0.001481</td>\n      <td>0.011669</td>\n      <td>0.009795</td>\n    </tr>\n    <tr>\n      <th>2011-10-13</th>\n      <td>0.015515</td>\n      <td>0.008160</td>\n      <td>-0.010238</td>\n      <td>-0.002974</td>\n    </tr>\n    <tr>\n      <th>2011-10-14</th>\n      <td>0.033225</td>\n      <td>0.003311</td>\n      <td>0.022784</td>\n      <td>0.017380</td>\n    </tr>\n  </tbody>\n</table>\n<p>2213 rows × 4 columns</p>\n</div>",
            "text/plain": "                AAPL      MSFT       XOM       SPX\n2003-01-03  0.006757  0.001421  0.000684 -0.000484\n2003-01-06  0.000000  0.017975  0.024624  0.022474\n2003-01-07 -0.002685  0.019052 -0.033712 -0.006545\n2003-01-08 -0.020188 -0.028272 -0.004145 -0.014086\n2003-01-09  0.008242  0.029094  0.021159  0.019386\n2003-01-10  0.002725  0.001824 -0.013927  0.000000\n2003-01-13 -0.005435  0.008648 -0.004134 -0.001412\n2003-01-14 -0.002732  0.010379  0.008993  0.005830\n2003-01-15 -0.010959 -0.012506 -0.013713 -0.014426\n2003-01-16  0.012465 -0.016282  0.004519 -0.003942\n...              ...       ...       ...       ...\n2011-10-03 -0.017623 -0.014464 -0.020377 -0.028451\n2011-10-04 -0.005606  0.033021  0.023612  0.022488\n2011-10-05  0.015436  0.021705  0.015378  0.017866\n2011-10-06 -0.002327  0.017381 -0.000811  0.018304\n2011-10-07 -0.020060 -0.003417 -0.004466 -0.008163\n2011-10-10  0.051406  0.026286  0.036977  0.034125\n2011-10-11  0.029526  0.002227 -0.000131  0.000544\n2011-10-12  0.004747 -0.001481  0.011669  0.009795\n2011-10-13  0.015515  0.008160 -0.010238 -0.002974\n2011-10-14  0.033225  0.003311  0.022784  0.017380\n\n[2213 rows x 4 columns]"
          },
          "metadata": {}
        }
      ]
    },
    {
      "metadata": {
        "trusted": true
      },
      "cell_type": "code",
      "source": "get_year = lambda x: x.year\nby_year = rets.groupby(get_year)\nby_year",
      "execution_count": 87,
      "outputs": [
        {
          "output_type": "execute_result",
          "execution_count": 87,
          "data": {
            "text/plain": "<pandas.core.groupby.DataFrameGroupBy object at 0x7f08647d94a8>"
          },
          "metadata": {}
        }
      ]
    },
    {
      "metadata": {
        "trusted": true
      },
      "cell_type": "code",
      "source": "by_year.apply(spx_corr)",
      "execution_count": 88,
      "outputs": [
        {
          "output_type": "execute_result",
          "execution_count": 88,
          "data": {
            "text/html": "<div>\n<style scoped>\n    .dataframe tbody tr th:only-of-type {\n        vertical-align: middle;\n    }\n\n    .dataframe tbody tr th {\n        vertical-align: top;\n    }\n\n    .dataframe thead th {\n        text-align: right;\n    }\n</style>\n<table border=\"1\" class=\"dataframe\">\n  <thead>\n    <tr style=\"text-align: right;\">\n      <th></th>\n      <th>AAPL</th>\n      <th>MSFT</th>\n      <th>XOM</th>\n      <th>SPX</th>\n    </tr>\n  </thead>\n  <tbody>\n    <tr>\n      <th>2003</th>\n      <td>0.541124</td>\n      <td>0.745174</td>\n      <td>0.661265</td>\n      <td>1.0</td>\n    </tr>\n    <tr>\n      <th>2004</th>\n      <td>0.374283</td>\n      <td>0.588531</td>\n      <td>0.557742</td>\n      <td>1.0</td>\n    </tr>\n    <tr>\n      <th>2005</th>\n      <td>0.467540</td>\n      <td>0.562374</td>\n      <td>0.631010</td>\n      <td>1.0</td>\n    </tr>\n    <tr>\n      <th>2006</th>\n      <td>0.428267</td>\n      <td>0.406126</td>\n      <td>0.518514</td>\n      <td>1.0</td>\n    </tr>\n    <tr>\n      <th>2007</th>\n      <td>0.508118</td>\n      <td>0.658770</td>\n      <td>0.786264</td>\n      <td>1.0</td>\n    </tr>\n    <tr>\n      <th>2008</th>\n      <td>0.681434</td>\n      <td>0.804626</td>\n      <td>0.828303</td>\n      <td>1.0</td>\n    </tr>\n    <tr>\n      <th>2009</th>\n      <td>0.707103</td>\n      <td>0.654902</td>\n      <td>0.797921</td>\n      <td>1.0</td>\n    </tr>\n    <tr>\n      <th>2010</th>\n      <td>0.710105</td>\n      <td>0.730118</td>\n      <td>0.839057</td>\n      <td>1.0</td>\n    </tr>\n    <tr>\n      <th>2011</th>\n      <td>0.691931</td>\n      <td>0.800996</td>\n      <td>0.859975</td>\n      <td>1.0</td>\n    </tr>\n  </tbody>\n</table>\n</div>",
            "text/plain": "          AAPL      MSFT       XOM  SPX\n2003  0.541124  0.745174  0.661265  1.0\n2004  0.374283  0.588531  0.557742  1.0\n2005  0.467540  0.562374  0.631010  1.0\n2006  0.428267  0.406126  0.518514  1.0\n2007  0.508118  0.658770  0.786264  1.0\n2008  0.681434  0.804626  0.828303  1.0\n2009  0.707103  0.654902  0.797921  1.0\n2010  0.710105  0.730118  0.839057  1.0\n2011  0.691931  0.800996  0.859975  1.0"
          },
          "metadata": {}
        }
      ]
    },
    {
      "metadata": {
        "trusted": true
      },
      "cell_type": "code",
      "source": "by_year.apply(lambda g: g['AAPL'].corr(g['MSFT']))",
      "execution_count": 89,
      "outputs": [
        {
          "output_type": "execute_result",
          "execution_count": 89,
          "data": {
            "text/plain": "2003    0.480868\n2004    0.259024\n2005    0.300093\n2006    0.161735\n2007    0.417738\n2008    0.611901\n2009    0.432738\n2010    0.571946\n2011    0.581987\ndtype: float64"
          },
          "metadata": {}
        }
      ]
    },
    {
      "metadata": {
        "trusted": true
      },
      "cell_type": "code",
      "source": "import statsmodels.api as sm\ndef regress(data, yvar, xvars):\n    Y = data[yvar]\n    X = data[xvars]\n    X['intercept'] = 1.\n    result = sm.OLS(Y, X).fit()\n    return result.params\nby_year.apply(regress, 'AAPL', ['SPX'])",
      "execution_count": 91,
      "outputs": [
        {
          "output_type": "execute_result",
          "execution_count": 91,
          "data": {
            "text/html": "<div>\n<style scoped>\n    .dataframe tbody tr th:only-of-type {\n        vertical-align: middle;\n    }\n\n    .dataframe tbody tr th {\n        vertical-align: top;\n    }\n\n    .dataframe thead th {\n        text-align: right;\n    }\n</style>\n<table border=\"1\" class=\"dataframe\">\n  <thead>\n    <tr style=\"text-align: right;\">\n      <th></th>\n      <th>SPX</th>\n      <th>intercept</th>\n    </tr>\n  </thead>\n  <tbody>\n    <tr>\n      <th>2003</th>\n      <td>1.195406</td>\n      <td>0.000710</td>\n    </tr>\n    <tr>\n      <th>2004</th>\n      <td>1.363463</td>\n      <td>0.004201</td>\n    </tr>\n    <tr>\n      <th>2005</th>\n      <td>1.766415</td>\n      <td>0.003246</td>\n    </tr>\n    <tr>\n      <th>2006</th>\n      <td>1.645496</td>\n      <td>0.000080</td>\n    </tr>\n    <tr>\n      <th>2007</th>\n      <td>1.198761</td>\n      <td>0.003438</td>\n    </tr>\n    <tr>\n      <th>2008</th>\n      <td>0.968016</td>\n      <td>-0.001110</td>\n    </tr>\n    <tr>\n      <th>2009</th>\n      <td>0.879103</td>\n      <td>0.002954</td>\n    </tr>\n    <tr>\n      <th>2010</th>\n      <td>1.052608</td>\n      <td>0.001261</td>\n    </tr>\n    <tr>\n      <th>2011</th>\n      <td>0.806605</td>\n      <td>0.001514</td>\n    </tr>\n  </tbody>\n</table>\n</div>",
            "text/plain": "           SPX  intercept\n2003  1.195406   0.000710\n2004  1.363463   0.004201\n2005  1.766415   0.003246\n2006  1.645496   0.000080\n2007  1.198761   0.003438\n2008  0.968016  -0.001110\n2009  0.879103   0.002954\n2010  1.052608   0.001261\n2011  0.806605   0.001514"
          },
          "metadata": {}
        }
      ]
    },
    {
      "metadata": {
        "trusted": true
      },
      "cell_type": "code",
      "source": "tips",
      "execution_count": 106,
      "outputs": [
        {
          "output_type": "execute_result",
          "execution_count": 106,
          "data": {
            "text/html": "<div>\n<style scoped>\n    .dataframe tbody tr th:only-of-type {\n        vertical-align: middle;\n    }\n\n    .dataframe tbody tr th {\n        vertical-align: top;\n    }\n\n    .dataframe thead th {\n        text-align: right;\n    }\n</style>\n<table border=\"1\" class=\"dataframe\">\n  <thead>\n    <tr style=\"text-align: right;\">\n      <th></th>\n      <th>total_bill</th>\n      <th>tip</th>\n      <th>smoker</th>\n      <th>day</th>\n      <th>time</th>\n      <th>size</th>\n      <th>tip_pct</th>\n    </tr>\n  </thead>\n  <tbody>\n    <tr>\n      <th>0</th>\n      <td>16.99</td>\n      <td>1.01</td>\n      <td>No</td>\n      <td>Sun</td>\n      <td>Dinner</td>\n      <td>2</td>\n      <td>0.059447</td>\n    </tr>\n    <tr>\n      <th>1</th>\n      <td>10.34</td>\n      <td>1.66</td>\n      <td>No</td>\n      <td>Sun</td>\n      <td>Dinner</td>\n      <td>3</td>\n      <td>0.160542</td>\n    </tr>\n    <tr>\n      <th>2</th>\n      <td>21.01</td>\n      <td>3.50</td>\n      <td>No</td>\n      <td>Sun</td>\n      <td>Dinner</td>\n      <td>3</td>\n      <td>0.166587</td>\n    </tr>\n    <tr>\n      <th>3</th>\n      <td>23.68</td>\n      <td>3.31</td>\n      <td>No</td>\n      <td>Sun</td>\n      <td>Dinner</td>\n      <td>2</td>\n      <td>0.139780</td>\n    </tr>\n    <tr>\n      <th>4</th>\n      <td>24.59</td>\n      <td>3.61</td>\n      <td>No</td>\n      <td>Sun</td>\n      <td>Dinner</td>\n      <td>4</td>\n      <td>0.146808</td>\n    </tr>\n    <tr>\n      <th>5</th>\n      <td>25.29</td>\n      <td>4.71</td>\n      <td>No</td>\n      <td>Sun</td>\n      <td>Dinner</td>\n      <td>4</td>\n      <td>0.186240</td>\n    </tr>\n    <tr>\n      <th>6</th>\n      <td>8.77</td>\n      <td>2.00</td>\n      <td>No</td>\n      <td>Sun</td>\n      <td>Dinner</td>\n      <td>2</td>\n      <td>0.228050</td>\n    </tr>\n    <tr>\n      <th>7</th>\n      <td>26.88</td>\n      <td>3.12</td>\n      <td>No</td>\n      <td>Sun</td>\n      <td>Dinner</td>\n      <td>4</td>\n      <td>0.116071</td>\n    </tr>\n    <tr>\n      <th>8</th>\n      <td>15.04</td>\n      <td>1.96</td>\n      <td>No</td>\n      <td>Sun</td>\n      <td>Dinner</td>\n      <td>2</td>\n      <td>0.130319</td>\n    </tr>\n    <tr>\n      <th>9</th>\n      <td>14.78</td>\n      <td>3.23</td>\n      <td>No</td>\n      <td>Sun</td>\n      <td>Dinner</td>\n      <td>2</td>\n      <td>0.218539</td>\n    </tr>\n    <tr>\n      <th>...</th>\n      <td>...</td>\n      <td>...</td>\n      <td>...</td>\n      <td>...</td>\n      <td>...</td>\n      <td>...</td>\n      <td>...</td>\n    </tr>\n    <tr>\n      <th>234</th>\n      <td>15.53</td>\n      <td>3.00</td>\n      <td>Yes</td>\n      <td>Sat</td>\n      <td>Dinner</td>\n      <td>2</td>\n      <td>0.193175</td>\n    </tr>\n    <tr>\n      <th>235</th>\n      <td>10.07</td>\n      <td>1.25</td>\n      <td>No</td>\n      <td>Sat</td>\n      <td>Dinner</td>\n      <td>2</td>\n      <td>0.124131</td>\n    </tr>\n    <tr>\n      <th>236</th>\n      <td>12.60</td>\n      <td>1.00</td>\n      <td>Yes</td>\n      <td>Sat</td>\n      <td>Dinner</td>\n      <td>2</td>\n      <td>0.079365</td>\n    </tr>\n    <tr>\n      <th>237</th>\n      <td>32.83</td>\n      <td>1.17</td>\n      <td>Yes</td>\n      <td>Sat</td>\n      <td>Dinner</td>\n      <td>2</td>\n      <td>0.035638</td>\n    </tr>\n    <tr>\n      <th>238</th>\n      <td>35.83</td>\n      <td>4.67</td>\n      <td>No</td>\n      <td>Sat</td>\n      <td>Dinner</td>\n      <td>3</td>\n      <td>0.130338</td>\n    </tr>\n    <tr>\n      <th>239</th>\n      <td>29.03</td>\n      <td>5.92</td>\n      <td>No</td>\n      <td>Sat</td>\n      <td>Dinner</td>\n      <td>3</td>\n      <td>0.203927</td>\n    </tr>\n    <tr>\n      <th>240</th>\n      <td>27.18</td>\n      <td>2.00</td>\n      <td>Yes</td>\n      <td>Sat</td>\n      <td>Dinner</td>\n      <td>2</td>\n      <td>0.073584</td>\n    </tr>\n    <tr>\n      <th>241</th>\n      <td>22.67</td>\n      <td>2.00</td>\n      <td>Yes</td>\n      <td>Sat</td>\n      <td>Dinner</td>\n      <td>2</td>\n      <td>0.088222</td>\n    </tr>\n    <tr>\n      <th>242</th>\n      <td>17.82</td>\n      <td>1.75</td>\n      <td>No</td>\n      <td>Sat</td>\n      <td>Dinner</td>\n      <td>2</td>\n      <td>0.098204</td>\n    </tr>\n    <tr>\n      <th>243</th>\n      <td>18.78</td>\n      <td>3.00</td>\n      <td>No</td>\n      <td>Thur</td>\n      <td>Dinner</td>\n      <td>2</td>\n      <td>0.159744</td>\n    </tr>\n  </tbody>\n</table>\n<p>244 rows × 7 columns</p>\n</div>",
            "text/plain": "     total_bill   tip smoker   day    time  size   tip_pct\n0         16.99  1.01     No   Sun  Dinner     2  0.059447\n1         10.34  1.66     No   Sun  Dinner     3  0.160542\n2         21.01  3.50     No   Sun  Dinner     3  0.166587\n3         23.68  3.31     No   Sun  Dinner     2  0.139780\n4         24.59  3.61     No   Sun  Dinner     4  0.146808\n5         25.29  4.71     No   Sun  Dinner     4  0.186240\n6          8.77  2.00     No   Sun  Dinner     2  0.228050\n7         26.88  3.12     No   Sun  Dinner     4  0.116071\n8         15.04  1.96     No   Sun  Dinner     2  0.130319\n9         14.78  3.23     No   Sun  Dinner     2  0.218539\n..          ...   ...    ...   ...     ...   ...       ...\n234       15.53  3.00    Yes   Sat  Dinner     2  0.193175\n235       10.07  1.25     No   Sat  Dinner     2  0.124131\n236       12.60  1.00    Yes   Sat  Dinner     2  0.079365\n237       32.83  1.17    Yes   Sat  Dinner     2  0.035638\n238       35.83  4.67     No   Sat  Dinner     3  0.130338\n239       29.03  5.92     No   Sat  Dinner     3  0.203927\n240       27.18  2.00    Yes   Sat  Dinner     2  0.073584\n241       22.67  2.00    Yes   Sat  Dinner     2  0.088222\n242       17.82  1.75     No   Sat  Dinner     2  0.098204\n243       18.78  3.00     No  Thur  Dinner     2  0.159744\n\n[244 rows x 7 columns]"
          },
          "metadata": {}
        }
      ]
    },
    {
      "metadata": {
        "trusted": true
      },
      "cell_type": "code",
      "source": "tips.pivot_table(index=['day', 'smoker'])",
      "execution_count": 92,
      "outputs": [
        {
          "output_type": "execute_result",
          "execution_count": 92,
          "data": {
            "text/html": "<div>\n<style scoped>\n    .dataframe tbody tr th:only-of-type {\n        vertical-align: middle;\n    }\n\n    .dataframe tbody tr th {\n        vertical-align: top;\n    }\n\n    .dataframe thead th {\n        text-align: right;\n    }\n</style>\n<table border=\"1\" class=\"dataframe\">\n  <thead>\n    <tr style=\"text-align: right;\">\n      <th></th>\n      <th></th>\n      <th>size</th>\n      <th>tip</th>\n      <th>tip_pct</th>\n      <th>total_bill</th>\n    </tr>\n    <tr>\n      <th>day</th>\n      <th>smoker</th>\n      <th></th>\n      <th></th>\n      <th></th>\n      <th></th>\n    </tr>\n  </thead>\n  <tbody>\n    <tr>\n      <th rowspan=\"2\" valign=\"top\">Fri</th>\n      <th>No</th>\n      <td>2.250000</td>\n      <td>2.812500</td>\n      <td>0.151650</td>\n      <td>18.420000</td>\n    </tr>\n    <tr>\n      <th>Yes</th>\n      <td>2.066667</td>\n      <td>2.714000</td>\n      <td>0.174783</td>\n      <td>16.813333</td>\n    </tr>\n    <tr>\n      <th rowspan=\"2\" valign=\"top\">Sat</th>\n      <th>No</th>\n      <td>2.555556</td>\n      <td>3.102889</td>\n      <td>0.158048</td>\n      <td>19.661778</td>\n    </tr>\n    <tr>\n      <th>Yes</th>\n      <td>2.476190</td>\n      <td>2.875476</td>\n      <td>0.147906</td>\n      <td>21.276667</td>\n    </tr>\n    <tr>\n      <th rowspan=\"2\" valign=\"top\">Sun</th>\n      <th>No</th>\n      <td>2.929825</td>\n      <td>3.167895</td>\n      <td>0.160113</td>\n      <td>20.506667</td>\n    </tr>\n    <tr>\n      <th>Yes</th>\n      <td>2.578947</td>\n      <td>3.516842</td>\n      <td>0.187250</td>\n      <td>24.120000</td>\n    </tr>\n    <tr>\n      <th rowspan=\"2\" valign=\"top\">Thur</th>\n      <th>No</th>\n      <td>2.488889</td>\n      <td>2.673778</td>\n      <td>0.160298</td>\n      <td>17.113111</td>\n    </tr>\n    <tr>\n      <th>Yes</th>\n      <td>2.352941</td>\n      <td>3.030000</td>\n      <td>0.163863</td>\n      <td>19.190588</td>\n    </tr>\n  </tbody>\n</table>\n</div>",
            "text/plain": "                 size       tip   tip_pct  total_bill\nday  smoker                                          \nFri  No      2.250000  2.812500  0.151650   18.420000\n     Yes     2.066667  2.714000  0.174783   16.813333\nSat  No      2.555556  3.102889  0.158048   19.661778\n     Yes     2.476190  2.875476  0.147906   21.276667\nSun  No      2.929825  3.167895  0.160113   20.506667\n     Yes     2.578947  3.516842  0.187250   24.120000\nThur No      2.488889  2.673778  0.160298   17.113111\n     Yes     2.352941  3.030000  0.163863   19.190588"
          },
          "metadata": {}
        }
      ]
    },
    {
      "metadata": {
        "trusted": true
      },
      "cell_type": "code",
      "source": "tips.pivot_table(['tip_pct', 'size'], index=['time', 'day'],\n                 columns='smoker')",
      "execution_count": 93,
      "outputs": [
        {
          "output_type": "execute_result",
          "execution_count": 93,
          "data": {
            "text/html": "<div>\n<style scoped>\n    .dataframe tbody tr th:only-of-type {\n        vertical-align: middle;\n    }\n\n    .dataframe tbody tr th {\n        vertical-align: top;\n    }\n\n    .dataframe thead tr th {\n        text-align: left;\n    }\n\n    .dataframe thead tr:last-of-type th {\n        text-align: right;\n    }\n</style>\n<table border=\"1\" class=\"dataframe\">\n  <thead>\n    <tr>\n      <th></th>\n      <th></th>\n      <th colspan=\"2\" halign=\"left\">size</th>\n      <th colspan=\"2\" halign=\"left\">tip_pct</th>\n    </tr>\n    <tr>\n      <th></th>\n      <th>smoker</th>\n      <th>No</th>\n      <th>Yes</th>\n      <th>No</th>\n      <th>Yes</th>\n    </tr>\n    <tr>\n      <th>time</th>\n      <th>day</th>\n      <th></th>\n      <th></th>\n      <th></th>\n      <th></th>\n    </tr>\n  </thead>\n  <tbody>\n    <tr>\n      <th rowspan=\"4\" valign=\"top\">Dinner</th>\n      <th>Fri</th>\n      <td>2.000000</td>\n      <td>2.222222</td>\n      <td>0.139622</td>\n      <td>0.165347</td>\n    </tr>\n    <tr>\n      <th>Sat</th>\n      <td>2.555556</td>\n      <td>2.476190</td>\n      <td>0.158048</td>\n      <td>0.147906</td>\n    </tr>\n    <tr>\n      <th>Sun</th>\n      <td>2.929825</td>\n      <td>2.578947</td>\n      <td>0.160113</td>\n      <td>0.187250</td>\n    </tr>\n    <tr>\n      <th>Thur</th>\n      <td>2.000000</td>\n      <td>NaN</td>\n      <td>0.159744</td>\n      <td>NaN</td>\n    </tr>\n    <tr>\n      <th rowspan=\"2\" valign=\"top\">Lunch</th>\n      <th>Fri</th>\n      <td>3.000000</td>\n      <td>1.833333</td>\n      <td>0.187735</td>\n      <td>0.188937</td>\n    </tr>\n    <tr>\n      <th>Thur</th>\n      <td>2.500000</td>\n      <td>2.352941</td>\n      <td>0.160311</td>\n      <td>0.163863</td>\n    </tr>\n  </tbody>\n</table>\n</div>",
            "text/plain": "                 size             tip_pct          \nsmoker             No       Yes        No       Yes\ntime   day                                         \nDinner Fri   2.000000  2.222222  0.139622  0.165347\n       Sat   2.555556  2.476190  0.158048  0.147906\n       Sun   2.929825  2.578947  0.160113  0.187250\n       Thur  2.000000       NaN  0.159744       NaN\nLunch  Fri   3.000000  1.833333  0.187735  0.188937\n       Thur  2.500000  2.352941  0.160311  0.163863"
          },
          "metadata": {}
        }
      ]
    },
    {
      "metadata": {
        "trusted": true
      },
      "cell_type": "code",
      "source": "dftips = tips.pivot_table(['tip_pct', 'size'], index=['time', 'day'],\n                 columns='smoker', margins=True)\ndftips",
      "execution_count": 99,
      "outputs": [
        {
          "output_type": "execute_result",
          "execution_count": 99,
          "data": {
            "text/html": "<div>\n<style scoped>\n    .dataframe tbody tr th:only-of-type {\n        vertical-align: middle;\n    }\n\n    .dataframe tbody tr th {\n        vertical-align: top;\n    }\n\n    .dataframe thead tr th {\n        text-align: left;\n    }\n\n    .dataframe thead tr:last-of-type th {\n        text-align: right;\n    }\n</style>\n<table border=\"1\" class=\"dataframe\">\n  <thead>\n    <tr>\n      <th></th>\n      <th></th>\n      <th colspan=\"3\" halign=\"left\">size</th>\n      <th colspan=\"3\" halign=\"left\">tip_pct</th>\n    </tr>\n    <tr>\n      <th></th>\n      <th>smoker</th>\n      <th>No</th>\n      <th>Yes</th>\n      <th>All</th>\n      <th>No</th>\n      <th>Yes</th>\n      <th>All</th>\n    </tr>\n    <tr>\n      <th>time</th>\n      <th>day</th>\n      <th></th>\n      <th></th>\n      <th></th>\n      <th></th>\n      <th></th>\n      <th></th>\n    </tr>\n  </thead>\n  <tbody>\n    <tr>\n      <th rowspan=\"4\" valign=\"top\">Dinner</th>\n      <th>Fri</th>\n      <td>2.000000</td>\n      <td>2.222222</td>\n      <td>2.166667</td>\n      <td>0.139622</td>\n      <td>0.165347</td>\n      <td>0.158916</td>\n    </tr>\n    <tr>\n      <th>Sat</th>\n      <td>2.555556</td>\n      <td>2.476190</td>\n      <td>2.517241</td>\n      <td>0.158048</td>\n      <td>0.147906</td>\n      <td>0.153152</td>\n    </tr>\n    <tr>\n      <th>Sun</th>\n      <td>2.929825</td>\n      <td>2.578947</td>\n      <td>2.842105</td>\n      <td>0.160113</td>\n      <td>0.187250</td>\n      <td>0.166897</td>\n    </tr>\n    <tr>\n      <th>Thur</th>\n      <td>2.000000</td>\n      <td>NaN</td>\n      <td>2.000000</td>\n      <td>0.159744</td>\n      <td>NaN</td>\n      <td>0.159744</td>\n    </tr>\n    <tr>\n      <th rowspan=\"2\" valign=\"top\">Lunch</th>\n      <th>Fri</th>\n      <td>3.000000</td>\n      <td>1.833333</td>\n      <td>2.000000</td>\n      <td>0.187735</td>\n      <td>0.188937</td>\n      <td>0.188765</td>\n    </tr>\n    <tr>\n      <th>Thur</th>\n      <td>2.500000</td>\n      <td>2.352941</td>\n      <td>2.459016</td>\n      <td>0.160311</td>\n      <td>0.163863</td>\n      <td>0.161301</td>\n    </tr>\n    <tr>\n      <th>All</th>\n      <th></th>\n      <td>2.668874</td>\n      <td>2.408602</td>\n      <td>2.569672</td>\n      <td>0.159328</td>\n      <td>0.163196</td>\n      <td>0.160803</td>\n    </tr>\n  </tbody>\n</table>\n</div>",
            "text/plain": "                 size                       tip_pct                    \nsmoker             No       Yes       All        No       Yes       All\ntime   day                                                             \nDinner Fri   2.000000  2.222222  2.166667  0.139622  0.165347  0.158916\n       Sat   2.555556  2.476190  2.517241  0.158048  0.147906  0.153152\n       Sun   2.929825  2.578947  2.842105  0.160113  0.187250  0.166897\n       Thur  2.000000       NaN  2.000000  0.159744       NaN  0.159744\nLunch  Fri   3.000000  1.833333  2.000000  0.187735  0.188937  0.188765\n       Thur  2.500000  2.352941  2.459016  0.160311  0.163863  0.161301\nAll          2.668874  2.408602  2.569672  0.159328  0.163196  0.160803"
          },
          "metadata": {}
        }
      ]
    },
    {
      "metadata": {
        "trusted": true
      },
      "cell_type": "code",
      "source": "dftips.index",
      "execution_count": 98,
      "outputs": [
        {
          "output_type": "execute_result",
          "execution_count": 98,
          "data": {
            "text/plain": "MultiIndex(levels=[['All', 'Dinner', 'Lunch'], ['', 'Fri', 'Sat', 'Sun', 'Thur']],\n           labels=[[1, 1, 1, 1, 2, 2, 0], [1, 2, 3, 4, 1, 4, 0]],\n           names=['time', 'day'])"
          },
          "metadata": {}
        }
      ]
    },
    {
      "metadata": {
        "trusted": true
      },
      "cell_type": "code",
      "source": "tips.pivot_table('tip_pct', index=['time', 'smoker'], columns='day',\n                 aggfunc=len, margins=True) #count of the data",
      "execution_count": 100,
      "outputs": [
        {
          "output_type": "execute_result",
          "execution_count": 100,
          "data": {
            "text/html": "<div>\n<style scoped>\n    .dataframe tbody tr th:only-of-type {\n        vertical-align: middle;\n    }\n\n    .dataframe tbody tr th {\n        vertical-align: top;\n    }\n\n    .dataframe thead th {\n        text-align: right;\n    }\n</style>\n<table border=\"1\" class=\"dataframe\">\n  <thead>\n    <tr style=\"text-align: right;\">\n      <th></th>\n      <th>day</th>\n      <th>Fri</th>\n      <th>Sat</th>\n      <th>Sun</th>\n      <th>Thur</th>\n      <th>All</th>\n    </tr>\n    <tr>\n      <th>time</th>\n      <th>smoker</th>\n      <th></th>\n      <th></th>\n      <th></th>\n      <th></th>\n      <th></th>\n    </tr>\n  </thead>\n  <tbody>\n    <tr>\n      <th rowspan=\"2\" valign=\"top\">Dinner</th>\n      <th>No</th>\n      <td>3.0</td>\n      <td>45.0</td>\n      <td>57.0</td>\n      <td>1.0</td>\n      <td>106.0</td>\n    </tr>\n    <tr>\n      <th>Yes</th>\n      <td>9.0</td>\n      <td>42.0</td>\n      <td>19.0</td>\n      <td>NaN</td>\n      <td>70.0</td>\n    </tr>\n    <tr>\n      <th rowspan=\"2\" valign=\"top\">Lunch</th>\n      <th>No</th>\n      <td>1.0</td>\n      <td>NaN</td>\n      <td>NaN</td>\n      <td>44.0</td>\n      <td>45.0</td>\n    </tr>\n    <tr>\n      <th>Yes</th>\n      <td>6.0</td>\n      <td>NaN</td>\n      <td>NaN</td>\n      <td>17.0</td>\n      <td>23.0</td>\n    </tr>\n    <tr>\n      <th>All</th>\n      <th></th>\n      <td>19.0</td>\n      <td>87.0</td>\n      <td>76.0</td>\n      <td>62.0</td>\n      <td>244.0</td>\n    </tr>\n  </tbody>\n</table>\n</div>",
            "text/plain": "day             Fri   Sat   Sun  Thur    All\ntime   smoker                               \nDinner No       3.0  45.0  57.0   1.0  106.0\n       Yes      9.0  42.0  19.0   NaN   70.0\nLunch  No       1.0   NaN   NaN  44.0   45.0\n       Yes      6.0   NaN   NaN  17.0   23.0\nAll            19.0  87.0  76.0  62.0  244.0"
          },
          "metadata": {}
        }
      ]
    },
    {
      "metadata": {
        "trusted": true
      },
      "cell_type": "code",
      "source": "tips.pivot_table('tip_pct', index=['time', 'size', 'smoker'],\n                 columns='day', aggfunc='mean', fill_value=0)",
      "execution_count": 107,
      "outputs": [
        {
          "output_type": "execute_result",
          "execution_count": 107,
          "data": {
            "text/html": "<div>\n<style scoped>\n    .dataframe tbody tr th:only-of-type {\n        vertical-align: middle;\n    }\n\n    .dataframe tbody tr th {\n        vertical-align: top;\n    }\n\n    .dataframe thead th {\n        text-align: right;\n    }\n</style>\n<table border=\"1\" class=\"dataframe\">\n  <thead>\n    <tr style=\"text-align: right;\">\n      <th></th>\n      <th></th>\n      <th>day</th>\n      <th>Fri</th>\n      <th>Sat</th>\n      <th>Sun</th>\n      <th>Thur</th>\n    </tr>\n    <tr>\n      <th>time</th>\n      <th>size</th>\n      <th>smoker</th>\n      <th></th>\n      <th></th>\n      <th></th>\n      <th></th>\n    </tr>\n  </thead>\n  <tbody>\n    <tr>\n      <th rowspan=\"10\" valign=\"top\">Dinner</th>\n      <th rowspan=\"2\" valign=\"top\">1</th>\n      <th>No</th>\n      <td>0.000000</td>\n      <td>0.137931</td>\n      <td>0.000000</td>\n      <td>0.000000</td>\n    </tr>\n    <tr>\n      <th>Yes</th>\n      <td>0.000000</td>\n      <td>0.325733</td>\n      <td>0.000000</td>\n      <td>0.000000</td>\n    </tr>\n    <tr>\n      <th rowspan=\"2\" valign=\"top\">2</th>\n      <th>No</th>\n      <td>0.139622</td>\n      <td>0.162705</td>\n      <td>0.168859</td>\n      <td>0.159744</td>\n    </tr>\n    <tr>\n      <th>Yes</th>\n      <td>0.171297</td>\n      <td>0.148668</td>\n      <td>0.207893</td>\n      <td>0.000000</td>\n    </tr>\n    <tr>\n      <th rowspan=\"2\" valign=\"top\">3</th>\n      <th>No</th>\n      <td>0.000000</td>\n      <td>0.154661</td>\n      <td>0.152663</td>\n      <td>0.000000</td>\n    </tr>\n    <tr>\n      <th>Yes</th>\n      <td>0.000000</td>\n      <td>0.144995</td>\n      <td>0.152660</td>\n      <td>0.000000</td>\n    </tr>\n    <tr>\n      <th rowspan=\"2\" valign=\"top\">4</th>\n      <th>No</th>\n      <td>0.000000</td>\n      <td>0.150096</td>\n      <td>0.148143</td>\n      <td>0.000000</td>\n    </tr>\n    <tr>\n      <th>Yes</th>\n      <td>0.117750</td>\n      <td>0.124515</td>\n      <td>0.193370</td>\n      <td>0.000000</td>\n    </tr>\n    <tr>\n      <th rowspan=\"2\" valign=\"top\">5</th>\n      <th>No</th>\n      <td>0.000000</td>\n      <td>0.000000</td>\n      <td>0.206928</td>\n      <td>0.000000</td>\n    </tr>\n    <tr>\n      <th>Yes</th>\n      <td>0.000000</td>\n      <td>0.106572</td>\n      <td>0.065660</td>\n      <td>0.000000</td>\n    </tr>\n    <tr>\n      <th>...</th>\n      <th>...</th>\n      <th>...</th>\n      <td>...</td>\n      <td>...</td>\n      <td>...</td>\n      <td>...</td>\n    </tr>\n    <tr>\n      <th rowspan=\"10\" valign=\"top\">Lunch</th>\n      <th rowspan=\"2\" valign=\"top\">1</th>\n      <th>No</th>\n      <td>0.000000</td>\n      <td>0.000000</td>\n      <td>0.000000</td>\n      <td>0.181728</td>\n    </tr>\n    <tr>\n      <th>Yes</th>\n      <td>0.223776</td>\n      <td>0.000000</td>\n      <td>0.000000</td>\n      <td>0.000000</td>\n    </tr>\n    <tr>\n      <th rowspan=\"2\" valign=\"top\">2</th>\n      <th>No</th>\n      <td>0.000000</td>\n      <td>0.000000</td>\n      <td>0.000000</td>\n      <td>0.166005</td>\n    </tr>\n    <tr>\n      <th>Yes</th>\n      <td>0.181969</td>\n      <td>0.000000</td>\n      <td>0.000000</td>\n      <td>0.158843</td>\n    </tr>\n    <tr>\n      <th rowspan=\"2\" valign=\"top\">3</th>\n      <th>No</th>\n      <td>0.187735</td>\n      <td>0.000000</td>\n      <td>0.000000</td>\n      <td>0.084246</td>\n    </tr>\n    <tr>\n      <th>Yes</th>\n      <td>0.000000</td>\n      <td>0.000000</td>\n      <td>0.000000</td>\n      <td>0.204952</td>\n    </tr>\n    <tr>\n      <th rowspan=\"2\" valign=\"top\">4</th>\n      <th>No</th>\n      <td>0.000000</td>\n      <td>0.000000</td>\n      <td>0.000000</td>\n      <td>0.138919</td>\n    </tr>\n    <tr>\n      <th>Yes</th>\n      <td>0.000000</td>\n      <td>0.000000</td>\n      <td>0.000000</td>\n      <td>0.155410</td>\n    </tr>\n    <tr>\n      <th>5</th>\n      <th>No</th>\n      <td>0.000000</td>\n      <td>0.000000</td>\n      <td>0.000000</td>\n      <td>0.121389</td>\n    </tr>\n    <tr>\n      <th>6</th>\n      <th>No</th>\n      <td>0.000000</td>\n      <td>0.000000</td>\n      <td>0.000000</td>\n      <td>0.173706</td>\n    </tr>\n  </tbody>\n</table>\n<p>21 rows × 4 columns</p>\n</div>",
            "text/plain": "day                      Fri       Sat       Sun      Thur\ntime   size smoker                                        \nDinner 1    No      0.000000  0.137931  0.000000  0.000000\n            Yes     0.000000  0.325733  0.000000  0.000000\n       2    No      0.139622  0.162705  0.168859  0.159744\n            Yes     0.171297  0.148668  0.207893  0.000000\n       3    No      0.000000  0.154661  0.152663  0.000000\n            Yes     0.000000  0.144995  0.152660  0.000000\n       4    No      0.000000  0.150096  0.148143  0.000000\n            Yes     0.117750  0.124515  0.193370  0.000000\n       5    No      0.000000  0.000000  0.206928  0.000000\n            Yes     0.000000  0.106572  0.065660  0.000000\n...                      ...       ...       ...       ...\nLunch  1    No      0.000000  0.000000  0.000000  0.181728\n            Yes     0.223776  0.000000  0.000000  0.000000\n       2    No      0.000000  0.000000  0.000000  0.166005\n            Yes     0.181969  0.000000  0.000000  0.158843\n       3    No      0.187735  0.000000  0.000000  0.084246\n            Yes     0.000000  0.000000  0.000000  0.204952\n       4    No      0.000000  0.000000  0.000000  0.138919\n            Yes     0.000000  0.000000  0.000000  0.155410\n       5    No      0.000000  0.000000  0.000000  0.121389\n       6    No      0.000000  0.000000  0.000000  0.173706\n\n[21 rows x 4 columns]"
          },
          "metadata": {}
        }
      ]
    },
    {
      "metadata": {
        "trusted": true
      },
      "cell_type": "code",
      "source": "from io import StringIO\ndata = \"\"\"\\\nSample  Nationality  Handedness\n1   USA  Right-handed\n2   Japan    Left-handed\n3   USA  Right-handed\n4   Japan    Right-handed\n5   Japan    Left-handed\n6   Japan    Right-handed\n7   USA  Right-handed\n8   USA  Left-handed\n9   Japan    Right-handed\n10  USA  Right-handed\"\"\"\ndata = pd.read_table(StringIO(data), sep='\\s+') #/s refers to anything with a space and + means more than one",
      "execution_count": 108,
      "outputs": []
    },
    {
      "metadata": {
        "trusted": true
      },
      "cell_type": "code",
      "source": "data",
      "execution_count": 109,
      "outputs": [
        {
          "output_type": "execute_result",
          "execution_count": 109,
          "data": {
            "text/html": "<div>\n<style scoped>\n    .dataframe tbody tr th:only-of-type {\n        vertical-align: middle;\n    }\n\n    .dataframe tbody tr th {\n        vertical-align: top;\n    }\n\n    .dataframe thead th {\n        text-align: right;\n    }\n</style>\n<table border=\"1\" class=\"dataframe\">\n  <thead>\n    <tr style=\"text-align: right;\">\n      <th></th>\n      <th>Sample</th>\n      <th>Nationality</th>\n      <th>Handedness</th>\n    </tr>\n  </thead>\n  <tbody>\n    <tr>\n      <th>0</th>\n      <td>1</td>\n      <td>USA</td>\n      <td>Right-handed</td>\n    </tr>\n    <tr>\n      <th>1</th>\n      <td>2</td>\n      <td>Japan</td>\n      <td>Left-handed</td>\n    </tr>\n    <tr>\n      <th>2</th>\n      <td>3</td>\n      <td>USA</td>\n      <td>Right-handed</td>\n    </tr>\n    <tr>\n      <th>3</th>\n      <td>4</td>\n      <td>Japan</td>\n      <td>Right-handed</td>\n    </tr>\n    <tr>\n      <th>4</th>\n      <td>5</td>\n      <td>Japan</td>\n      <td>Left-handed</td>\n    </tr>\n    <tr>\n      <th>5</th>\n      <td>6</td>\n      <td>Japan</td>\n      <td>Right-handed</td>\n    </tr>\n    <tr>\n      <th>6</th>\n      <td>7</td>\n      <td>USA</td>\n      <td>Right-handed</td>\n    </tr>\n    <tr>\n      <th>7</th>\n      <td>8</td>\n      <td>USA</td>\n      <td>Left-handed</td>\n    </tr>\n    <tr>\n      <th>8</th>\n      <td>9</td>\n      <td>Japan</td>\n      <td>Right-handed</td>\n    </tr>\n    <tr>\n      <th>9</th>\n      <td>10</td>\n      <td>USA</td>\n      <td>Right-handed</td>\n    </tr>\n  </tbody>\n</table>\n</div>",
            "text/plain": "   Sample Nationality    Handedness\n0       1         USA  Right-handed\n1       2       Japan   Left-handed\n2       3         USA  Right-handed\n3       4       Japan  Right-handed\n4       5       Japan   Left-handed\n5       6       Japan  Right-handed\n6       7         USA  Right-handed\n7       8         USA   Left-handed\n8       9       Japan  Right-handed\n9      10         USA  Right-handed"
          },
          "metadata": {}
        }
      ]
    },
    {
      "metadata": {
        "trusted": true
      },
      "cell_type": "code",
      "source": "pd.crosstab(data.Nationality, data.Handedness, margins=True)",
      "execution_count": 110,
      "outputs": [
        {
          "output_type": "execute_result",
          "execution_count": 110,
          "data": {
            "text/html": "<div>\n<style scoped>\n    .dataframe tbody tr th:only-of-type {\n        vertical-align: middle;\n    }\n\n    .dataframe tbody tr th {\n        vertical-align: top;\n    }\n\n    .dataframe thead th {\n        text-align: right;\n    }\n</style>\n<table border=\"1\" class=\"dataframe\">\n  <thead>\n    <tr style=\"text-align: right;\">\n      <th>Handedness</th>\n      <th>Left-handed</th>\n      <th>Right-handed</th>\n      <th>All</th>\n    </tr>\n    <tr>\n      <th>Nationality</th>\n      <th></th>\n      <th></th>\n      <th></th>\n    </tr>\n  </thead>\n  <tbody>\n    <tr>\n      <th>Japan</th>\n      <td>2</td>\n      <td>3</td>\n      <td>5</td>\n    </tr>\n    <tr>\n      <th>USA</th>\n      <td>1</td>\n      <td>4</td>\n      <td>5</td>\n    </tr>\n    <tr>\n      <th>All</th>\n      <td>3</td>\n      <td>7</td>\n      <td>10</td>\n    </tr>\n  </tbody>\n</table>\n</div>",
            "text/plain": "Handedness   Left-handed  Right-handed  All\nNationality                                \nJapan                  2             3    5\nUSA                    1             4    5\nAll                    3             7   10"
          },
          "metadata": {}
        }
      ]
    },
    {
      "metadata": {
        "trusted": true
      },
      "cell_type": "code",
      "source": "pd.crosstab([tips.time, tips.day], tips.smoker, margins=True)",
      "execution_count": 111,
      "outputs": [
        {
          "output_type": "execute_result",
          "execution_count": 111,
          "data": {
            "text/html": "<div>\n<style scoped>\n    .dataframe tbody tr th:only-of-type {\n        vertical-align: middle;\n    }\n\n    .dataframe tbody tr th {\n        vertical-align: top;\n    }\n\n    .dataframe thead th {\n        text-align: right;\n    }\n</style>\n<table border=\"1\" class=\"dataframe\">\n  <thead>\n    <tr style=\"text-align: right;\">\n      <th></th>\n      <th>smoker</th>\n      <th>No</th>\n      <th>Yes</th>\n      <th>All</th>\n    </tr>\n    <tr>\n      <th>time</th>\n      <th>day</th>\n      <th></th>\n      <th></th>\n      <th></th>\n    </tr>\n  </thead>\n  <tbody>\n    <tr>\n      <th rowspan=\"4\" valign=\"top\">Dinner</th>\n      <th>Fri</th>\n      <td>3</td>\n      <td>9</td>\n      <td>12</td>\n    </tr>\n    <tr>\n      <th>Sat</th>\n      <td>45</td>\n      <td>42</td>\n      <td>87</td>\n    </tr>\n    <tr>\n      <th>Sun</th>\n      <td>57</td>\n      <td>19</td>\n      <td>76</td>\n    </tr>\n    <tr>\n      <th>Thur</th>\n      <td>1</td>\n      <td>0</td>\n      <td>1</td>\n    </tr>\n    <tr>\n      <th rowspan=\"2\" valign=\"top\">Lunch</th>\n      <th>Fri</th>\n      <td>1</td>\n      <td>6</td>\n      <td>7</td>\n    </tr>\n    <tr>\n      <th>Thur</th>\n      <td>44</td>\n      <td>17</td>\n      <td>61</td>\n    </tr>\n    <tr>\n      <th>All</th>\n      <th></th>\n      <td>151</td>\n      <td>93</td>\n      <td>244</td>\n    </tr>\n  </tbody>\n</table>\n</div>",
            "text/plain": "smoker        No  Yes  All\ntime   day                \nDinner Fri     3    9   12\n       Sat    45   42   87\n       Sun    57   19   76\n       Thur    1    0    1\nLunch  Fri     1    6    7\n       Thur   44   17   61\nAll          151   93  244"
          },
          "metadata": {}
        }
      ]
    },
    {
      "metadata": {
        "trusted": true
      },
      "cell_type": "code",
      "source": "",
      "execution_count": null,
      "outputs": []
    }
  ],
  "metadata": {
    "kernelspec": {
      "name": "python36",
      "display_name": "Python 3.6",
      "language": "python"
    },
    "language_info": {
      "mimetype": "text/x-python",
      "nbconvert_exporter": "python",
      "name": "python",
      "pygments_lexer": "ipython3",
      "version": "3.6.6",
      "file_extension": ".py",
      "codemirror_mode": {
        "version": 3,
        "name": "ipython"
      }
    }
  },
  "nbformat": 4,
  "nbformat_minor": 2
}