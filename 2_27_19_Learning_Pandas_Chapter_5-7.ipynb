{
  "cells": [
    {
      "metadata": {
        "trusted": true
      },
      "cell_type": "code",
      "source": "# import numpy and pandas\nimport numpy as np\nimport pandas as pd\n\n# used for dates\nimport datetime\nfrom datetime import datetime, date\n\n# Set some pandas options controlling output format\npd.set_option('display.notebook_repr_html', False)\npd.set_option('display.max_columns', 8)\npd.set_option('display.max_rows', 10)\npd.set_option('display.width', 60)\n\n# bring in matplotlib for graphics\nimport matplotlib.pyplot as plt\n%matplotlib inline\n\n# read in the data and print the first five rows\n# use the Symbol column as the index, and \n# only read in columns in positions 0, 2, 3, 7\nsp500 = pd.read_csv(\"Learning_Pandas/sp500.csv\", \n                    index_col='Symbol', \n                    usecols=[0, 2, 3, 7])",
      "execution_count": 109,
      "outputs": []
    },
    {
      "metadata": {
        "trusted": true
      },
      "cell_type": "code",
      "source": "# peek at the first 5 rows of the data using .head()\nsp500.head()",
      "execution_count": 110,
      "outputs": [
        {
          "output_type": "execute_result",
          "execution_count": 110,
          "data": {
            "text/plain": "                        Sector   Price  Book Value\nSymbol                                            \nMMM                Industrials  141.14      26.668\nABT                Health Care   39.60      15.573\nABBV               Health Care   53.95       2.954\nACN     Information Technology   79.79       8.326\nACE                 Financials  102.91      86.897"
          },
          "metadata": {}
        }
      ]
    },
    {
      "metadata": {
        "trusted": true
      },
      "cell_type": "code",
      "source": "# get row with label MMM\n# returned as a Series\nsp500.loc['MMM']",
      "execution_count": 3,
      "outputs": [
        {
          "output_type": "execute_result",
          "execution_count": 3,
          "data": {
            "text/plain": "Sector        Industrials\nPrice              141.14\nBook Value         26.668\nName: MMM, dtype: object"
          },
          "metadata": {}
        }
      ]
    },
    {
      "metadata": {
        "trusted": true
      },
      "cell_type": "code",
      "source": "# rows with label MMM and MSFT\n# this is a DataFrame result\nsp500.loc[['MMM', 'MSFT']]",
      "execution_count": 4,
      "outputs": [
        {
          "output_type": "execute_result",
          "execution_count": 4,
          "data": {
            "text/plain": "                        Sector   Price  Book Value\nSymbol                                            \nMMM                Industrials  141.14      26.668\nMSFT    Information Technology   40.12      10.584"
          },
          "metadata": {}
        }
      ]
    },
    {
      "metadata": {
        "trusted": true
      },
      "cell_type": "code",
      "source": "# get rows in location 0 and 2\nsp500.iloc[[0, 2]]",
      "execution_count": 5,
      "outputs": [
        {
          "output_type": "execute_result",
          "execution_count": 5,
          "data": {
            "text/plain": "             Sector   Price  Book Value\nSymbol                                 \nMMM     Industrials  141.14      26.668\nABBV    Health Care   53.95       2.954"
          },
          "metadata": {}
        }
      ]
    },
    {
      "metadata": {
        "trusted": true
      },
      "cell_type": "code",
      "source": "# get the location of MMM and A in the index\ni1 = sp500.index.get_loc('MMM')\ni2 = sp500.index.get_loc('A')\n(i1, i2)",
      "execution_count": 6,
      "outputs": [
        {
          "output_type": "execute_result",
          "execution_count": 6,
          "data": {
            "text/plain": "(0, 10)"
          },
          "metadata": {}
        }
      ]
    },
    {
      "metadata": {
        "trusted": true
      },
      "cell_type": "code",
      "source": "# by label in both the index and column\nsp500.at['MMM', 'Price']",
      "execution_count": 7,
      "outputs": [
        {
          "output_type": "execute_result",
          "execution_count": 7,
          "data": {
            "text/plain": "141.14"
          },
          "metadata": {}
        }
      ]
    },
    {
      "metadata": {
        "trusted": true
      },
      "cell_type": "code",
      "source": "# by location.  Row 0, column 1\nsp500.iat[0, 1]",
      "execution_count": 8,
      "outputs": [
        {
          "output_type": "execute_result",
          "execution_count": 8,
          "data": {
            "text/plain": "141.14"
          },
          "metadata": {}
        }
      ]
    },
    {
      "metadata": {
        "trusted": true
      },
      "cell_type": "code",
      "source": "# rename the Book Value column to not have a space\n# this returns a copy with the column renamed\nnewSP500 = sp500.rename(columns=\n                        {'Book Value': 'BookValue'})",
      "execution_count": 9,
      "outputs": []
    },
    {
      "metadata": {
        "trusted": true
      },
      "cell_type": "code",
      "source": "# print first 2 rows\nnewSP500[:2]",
      "execution_count": 10,
      "outputs": [
        {
          "output_type": "execute_result",
          "execution_count": 10,
          "data": {
            "text/plain": "             Sector   Price  BookValue\nSymbol                                \nMMM     Industrials  141.14     26.668\nABT     Health Care   39.60     15.573"
          },
          "metadata": {}
        }
      ]
    },
    {
      "metadata": {
        "trusted": true
      },
      "cell_type": "code",
      "source": "# verify the columns in the original did not change\nsp500.columns",
      "execution_count": 11,
      "outputs": [
        {
          "output_type": "execute_result",
          "execution_count": 11,
          "data": {
            "text/plain": "Index(['Sector', 'Price', 'Book Value'], dtype='object')"
          },
          "metadata": {}
        }
      ]
    },
    {
      "metadata": {
        "trusted": true
      },
      "cell_type": "code",
      "source": "# this changes the column in-place\nsp500.rename(columns=                  \n             {'Book Value': 'BookValue'},                   \n             inplace=True)",
      "execution_count": 12,
      "outputs": []
    },
    {
      "metadata": {
        "trusted": true
      },
      "cell_type": "code",
      "source": "# we can see the column is changed\nsp500.columns",
      "execution_count": 13,
      "outputs": [
        {
          "output_type": "execute_result",
          "execution_count": 13,
          "data": {
            "text/plain": "Index(['Sector', 'Price', 'BookValue'], dtype='object')"
          },
          "metadata": {}
        }
      ]
    },
    {
      "metadata": {
        "trusted": true
      },
      "cell_type": "code",
      "source": "sp500",
      "execution_count": 14,
      "outputs": [
        {
          "output_type": "execute_result",
          "execution_count": 14,
          "data": {
            "text/plain": "                        Sector   Price  BookValue\nSymbol                                           \nMMM                Industrials  141.14     26.668\nABT                Health Care   39.60     15.573\nABBV               Health Care   53.95      2.954\nACN     Information Technology   79.79      8.326\nACE                 Financials  102.91     86.897\n...                        ...     ...        ...\nYHOO    Information Technology   35.02     12.768\nYUM     Consumer Discretionary   74.77      5.147\nZMH                Health Care  101.84     37.181\nZION                Financials   28.43     30.191\nZTS                Health Care   30.53      2.150\n\n[500 rows x 3 columns]"
          },
          "metadata": {}
        }
      ]
    },
    {
      "metadata": {
        "trusted": true
      },
      "cell_type": "code",
      "source": "# and now we can use .BookValue\nsp500.BookValue[:5]",
      "execution_count": 15,
      "outputs": [
        {
          "output_type": "execute_result",
          "execution_count": 15,
          "data": {
            "text/plain": "Symbol\nMMM     26.668\nABT     15.573\nABBV     2.954\nACN      8.326\nACE     86.897\nName: BookValue, dtype: float64"
          },
          "metadata": {}
        }
      ]
    },
    {
      "metadata": {
        "trusted": true
      },
      "cell_type": "code",
      "source": "# make a copy so that we keep the original data unchanged\nsp500_copy = sp500.copy()",
      "execution_count": 16,
      "outputs": []
    },
    {
      "metadata": {
        "trusted": true
      },
      "cell_type": "code",
      "source": "# add the new column\nsp500_copy['RoundedPrice'] = sp500.Price.round()\nsp500_copy[:2]",
      "execution_count": 17,
      "outputs": [
        {
          "output_type": "execute_result",
          "execution_count": 17,
          "data": {
            "text/plain": "             Sector   Price  BookValue  RoundedPrice\nSymbol                                              \nMMM     Industrials  141.14     26.668         141.0\nABT     Health Care   39.60     15.573          40.0"
          },
          "metadata": {}
        }
      ]
    },
    {
      "metadata": {
        "trusted": true
      },
      "cell_type": "code",
      "source": "# make a copy so that we keep the original data unchanged\ncopy = sp500.copy()",
      "execution_count": 18,
      "outputs": []
    },
    {
      "metadata": {
        "trusted": true
      },
      "cell_type": "code",
      "source": "# insert sp500.Price * 2 as the \n# second column in the DataFrame\ncopy.insert(1, 'RoundedPrice', sp500.Price.round())\ncopy[:2]",
      "execution_count": 19,
      "outputs": [
        {
          "output_type": "execute_result",
          "execution_count": 19,
          "data": {
            "text/plain": "             Sector  RoundedPrice   Price  BookValue\nSymbol                                              \nMMM     Industrials         141.0  141.14     26.668\nABT     Health Care          40.0   39.60     15.573"
          },
          "metadata": {}
        }
      ]
    },
    {
      "metadata": {
        "trusted": true
      },
      "cell_type": "code",
      "source": "# copy of subset / slice\nss = sp500[:3].copy()",
      "execution_count": 20,
      "outputs": []
    },
    {
      "metadata": {
        "trusted": true
      },
      "cell_type": "code",
      "source": "# add the new column initialized to 0\nss.loc[:,'PER'] = 0",
      "execution_count": 21,
      "outputs": []
    },
    {
      "metadata": {
        "trusted": true
      },
      "cell_type": "code",
      "source": "# take a look at the results\nss",
      "execution_count": 22,
      "outputs": [
        {
          "output_type": "execute_result",
          "execution_count": 22,
          "data": {
            "text/plain": "             Sector   Price  BookValue  PER\nSymbol                                     \nMMM     Industrials  141.14     26.668    0\nABT     Health Care   39.60     15.573    0\nABBV    Health Care   53.95      2.954    0"
          },
          "metadata": {}
        }
      ]
    },
    {
      "metadata": {
        "trusted": true
      },
      "cell_type": "code",
      "source": "# copy of subset / slice\nss = sp500[:3].copy()\n# add the new column initialized with random numbers\nnp.random.seed(123456)",
      "execution_count": 23,
      "outputs": []
    },
    {
      "metadata": {
        "trusted": true
      },
      "cell_type": "code",
      "source": "ss.loc[:,'PER'] = pd.Series(np.random.normal(size=3), index=ss.index)\n# take a look at the results\nss",
      "execution_count": 24,
      "outputs": [
        {
          "output_type": "execute_result",
          "execution_count": 24,
          "data": {
            "text/plain": "             Sector   Price  BookValue       PER\nSymbol                                          \nMMM     Industrials  141.14     26.668  0.469112\nABT     Health Care   39.60     15.573 -0.282863\nABBV    Health Care   53.95      2.954 -1.509059"
          },
          "metadata": {}
        }
      ]
    },
    {
      "metadata": {
        "trusted": true
      },
      "cell_type": "code",
      "source": "# create a DataFrame with only the RoundedPrice column\nrounded_price = pd.DataFrame({'RoundedPrice':    \n                              sp500.Price.round()})\nrounded_price",
      "execution_count": 25,
      "outputs": [
        {
          "output_type": "execute_result",
          "execution_count": 25,
          "data": {
            "text/plain": "        RoundedPrice\nSymbol              \nMMM            141.0\nABT             40.0\nABBV            54.0\nACN             80.0\nACE            103.0\n...              ...\nYHOO            35.0\nYUM             75.0\nZMH            102.0\nZION            28.0\nZTS             31.0\n\n[500 rows x 1 columns]"
          },
          "metadata": {}
        }
      ]
    },
    {
      "metadata": {
        "trusted": true
      },
      "cell_type": "code",
      "source": "# concatenate along the columns axis\nconcatenated = pd.concat([sp500, rounded_price], axis=1)\nconcatenated[:5]",
      "execution_count": 26,
      "outputs": [
        {
          "output_type": "execute_result",
          "execution_count": 26,
          "data": {
            "text/plain": "                        Sector   Price  BookValue  \\\nSymbol                                              \nMMM                Industrials  141.14     26.668   \nABT                Health Care   39.60     15.573   \nABBV               Health Care   53.95      2.954   \nACN     Information Technology   79.79      8.326   \nACE                 Financials  102.91     86.897   \n\n        RoundedPrice  \nSymbol                \nMMM            141.0  \nABT             40.0  \nABBV            54.0  \nACN             80.0  \nACE            103.0  "
          },
          "metadata": {}
        }
      ]
    },
    {
      "metadata": {
        "trusted": true
      },
      "cell_type": "code",
      "source": "# create a DataFrame with only the RoundedPrice column\nrounded_price = pd.DataFrame({'Price': sp500.Price.round()})\nrounded_price[:5]",
      "execution_count": 27,
      "outputs": [
        {
          "output_type": "execute_result",
          "execution_count": 27,
          "data": {
            "text/plain": "        Price\nSymbol       \nMMM     141.0\nABT      40.0\nABBV     54.0\nACN      80.0\nACE     103.0"
          },
          "metadata": {}
        }
      ]
    },
    {
      "metadata": {
        "trusted": true
      },
      "cell_type": "code",
      "source": "# this will result in duplicate Price columm\ndups = pd.concat([sp500, rounded_price], axis=1)\ndups[:5]",
      "execution_count": 28,
      "outputs": [
        {
          "output_type": "execute_result",
          "execution_count": 28,
          "data": {
            "text/plain": "                        Sector   Price  BookValue  Price\nSymbol                                                  \nMMM                Industrials  141.14     26.668  141.0\nABT                Health Care   39.60     15.573   40.0\nABBV               Health Care   53.95      2.954   54.0\nACN     Information Technology   79.79      8.326   80.0\nACE                 Financials  102.91     86.897  103.0"
          },
          "metadata": {}
        }
      ]
    },
    {
      "metadata": {
        "trusted": true
      },
      "cell_type": "code",
      "source": "# retrieves both Price columns\ndups.Price[:5]",
      "execution_count": 29,
      "outputs": [
        {
          "output_type": "execute_result",
          "execution_count": 29,
          "data": {
            "text/plain": "         Price  Price\nSymbol               \nMMM     141.14  141.0\nABT      39.60   40.0\nABBV     53.95   54.0\nACN      79.79   80.0\nACE     102.91  103.0"
          },
          "metadata": {}
        }
      ]
    },
    {
      "metadata": {
        "trusted": true
      },
      "cell_type": "code",
      "source": "# return a new DataFrame with the columns reversed\nreversed_column_names = sp500.columns[::-1]\nsp500[reversed_column_names][:5]",
      "execution_count": 30,
      "outputs": [
        {
          "output_type": "execute_result",
          "execution_count": 30,
          "data": {
            "text/plain": "        BookValue   Price                  Sector\nSymbol                                           \nMMM        26.668  141.14             Industrials\nABT        15.573   39.60             Health Care\nABBV        2.954   53.95             Health Care\nACN         8.326   79.79  Information Technology\nACE        86.897  102.91              Financials"
          },
          "metadata": {}
        }
      ]
    },
    {
      "metadata": {
        "trusted": true
      },
      "cell_type": "code",
      "source": "# this occurs in-place so let's use a copy\ncopy = sp500.copy()",
      "execution_count": 31,
      "outputs": []
    },
    {
      "metadata": {
        "trusted": true
      },
      "cell_type": "code",
      "source": "# replace the Price column data with the new values\n# instead of adding a new column\ncopy.Price = rounded_price.Price\ncopy[:5]",
      "execution_count": 32,
      "outputs": [
        {
          "output_type": "execute_result",
          "execution_count": 32,
          "data": {
            "text/plain": "                        Sector  Price  BookValue\nSymbol                                          \nMMM                Industrials  141.0     26.668\nABT                Health Care   40.0     15.573\nABBV               Health Care   54.0      2.954\nACN     Information Technology   80.0      8.326\nACE                 Financials  103.0     86.897"
          },
          "metadata": {}
        }
      ]
    },
    {
      "metadata": {
        "trusted": true
      },
      "cell_type": "code",
      "source": "# this occurs in-place so let's use a copy\ncopy = sp500.copy()\n# replace the Price column data with rounded values\ncopy.loc[:,'Price'] = rounded_price.Price\ncopy[:5]",
      "execution_count": 33,
      "outputs": [
        {
          "output_type": "execute_result",
          "execution_count": 33,
          "data": {
            "text/plain": "                        Sector  Price  BookValue\nSymbol                                          \nMMM                Industrials  141.0     26.668\nABT                Health Care   40.0     15.573\nABBV               Health Care   54.0      2.954\nACN     Information Technology   80.0      8.326\nACE                 Financials  103.0     86.897"
          },
          "metadata": {}
        }
      ]
    },
    {
      "metadata": {
        "trusted": true
      },
      "cell_type": "code",
      "source": "# Example of using del to delete a column\n# make a copy as this is done in-place\ncopy = sp500.copy()\ndel copy['BookValue']\ncopy[:2]",
      "execution_count": 34,
      "outputs": [
        {
          "output_type": "execute_result",
          "execution_count": 34,
          "data": {
            "text/plain": "             Sector   Price\nSymbol                     \nMMM     Industrials  141.14\nABT     Health Care   39.60"
          },
          "metadata": {}
        }
      ]
    },
    {
      "metadata": {
        "trusted": true
      },
      "cell_type": "code",
      "source": "# Example of using pop to remove a column from a DataFrame\n# first make a copy of a subset of the data frame as\n# pop works in place\ncopy = sp500.copy()\n# this will remove Sector and return it as a series\npopped = copy.pop('Sector')\n# Sector column removed in-place\ncopy[:2]",
      "execution_count": 35,
      "outputs": [
        {
          "output_type": "execute_result",
          "execution_count": 35,
          "data": {
            "text/plain": "         Price  BookValue\nSymbol                   \nMMM     141.14     26.668\nABT      39.60     15.573"
          },
          "metadata": {}
        }
      ]
    },
    {
      "metadata": {
        "trusted": true
      },
      "cell_type": "code",
      "source": "# and we have the Sector column as the result of the pop\npopped[:5]",
      "execution_count": 36,
      "outputs": [
        {
          "output_type": "execute_result",
          "execution_count": 36,
          "data": {
            "text/plain": "Symbol\nMMM                Industrials\nABT                Health Care\nABBV               Health Care\nACN     Information Technology\nACE                 Financials\nName: Sector, dtype: object"
          },
          "metadata": {}
        }
      ]
    },
    {
      "metadata": {
        "trusted": true
      },
      "cell_type": "code",
      "source": "# Example of using drop to remove a column \n# make a copy of a subset of the data frame\ncopy = sp500.copy()\n# this will return a new DataFrame with 'Sector’ removed\n# the copy DataFrame is not modified\nafterdrop = copy.drop(['Sector'], axis = 1)\nafterdrop[:5]",
      "execution_count": 37,
      "outputs": [
        {
          "output_type": "execute_result",
          "execution_count": 37,
          "data": {
            "text/plain": "         Price  BookValue\nSymbol                   \nMMM     141.14     26.668\nABT      39.60     15.573\nABBV     53.95      2.954\nACN      79.79      8.326\nACE     102.91     86.897"
          },
          "metadata": {}
        }
      ]
    },
    {
      "metadata": {
        "trusted": true
      },
      "cell_type": "code",
      "source": "# copy the first three rows of sp500\ndf1 = sp500.iloc[0:3].copy()\n# copy 10th and 11th rows\ndf2 = sp500.iloc[[10, 11, 2]]\ndf1",
      "execution_count": 38,
      "outputs": [
        {
          "output_type": "execute_result",
          "execution_count": 38,
          "data": {
            "text/plain": "             Sector   Price  BookValue\nSymbol                                \nMMM     Industrials  141.14     26.668\nABT     Health Care   39.60     15.573\nABBV    Health Care   53.95      2.954"
          },
          "metadata": {}
        }
      ]
    },
    {
      "metadata": {
        "trusted": true
      },
      "cell_type": "code",
      "source": "df2",
      "execution_count": 39,
      "outputs": [
        {
          "output_type": "execute_result",
          "execution_count": 39,
          "data": {
            "text/plain": "             Sector  Price  BookValue\nSymbol                               \nA       Health Care  56.18     16.928\nGAS       Utilities  52.98     32.462\nABBV    Health Care  53.95      2.954"
          },
          "metadata": {}
        }
      ]
    },
    {
      "metadata": {
        "trusted": true
      },
      "cell_type": "code",
      "source": "# append df1 and df2\nappended = df1.append(df2)\n# the result is the rows of the first followed by \n# those of the second\nappended",
      "execution_count": 40,
      "outputs": [
        {
          "output_type": "execute_result",
          "execution_count": 40,
          "data": {
            "text/plain": "             Sector   Price  BookValue\nSymbol                                \nMMM     Industrials  141.14     26.668\nABT     Health Care   39.60     15.573\nABBV    Health Care   53.95      2.954\nA       Health Care   56.18     16.928\nGAS       Utilities   52.98     32.462\nABBV    Health Care   53.95      2.954"
          },
          "metadata": {}
        }
      ]
    },
    {
      "metadata": {
        "trusted": true
      },
      "cell_type": "code",
      "source": "# data frame using df1.index and just a PER column\n# also a good example of using a scalar value\n# to initialize multiple rows\ndf3 = pd.DataFrame(0.0, \n                   index=df1.index,\n                   columns=['PER'])\ndf3",
      "execution_count": 41,
      "outputs": [
        {
          "output_type": "execute_result",
          "execution_count": 41,
          "data": {
            "text/plain": "        PER\nSymbol     \nMMM     0.0\nABT     0.0\nABBV    0.0"
          },
          "metadata": {}
        }
      ]
    },
    {
      "metadata": {
        "trusted": true
      },
      "cell_type": "code",
      "source": "# append df1 and df3\n# each has three rows, so 6 rows is the result\n# df1 had no PER column, so NaN from for those rows\n# df3 had no BookValue, Price or Sector, so NaN's\ndf1.append(df3)",
      "execution_count": 42,
      "outputs": [
        {
          "output_type": "execute_result",
          "execution_count": 42,
          "data": {
            "text/plain": "        BookValue  PER   Price       Sector\nSymbol                                     \nMMM        26.668  NaN  141.14  Industrials\nABT        15.573  NaN   39.60  Health Care\nABBV        2.954  NaN   53.95  Health Care\nMMM           NaN  0.0     NaN          NaN\nABT           NaN  0.0     NaN          NaN\nABBV          NaN  0.0     NaN          NaN"
          },
          "metadata": {}
        }
      ]
    },
    {
      "metadata": {
        "trusted": true
      },
      "cell_type": "code",
      "source": "# ignore index labels, create default index\ndf1.append(df3, ignore_index=True)",
      "execution_count": 43,
      "outputs": [
        {
          "output_type": "execute_result",
          "execution_count": 43,
          "data": {
            "text/plain": "   BookValue  PER   Price       Sector\n0     26.668  NaN  141.14  Industrials\n1     15.573  NaN   39.60  Health Care\n2      2.954  NaN   53.95  Health Care\n3        NaN  0.0     NaN          NaN\n4        NaN  0.0     NaN          NaN\n5        NaN  0.0     NaN          NaN"
          },
          "metadata": {}
        }
      ]
    },
    {
      "metadata": {
        "trusted": true
      },
      "cell_type": "code",
      "source": "# copy the first three rows of sp500\ndf1 = sp500.iloc[0:3].copy()\n# copy 10th and 11th rows\ndf2 = sp500.iloc[[10, 11, 2]]\n# pass them as a list\npd.concat([df1, df2])",
      "execution_count": 44,
      "outputs": [
        {
          "output_type": "execute_result",
          "execution_count": 44,
          "data": {
            "text/plain": "             Sector   Price  BookValue\nSymbol                                \nMMM     Industrials  141.14     26.668\nABT     Health Care   39.60     15.573\nABBV    Health Care   53.95      2.954\nA       Health Care   56.18     16.928\nGAS       Utilities   52.98     32.462\nABBV    Health Care   53.95      2.954"
          },
          "metadata": {}
        }
      ]
    },
    {
      "metadata": {
        "trusted": true
      },
      "cell_type": "code",
      "source": "# copy df2\ndf2_2 = df2.copy()\n# add a column to df2_2 that is not in df1\ndf2_2.insert(3, 'Foo', pd.Series(0, index=df2.index))\n# see what it looks like\ndf2_2",
      "execution_count": 45,
      "outputs": [
        {
          "output_type": "execute_result",
          "execution_count": 45,
          "data": {
            "text/plain": "             Sector  Price  BookValue  Foo\nSymbol                                    \nA       Health Care  56.18     16.928    0\nGAS       Utilities  52.98     32.462    0\nABBV    Health Care  53.95      2.954    0"
          },
          "metadata": {}
        }
      ]
    },
    {
      "metadata": {
        "trusted": true
      },
      "cell_type": "code",
      "source": "# now concatenate\npd.concat([df1, df2_2])",
      "execution_count": 46,
      "outputs": [
        {
          "output_type": "execute_result",
          "execution_count": 46,
          "data": {
            "text/plain": "        BookValue  Foo   Price       Sector\nSymbol                                     \nMMM        26.668  NaN  141.14  Industrials\nABT        15.573  NaN   39.60  Health Care\nABBV        2.954  NaN   53.95  Health Care\nA          16.928  0.0   56.18  Health Care\nGAS        32.462  0.0   52.98    Utilities\nABBV        2.954  0.0   53.95  Health Care"
          },
          "metadata": {}
        }
      ]
    },
    {
      "metadata": {
        "trusted": true
      },
      "cell_type": "code",
      "source": "# specify keys\nr = pd.concat([df1, df2_2], keys=['df1', 'df2'])\nr",
      "execution_count": 47,
      "outputs": [
        {
          "output_type": "execute_result",
          "execution_count": 47,
          "data": {
            "text/plain": "            BookValue  Foo   Price       Sector\n    Symbol                                     \ndf1 MMM        26.668  NaN  141.14  Industrials\n    ABT        15.573  NaN   39.60  Health Care\n    ABBV        2.954  NaN   53.95  Health Care\ndf2 A          16.928  0.0   56.18  Health Care\n    GAS        32.462  0.0   52.98    Utilities\n    ABBV        2.954  0.0   53.95  Health Care"
          },
          "metadata": {}
        }
      ]
    },
    {
      "metadata": {
        "trusted": true
      },
      "cell_type": "code",
      "source": "# get a small subset of the sp500 \n# make sure to copy the slice to make a copy\nss = sp500[:3].copy()\n# create a new row with index label FOO\n# and assign some values to the columns via a list\nss.loc['FOO'] = ['the sector', 100, 110]\nss",
      "execution_count": 48,
      "outputs": [
        {
          "output_type": "execute_result",
          "execution_count": 48,
          "data": {
            "text/plain": "             Sector   Price  BookValue\nSymbol                                \nMMM     Industrials  141.14     26.668\nABT     Health Care   39.60     15.573\nABBV    Health Care   53.95      2.954\nFOO      the sector  100.00    110.000"
          },
          "metadata": {}
        }
      ]
    },
    {
      "metadata": {
        "trusted": true
      },
      "cell_type": "code",
      "source": "# get a copy of the first 5 rows of sp500\nss = sp500[:5]\nss",
      "execution_count": 49,
      "outputs": [
        {
          "output_type": "execute_result",
          "execution_count": 49,
          "data": {
            "text/plain": "                        Sector   Price  BookValue\nSymbol                                           \nMMM                Industrials  141.14     26.668\nABT                Health Care   39.60     15.573\nABBV               Health Care   53.95      2.954\nACN     Information Technology   79.79      8.326\nACE                 Financials  102.91     86.897"
          },
          "metadata": {}
        }
      ]
    },
    {
      "metadata": {
        "trusted": true
      },
      "cell_type": "code",
      "source": "# drop rows with labels ABT and ACN\nafterdrop = ss.drop(['ABT', 'ACN'])\nafterdrop[:5]",
      "execution_count": 50,
      "outputs": [
        {
          "output_type": "execute_result",
          "execution_count": 50,
          "data": {
            "text/plain": "             Sector   Price  BookValue\nSymbol                                \nMMM     Industrials  141.14     26.668\nABBV    Health Care   53.95      2.954\nACE      Financials  102.91     86.897"
          },
          "metadata": {}
        }
      ]
    },
    {
      "metadata": {
        "trusted": true
      },
      "cell_type": "code",
      "source": "# determine the rows where Price > 300\nselection = sp500.Price > 300\n# report number of rows and number that will be dropped\n(len(selection), selection.sum())",
      "execution_count": 51,
      "outputs": [
        {
          "output_type": "execute_result",
          "execution_count": 51,
          "data": {
            "text/plain": "(500, 10)"
          },
          "metadata": {}
        }
      ]
    },
    {
      "metadata": {
        "trusted": true
      },
      "cell_type": "code",
      "source": "# select the complement of the expression\n# note the use of the complement of the selection\nprice_less_than_300 = sp500[~selection]\nprice_less_than_300",
      "execution_count": 52,
      "outputs": [
        {
          "output_type": "execute_result",
          "execution_count": 52,
          "data": {
            "text/plain": "                        Sector   Price  BookValue\nSymbol                                           \nMMM                Industrials  141.14     26.668\nABT                Health Care   39.60     15.573\nABBV               Health Care   53.95      2.954\nACN     Information Technology   79.79      8.326\nACE                 Financials  102.91     86.897\n...                        ...     ...        ...\nYHOO    Information Technology   35.02     12.768\nYUM     Consumer Discretionary   74.77      5.147\nZMH                Health Care  101.84     37.181\nZION                Financials   28.43     30.191\nZTS                Health Care   30.53      2.150\n\n[490 rows x 3 columns]"
          },
          "metadata": {}
        }
      ]
    },
    {
      "metadata": {
        "trusted": true
      },
      "cell_type": "code",
      "source": "# get only the first three rows\nonly_first_three = sp500[:3]\nonly_first_three",
      "execution_count": 53,
      "outputs": [
        {
          "output_type": "execute_result",
          "execution_count": 53,
          "data": {
            "text/plain": "             Sector   Price  BookValue\nSymbol                                \nMMM     Industrials  141.14     26.668\nABT     Health Care   39.60     15.573\nABBV    Health Care   53.95      2.954"
          },
          "metadata": {}
        }
      ]
    },
    {
      "metadata": {
        "trusted": true
      },
      "cell_type": "code",
      "source": "# first three, but a copy of them\nonly_first_three = sp500[:3].copy()\nonly_first_three",
      "execution_count": 54,
      "outputs": [
        {
          "output_type": "execute_result",
          "execution_count": 54,
          "data": {
            "text/plain": "             Sector   Price  BookValue\nSymbol                                \nMMM     Industrials  141.14     26.668\nABT     Health Care   39.60     15.573\nABBV    Health Care   53.95      2.954"
          },
          "metadata": {}
        }
      ]
    },
    {
      "metadata": {
        "trusted": true
      },
      "cell_type": "code",
      "source": "# create DataFame of random numbers and a key column\nnp.random.seed(123456)\ndf = pd.DataFrame({'foo':np.random.random(10000), 'key':range(100, 10100)})\ndf[:5]",
      "execution_count": 55,
      "outputs": [
        {
          "output_type": "execute_result",
          "execution_count": 55,
          "data": {
            "text/plain": "        foo  key\n0  0.126970  100\n1  0.966718  101\n2  0.260476  102\n3  0.897237  103\n4  0.376750  104"
          },
          "metadata": {}
        }
      ]
    },
    {
      "metadata": {
        "trusted": true
      },
      "cell_type": "code",
      "source": "# boolean select where key is 10099\ndf[df.key==10099]",
      "execution_count": 56,
      "outputs": [
        {
          "output_type": "execute_result",
          "execution_count": 56,
          "data": {
            "text/plain": "           foo    key\n9999  0.272283  10099"
          },
          "metadata": {}
        }
      ]
    },
    {
      "metadata": {
        "trusted": true
      },
      "cell_type": "code",
      "source": "# time the select\n%timeit df[df.key==10099]",
      "execution_count": 57,
      "outputs": [
        {
          "output_type": "stream",
          "text": "904 µs ± 71.4 µs per loop (mean ± std. dev. of 7 runs, 1000 loops each)\n",
          "name": "stdout"
        }
      ]
    },
    {
      "metadata": {
        "trusted": true
      },
      "cell_type": "code",
      "source": "# move key to the index\ndf_with_index = df.set_index(['key'])\ndf_with_index[:5]",
      "execution_count": 58,
      "outputs": [
        {
          "output_type": "execute_result",
          "execution_count": 58,
          "data": {
            "text/plain": "          foo\nkey          \n100  0.126970\n101  0.966718\n102  0.260476\n103  0.897237\n104  0.376750"
          },
          "metadata": {}
        }
      ]
    },
    {
      "metadata": {
        "trusted": true
      },
      "cell_type": "code",
      "source": "# now can lookup with the index\ndf_with_index.loc[10099]",
      "execution_count": 59,
      "outputs": [
        {
          "output_type": "execute_result",
          "execution_count": 59,
          "data": {
            "text/plain": "foo    0.272283\nName: 10099, dtype: float64"
          },
          "metadata": {}
        }
      ]
    },
    {
      "metadata": {
        "trusted": true
      },
      "cell_type": "code",
      "source": "# and this is a lot faster\n%timeit df_with_index.loc[10099]",
      "execution_count": 60,
      "outputs": [
        {
          "output_type": "stream",
          "text": "167 µs ± 24.2 µs per loop (mean ± std. dev. of 7 runs, 10000 loops each)\n",
          "name": "stdout"
        }
      ]
    },
    {
      "metadata": {
        "trusted": true
      },
      "cell_type": "code",
      "source": "# show that the columns are actually an index\ntemps = pd.DataFrame({ \"City\": [\"Missoula\", \"Philadelphia\"],\n                       \"Temperature\": [70, 80] })\ntemps",
      "execution_count": 61,
      "outputs": [
        {
          "output_type": "execute_result",
          "execution_count": 61,
          "data": {
            "text/plain": "           City  Temperature\n0      Missoula           70\n1  Philadelphia           80"
          },
          "metadata": {}
        }
      ]
    },
    {
      "metadata": {
        "trusted": true
      },
      "cell_type": "code",
      "source": "# we can see columns is an index\ntemps.columns",
      "execution_count": 62,
      "outputs": [
        {
          "output_type": "execute_result",
          "execution_count": 62,
          "data": {
            "text/plain": "Index(['City', 'Temperature'], dtype='object')"
          },
          "metadata": {}
        }
      ]
    },
    {
      "metadata": {
        "trusted": true
      },
      "cell_type": "code",
      "source": "# explicitly create an Int64Index\ndf_i64 = pd.DataFrame(np.arange(10, 20), index=np.arange(0, 10))\ndf_i64",
      "execution_count": 63,
      "outputs": [
        {
          "output_type": "execute_result",
          "execution_count": 63,
          "data": {
            "text/plain": "    0\n0  10\n1  11\n2  12\n3  13\n4  14\n5  15\n6  16\n7  17\n8  18\n9  19"
          },
          "metadata": {}
        }
      ]
    },
    {
      "metadata": {
        "trusted": true
      },
      "cell_type": "code",
      "source": "df_i64[:5]",
      "execution_count": 64,
      "outputs": [
        {
          "output_type": "execute_result",
          "execution_count": 64,
          "data": {
            "text/plain": "    0\n0  10\n1  11\n2  12\n3  13\n4  14"
          },
          "metadata": {}
        }
      ]
    },
    {
      "metadata": {
        "trusted": true
      },
      "cell_type": "code",
      "source": "# view the index\ndf_i64.index",
      "execution_count": 65,
      "outputs": [
        {
          "output_type": "execute_result",
          "execution_count": 65,
          "data": {
            "text/plain": "Int64Index([0, 1, 2, 3, 4, 5, 6, 7, 8, 9], dtype='int64')"
          },
          "metadata": {}
        }
      ]
    },
    {
      "metadata": {
        "trusted": true
      },
      "cell_type": "code",
      "source": "# by default we are given a RangeIndex\ndf_range = pd.DataFrame(np.arange(10, 15))\ndf_range[:5]",
      "execution_count": 66,
      "outputs": [
        {
          "output_type": "execute_result",
          "execution_count": 66,
          "data": {
            "text/plain": "    0\n0  10\n1  11\n2  12\n3  13\n4  14"
          },
          "metadata": {}
        }
      ]
    },
    {
      "metadata": {
        "trusted": true
      },
      "cell_type": "code",
      "source": "df_range.index",
      "execution_count": 67,
      "outputs": [
        {
          "output_type": "execute_result",
          "execution_count": 67,
          "data": {
            "text/plain": "RangeIndex(start=0, stop=5, step=1)"
          },
          "metadata": {}
        }
      ]
    },
    {
      "metadata": {
        "trusted": true
      },
      "cell_type": "code",
      "source": "# indexes using a Float64Index\ndf_f64 = pd.DataFrame(np.arange(0, 1000, 5), \n                      np.arange(0.0, 100.0, 0.5))\ndf_f64",
      "execution_count": 68,
      "outputs": [
        {
          "output_type": "execute_result",
          "execution_count": 68,
          "data": {
            "text/plain": "        0\n0.0     0\n0.5     5\n1.0    10\n1.5    15\n2.0    20\n...   ...\n97.5  975\n98.0  980\n98.5  985\n99.0  990\n99.5  995\n\n[200 rows x 1 columns]"
          },
          "metadata": {}
        }
      ]
    },
    {
      "metadata": {
        "trusted": true
      },
      "cell_type": "code",
      "source": "df_f64.iloc[:5] # need iloc to slice first five",
      "execution_count": 69,
      "outputs": [
        {
          "output_type": "execute_result",
          "execution_count": 69,
          "data": {
            "text/plain": "      0\n0.0   0\n0.5   5\n1.0  10\n1.5  15\n2.0  20"
          },
          "metadata": {}
        }
      ]
    },
    {
      "metadata": {
        "trusted": true
      },
      "cell_type": "code",
      "source": "df_f64.index",
      "execution_count": 70,
      "outputs": [
        {
          "output_type": "execute_result",
          "execution_count": 70,
          "data": {
            "text/plain": "Float64Index([ 0.0,  0.5,  1.0,  1.5,  2.0,  2.5,  3.0,\n               3.5,  4.0,  4.5,\n              ...\n              95.0, 95.5, 96.0, 96.5, 97.0, 97.5, 98.0,\n              98.5, 99.0, 99.5],\n             dtype='float64', length=200)"
          },
          "metadata": {}
        }
      ]
    },
    {
      "metadata": {
        "trusted": true
      },
      "cell_type": "code",
      "source": "# a DataFrame with an IntervalIndex\ndf_interval = pd.DataFrame({ \"A\": [1, 2, 3, 4]},\n                    index = pd.IntervalIndex.from_breaks(\n                        [0, 0.5, 1.0, 1.5, 2.0]))\ndf_interval",
      "execution_count": 71,
      "outputs": [
        {
          "output_type": "execute_result",
          "execution_count": 71,
          "data": {
            "text/plain": "            A\n(0.0, 0.5]  1\n(0.5, 1.0]  2\n(1.0, 1.5]  3\n(1.5, 2.0]  4"
          },
          "metadata": {}
        }
      ]
    },
    {
      "metadata": {
        "trusted": true
      },
      "cell_type": "code",
      "source": "df_interval.index",
      "execution_count": 72,
      "outputs": [
        {
          "output_type": "execute_result",
          "execution_count": 72,
          "data": {
            "text/plain": "IntervalIndex([(0.0, 0.5], (0.5, 1.0], (1.0, 1.5], (1.5, 2.0]]\n              closed='right',\n              dtype='interval[float64]')"
          },
          "metadata": {}
        }
      ]
    },
    {
      "metadata": {
        "trusted": true
      },
      "cell_type": "code",
      "source": "# create a DataFrame with a Categorical coulmn\ndf_categorical = pd.DataFrame({'A': np.arange(6),\n                               'B': list('aabbca')})\ndf_categorical['B'] = df_categorical['B'].astype('category', \n                                          categories=list('cab'))\ndf_categorical",
      "execution_count": 73,
      "outputs": [
        {
          "output_type": "stream",
          "text": "/home/nbuser/anaconda3_501/lib/python3.6/site-packages/ipykernel/__main__.py:5: FutureWarning: specifying 'categories' or 'ordered' in .astype() is deprecated; pass a CategoricalDtype instead\n",
          "name": "stderr"
        },
        {
          "output_type": "execute_result",
          "execution_count": 73,
          "data": {
            "text/plain": "   A  B\n0  0  a\n1  1  a\n2  2  b\n3  3  b\n4  4  c\n5  5  a"
          },
          "metadata": {}
        }
      ]
    },
    {
      "metadata": {
        "trusted": true
      },
      "cell_type": "code",
      "source": "# shift the categorical column to the index\ndf_categorical = df_categorical.set_index('B')\ndf_categorical.index",
      "execution_count": 74,
      "outputs": [
        {
          "output_type": "execute_result",
          "execution_count": 74,
          "data": {
            "text/plain": "CategoricalIndex(['a', 'a', 'b', 'b', 'c', 'a'], categories=['c', 'a', 'b'], ordered=False, name='B', dtype='category')"
          },
          "metadata": {}
        }
      ]
    },
    {
      "metadata": {
        "trusted": true
      },
      "cell_type": "code",
      "source": "# lookup values in category 'a'\ndf_categorical.loc['a']",
      "execution_count": 75,
      "outputs": [
        {
          "output_type": "execute_result",
          "execution_count": 75,
          "data": {
            "text/plain": "   A\nB   \na  0\na  1\na  5"
          },
          "metadata": {}
        }
      ]
    },
    {
      "metadata": {
        "trusted": true
      },
      "cell_type": "code",
      "source": "# create a DatetimeIndex from a date range\nrng = pd.date_range('5/1/2017', periods=5, freq='H')\nrng",
      "execution_count": 76,
      "outputs": [
        {
          "output_type": "execute_result",
          "execution_count": 76,
          "data": {
            "text/plain": "DatetimeIndex(['2017-05-01 00:00:00',\n               '2017-05-01 01:00:00',\n               '2017-05-01 02:00:00',\n               '2017-05-01 03:00:00',\n               '2017-05-01 04:00:00'],\n              dtype='datetime64[ns]', freq='H')"
          },
          "metadata": {}
        }
      ]
    },
    {
      "metadata": {
        "trusted": true
      },
      "cell_type": "code",
      "source": "ts = pd.Series(np.random.randn(len(rng)), index=rng)\nts",
      "execution_count": 77,
      "outputs": [
        {
          "output_type": "execute_result",
          "execution_count": 77,
          "data": {
            "text/plain": "2017-05-01 00:00:00    1.239792\n2017-05-01 01:00:00   -0.400611\n2017-05-01 02:00:00    0.718247\n2017-05-01 03:00:00    0.430499\n2017-05-01 04:00:00    1.155432\nFreq: H, dtype: float64"
          },
          "metadata": {}
        }
      ]
    },
    {
      "metadata": {
        "trusted": true
      },
      "cell_type": "code",
      "source": "ts.index",
      "execution_count": 78,
      "outputs": [
        {
          "output_type": "execute_result",
          "execution_count": 78,
          "data": {
            "text/plain": "DatetimeIndex(['2017-05-01 00:00:00',\n               '2017-05-01 01:00:00',\n               '2017-05-01 02:00:00',\n               '2017-05-01 03:00:00',\n               '2017-05-01 04:00:00'],\n              dtype='datetime64[ns]', freq='H')"
          },
          "metadata": {}
        }
      ]
    },
    {
      "metadata": {
        "trusted": true
      },
      "cell_type": "code",
      "source": "# explicily create a PeriodIndex\nperiods = pd.PeriodIndex(['2017-1', '2017-2', '2017-3'], freq='M')\nperiods",
      "execution_count": 79,
      "outputs": [
        {
          "output_type": "execute_result",
          "execution_count": 79,
          "data": {
            "text/plain": "PeriodIndex(['2017-01', '2017-02', '2017-03'], dtype='period[M]', freq='M')"
          },
          "metadata": {}
        }
      ]
    },
    {
      "metadata": {
        "trusted": true
      },
      "cell_type": "code",
      "source": "# use the index in a Series\nperiod_series = pd.Series(np.random.randn(len(periods)), \n                          index=periods)\nperiod_series",
      "execution_count": 80,
      "outputs": [
        {
          "output_type": "execute_result",
          "execution_count": 80,
          "data": {
            "text/plain": "2017-01   -0.449276\n2017-02    2.472977\n2017-03   -0.716023\nFreq: M, dtype: float64"
          },
          "metadata": {}
        }
      ]
    },
    {
      "metadata": {
        "trusted": true
      },
      "cell_type": "code",
      "source": "# create a DatetimeIndex\ndate_times = pd.DatetimeIndex(pd.date_range('5/1/2017', \n                                            periods=5, \n                                            freq='H'))\ndate_times",
      "execution_count": 81,
      "outputs": [
        {
          "output_type": "execute_result",
          "execution_count": 81,
          "data": {
            "text/plain": "DatetimeIndex(['2017-05-01 00:00:00',\n               '2017-05-01 01:00:00',\n               '2017-05-01 02:00:00',\n               '2017-05-01 03:00:00',\n               '2017-05-01 04:00:00'],\n              dtype='datetime64[ns]', freq='H')"
          },
          "metadata": {}
        }
      ]
    },
    {
      "metadata": {
        "trusted": true
      },
      "cell_type": "code",
      "source": "# create a DataFrame using the index\ndf_date_times = pd.DataFrame(np.arange(0, len(date_times)), \n                             index=date_times)\ndf_date_times",
      "execution_count": 82,
      "outputs": [
        {
          "output_type": "execute_result",
          "execution_count": 82,
          "data": {
            "text/plain": "                     0\n2017-05-01 00:00:00  0\n2017-05-01 01:00:00  1\n2017-05-01 02:00:00  2\n2017-05-01 03:00:00  3\n2017-05-01 04:00:00  4"
          },
          "metadata": {}
        }
      ]
    },
    {
      "metadata": {
        "trusted": true
      },
      "cell_type": "code",
      "source": "# set the index of a DataFrame\ndf_date_times.index = pd.DatetimeIndex(pd.date_range('6/1/2017', \n                                                     periods=5, \n                                                     freq='H'))\ndf_date_times",
      "execution_count": 83,
      "outputs": [
        {
          "output_type": "execute_result",
          "execution_count": 83,
          "data": {
            "text/plain": "                     0\n2017-06-01 00:00:00  0\n2017-06-01 01:00:00  1\n2017-06-01 02:00:00  2\n2017-06-01 03:00:00  3\n2017-06-01 04:00:00  4"
          },
          "metadata": {}
        }
      ]
    },
    {
      "metadata": {
        "trusted": true
      },
      "cell_type": "code",
      "source": "# create a series\ns = pd.Series(np.arange(0, 5), index=list('abcde'))\ns",
      "execution_count": 84,
      "outputs": [
        {
          "output_type": "execute_result",
          "execution_count": 84,
          "data": {
            "text/plain": "a    0\nb    1\nc    2\nd    3\ne    4\ndtype: int64"
          },
          "metadata": {}
        }
      ]
    },
    {
      "metadata": {
        "trusted": true
      },
      "cell_type": "code",
      "source": "# lookup by index label\ns['b']",
      "execution_count": 85,
      "outputs": [
        {
          "output_type": "execute_result",
          "execution_count": 85,
          "data": {
            "text/plain": "1"
          },
          "metadata": {}
        }
      ]
    },
    {
      "metadata": {
        "trusted": true
      },
      "cell_type": "code",
      "source": "# explicit lookup by label\ns.loc['b']",
      "execution_count": 86,
      "outputs": [
        {
          "output_type": "execute_result",
          "execution_count": 86,
          "data": {
            "text/plain": "1"
          },
          "metadata": {}
        }
      ]
    },
    {
      "metadata": {
        "trusted": true
      },
      "cell_type": "code",
      "source": "# create a DataFrame with two columns\ndf = pd.DataFrame([ np.arange(10, 12), \n                    np.arange(12, 14)], \n                  columns=list('ab'), \n                  index=list('vw'))\ndf",
      "execution_count": 87,
      "outputs": [
        {
          "output_type": "execute_result",
          "execution_count": 87,
          "data": {
            "text/plain": "    a   b\nv  10  11\nw  12  13"
          },
          "metadata": {}
        }
      ]
    },
    {
      "metadata": {
        "trusted": true
      },
      "cell_type": "code",
      "source": "# this returns the column 'a'\ndf['a']",
      "execution_count": 88,
      "outputs": [
        {
          "output_type": "execute_result",
          "execution_count": 88,
          "data": {
            "text/plain": "v    10\nw    12\nName: a, dtype: int64"
          },
          "metadata": {}
        }
      ]
    },
    {
      "metadata": {
        "trusted": true
      },
      "cell_type": "code",
      "source": "# return the row 'w' by label\ndf.loc['w']",
      "execution_count": 89,
      "outputs": [
        {
          "output_type": "execute_result",
          "execution_count": 89,
          "data": {
            "text/plain": "a    12\nb    13\nName: w, dtype: int64"
          },
          "metadata": {}
        }
      ]
    },
    {
      "metadata": {
        "trusted": true
      },
      "cell_type": "code",
      "source": "# slices the Series from index label b to d\ns['b':'d']",
      "execution_count": 90,
      "outputs": [
        {
          "output_type": "execute_result",
          "execution_count": 90,
          "data": {
            "text/plain": "b    1\nc    2\nd    3\ndtype: int64"
          },
          "metadata": {}
        }
      ]
    },
    {
      "metadata": {
        "trusted": true
      },
      "cell_type": "code",
      "source": "# this explicitly slices from label b to d\ns.loc['b':'d']",
      "execution_count": 91,
      "outputs": [
        {
          "output_type": "execute_result",
          "execution_count": 91,
          "data": {
            "text/plain": "b    1\nc    2\nd    3\ndtype: int64"
          },
          "metadata": {}
        }
      ]
    },
    {
      "metadata": {
        "trusted": true
      },
      "cell_type": "code",
      "source": "# and this looks up rows by label\ns.loc[['a', 'c', 'e']]",
      "execution_count": 92,
      "outputs": [
        {
          "output_type": "execute_result",
          "execution_count": 92,
          "data": {
            "text/plain": "a    0\nc    2\ne    4\ndtype: int64"
          },
          "metadata": {}
        }
      ]
    },
    {
      "metadata": {
        "trusted": true
      },
      "cell_type": "code",
      "source": "# examine asome of the sp500 data\nsp500[:5]",
      "execution_count": 93,
      "outputs": [
        {
          "output_type": "execute_result",
          "execution_count": 93,
          "data": {
            "text/plain": "                        Sector   Price  BookValue\nSymbol                                           \nMMM                Industrials  141.14     26.668\nABT                Health Care   39.60     15.573\nABBV               Health Care   53.95      2.954\nACN     Information Technology   79.79      8.326\nACE                 Financials  102.91     86.897"
          },
          "metadata": {}
        }
      ]
    },
    {
      "metadata": {
        "trusted": true
      },
      "cell_type": "code",
      "source": "# reset the index which moves the values in the index to a column\nindex_moved_to_col = sp500.reset_index()\nindex_moved_to_col[:5]",
      "execution_count": 94,
      "outputs": [
        {
          "output_type": "execute_result",
          "execution_count": 94,
          "data": {
            "text/plain": "  Symbol                  Sector   Price  BookValue\n0    MMM             Industrials  141.14     26.668\n1    ABT             Health Care   39.60     15.573\n2   ABBV             Health Care   53.95      2.954\n3    ACN  Information Technology   79.79      8.326\n4    ACE              Financials  102.91     86.897"
          },
          "metadata": {}
        }
      ]
    },
    {
      "metadata": {
        "trusted": true
      },
      "cell_type": "code",
      "source": "# and now set the Sector column to be the index\nindex_moved_to_col.set_index('Sector')[:5]",
      "execution_count": 95,
      "outputs": [
        {
          "output_type": "execute_result",
          "execution_count": 95,
          "data": {
            "text/plain": "                       Symbol   Price  BookValue\nSector                                          \nIndustrials               MMM  141.14     26.668\nHealth Care               ABT   39.60     15.573\nHealth Care              ABBV   53.95      2.954\nInformation Technology    ACN   79.79      8.326\nFinancials                ACE  102.91     86.897"
          },
          "metadata": {}
        }
      ]
    },
    {
      "metadata": {
        "trusted": true
      },
      "cell_type": "code",
      "source": "# reindex to have MMM, ABBV, and FOO index labels\nreindexed = sp500.reindex(index=['MMM', 'ABBV', 'FOO'])\n# note that ABT and ACN are dropped and FOO has NaN values\nreindexed",
      "execution_count": 96,
      "outputs": [
        {
          "output_type": "execute_result",
          "execution_count": 96,
          "data": {
            "text/plain": "             Sector   Price  BookValue\nSymbol                                \nMMM     Industrials  141.14     26.668\nABBV    Health Care   53.95      2.954\nFOO             NaN     NaN        NaN"
          },
          "metadata": {}
        }
      ]
    },
    {
      "metadata": {
        "trusted": true
      },
      "cell_type": "code",
      "source": "# reindex columns\nsp500.reindex(columns=['Price', \n                       'Book Value', \n                       'NewCol'])[:5]",
      "execution_count": 97,
      "outputs": [
        {
          "output_type": "execute_result",
          "execution_count": 97,
          "data": {
            "text/plain": "         Price  Book Value  NewCol\nSymbol                            \nMMM     141.14         NaN     NaN\nABT      39.60         NaN     NaN\nABBV     53.95         NaN     NaN\nACN      79.79         NaN     NaN\nACE     102.91         NaN     NaN"
          },
          "metadata": {}
        }
      ]
    },
    {
      "metadata": {
        "trusted": true
      },
      "cell_type": "code",
      "source": "# first, push symbol into a column\nreindexed = sp500.reset_index()\n# and now index sp500 by sector and symbol\nmulti_fi = reindexed.set_index(['Sector', 'Symbol'])\nmulti_fi[:5]",
      "execution_count": 98,
      "outputs": [
        {
          "output_type": "execute_result",
          "execution_count": 98,
          "data": {
            "text/plain": "                                Price  BookValue\nSector                 Symbol                   \nIndustrials            MMM     141.14     26.668\nHealth Care            ABT      39.60     15.573\n                       ABBV     53.95      2.954\nInformation Technology ACN      79.79      8.326\nFinancials             ACE     102.91     86.897"
          },
          "metadata": {}
        }
      ]
    },
    {
      "metadata": {
        "trusted": true
      },
      "cell_type": "code",
      "source": "# the index is a MultiIndex\ntype(multi_fi.index)",
      "execution_count": 99,
      "outputs": [
        {
          "output_type": "execute_result",
          "execution_count": 99,
          "data": {
            "text/plain": "pandas.core.indexes.multi.MultiIndex"
          },
          "metadata": {}
        }
      ]
    },
    {
      "metadata": {
        "trusted": true
      },
      "cell_type": "code",
      "source": "# this has two levels\nlen(multi_fi.index.levels)",
      "execution_count": 100,
      "outputs": [
        {
          "output_type": "execute_result",
          "execution_count": 100,
          "data": {
            "text/plain": "2"
          },
          "metadata": {}
        }
      ]
    },
    {
      "metadata": {
        "trusted": true
      },
      "cell_type": "code",
      "source": "# each index level is an index\nmulti_fi.index.levels[0]",
      "execution_count": 101,
      "outputs": [
        {
          "output_type": "execute_result",
          "execution_count": 101,
          "data": {
            "text/plain": "Index(['Consumer Discretionary', 'Consumer Discretionary ',\n       'Consumer Staples', 'Consumer Staples ', 'Energy',\n       'Financials', 'Health Care', 'Industrials',\n       'Industries', 'Information Technology', 'Materials',\n       'Telecommunications Services', 'Utilities'],\n      dtype='object', name='Sector')"
          },
          "metadata": {}
        }
      ]
    },
    {
      "metadata": {
        "trusted": true
      },
      "cell_type": "code",
      "source": "# each index level is an index\nmulti_fi.index.levels[1]",
      "execution_count": 102,
      "outputs": [
        {
          "output_type": "execute_result",
          "execution_count": 102,
          "data": {
            "text/plain": "Index(['A', 'AA', 'AAPL', 'ABBV', 'ABC', 'ABT', 'ACE',\n       'ACN', 'ACT', 'ADBE',\n       ...\n       'XLNX', 'XOM', 'XRAY', 'XRX', 'XYL', 'YHOO', 'YUM',\n       'ZION', 'ZMH', 'ZTS'],\n      dtype='object', name='Symbol', length=500)"
          },
          "metadata": {}
        }
      ]
    },
    {
      "metadata": {
        "trusted": true
      },
      "cell_type": "code",
      "source": "# values of index level 0\nmulti_fi.index.get_level_values(0)",
      "execution_count": 103,
      "outputs": [
        {
          "output_type": "execute_result",
          "execution_count": 103,
          "data": {
            "text/plain": "Index(['Industrials', 'Health Care', 'Health Care',\n       'Information Technology', 'Financials',\n       'Health Care', 'Information Technology',\n       'Utilities', 'Health Care', 'Financials',\n       ...\n       'Utilities', 'Information Technology',\n       'Information Technology', 'Financials',\n       'Industrials', 'Information Technology',\n       'Consumer Discretionary', 'Health Care',\n       'Financials', 'Health Care'],\n      dtype='object', name='Sector', length=500)"
          },
          "metadata": {}
        }
      ]
    },
    {
      "metadata": {
        "trusted": true
      },
      "cell_type": "code",
      "source": "# get all stocks that are Industrials\n# note the result drops level 0 of the index\nmulti_fi.xs('Industrials')[:5]",
      "execution_count": 104,
      "outputs": [
        {
          "output_type": "execute_result",
          "execution_count": 104,
          "data": {
            "text/plain": "         Price  BookValue\nSymbol                   \nMMM     141.14     26.668\nALLE     52.46      0.000\nAPH      95.71     18.315\nAVY      48.20     15.616\nBA      132.41     19.870"
          },
          "metadata": {}
        }
      ]
    },
    {
      "metadata": {
        "trusted": true
      },
      "cell_type": "code",
      "source": "# select rows where level 1 (Symbol) is ALLE\n# note that the Sector level is dropped from the result\nmulti_fi.xs('ALLE', level=1)",
      "execution_count": 105,
      "outputs": [
        {
          "output_type": "execute_result",
          "execution_count": 105,
          "data": {
            "text/plain": "             Price  BookValue\nSector                       \nIndustrials  52.46        0.0"
          },
          "metadata": {}
        }
      ]
    },
    {
      "metadata": {
        "trusted": true
      },
      "cell_type": "code",
      "source": "# Industrials, without dropping the level\nmulti_fi.xs('Industrials', drop_level=False)[:5]",
      "execution_count": 106,
      "outputs": [
        {
          "output_type": "execute_result",
          "execution_count": 106,
          "data": {
            "text/plain": "                     Price  BookValue\nSector      Symbol                   \nIndustrials MMM     141.14     26.668\n            ALLE     52.46      0.000\n            APH      95.71     18.315\n            AVY      48.20     15.616\n            BA      132.41     19.870"
          },
          "metadata": {}
        }
      ]
    },
    {
      "metadata": {
        "trusted": true
      },
      "cell_type": "code",
      "source": "# drill through the levels\nmulti_fi.xs('Industrials').xs('UPS')",
      "execution_count": 107,
      "outputs": [
        {
          "output_type": "execute_result",
          "execution_count": 107,
          "data": {
            "text/plain": "Price        102.73\nBookValue      6.79\nName: UPS, dtype: float64"
          },
          "metadata": {}
        }
      ]
    },
    {
      "metadata": {
        "trusted": true
      },
      "cell_type": "code",
      "source": "# drill through using tuples\nmulti_fi.xs(('Industrials', 'UPS'))",
      "execution_count": 108,
      "outputs": [
        {
          "output_type": "execute_result",
          "execution_count": 108,
          "data": {
            "text/plain": "Price        102.73\nBookValue      6.79\nName: (Industrials, UPS), dtype: float64"
          },
          "metadata": {}
        }
      ]
    },
    {
      "metadata": {
        "trusted": true
      },
      "cell_type": "code",
      "source": "# create a categorical directly from a list.  \nlmh_values = [\"low\", \"high\", \"medium\", \"medium\", \"high\"]\nlmh_cat = pd.Categorical(lmh_values)\nlmh_cat",
      "execution_count": 111,
      "outputs": [
        {
          "output_type": "execute_result",
          "execution_count": 111,
          "data": {
            "text/plain": "[low, high, medium, medium, high]\nCategories (3, object): [high, low, medium]"
          },
          "metadata": {}
        }
      ]
    },
    {
      "metadata": {
        "trusted": true
      },
      "cell_type": "code",
      "source": "# examine the categories\nlmh_cat.categories",
      "execution_count": 112,
      "outputs": [
        {
          "output_type": "execute_result",
          "execution_count": 112,
          "data": {
            "text/plain": "Index(['high', 'low', 'medium'], dtype='object')"
          },
          "metadata": {}
        }
      ]
    },
    {
      "metadata": {
        "trusted": true
      },
      "cell_type": "code",
      "source": "# retreive the values\nlmh_cat.get_values()",
      "execution_count": 113,
      "outputs": [
        {
          "output_type": "execute_result",
          "execution_count": 113,
          "data": {
            "text/plain": "array(['low', 'high', 'medium', 'medium', 'high'], dtype=object)"
          },
          "metadata": {}
        }
      ]
    },
    {
      "metadata": {
        "trusted": true
      },
      "cell_type": "code",
      "source": "# .codes shows the integer mapping for each value of the categorical\nlmh_cat.codes",
      "execution_count": 114,
      "outputs": [
        {
          "output_type": "execute_result",
          "execution_count": 114,
          "data": {
            "text/plain": "array([1, 0, 2, 2, 0], dtype=int8)"
          },
          "metadata": {}
        }
      ]
    },
    {
      "metadata": {
        "trusted": true
      },
      "cell_type": "code",
      "source": "# create from list but explicitly state the categories\nlmh_cat = pd.Categorical(lmh_values,\n                         categories=[\"low\", \"medium\", \"high\"])\nlmh_cat",
      "execution_count": 115,
      "outputs": [
        {
          "output_type": "execute_result",
          "execution_count": 115,
          "data": {
            "text/plain": "[low, high, medium, medium, high]\nCategories (3, object): [low, medium, high]"
          },
          "metadata": {}
        }
      ]
    },
    {
      "metadata": {
        "trusted": true
      },
      "cell_type": "code",
      "source": "# the codes are...\nlmh_cat.codes",
      "execution_count": 116,
      "outputs": [
        {
          "output_type": "execute_result",
          "execution_count": 116,
          "data": {
            "text/plain": "array([0, 2, 1, 1, 2], dtype=int8)"
          },
          "metadata": {}
        }
      ]
    },
    {
      "metadata": {
        "trusted": true
      },
      "cell_type": "code",
      "source": "# sorting is done using the codes underlying each value\nlmh_cat.sort_values()",
      "execution_count": 117,
      "outputs": [
        {
          "output_type": "execute_result",
          "execution_count": 117,
          "data": {
            "text/plain": "[low, medium, medium, high, high]\nCategories (3, object): [low, medium, high]"
          },
          "metadata": {}
        }
      ]
    },
    {
      "metadata": {
        "trusted": true
      },
      "cell_type": "code",
      "source": "# create a categorical using a Series and dtype\ncat_series = pd.Series(lmh_values, dtype=\"category\")\ncat_series",
      "execution_count": 118,
      "outputs": [
        {
          "output_type": "execute_result",
          "execution_count": 118,
          "data": {
            "text/plain": "0       low\n1      high\n2    medium\n3    medium\n4      high\ndtype: category\nCategories (3, object): [high, low, medium]"
          },
          "metadata": {}
        }
      ]
    },
    {
      "metadata": {
        "trusted": true
      },
      "cell_type": "code",
      "source": "# create a categorical using .astype()\ns = pd.Series(lmh_values)\nas_cat = s.astype('category')\ncat_series",
      "execution_count": 119,
      "outputs": [
        {
          "output_type": "execute_result",
          "execution_count": 119,
          "data": {
            "text/plain": "0       low\n1      high\n2    medium\n3    medium\n4      high\ndtype: category\nCategories (3, object): [high, low, medium]"
          },
          "metadata": {}
        }
      ]
    },
    {
      "metadata": {
        "trusted": true
      },
      "cell_type": "code",
      "source": "as_cat",
      "execution_count": 121,
      "outputs": [
        {
          "output_type": "execute_result",
          "execution_count": 121,
          "data": {
            "text/plain": "0       low\n1      high\n2    medium\n3    medium\n4      high\ndtype: category\nCategories (3, object): [high, low, medium]"
          },
          "metadata": {}
        }
      ]
    },
    {
      "metadata": {
        "trusted": true
      },
      "cell_type": "code",
      "source": "# a categorical has a .cat property that lets you access info\ncat_series.cat",
      "execution_count": 122,
      "outputs": [
        {
          "output_type": "execute_result",
          "execution_count": 122,
          "data": {
            "text/plain": "<pandas.core.categorical.CategoricalAccessor object at 0x7f09a6882978>"
          },
          "metadata": {}
        }
      ]
    },
    {
      "metadata": {
        "trusted": true
      },
      "cell_type": "code",
      "source": "# get the index for the categorical\ncat_series.cat.categories",
      "execution_count": 123,
      "outputs": [
        {
          "output_type": "execute_result",
          "execution_count": 123,
          "data": {
            "text/plain": "Index(['high', 'low', 'medium'], dtype='object')"
          },
          "metadata": {}
        }
      ]
    },
    {
      "metadata": {
        "trusted": true
      },
      "cell_type": "code",
      "source": "# create a DataFrame of 100 values\nnp.random.seed(123456)\nvalues = np.random.randint(0, 100, 5)\nbins = pd.DataFrame({ \"Values\": values})\nbins",
      "execution_count": 124,
      "outputs": [
        {
          "output_type": "execute_result",
          "execution_count": 124,
          "data": {
            "text/plain": "   Values\n0      65\n1      49\n2      56\n3      43\n4      43"
          },
          "metadata": {}
        }
      ]
    },
    {
      "metadata": {
        "trusted": true
      },
      "cell_type": "code",
      "source": "# cut the values into \nbins['Group'] = pd.cut(values, range(0, 101, 10))\nbins",
      "execution_count": 125,
      "outputs": [
        {
          "output_type": "execute_result",
          "execution_count": 125,
          "data": {
            "text/plain": "   Values     Group\n0      65  (60, 70]\n1      49  (40, 50]\n2      56  (50, 60]\n3      43  (40, 50]\n4      43  (40, 50]"
          },
          "metadata": {}
        }
      ]
    },
    {
      "metadata": {
        "trusted": true
      },
      "cell_type": "code",
      "source": "# examine the categorical that was created\nbins.Group",
      "execution_count": 126,
      "outputs": [
        {
          "output_type": "execute_result",
          "execution_count": 126,
          "data": {
            "text/plain": "0    (60, 70]\n1    (40, 50]\n2    (50, 60]\n3    (40, 50]\n4    (40, 50]\nName: Group, dtype: category\nCategories (10, interval[int64]): [(0, 10] < (10, 20] < (20, 30] < (30, 40] ... (60, 70] < (70, 80] < (80, 90] < (90, 100]]"
          },
          "metadata": {}
        }
      ]
    },
    {
      "metadata": {
        "trusted": true
      },
      "cell_type": "code",
      "source": "# create an ordered categorical of precious metals\n# order is important for determining relative value\nmetal_values = [\"bronze\", \"gold\", \"silver\", \"bronze\"]\nmetal_categories = [\"bronze\", \"silver\", \"gold\"]\nmetals = pd.Categorical(metal_values,\n                        categories=metal_categories,\n                        ordered = True)\nmetals",
      "execution_count": 127,
      "outputs": [
        {
          "output_type": "execute_result",
          "execution_count": 127,
          "data": {
            "text/plain": "[bronze, gold, silver, bronze]\nCategories (3, object): [bronze < silver < gold]"
          },
          "metadata": {}
        }
      ]
    },
    {
      "metadata": {
        "trusted": true
      },
      "cell_type": "code",
      "source": "# reverse the metals\nmetals_reversed_values = pd.Categorical(\n    metals.get_values()[::-1],\n    categories = metals.categories, \n    ordered=True)\nmetals_reversed_values",
      "execution_count": 128,
      "outputs": [
        {
          "output_type": "execute_result",
          "execution_count": 128,
          "data": {
            "text/plain": "[bronze, silver, gold, bronze]\nCategories (3, object): [bronze < silver < gold]"
          },
          "metadata": {}
        }
      ]
    },
    {
      "metadata": {
        "trusted": true
      },
      "cell_type": "code",
      "source": "# compare the two categoricals\nmetals <= metals_reversed_values",
      "execution_count": 129,
      "outputs": [
        {
          "output_type": "execute_result",
          "execution_count": 129,
          "data": {
            "text/plain": "array([ True, False,  True,  True])"
          },
          "metadata": {}
        }
      ]
    },
    {
      "metadata": {
        "trusted": true
      },
      "cell_type": "code",
      "source": "# codes are the integer value assocaited with each item\nmetals.codes",
      "execution_count": 130,
      "outputs": [
        {
          "output_type": "execute_result",
          "execution_count": 130,
          "data": {
            "text/plain": "array([0, 2, 1, 0], dtype=int8)"
          },
          "metadata": {}
        }
      ]
    },
    {
      "metadata": {
        "trusted": true
      },
      "cell_type": "code",
      "source": "# and for metals2\nmetals_reversed_values.codes",
      "execution_count": 131,
      "outputs": [
        {
          "output_type": "execute_result",
          "execution_count": 131,
          "data": {
            "text/plain": "array([0, 1, 2, 0], dtype=int8)"
          },
          "metadata": {}
        }
      ]
    },
    {
      "metadata": {
        "trusted": true
      },
      "cell_type": "code",
      "source": "# creating a categorical with a non existent category\npd.Categorical([\"bronze\", \"copper\"],\n               categories=metal_categories)",
      "execution_count": 132,
      "outputs": [
        {
          "output_type": "execute_result",
          "execution_count": 132,
          "data": {
            "text/plain": "[bronze, NaN]\nCategories (3, object): [bronze, silver, gold]"
          },
          "metadata": {}
        }
      ]
    },
    {
      "metadata": {
        "trusted": true
      },
      "cell_type": "code",
      "source": "# create a categorical with 3 categories\ncat = pd.Categorical([\"a\",\"b\",\"c\",\"a\"], \n                     categories=[\"a\", \"b\", \"c\"])\ncat",
      "execution_count": 133,
      "outputs": [
        {
          "output_type": "execute_result",
          "execution_count": 133,
          "data": {
            "text/plain": "[a, b, c, a]\nCategories (3, object): [a, b, c]"
          },
          "metadata": {}
        }
      ]
    },
    {
      "metadata": {
        "trusted": true
      },
      "cell_type": "code",
      "source": "# renames the categories (and also the values)\ncat.categories = [\"bronze\", \"silver\", \"gold\"]\ncat",
      "execution_count": 134,
      "outputs": [
        {
          "output_type": "execute_result",
          "execution_count": 134,
          "data": {
            "text/plain": "[bronze, silver, gold, bronze]\nCategories (3, object): [bronze, silver, gold]"
          },
          "metadata": {}
        }
      ]
    },
    {
      "metadata": {
        "trusted": true
      },
      "cell_type": "code",
      "source": "# this also renames \ncat.rename_categories([\"x\", \"y\", \"z\"])",
      "execution_count": 135,
      "outputs": [
        {
          "output_type": "execute_result",
          "execution_count": 135,
          "data": {
            "text/plain": "[x, y, z, x]\nCategories (3, object): [x, y, z]"
          },
          "metadata": {}
        }
      ]
    },
    {
      "metadata": {
        "trusted": true
      },
      "cell_type": "code",
      "source": "# the rename is not done in-place\ncat",
      "execution_count": 136,
      "outputs": [
        {
          "output_type": "execute_result",
          "execution_count": 136,
          "data": {
            "text/plain": "[bronze, silver, gold, bronze]\nCategories (3, object): [bronze, silver, gold]"
          },
          "metadata": {}
        }
      ]
    },
    {
      "metadata": {
        "trusted": true
      },
      "cell_type": "code",
      "source": "# add a new platimnum category\nwith_platinum = metals.add_categories([\"platinum\"])\nwith_platinum",
      "execution_count": 137,
      "outputs": [
        {
          "output_type": "execute_result",
          "execution_count": 137,
          "data": {
            "text/plain": "[bronze, gold, silver, bronze]\nCategories (4, object): [bronze < silver < gold < platinum]"
          },
          "metadata": {}
        }
      ]
    },
    {
      "metadata": {
        "trusted": true
      },
      "cell_type": "code",
      "source": "# remove bronze category\nno_bronze = metals.remove_categories([\"bronze\"])\nno_bronze",
      "execution_count": 138,
      "outputs": [
        {
          "output_type": "execute_result",
          "execution_count": 138,
          "data": {
            "text/plain": "[NaN, gold, silver, NaN]\nCategories (2, object): [silver < gold]"
          },
          "metadata": {}
        }
      ]
    },
    {
      "metadata": {
        "trusted": true
      },
      "cell_type": "code",
      "source": "# remove any unused categories (in this case, platinum)\nwith_platinum.remove_unused_categories()",
      "execution_count": 139,
      "outputs": [
        {
          "output_type": "execute_result",
          "execution_count": 139,
          "data": {
            "text/plain": "[bronze, gold, silver, bronze]\nCategories (3, object): [bronze < silver < gold]"
          },
          "metadata": {}
        }
      ]
    },
    {
      "metadata": {
        "trusted": true
      },
      "cell_type": "code",
      "source": "# sample Series\ns = pd.Series([\"one\",\"two\",\"four\", \"five\"], dtype=\"category\")\ns",
      "execution_count": 140,
      "outputs": [
        {
          "output_type": "execute_result",
          "execution_count": 140,
          "data": {
            "text/plain": "0     one\n1     two\n2    four\n3    five\ndtype: category\nCategories (4, object): [five, four, one, two]"
          },
          "metadata": {}
        }
      ]
    },
    {
      "metadata": {
        "trusted": true
      },
      "cell_type": "code",
      "source": "# remove the \"two\", \"three\" and \"five\" categories (replaced with NaN)\ns = s.cat.set_categories([\"one\",\"four\"])\ns",
      "execution_count": 141,
      "outputs": [
        {
          "output_type": "execute_result",
          "execution_count": 141,
          "data": {
            "text/plain": "0     one\n1     NaN\n2    four\n3     NaN\ndtype: category\nCategories (2, object): [one, four]"
          },
          "metadata": {}
        }
      ]
    },
    {
      "metadata": {
        "trusted": true
      },
      "cell_type": "code",
      "source": "# get descriptive info on the metals categorical\nmetals.describe()",
      "execution_count": 142,
      "outputs": [
        {
          "output_type": "execute_result",
          "execution_count": 142,
          "data": {
            "text/plain": "            counts  freqs\ncategories               \nbronze           2   0.50\nsilver           1   0.25\ngold             1   0.25"
          },
          "metadata": {}
        }
      ]
    },
    {
      "metadata": {
        "trusted": true
      },
      "cell_type": "code",
      "source": "# count the values in the categorical\nmetals.value_counts()",
      "execution_count": 143,
      "outputs": [
        {
          "output_type": "execute_result",
          "execution_count": 143,
          "data": {
            "text/plain": "bronze    2\nsilver    1\ngold      1\ndtype: int64"
          },
          "metadata": {}
        }
      ]
    },
    {
      "metadata": {
        "trusted": true
      },
      "cell_type": "code",
      "source": "# 10 students with random grades\nnp.random.seed(123456)\nnames = ['Ivana', 'Norris', 'Ruth', 'Lane', 'Skye', 'Sol', \n         'Dylan', 'Katina', 'Alissa', \"Marc\"]\ngrades = np.random.randint(50, 101, len(names))\nscores = pd.DataFrame({'Name': names, 'Grade': grades})\nscores",
      "execution_count": 144,
      "outputs": [
        {
          "output_type": "execute_result",
          "execution_count": 144,
          "data": {
            "text/plain": "   Grade    Name\n0     51   Ivana\n1     92  Norris\n2    100    Ruth\n3     99    Lane\n4     93    Skye\n5     97     Sol\n6     93   Dylan\n7     77  Katina\n8     82  Alissa\n9     73    Marc"
          },
          "metadata": {}
        }
      ]
    },
    {
      "metadata": {
        "trusted": true
      },
      "cell_type": "code",
      "source": "# bins and their mappings to letter grades\nscore_bins =    [ 0,  59,   62,  66,   69,   72,  76,   79,   82,  \n                 86,   89,   92,  99, 100]\nletter_grades = ['F', 'D-', 'D', 'D+', 'C-', 'C', 'C+', 'B-', 'B', \n                 'B+', 'A-', 'A', 'A+']",
      "execution_count": 145,
      "outputs": []
    },
    {
      "metadata": {
        "trusted": true
      },
      "cell_type": "code",
      "source": "# cut based upon the bins and assign the letter grade\nletter_cats = pd.cut(scores.Grade, score_bins, labels=letter_grades)\nscores['Letter'] = letter_cats\nscores",
      "execution_count": 146,
      "outputs": [
        {
          "output_type": "execute_result",
          "execution_count": 146,
          "data": {
            "text/plain": "   Grade    Name Letter\n0     51   Ivana      F\n1     92  Norris     A-\n2    100    Ruth     A+\n3     99    Lane      A\n4     93    Skye      A\n5     97     Sol      A\n6     93   Dylan      A\n7     77  Katina     C+\n8     82  Alissa     B-\n9     73    Marc      C"
          },
          "metadata": {}
        }
      ]
    },
    {
      "metadata": {
        "trusted": true
      },
      "cell_type": "code",
      "source": "# examine the underlying categorical\nletter_cats",
      "execution_count": 147,
      "outputs": [
        {
          "output_type": "execute_result",
          "execution_count": 147,
          "data": {
            "text/plain": "0     F\n1    A-\n2    A+\n3     A\n4     A\n5     A\n6     A\n7    C+\n8    B-\n9     C\nName: Grade, dtype: category\nCategories (13, object): [F < D- < D < D+ ... B+ < A- < A < A+]"
          },
          "metadata": {}
        }
      ]
    },
    {
      "metadata": {
        "trusted": true
      },
      "cell_type": "code",
      "source": "# how many of each grade occurred?\nscores.Letter.value_counts()",
      "execution_count": 148,
      "outputs": [
        {
          "output_type": "execute_result",
          "execution_count": 148,
          "data": {
            "text/plain": "A     4\nA+    1\nA-    1\nB-    1\nC+    1\n     ..\nB     0\nC-    0\nD+    0\nD     0\nD-    0\nName: Letter, Length: 13, dtype: int64"
          },
          "metadata": {}
        }
      ]
    },
    {
      "metadata": {
        "trusted": true
      },
      "cell_type": "code",
      "source": "# and sort by letter grade instead of numeric grade\nscores.sort_values(by=['Letter'], ascending=False)",
      "execution_count": 149,
      "outputs": [
        {
          "output_type": "execute_result",
          "execution_count": 149,
          "data": {
            "text/plain": "   Grade    Name Letter\n2    100    Ruth     A+\n6     93   Dylan      A\n5     97     Sol      A\n4     93    Skye      A\n3     99    Lane      A\n1     92  Norris     A-\n8     82  Alissa     B-\n7     77  Katina     C+\n9     73    Marc      C\n0     51   Ivana      F"
          },
          "metadata": {}
        }
      ]
    },
    {
      "metadata": {
        "trusted": true
      },
      "cell_type": "code",
      "source": "",
      "execution_count": null,
      "outputs": []
    }
  ],
  "metadata": {
    "kernelspec": {
      "name": "python36",
      "display_name": "Python 3.6",
      "language": "python"
    },
    "language_info": {
      "mimetype": "text/x-python",
      "nbconvert_exporter": "python",
      "name": "python",
      "pygments_lexer": "ipython3",
      "version": "3.6.6",
      "file_extension": ".py",
      "codemirror_mode": {
        "version": 3,
        "name": "ipython"
      }
    }
  },
  "nbformat": 4,
  "nbformat_minor": 2
}