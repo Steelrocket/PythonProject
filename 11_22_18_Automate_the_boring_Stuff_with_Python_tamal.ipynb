{
  "cells": [
    {
      "metadata": {
        "trusted": true
      },
      "cell_type": "code",
      "source": "2+2\n",
      "execution_count": null,
      "outputs": []
    },
    {
      "metadata": {
        "trusted": true
      },
      "cell_type": "code",
      "source": "(2+4)/3",
      "execution_count": null,
      "outputs": []
    },
    {
      "metadata": {
        "trusted": true
      },
      "cell_type": "code",
      "source": "600^3",
      "execution_count": null,
      "outputs": []
    },
    {
      "metadata": {
        "trusted": true
      },
      "cell_type": "code",
      "source": "(5-1)*((7+1)/(3-1))\n",
      "execution_count": null,
      "outputs": []
    },
    {
      "metadata": {
        "trusted": true
      },
      "cell_type": "code",
      "source": "50%5",
      "execution_count": null,
      "outputs": []
    },
    {
      "metadata": {
        "trusted": true
      },
      "cell_type": "code",
      "source": " def multiply (a,b):\n        return a*b\nprint(multiply(6,5))\nprint(\"because math is easy\")",
      "execution_count": null,
      "outputs": []
    },
    {
      "metadata": {
        "trusted": true
      },
      "cell_type": "code",
      "source": " # This program says hello and asks for my name.\nprint('Hello world!')\nprint('What is your name?') # ask for their name\nmyName = input()\nprint('It is good to meet you, ' + myName)\nprint('The length of your name is:')\nprint(len(myName))\nprint('What is your age?') # ask for their age\nmyAge = input()\nprint('You will be ' + str(int(myAge) + 1) + ' in a year.')",
      "execution_count": null,
      "outputs": []
    },
    {
      "metadata": {
        "trusted": true
      },
      "cell_type": "code",
      "source": "str(29)\nprint('I am ' + str(29) + ' years old.')\n",
      "execution_count": null,
      "outputs": []
    },
    {
      "metadata": {
        "trusted": true
      },
      "cell_type": "code",
      "source": "while True:\n    print('Please type your name.')\n    name = input()\n    if name == 'your name':\n        break\nprint('Thank you!')",
      "execution_count": 2,
      "outputs": [
        {
          "output_type": "stream",
          "text": "Please type your name.\ntamal\nPlease type your name.\ntamal\nPlease type your name.\nno\nPlease type your name.\nyour name\nThank you!\n",
          "name": "stdout"
        }
      ]
    },
    {
      "metadata": {
        "trusted": true
      },
      "cell_type": "code",
      "source": "while True:\n    print('Who are you?')\n    name = input()\n    if name != 'Joe':\n        continue\n    print('Hello, Joe. What is the password? (It is a fish.)')\n    password = input()\n    if password == 'swordfish':\n        break\nprint('Access granted.') ",
      "execution_count": 3,
      "outputs": [
        {
          "output_type": "stream",
          "text": "Who are you?\nno\nWho are you?\njoe\nWho are you?\nJoe\nHello, Joe. What is the password? (It is a fish.)\nfish\nWho are you?\nJoe\nHello, Joe. What is the password? (It is a fish.)\nswordfish\nAccess granted.\n",
          "name": "stdout"
        }
      ]
    },
    {
      "metadata": {
        "trusted": true
      },
      "cell_type": "code",
      "source": "name = ''\nwhile not name:\n print('Enter your name:')\n name = input()\nprint('How many guests will you have?')\nxxx = int(input())\nif xxx:\n print('Be sure to have enough room for all your guests.')\nprint('Done')",
      "execution_count": 8,
      "outputs": [
        {
          "output_type": "stream",
          "text": "Enter your name:\nf\nHow many guests will you have?\n4\nBe sure to have enough room for all your guests.\nDone\n",
          "name": "stdout"
        }
      ]
    },
    {
      "metadata": {
        "trusted": true
      },
      "cell_type": "code",
      "source": "print('My name is')\nfor i in range(5):\n print(f\"Jimmy Five Times {str(i+1)}\")",
      "execution_count": 26,
      "outputs": [
        {
          "output_type": "stream",
          "text": "My name is\nJimmy Five Times 1\nJimmy Five Times 2\nJimmy Five Times 3\nJimmy Five Times 4\nJimmy Five Times 5\n",
          "name": "stdout"
        }
      ]
    },
    {
      "metadata": {
        "trusted": true
      },
      "cell_type": "code",
      "source": "'ab'+ str(2)\n",
      "execution_count": 13,
      "outputs": [
        {
          "output_type": "execute_result",
          "execution_count": 13,
          "data": {
            "text/plain": "'ab2'"
          },
          "metadata": {}
        }
      ]
    },
    {
      "metadata": {
        "trusted": true
      },
      "cell_type": "code",
      "source": "import sys\nwhile True:\n    print('Type exit to exit.')\n    response = input()\n    if response == 'exit':\n        sys.exit()\n    print('You typed ' + response + '.')",
      "execution_count": 18,
      "outputs": [
        {
          "output_type": "stream",
          "text": "Type exit to exit.\nexit\n",
          "name": "stdout"
        },
        {
          "output_type": "error",
          "ename": "SystemExit",
          "evalue": "",
          "traceback": [
            "An exception has occurred, use %tb to see the full traceback.\n",
            "\u001b[0;31mSystemExit\u001b[0m\n"
          ]
        }
      ]
    },
    {
      "metadata": {
        "trusted": true
      },
      "cell_type": "code",
      "source": " import random\n    \ndef getAnswer(answerNumber):\n    if answerNumber == 1:\n        return 'It is certain'\n    elif answerNumber == 2:\n        return 'It is decidedly so'\n    elif answerNumber == 3:\n        return 'Yes'\n    elif answerNumber == 4:\n        return 'Reply hazy try again'\n    elif answerNumber == 5:\n        return 'Ask again later'\n    elif answerNumber == 6:\n        return 'Concentrate and ask again'\n    elif answerNumber == 7:\n        return 'My reply is no'\n    elif answerNumber == 8:\n        return 'Outlook not so good'\n    elif answerNumber == 9:\n        return 'Very doubtful'\nr = random.randint(1, 9)\nfortune = getAnswer(r)\nprint(fortune)",
      "execution_count": 30,
      "outputs": [
        {
          "output_type": "stream",
          "text": "It is decidedly so\n",
          "name": "stdout"
        }
      ]
    },
    {
      "metadata": {
        "trusted": true
      },
      "cell_type": "code",
      "source": "def spam():\n    global eggs\n    eggs = 'spam' # this is the global\ndef bacon():\n    eggs = 'bacon' # this is a local\ndef ham():\n    print(eggs) # this is the global\n\neggs = 42 # this is the global\nspam()\nprint(eggs)",
      "execution_count": 31,
      "outputs": [
        {
          "output_type": "stream",
          "text": "spam\n",
          "name": "stdout"
        }
      ]
    },
    {
      "metadata": {
        "trusted": true
      },
      "cell_type": "code",
      "source": "# This is a guess the number game.\nimport random\n\nguessesTaken = 0\n\nprint('Hello! What is your name?')\nmyName = input()\n\nnumber = random.randint(1, 20)\nprint('Well, ' + myName + ', I am thinking of a number between 1 and 20.')\n\nwhile guessesTaken < 6:\n    print('Take a guess.') # There are four spaces in front of print.\n    guess = input()\n    guess = int(guess)\n\n    guessesTaken = guessesTaken + 1\n\n    if guess < number:\n        print('Your guess is too low.') # There are eight spaces in front of print.\n\n    if guess > number:\n        print('Your guess is too high.')\n\n    if guess == number:\n        break\n\nif guess == number:\n    guessesTaken = str(guessesTaken)\n    print('Good job, ' + myName + '! You guessed my number in ' + guessesTaken + ' guesses!')\n\nif guess != number:\n    number = str(number)\n    print('Nope. The number I was thinking of was ' + number)",
      "execution_count": 37,
      "outputs": [
        {
          "output_type": "stream",
          "text": "Hello! What is your name?\no\nWell, o, I am thinking of a number between 1 and 20.\nTake a guess.\n0\nYour guess is too low.\nTake a guess.\n0\nYour guess is too low.\nTake a guess.\n0\nYour guess is too low.\nTake a guess.\n0\nYour guess is too low.\nTake a guess.\n0\nYour guess is too low.\nTake a guess.\n0\nYour guess is too low.\nNope. The number I was thinking of was 16\n",
          "name": "stdout"
        }
      ]
    },
    {
      "metadata": {
        "trusted": true
      },
      "cell_type": "code",
      "source": "\"\"\"A Collatz Sequence Program.\"\"\"\n\n# Version with extended functionality\ndef collatz(number):\n    \"\"\"Collatz the number and print each step and tracks the number of them.\"\"\"\n    if number > 1:\n        steps = 0\n        while number != 1:\n            if number % 2 == 0:\n                print(int(number / 2))\n                number = number / 2\n                steps += 1\n            else:\n                print(int(number * 3 + 1))\n                number = number * 3 + 1\n                steps += 1\n        print('Collatz sequence finished in ' + str(steps) + ' steps')\n    else:\n        print(\"You entered 1. You clearly can't read\"\n              \"so I'm shutting down before I catch your idiocy.\")\n\n\ntry:\n    collatz(int(input('Choose any integer greater than 1: ')))\nexcept ValueError:\n    print('Non-Integer entered, program will exit')",
      "execution_count": 40,
      "outputs": [
        {
          "output_type": "stream",
          "name": "stdout",
          "text": "Choose any integer greater than 1: 7\n22\n11\n34\n17\n52\n26\n13\n40\n20\n10\n5\n16\n8\n4\n2\n1\nCollatz sequence finished in 16 steps\n"
        }
      ]
    },
    {
      "metadata": {
        "trusted": true
      },
      "cell_type": "code",
      "source": "# Recursion-based version\ndef collatz(number):\n    \"\"\"Collatzs the input number recu\n    rsively until it reaches 1.\"\"\"\n    if number == 1:\n        print('Collatz Complete. Amazing isn\\'t it!')\n    elif number % 2 == 0:\n        print(int(number / 2))\n        collatz(number / 2)\n    else:\n        print(int(number * 3 + 1))\n        collatz(number * 3 + 1)\n\n\ntry:\n    collatz(int(input('Choose any integer greater than 1: ')))\nexcept ValueError:\n    print('Non-Integer entered, program will exit')",
      "execution_count": 50,
      "outputs": [
        {
          "output_type": "stream",
          "name": "stdout",
          "text": "Choose any integer greater than 1: 31\n94\n47\n142\n71\n214\n107\n322\n161\n484\n242\n121\n364\n182\n91\n274\n137\n412\n206\n103\n310\n155\n466\n233\n700\n350\n175\n526\n263\n790\n395\n1186\n593\n1780\n890\n445\n1336\n668\n334\n167\n502\n251\n754\n377\n1132\n566\n283\n850\n425\n1276\n638\n319\n958\n479\n1438\n719\n2158\n1079\n3238\n1619\n4858\n2429\n7288\n3644\n1822\n911\n2734\n1367\n4102\n2051\n6154\n3077\n9232\n4616\n2308\n1154\n577\n1732\n866\n433\n1300\n650\n325\n976\n488\n244\n122\n61\n184\n92\n46\n23\n70\n35\n106\n53\n160\n80\n40\n20\n10\n5\n16\n8\n4\n2\n1\nCollatz Complete. Amazing isn't it!\n"
        }
      ]
    },
    {
      "metadata": {
        "trusted": true
      },
      "cell_type": "code",
      "source": "spam='hello'\nprint(f\"so you said {spam}\")",
      "execution_count": 51,
      "outputs": [
        {
          "output_type": "stream",
          "text": "so you said hello\n",
          "name": "stdout"
        }
      ]
    },
    {
      "metadata": {
        "trusted": true
      },
      "cell_type": "code",
      "source": "catNames = []\nwhile True:\n    print(f'Enter the name of cat {str(len(catNames) + 1)} (Or enter nothing to stop.):')\n    name = input()\n    if name == '':\n        break\n    catNames = catNames + [name] # list concatenation\nprint('The cat names are:')\nfor name in catNames:\n    print(name)",
      "execution_count": 59,
      "outputs": [
        {
          "output_type": "stream",
          "text": "Enter the name of cat 1 (Or enter nothing to stop.):\nj\nEnter the name of cat 2 (Or enter nothing to stop.):\nk\nEnter the name of cat 3 (Or enter nothing to stop.):\nl\nEnter the name of cat 4 (Or enter nothing to stop.):\n\nThe cat names are:\nj\nk\nl\n",
          "name": "stdout"
        }
      ]
    },
    {
      "metadata": {
        "trusted": true
      },
      "cell_type": "code",
      "source": "x= ['f','g','h']\ny=['v','b','n']\nx+y",
      "execution_count": 56,
      "outputs": [
        {
          "output_type": "execute_result",
          "execution_count": 56,
          "data": {
            "text/plain": "['f', 'g', 'h', 'v', 'b', 'n']"
          },
          "metadata": {}
        }
      ]
    },
    {
      "metadata": {
        "trusted": true
      },
      "cell_type": "code",
      "source": "x+ ['o']",
      "execution_count": 57,
      "outputs": [
        {
          "output_type": "execute_result",
          "execution_count": 57,
          "data": {
            "text/plain": "['f', 'g', 'h', 'o']"
          },
          "metadata": {}
        }
      ]
    },
    {
      "metadata": {
        "trusted": true
      },
      "cell_type": "code",
      "source": "x+2*y",
      "execution_count": 58,
      "outputs": [
        {
          "output_type": "execute_result",
          "execution_count": 58,
          "data": {
            "text/plain": "['f', 'g', 'h', 'v', 'b', 'n', 'v', 'b', 'n']"
          },
          "metadata": {}
        }
      ]
    },
    {
      "metadata": {
        "trusted": true
      },
      "cell_type": "code",
      "source": "import random\nmessages = ['It is certain',\n 'It is decidedly so',\n 'Yes definitely',\n 'Reply hazy try again',\n 'Ask again later',\n 'Concentrate and ask again',\n 'My reply is no',\n 'Outlook not so good',\n 'Very doubtful']\nprint(messages[random.randint(0, len(messages) - 1)])",
      "execution_count": 60,
      "outputs": [
        {
          "output_type": "stream",
          "text": "Very doubtful\n",
          "name": "stdout"
        }
      ]
    },
    {
      "metadata": {
        "trusted": true
      },
      "cell_type": "code",
      "source": "",
      "execution_count": null,
      "outputs": []
    }
  ],
  "metadata": {
    "kernelspec": {
      "name": "python36",
      "display_name": "Python 3.6",
      "language": "python"
    }
  },
  "nbformat": 4,
  "nbformat_minor": 2
}