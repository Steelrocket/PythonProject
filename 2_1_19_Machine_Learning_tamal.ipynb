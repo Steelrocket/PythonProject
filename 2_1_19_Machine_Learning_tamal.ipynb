{
  "cells": [
    {
      "metadata": {
        "trusted": true,
        "scrolled": true
      },
      "cell_type": "code",
      "source": "# Run this program on your local python \n# interpreter, provided you have installed \n# the required libraries. \n  \n# Importing the required packages \nimport numpy as np \nimport pandas as pd \nfrom sklearn.metrics import confusion_matrix \nfrom sklearn.cross_validation import train_test_split \nfrom sklearn.tree import DecisionTreeClassifier \nfrom sklearn.metrics import accuracy_score \nfrom sklearn.metrics import classification_report \n# ------ Load iris -----------\niris = pd.read_csv(\"Iris.csv\") #load the dataset\nprint(iris[0:2])\n",
      "execution_count": 48,
      "outputs": [
        {
          "output_type": "stream",
          "text": "   Id  SepalLengthCm  SepalWidthCm  PetalLengthCm  PetalWidthCm      Species\n0   1            5.1           3.5            1.4           0.2  Iris-setosa\n1   2            4.9           3.0            1.4           0.2  Iris-setosa\n",
          "name": "stdout"
        },
        {
          "output_type": "stream",
          "text": "/home/nbuser/anaconda3_501/lib/python3.6/site-packages/sklearn/cross_validation.py:41: DeprecationWarning: This module was deprecated in version 0.18 in favor of the model_selection module into which all the refactored classes and functions are moved. Also note that the interface of the new CV iterators are different from that of this module. This module will be removed in 0.20.\n  \"This module will be removed in 0.20.\", DeprecationWarning)\n",
          "name": "stderr"
        }
      ]
    },
    {
      "metadata": {
        "trusted": true
      },
      "cell_type": "code",
      "source": "iris.head()",
      "execution_count": 14,
      "outputs": [
        {
          "output_type": "execute_result",
          "execution_count": 14,
          "data": {
            "text/html": "<div>\n<style scoped>\n    .dataframe tbody tr th:only-of-type {\n        vertical-align: middle;\n    }\n\n    .dataframe tbody tr th {\n        vertical-align: top;\n    }\n\n    .dataframe thead th {\n        text-align: right;\n    }\n</style>\n<table border=\"1\" class=\"dataframe\">\n  <thead>\n    <tr style=\"text-align: right;\">\n      <th></th>\n      <th>Id</th>\n      <th>SepalLengthCm</th>\n      <th>SepalWidthCm</th>\n      <th>PetalLengthCm</th>\n      <th>PetalWidthCm</th>\n      <th>Species</th>\n    </tr>\n  </thead>\n  <tbody>\n    <tr>\n      <th>0</th>\n      <td>1</td>\n      <td>5.1</td>\n      <td>3.5</td>\n      <td>1.4</td>\n      <td>0.2</td>\n      <td>Iris-setosa</td>\n    </tr>\n    <tr>\n      <th>1</th>\n      <td>2</td>\n      <td>4.9</td>\n      <td>3.0</td>\n      <td>1.4</td>\n      <td>0.2</td>\n      <td>Iris-setosa</td>\n    </tr>\n    <tr>\n      <th>2</th>\n      <td>3</td>\n      <td>4.7</td>\n      <td>3.2</td>\n      <td>1.3</td>\n      <td>0.2</td>\n      <td>Iris-setosa</td>\n    </tr>\n    <tr>\n      <th>3</th>\n      <td>4</td>\n      <td>4.6</td>\n      <td>3.1</td>\n      <td>1.5</td>\n      <td>0.2</td>\n      <td>Iris-setosa</td>\n    </tr>\n    <tr>\n      <th>4</th>\n      <td>5</td>\n      <td>5.0</td>\n      <td>3.6</td>\n      <td>1.4</td>\n      <td>0.2</td>\n      <td>Iris-setosa</td>\n    </tr>\n  </tbody>\n</table>\n</div>",
            "text/plain": "   Id  SepalLengthCm  SepalWidthCm  PetalLengthCm  PetalWidthCm      Species\n0   1            5.1           3.5            1.4           0.2  Iris-setosa\n1   2            4.9           3.0            1.4           0.2  Iris-setosa\n2   3            4.7           3.2            1.3           0.2  Iris-setosa\n3   4            4.6           3.1            1.5           0.2  Iris-setosa\n4   5            5.0           3.6            1.4           0.2  Iris-setosa"
          },
          "metadata": {}
        }
      ]
    },
    {
      "metadata": {
        "trusted": true
      },
      "cell_type": "code",
      "source": "x = iris.iloc[:,1:5] # ignore first column which is row Id\n\ny = iris.iloc[:,5:6] # Classification on the 'Species'\nprint (x.head())\n",
      "execution_count": 49,
      "outputs": [
        {
          "output_type": "stream",
          "text": "   SepalLengthCm  SepalWidthCm  PetalLengthCm  PetalWidthCm\n0            5.1           3.5            1.4           0.2\n1            4.9           3.0            1.4           0.2\n2            4.7           3.2            1.3           0.2\n3            4.6           3.1            1.5           0.2\n4            5.0           3.6            1.4           0.2\n",
          "name": "stdout"
        }
      ]
    },
    {
      "metadata": {
        "trusted": true
      },
      "cell_type": "code",
      "source": "print (y.head())",
      "execution_count": 50,
      "outputs": [
        {
          "output_type": "stream",
          "text": "       Species\n0  Iris-setosa\n1  Iris-setosa\n2  Iris-setosa\n3  Iris-setosa\n4  Iris-setosa\n",
          "name": "stdout"
        }
      ]
    },
    {
      "metadata": {
        "trusted": true
      },
      "cell_type": "code",
      "source": "# Function to split the dataset \ndef splitdataset(balance_data): \n  \n    # Seperating the target variable \n    x = iris.iloc[:,1:5] # ignore first column which is row Id\n    y = iris.iloc[:,5:6] # Classification on the 'Species'\n  \n    # Spliting the dataset into train and test \n    x_train, x_test, y_train, y_test = train_test_split(  \n    x, y, test_size = 0.3, random_state = 100) \n      \n    return x, y, x_train, x_test, y_train, y_test ",
      "execution_count": 51,
      "outputs": []
    },
    {
      "metadata": {
        "trusted": true
      },
      "cell_type": "code",
      "source": "# Function to perform training with giniIndex. \ndef train_using_gini(x_train, x_test, y_train): \n  \n    # Creating the classifier object \n    clf_gini = DecisionTreeClassifier(criterion = \"gini\", \n            random_state = 100,max_depth=3, min_samples_leaf=5) \n  \n    # Performing training \n    clf_gini.fit(x_train, y_train) \n    return clf_gini ",
      "execution_count": 52,
      "outputs": []
    },
    {
      "metadata": {
        "trusted": true
      },
      "cell_type": "code",
      "source": "# Function to perform training with entropy. \ndef train_using_entropy(x_train, x_test, y_train): \n  \n    # Decision tree with entropy \n    clf_entropy = DecisionTreeClassifier( \n            criterion = \"entropy\", random_state = 100, \n            max_depth = 3, min_samples_leaf = 5) \n  \n    # Performing training \n    clf_entropy.fit(x_train, y_train) \n    return clf_entropy ",
      "execution_count": 53,
      "outputs": []
    },
    {
      "metadata": {
        "trusted": true
      },
      "cell_type": "code",
      "source": "# Function to make predictions \ndef prediction(x_test, clf_object): \n  \n    # Predicton on test with giniIndex \n    y_pred = clf_object.predict(x_test) \n    print(\"Predicted values:\") \n    print(y_pred) \n    return y_pred ",
      "execution_count": 54,
      "outputs": []
    },
    {
      "metadata": {
        "trusted": true
      },
      "cell_type": "code",
      "source": "# Function to calculate accuracy \ndef cal_accuracy(y_test, y_pred): \n      \n    print(\"Confusion Matrix: \", \n        confusion_matrix(y_test, y_pred)) \n      \n    print (\"Accuracy : \", \n    accuracy_score(y_test,y_pred)*100) \n      \n    print(\"Report : \", \n    classification_report(y_test, y_pred))",
      "execution_count": 55,
      "outputs": []
    },
    {
      "metadata": {
        "trusted": true
      },
      "cell_type": "code",
      "source": "cal_accuracy",
      "execution_count": 56,
      "outputs": [
        {
          "output_type": "execute_result",
          "execution_count": 56,
          "data": {
            "text/plain": "<function __main__.cal_accuracy(y_test, y_pred)>"
          },
          "metadata": {}
        }
      ]
    },
    {
      "metadata": {
        "trusted": true
      },
      "cell_type": "code",
      "source": "# Driver code \ndef main(): \n      \n    # Building Phase \n    data = iris \n    x, y, x_train, x_test, y_train, y_test = splitdataset(iris) \n    clf_gini = train_using_gini(x_train, x_test, y_train) \n    clf_entropy = train_using_entropy(x_train, x_test, y_train) \n      \n    # Operational Phase \n    print(\"Results Using Gini Index:\") \n      \n    # Prediction using gini \n    y_pred_gini = prediction(x_test, clf_gini) \n    cal_accuracy(y_test, y_pred_gini) \n      \n    print(\"Results Using Entropy:\") \n    # Prediction using entropy \n    y_pred_entropy = prediction(x_test, clf_entropy) \n    cal_accuracy(y_test, y_pred_entropy) \n      \n# Calling main function \nif __name__==\"__main__\": \n    main() ",
      "execution_count": 57,
      "outputs": [
        {
          "output_type": "stream",
          "text": "Results Using Gini Index:\nPredicted values:\n['Iris-virginica' 'Iris-setosa' 'Iris-virginica' 'Iris-setosa'\n 'Iris-virginica' 'Iris-virginica' 'Iris-setosa' 'Iris-setosa'\n 'Iris-virginica' 'Iris-setosa' 'Iris-setosa' 'Iris-virginica'\n 'Iris-setosa' 'Iris-setosa' 'Iris-virginica' 'Iris-versicolor'\n 'Iris-versicolor' 'Iris-virginica' 'Iris-virginica' 'Iris-virginica'\n 'Iris-virginica' 'Iris-setosa' 'Iris-virginica' 'Iris-setosa'\n 'Iris-versicolor' 'Iris-virginica' 'Iris-versicolor' 'Iris-setosa'\n 'Iris-versicolor' 'Iris-virginica' 'Iris-versicolor' 'Iris-versicolor'\n 'Iris-versicolor' 'Iris-setosa' 'Iris-setosa' 'Iris-versicolor'\n 'Iris-setosa' 'Iris-versicolor' 'Iris-virginica' 'Iris-virginica'\n 'Iris-setosa' 'Iris-versicolor' 'Iris-virginica' 'Iris-virginica'\n 'Iris-setosa']\nConfusion Matrix:  [[16  0  0]\n [ 0 10  1]\n [ 0  1 17]]\nAccuracy :  95.55555555555556\nReport :                   precision    recall  f1-score   support\n\n    Iris-setosa       1.00      1.00      1.00        16\nIris-versicolor       0.91      0.91      0.91        11\n Iris-virginica       0.94      0.94      0.94        18\n\n    avg / total       0.96      0.96      0.96        45\n\nResults Using Entropy:\nPredicted values:\n['Iris-virginica' 'Iris-setosa' 'Iris-virginica' 'Iris-setosa'\n 'Iris-virginica' 'Iris-virginica' 'Iris-setosa' 'Iris-setosa'\n 'Iris-virginica' 'Iris-setosa' 'Iris-setosa' 'Iris-virginica'\n 'Iris-setosa' 'Iris-setosa' 'Iris-virginica' 'Iris-versicolor'\n 'Iris-versicolor' 'Iris-virginica' 'Iris-virginica' 'Iris-virginica'\n 'Iris-virginica' 'Iris-setosa' 'Iris-virginica' 'Iris-setosa'\n 'Iris-versicolor' 'Iris-virginica' 'Iris-versicolor' 'Iris-setosa'\n 'Iris-versicolor' 'Iris-virginica' 'Iris-versicolor' 'Iris-versicolor'\n 'Iris-versicolor' 'Iris-setosa' 'Iris-setosa' 'Iris-versicolor'\n 'Iris-setosa' 'Iris-versicolor' 'Iris-virginica' 'Iris-virginica'\n 'Iris-setosa' 'Iris-versicolor' 'Iris-virginica' 'Iris-virginica'\n 'Iris-setosa']\nConfusion Matrix:  [[16  0  0]\n [ 0 10  1]\n [ 0  1 17]]\nAccuracy :  95.55555555555556\nReport :                   precision    recall  f1-score   support\n\n    Iris-setosa       1.00      1.00      1.00        16\nIris-versicolor       0.91      0.91      0.91        11\n Iris-virginica       0.94      0.94      0.94        18\n\n    avg / total       0.96      0.96      0.96        45\n\n",
          "name": "stdout"
        }
      ]
    },
    {
      "metadata": {
        "trusted": true
      },
      "cell_type": "code",
      "source": "",
      "execution_count": null,
      "outputs": []
    }
  ],
  "metadata": {
    "kernelspec": {
      "name": "python36",
      "display_name": "Python 3.6",
      "language": "python"
    },
    "language_info": {
      "mimetype": "text/x-python",
      "nbconvert_exporter": "python",
      "name": "python",
      "pygments_lexer": "ipython3",
      "version": "3.6.6",
      "file_extension": ".py",
      "codemirror_mode": {
        "version": 3,
        "name": "ipython"
      }
    }
  },
  "nbformat": 4,
  "nbformat_minor": 2
}