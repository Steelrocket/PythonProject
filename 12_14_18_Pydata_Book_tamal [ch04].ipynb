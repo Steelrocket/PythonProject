{
  "cells": [
    {
      "metadata": {
        "trusted": true
      },
      "cell_type": "code",
      "source": "import numpy as np\nnp.random.seed(12345)\nimport matplotlib.pyplot as plt\nplt.rc('figure', figsize=(10, 6))\nnp.set_printoptions(precision=4, suppress=True)",
      "execution_count": 1,
      "outputs": []
    },
    {
      "metadata": {
        "trusted": true
      },
      "cell_type": "code",
      "source": "import numpy as np\nmy_arr = np.arange(1000000)\nmy_list = list(range(1000000))",
      "execution_count": null,
      "outputs": []
    },
    {
      "metadata": {
        "trusted": true
      },
      "cell_type": "code",
      "source": "%time for _ in range(10): my_arr2 = my_arr * 2",
      "execution_count": null,
      "outputs": []
    },
    {
      "metadata": {
        "trusted": true
      },
      "cell_type": "code",
      "source": "%time for _ in range(10): my_list2 = [x * 2 for x in my_list]",
      "execution_count": null,
      "outputs": []
    },
    {
      "metadata": {
        "trusted": true
      },
      "cell_type": "code",
      "source": "import numpy as np\n# Generate some random data\ndata = np.random.randn(2, 3)\ndata",
      "execution_count": null,
      "outputs": []
    },
    {
      "metadata": {
        "trusted": true
      },
      "cell_type": "code",
      "source": "data * 10",
      "execution_count": null,
      "outputs": []
    },
    {
      "metadata": {
        "trusted": true
      },
      "cell_type": "code",
      "source": "data + data\n",
      "execution_count": null,
      "outputs": []
    },
    {
      "metadata": {
        "trusted": true
      },
      "cell_type": "code",
      "source": "data.shape",
      "execution_count": null,
      "outputs": []
    },
    {
      "metadata": {
        "trusted": true
      },
      "cell_type": "code",
      "source": "data.dtype",
      "execution_count": null,
      "outputs": []
    },
    {
      "metadata": {
        "trusted": true
      },
      "cell_type": "code",
      "source": "data1 = [6, 7.5, 8, 0, 1]\narr1 = np.array(data1)\narr1",
      "execution_count": null,
      "outputs": []
    },
    {
      "metadata": {
        "trusted": true
      },
      "cell_type": "code",
      "source": "data2 = [[1, 2, 3, 4], [5, 6, 7, 8]]\narr2 = np.array(data2)\narr2",
      "execution_count": null,
      "outputs": []
    },
    {
      "metadata": {
        "trusted": true
      },
      "cell_type": "code",
      "source": "arr2.ndim",
      "execution_count": null,
      "outputs": []
    },
    {
      "metadata": {
        "trusted": true
      },
      "cell_type": "code",
      "source": "arr2.shape",
      "execution_count": null,
      "outputs": []
    },
    {
      "metadata": {
        "trusted": true
      },
      "cell_type": "code",
      "source": "arr1.dtype",
      "execution_count": null,
      "outputs": []
    },
    {
      "metadata": {
        "trusted": true
      },
      "cell_type": "code",
      "source": "arr2.dtype",
      "execution_count": null,
      "outputs": []
    },
    {
      "metadata": {
        "trusted": true
      },
      "cell_type": "code",
      "source": "np.zeros(10)",
      "execution_count": null,
      "outputs": []
    },
    {
      "metadata": {
        "trusted": true
      },
      "cell_type": "code",
      "source": "np.zeros((3, 6))",
      "execution_count": null,
      "outputs": []
    },
    {
      "metadata": {
        "trusted": true
      },
      "cell_type": "code",
      "source": "np.empty((2, 3, 2))",
      "execution_count": null,
      "outputs": []
    },
    {
      "metadata": {
        "trusted": true
      },
      "cell_type": "code",
      "source": "np.arange(15)",
      "execution_count": null,
      "outputs": []
    },
    {
      "metadata": {
        "trusted": true
      },
      "cell_type": "code",
      "source": "arr1 = np.array([1, 2, 3], dtype=np.float64)\narr2 = np.array([1, 2, 3], dtype=np.int32)\narr1.dtype",
      "execution_count": null,
      "outputs": []
    },
    {
      "metadata": {
        "trusted": true
      },
      "cell_type": "code",
      "source": "arr2.dtype\n",
      "execution_count": null,
      "outputs": []
    },
    {
      "metadata": {
        "trusted": true
      },
      "cell_type": "code",
      "source": "arr = np.array([1, 2, 3, 4, 5])\narr.dtype",
      "execution_count": null,
      "outputs": []
    },
    {
      "metadata": {
        "trusted": true
      },
      "cell_type": "code",
      "source": "float_arr = arr.astype(np.float64)\nfloat_arr.dtype",
      "execution_count": null,
      "outputs": []
    },
    {
      "metadata": {
        "trusted": true
      },
      "cell_type": "code",
      "source": "arr = np.array([3.7, -1.2, -2.6, 0.5, 12.9, 10.1])\narr",
      "execution_count": null,
      "outputs": []
    },
    {
      "metadata": {
        "trusted": true
      },
      "cell_type": "code",
      "source": "arr.astype(np.int32)",
      "execution_count": null,
      "outputs": []
    },
    {
      "metadata": {
        "trusted": true
      },
      "cell_type": "code",
      "source": "numeric_strings = np.array(['1.25', '-9.6', '42'], dtype=np.string_)\nnumeric_strings.astype(float)",
      "execution_count": null,
      "outputs": []
    },
    {
      "metadata": {
        "trusted": true
      },
      "cell_type": "code",
      "source": "int_array = np.arange(10)\ncalibers = np.array([.22, .270, .357, .380, .44, .50], dtype=np.float64)\nint_array.astype(calibers.dtype)",
      "execution_count": null,
      "outputs": []
    },
    {
      "metadata": {
        "trusted": true
      },
      "cell_type": "code",
      "source": "empty_uint32 = np.empty(8, dtype='int64')\nempty_uint32",
      "execution_count": null,
      "outputs": []
    },
    {
      "metadata": {
        "trusted": true
      },
      "cell_type": "code",
      "source": "arr = np.array([[1., 2., 3.], [4., 5., 6.]])\narr",
      "execution_count": null,
      "outputs": []
    },
    {
      "metadata": {
        "trusted": true
      },
      "cell_type": "code",
      "source": "arr * arr",
      "execution_count": null,
      "outputs": []
    },
    {
      "metadata": {
        "trusted": true
      },
      "cell_type": "code",
      "source": "arr - arr",
      "execution_count": null,
      "outputs": []
    },
    {
      "metadata": {
        "trusted": true
      },
      "cell_type": "code",
      "source": "1 / arr",
      "execution_count": null,
      "outputs": []
    },
    {
      "metadata": {
        "trusted": true
      },
      "cell_type": "code",
      "source": "arr ** 0.5",
      "execution_count": null,
      "outputs": []
    },
    {
      "metadata": {
        "trusted": true
      },
      "cell_type": "code",
      "source": "arr2 = np.array([[0., 4., 1.], [7., 2., 12.]])\narr2",
      "execution_count": null,
      "outputs": []
    },
    {
      "metadata": {
        "trusted": true
      },
      "cell_type": "code",
      "source": "arr2 > arr",
      "execution_count": null,
      "outputs": []
    },
    {
      "metadata": {
        "trusted": true
      },
      "cell_type": "code",
      "source": "arr = np.arange(10)\narr",
      "execution_count": null,
      "outputs": []
    },
    {
      "metadata": {
        "trusted": true
      },
      "cell_type": "code",
      "source": "arr[5]",
      "execution_count": null,
      "outputs": []
    },
    {
      "metadata": {
        "trusted": true
      },
      "cell_type": "code",
      "source": "arr[5:8]",
      "execution_count": null,
      "outputs": []
    },
    {
      "metadata": {
        "trusted": true
      },
      "cell_type": "code",
      "source": "arr[5:8] = 12",
      "execution_count": null,
      "outputs": []
    },
    {
      "metadata": {
        "trusted": true
      },
      "cell_type": "code",
      "source": "arr",
      "execution_count": null,
      "outputs": []
    },
    {
      "metadata": {
        "trusted": true
      },
      "cell_type": "code",
      "source": "arr_slice = arr[5:8]\narr_slice",
      "execution_count": null,
      "outputs": []
    },
    {
      "metadata": {
        "trusted": true
      },
      "cell_type": "code",
      "source": "arr_slice[1] = 12345\narr",
      "execution_count": null,
      "outputs": []
    },
    {
      "metadata": {
        "trusted": true
      },
      "cell_type": "code",
      "source": "arr_slice[:] = 64",
      "execution_count": null,
      "outputs": []
    },
    {
      "metadata": {
        "trusted": true
      },
      "cell_type": "code",
      "source": "arr",
      "execution_count": null,
      "outputs": []
    },
    {
      "metadata": {
        "trusted": true
      },
      "cell_type": "code",
      "source": "arr2d = np.array([[1, 2, 3], [4, 5, 6], [7, 8, 9]])\narr2d[2]",
      "execution_count": null,
      "outputs": []
    },
    {
      "metadata": {
        "trusted": true
      },
      "cell_type": "code",
      "source": "arr2d[0][2]",
      "execution_count": null,
      "outputs": []
    },
    {
      "metadata": {
        "trusted": true
      },
      "cell_type": "code",
      "source": "arr2d[0, 2]",
      "execution_count": null,
      "outputs": []
    },
    {
      "metadata": {
        "trusted": true
      },
      "cell_type": "code",
      "source": "arr3d = np.array([[[1, 2, 3], [4, 5, 6]], [[7, 8, 9], [10, 11, 12]]])\narr3d",
      "execution_count": null,
      "outputs": []
    },
    {
      "metadata": {
        "trusted": true
      },
      "cell_type": "code",
      "source": "arr3d[0]\n",
      "execution_count": null,
      "outputs": []
    },
    {
      "metadata": {
        "trusted": true
      },
      "cell_type": "code",
      "source": "old_values = arr3d[0].copy()",
      "execution_count": null,
      "outputs": []
    },
    {
      "metadata": {
        "trusted": true
      },
      "cell_type": "code",
      "source": "arr3d[0] = 42\narr3d",
      "execution_count": null,
      "outputs": []
    },
    {
      "metadata": {
        "trusted": true
      },
      "cell_type": "code",
      "source": "arr3d[0] = old_values\narr3d",
      "execution_count": null,
      "outputs": []
    },
    {
      "metadata": {
        "trusted": true
      },
      "cell_type": "code",
      "source": "arr3d[1, 0]",
      "execution_count": null,
      "outputs": []
    },
    {
      "metadata": {
        "trusted": true
      },
      "cell_type": "code",
      "source": "x = arr3d[1]\nx",
      "execution_count": null,
      "outputs": []
    },
    {
      "metadata": {
        "trusted": true
      },
      "cell_type": "code",
      "source": "x[0]",
      "execution_count": null,
      "outputs": []
    },
    {
      "metadata": {
        "trusted": true
      },
      "cell_type": "code",
      "source": "arr = np.arange(10)\narr",
      "execution_count": null,
      "outputs": []
    },
    {
      "metadata": {
        "trusted": true
      },
      "cell_type": "code",
      "source": "arr[1:6]",
      "execution_count": null,
      "outputs": []
    },
    {
      "metadata": {
        "trusted": true
      },
      "cell_type": "code",
      "source": "arr2d",
      "execution_count": null,
      "outputs": []
    },
    {
      "metadata": {
        "trusted": true
      },
      "cell_type": "code",
      "source": "arr2d[:2]",
      "execution_count": null,
      "outputs": []
    },
    {
      "metadata": {
        "trusted": true
      },
      "cell_type": "code",
      "source": "arr2d[:2, 1:]",
      "execution_count": null,
      "outputs": []
    },
    {
      "metadata": {
        "trusted": true
      },
      "cell_type": "code",
      "source": "arr2d[1, :2]",
      "execution_count": null,
      "outputs": []
    },
    {
      "metadata": {
        "trusted": true
      },
      "cell_type": "code",
      "source": "arr2d[:2, 2]",
      "execution_count": null,
      "outputs": []
    },
    {
      "metadata": {
        "trusted": true
      },
      "cell_type": "code",
      "source": "arr2d[:, :1]",
      "execution_count": null,
      "outputs": []
    },
    {
      "metadata": {
        "trusted": true
      },
      "cell_type": "code",
      "source": "arr2d[:2, 1:] = 0\narr2d",
      "execution_count": null,
      "outputs": []
    },
    {
      "metadata": {
        "trusted": true
      },
      "cell_type": "code",
      "source": "names = np.array(['Bob', 'Joe', 'Will', 'Bob', 'Will', 'Joe', 'Joe'])\ndata = np.random.randn(7, 4)\nnames",
      "execution_count": null,
      "outputs": []
    },
    {
      "metadata": {
        "trusted": true
      },
      "cell_type": "code",
      "source": "data",
      "execution_count": null,
      "outputs": []
    },
    {
      "metadata": {
        "trusted": true
      },
      "cell_type": "code",
      "source": "names == 'Bob'",
      "execution_count": null,
      "outputs": []
    },
    {
      "metadata": {
        "trusted": true
      },
      "cell_type": "code",
      "source": "data[names == 'Bob']",
      "execution_count": null,
      "outputs": []
    },
    {
      "metadata": {
        "trusted": true
      },
      "cell_type": "code",
      "source": "data[names == 'Bob', 2:]",
      "execution_count": null,
      "outputs": []
    },
    {
      "metadata": {
        "trusted": true
      },
      "cell_type": "code",
      "source": "data[names == 'Bob', 3]",
      "execution_count": null,
      "outputs": []
    },
    {
      "metadata": {
        "trusted": true
      },
      "cell_type": "code",
      "source": "names != 'Bob'",
      "execution_count": null,
      "outputs": []
    },
    {
      "metadata": {
        "trusted": true
      },
      "cell_type": "code",
      "source": "data[~(names == 'Bob')]",
      "execution_count": null,
      "outputs": []
    },
    {
      "metadata": {
        "trusted": true
      },
      "cell_type": "code",
      "source": "cond = names == 'Bob'\ndata[~cond]",
      "execution_count": null,
      "outputs": []
    },
    {
      "metadata": {
        "trusted": true
      },
      "cell_type": "code",
      "source": "mask = (names == 'Bob') | (names == 'Will')\nmask",
      "execution_count": null,
      "outputs": []
    },
    {
      "metadata": {
        "trusted": true
      },
      "cell_type": "code",
      "source": "data[mask]",
      "execution_count": null,
      "outputs": []
    },
    {
      "metadata": {
        "trusted": true
      },
      "cell_type": "code",
      "source": "data[data < 0] = 0\ndata",
      "execution_count": null,
      "outputs": []
    },
    {
      "metadata": {
        "trusted": true
      },
      "cell_type": "code",
      "source": "data[names != 'Joe'] = 7\ndata",
      "execution_count": null,
      "outputs": []
    },
    {
      "metadata": {
        "trusted": true
      },
      "cell_type": "code",
      "source": "arr = np.empty((8, 4))\nfor i in range(8):\n    arr[i] = i\narr",
      "execution_count": null,
      "outputs": []
    },
    {
      "metadata": {
        "trusted": true
      },
      "cell_type": "code",
      "source": "arr[[4, 3, 0, 6]]",
      "execution_count": null,
      "outputs": []
    },
    {
      "metadata": {
        "trusted": true
      },
      "cell_type": "code",
      "source": "arr[[-3, -5, -7]]",
      "execution_count": null,
      "outputs": []
    },
    {
      "metadata": {
        "trusted": true
      },
      "cell_type": "code",
      "source": "arr = np.arange(32).reshape((8, 4))\narr",
      "execution_count": null,
      "outputs": []
    },
    {
      "metadata": {
        "trusted": true
      },
      "cell_type": "code",
      "source": "arr[[1, 5, 7, 2], [0, 3, 1, 2]]",
      "execution_count": null,
      "outputs": []
    },
    {
      "metadata": {
        "trusted": true
      },
      "cell_type": "code",
      "source": "arr[[1, 5, 7, 2]][:, [0, 3, 1, 2]]",
      "execution_count": null,
      "outputs": []
    },
    {
      "metadata": {
        "trusted": true
      },
      "cell_type": "code",
      "source": "arr = np.arange(15).reshape((3, 5))\narr",
      "execution_count": null,
      "outputs": []
    },
    {
      "metadata": {
        "trusted": true
      },
      "cell_type": "code",
      "source": "arr.T",
      "execution_count": null,
      "outputs": []
    },
    {
      "metadata": {
        "trusted": true
      },
      "cell_type": "code",
      "source": "arr = np.random.randn(6, 3)\narr",
      "execution_count": null,
      "outputs": []
    },
    {
      "metadata": {
        "trusted": true
      },
      "cell_type": "code",
      "source": "np.dot(arr.T, arr)",
      "execution_count": null,
      "outputs": []
    },
    {
      "metadata": {
        "trusted": true
      },
      "cell_type": "code",
      "source": "arr = np.arange(16).reshape((2, 2, 4))\n",
      "execution_count": null,
      "outputs": []
    },
    {
      "metadata": {
        "trusted": true
      },
      "cell_type": "code",
      "source": "arr #2a,2b,4",
      "execution_count": null,
      "outputs": []
    },
    {
      "metadata": {
        "trusted": true
      },
      "cell_type": "code",
      "source": "arr.transpose(2,0,1) #4,2a,2b",
      "execution_count": null,
      "outputs": []
    },
    {
      "metadata": {
        "trusted": true
      },
      "cell_type": "code",
      "source": "arr #2a,2b,4",
      "execution_count": null,
      "outputs": []
    },
    {
      "metadata": {
        "trusted": true
      },
      "cell_type": "code",
      "source": "arr.swapaxes(0,1) #2b,2a,4",
      "execution_count": null,
      "outputs": []
    },
    {
      "metadata": {
        "trusted": true
      },
      "cell_type": "code",
      "source": "arr = np.arange(10)\narr",
      "execution_count": null,
      "outputs": []
    },
    {
      "metadata": {
        "trusted": true
      },
      "cell_type": "code",
      "source": "np.sqrt(arr)",
      "execution_count": null,
      "outputs": []
    },
    {
      "metadata": {
        "trusted": true
      },
      "cell_type": "code",
      "source": "np.exp(arr)",
      "execution_count": null,
      "outputs": []
    },
    {
      "metadata": {
        "trusted": true
      },
      "cell_type": "code",
      "source": "x = np.random.randn(8)\ny = np.random.randn(8)\nx",
      "execution_count": null,
      "outputs": []
    },
    {
      "metadata": {
        "trusted": true
      },
      "cell_type": "code",
      "source": "y",
      "execution_count": null,
      "outputs": []
    },
    {
      "metadata": {
        "trusted": true
      },
      "cell_type": "code",
      "source": "np.maximum(x, y)",
      "execution_count": null,
      "outputs": []
    },
    {
      "metadata": {
        "trusted": true
      },
      "cell_type": "code",
      "source": "arr = np.random.randn(7) * 5\narr",
      "execution_count": null,
      "outputs": []
    },
    {
      "metadata": {
        "trusted": true
      },
      "cell_type": "code",
      "source": "remainder, whole_part = np.modf(arr)\nremainder",
      "execution_count": null,
      "outputs": []
    },
    {
      "metadata": {
        "trusted": true
      },
      "cell_type": "code",
      "source": "whole_part",
      "execution_count": null,
      "outputs": []
    },
    {
      "metadata": {
        "trusted": true
      },
      "cell_type": "code",
      "source": "arr",
      "execution_count": null,
      "outputs": []
    },
    {
      "metadata": {
        "trusted": true
      },
      "cell_type": "code",
      "source": "np.sqrt(arr)",
      "execution_count": null,
      "outputs": []
    },
    {
      "metadata": {
        "trusted": true
      },
      "cell_type": "code",
      "source": "np.sqrt(arr, arr)",
      "execution_count": null,
      "outputs": []
    },
    {
      "metadata": {
        "trusted": true
      },
      "cell_type": "code",
      "source": "arr",
      "execution_count": null,
      "outputs": []
    },
    {
      "metadata": {
        "trusted": true
      },
      "cell_type": "code",
      "source": "np.sqrt(2,arr)",
      "execution_count": null,
      "outputs": []
    },
    {
      "metadata": {
        "trusted": true
      },
      "cell_type": "code",
      "source": "arr",
      "execution_count": null,
      "outputs": []
    },
    {
      "metadata": {
        "trusted": true
      },
      "cell_type": "code",
      "source": "points = np.arange(-5, 5, 0.01) # 1000 equally spaced points\nxs, ys = np.meshgrid(points, points)\nys",
      "execution_count": null,
      "outputs": []
    },
    {
      "metadata": {
        "trusted": true
      },
      "cell_type": "code",
      "source": "xs",
      "execution_count": null,
      "outputs": []
    },
    {
      "metadata": {
        "trusted": true
      },
      "cell_type": "code",
      "source": "z = np.sqrt(xs ** 2 + ys ** 2)\nz",
      "execution_count": null,
      "outputs": []
    },
    {
      "metadata": {
        "trusted": true
      },
      "cell_type": "code",
      "source": "import matplotlib.pyplot as plt\nplt.imshow(z, cmap=plt.cm.gray); plt.colorbar()\nplt.title(\"Image plot of $\\sqrt{x^2 + y^2}$ for a grid of values\")",
      "execution_count": null,
      "outputs": []
    },
    {
      "metadata": {
        "trusted": true
      },
      "cell_type": "code",
      "source": "plt.draw()",
      "execution_count": null,
      "outputs": []
    },
    {
      "metadata": {
        "trusted": true
      },
      "cell_type": "code",
      "source": "plt.close('all')",
      "execution_count": null,
      "outputs": []
    },
    {
      "metadata": {
        "trusted": true
      },
      "cell_type": "code",
      "source": "xarr = np.array([1.1, 1.2, 1.3, 1.4, 1.5])\nyarr = np.array([2.1, 2.2, 2.3, 2.4, 2.5])\ncond = np.array([True, False, True, True, False])",
      "execution_count": null,
      "outputs": []
    },
    {
      "metadata": {
        "trusted": true
      },
      "cell_type": "code",
      "source": "result = [(x if c else y)\n          for x, y, c in zip(xarr, yarr, cond)]\nresult",
      "execution_count": null,
      "outputs": []
    },
    {
      "metadata": {
        "trusted": true
      },
      "cell_type": "code",
      "source": "result = np.where(cond, xarr, yarr)\nresult",
      "execution_count": null,
      "outputs": []
    },
    {
      "metadata": {
        "trusted": true
      },
      "cell_type": "code",
      "source": "arr = np.random.randn(4, 4)\narr",
      "execution_count": null,
      "outputs": []
    },
    {
      "metadata": {
        "trusted": true
      },
      "cell_type": "code",
      "source": "arr > 0",
      "execution_count": null,
      "outputs": []
    },
    {
      "metadata": {
        "trusted": true
      },
      "cell_type": "code",
      "source": "np.where(arr > 0, 2, -2)",
      "execution_count": null,
      "outputs": []
    },
    {
      "metadata": {
        "trusted": true
      },
      "cell_type": "code",
      "source": "np.where(arr > 0, 2, arr) # set only positive values to 2",
      "execution_count": null,
      "outputs": []
    },
    {
      "metadata": {
        "trusted": true
      },
      "cell_type": "code",
      "source": "arr = np.random.randn(5, 4)\narr",
      "execution_count": null,
      "outputs": []
    },
    {
      "metadata": {
        "trusted": true
      },
      "cell_type": "code",
      "source": "arr.mean()",
      "execution_count": null,
      "outputs": []
    },
    {
      "metadata": {
        "trusted": true
      },
      "cell_type": "code",
      "source": "np.mean(arr)",
      "execution_count": null,
      "outputs": []
    },
    {
      "metadata": {
        "trusted": true
      },
      "cell_type": "code",
      "source": "arr.sum()",
      "execution_count": null,
      "outputs": []
    },
    {
      "metadata": {
        "trusted": true
      },
      "cell_type": "code",
      "source": "arr.mean(axis=1)",
      "execution_count": null,
      "outputs": []
    },
    {
      "metadata": {
        "trusted": true
      },
      "cell_type": "code",
      "source": "arr.mean(axis=0)",
      "execution_count": null,
      "outputs": []
    },
    {
      "metadata": {
        "trusted": true
      },
      "cell_type": "code",
      "source": "arr.sum(axis=0)",
      "execution_count": null,
      "outputs": []
    },
    {
      "metadata": {
        "trusted": true
      },
      "cell_type": "code",
      "source": "arr = np.array([0, 1, 2, 3, 4, 5, 6, 7])\narr.cumsum()",
      "execution_count": null,
      "outputs": []
    },
    {
      "metadata": {
        "trusted": true
      },
      "cell_type": "code",
      "source": "arr = np.array([[0, 1, 2], [3, 4, 5], [6, 7, 8]])\narr",
      "execution_count": null,
      "outputs": []
    },
    {
      "metadata": {
        "trusted": true
      },
      "cell_type": "code",
      "source": "arr.cumsum(axis=0)",
      "execution_count": null,
      "outputs": []
    },
    {
      "metadata": {
        "trusted": true
      },
      "cell_type": "code",
      "source": "arr.cumsum(axis=1)",
      "execution_count": null,
      "outputs": []
    },
    {
      "metadata": {
        "trusted": true
      },
      "cell_type": "code",
      "source": "arr.cumprod(axis=1)",
      "execution_count": null,
      "outputs": []
    },
    {
      "metadata": {
        "trusted": true
      },
      "cell_type": "code",
      "source": "arr = np.random.randn(100)\n(arr > 0).sum() # Number of positive values",
      "execution_count": null,
      "outputs": []
    },
    {
      "metadata": {
        "trusted": true
      },
      "cell_type": "code",
      "source": "bools = np.array([False, False, True, False])\nbools.any()",
      "execution_count": null,
      "outputs": []
    },
    {
      "metadata": {
        "trusted": true
      },
      "cell_type": "code",
      "source": "bools.all()",
      "execution_count": null,
      "outputs": []
    },
    {
      "metadata": {
        "trusted": true
      },
      "cell_type": "code",
      "source": "arr = np.random.randn(6)\narr",
      "execution_count": null,
      "outputs": []
    },
    {
      "metadata": {
        "trusted": true
      },
      "cell_type": "code",
      "source": "arr.sort()\narr",
      "execution_count": null,
      "outputs": []
    },
    {
      "metadata": {
        "trusted": true
      },
      "cell_type": "code",
      "source": "arr = np.random.randn(5, 3)\narr",
      "execution_count": 2,
      "outputs": [
        {
          "output_type": "execute_result",
          "execution_count": 2,
          "data": {
            "text/plain": "array([[-0.2047,  0.4789, -0.5194],\n       [-0.5557,  1.9658,  1.3934],\n       [ 0.0929,  0.2817,  0.769 ],\n       [ 1.2464,  1.0072, -1.2962],\n       [ 0.275 ,  0.2289,  1.3529]])"
          },
          "metadata": {}
        }
      ]
    },
    {
      "metadata": {
        "trusted": true
      },
      "cell_type": "code",
      "source": "arr.sort(1)\narr",
      "execution_count": null,
      "outputs": []
    },
    {
      "metadata": {
        "trusted": true
      },
      "cell_type": "code",
      "source": "large_arr = np.random.randn(1000)\nlarge_arr.sort()\nlarge_arr[int(0.05 * len(large_arr))] # 5% quantile",
      "execution_count": 3,
      "outputs": [
        {
          "output_type": "execute_result",
          "execution_count": 3,
          "data": {
            "text/plain": "-1.551714991950571"
          },
          "metadata": {}
        }
      ]
    },
    {
      "metadata": {
        "trusted": true
      },
      "cell_type": "code",
      "source": "names = np.array(['Bob', 'Joe', 'Will', 'Bob', 'Will', 'Joe', 'Joe'])\nnp.unique(names)",
      "execution_count": 4,
      "outputs": [
        {
          "output_type": "execute_result",
          "execution_count": 4,
          "data": {
            "text/plain": "array(['Bob', 'Joe', 'Will'], dtype='<U4')"
          },
          "metadata": {}
        }
      ]
    },
    {
      "metadata": {
        "trusted": true
      },
      "cell_type": "code",
      "source": "ints = np.array([3, 3, 3, 2, 2, 1, 1, 4, 4])\nnp.unique(ints)",
      "execution_count": 5,
      "outputs": [
        {
          "output_type": "execute_result",
          "execution_count": 5,
          "data": {
            "text/plain": "array([1, 2, 3, 4])"
          },
          "metadata": {}
        }
      ]
    },
    {
      "metadata": {
        "trusted": true
      },
      "cell_type": "code",
      "source": "sorted(set(names))",
      "execution_count": 6,
      "outputs": [
        {
          "output_type": "execute_result",
          "execution_count": 6,
          "data": {
            "text/plain": "['Bob', 'Joe', 'Will']"
          },
          "metadata": {}
        }
      ]
    },
    {
      "metadata": {
        "trusted": true
      },
      "cell_type": "code",
      "source": "values = np.array([6, 0, 0, 3, 2, 5, 6])\nnp.in1d(values, [2, 3, 6])",
      "execution_count": 7,
      "outputs": [
        {
          "output_type": "execute_result",
          "execution_count": 7,
          "data": {
            "text/plain": "array([ True, False, False,  True,  True, False,  True])"
          },
          "metadata": {}
        }
      ]
    },
    {
      "metadata": {
        "trusted": true
      },
      "cell_type": "code",
      "source": "arr = np.arange(10)\nnp.save('some_array', arr)",
      "execution_count": 8,
      "outputs": []
    },
    {
      "metadata": {
        "trusted": true
      },
      "cell_type": "code",
      "source": "np.load('some_array.npy')",
      "execution_count": 9,
      "outputs": [
        {
          "output_type": "execute_result",
          "execution_count": 9,
          "data": {
            "text/plain": "array([0, 1, 2, 3, 4, 5, 6, 7, 8, 9])"
          },
          "metadata": {}
        }
      ]
    },
    {
      "metadata": {
        "trusted": true
      },
      "cell_type": "code",
      "source": "np.savez('array_archive.npz', a=arr, b=arr)",
      "execution_count": 10,
      "outputs": []
    },
    {
      "metadata": {
        "trusted": true
      },
      "cell_type": "code",
      "source": "arch = np.load('array_archive.npz')",
      "execution_count": 11,
      "outputs": []
    },
    {
      "metadata": {
        "trusted": true
      },
      "cell_type": "code",
      "source": "arch['b']",
      "execution_count": 12,
      "outputs": [
        {
          "output_type": "execute_result",
          "execution_count": 12,
          "data": {
            "text/plain": "array([0, 1, 2, 3, 4, 5, 6, 7, 8, 9])"
          },
          "metadata": {}
        }
      ]
    },
    {
      "metadata": {
        "trusted": true
      },
      "cell_type": "code",
      "source": "np.savez_compressed('arrays_compressed.npz', a=arr, b=arr)",
      "execution_count": 13,
      "outputs": []
    },
    {
      "metadata": {
        "trusted": true
      },
      "cell_type": "code",
      "source": "!rm some_array.npy",
      "execution_count": 14,
      "outputs": []
    },
    {
      "metadata": {
        "trusted": true
      },
      "cell_type": "code",
      "source": "!rm array_archive.npz\n!rm arrays_compressed.npz",
      "execution_count": 15,
      "outputs": []
    },
    {
      "metadata": {
        "trusted": true
      },
      "cell_type": "code",
      "source": "x = np.array([[1., 2., 3.], [4., 5., 6.]])\ny = np.array([[6., 23.], [-1, 7], [8, 9]])\nx",
      "execution_count": 2,
      "outputs": [
        {
          "output_type": "execute_result",
          "execution_count": 2,
          "data": {
            "text/plain": "array([[1., 2., 3.],\n       [4., 5., 6.]])"
          },
          "metadata": {}
        }
      ]
    },
    {
      "metadata": {
        "trusted": true
      },
      "cell_type": "code",
      "source": "y",
      "execution_count": 3,
      "outputs": [
        {
          "output_type": "execute_result",
          "execution_count": 3,
          "data": {
            "text/plain": "array([[ 6., 23.],\n       [-1.,  7.],\n       [ 8.,  9.]])"
          },
          "metadata": {}
        }
      ]
    },
    {
      "metadata": {
        "trusted": true
      },
      "cell_type": "code",
      "source": "x.dot(y)",
      "execution_count": 4,
      "outputs": [
        {
          "output_type": "execute_result",
          "execution_count": 4,
          "data": {
            "text/plain": "array([[ 28.,  64.],\n       [ 67., 181.]])"
          },
          "metadata": {}
        }
      ]
    },
    {
      "metadata": {
        "trusted": true
      },
      "cell_type": "code",
      "source": "np.dot(x, y)",
      "execution_count": 5,
      "outputs": [
        {
          "output_type": "execute_result",
          "execution_count": 5,
          "data": {
            "text/plain": "array([[ 28.,  64.],\n       [ 67., 181.]])"
          },
          "metadata": {}
        }
      ]
    },
    {
      "metadata": {
        "trusted": true
      },
      "cell_type": "code",
      "source": "np.ones(3)",
      "execution_count": 7,
      "outputs": [
        {
          "output_type": "execute_result",
          "execution_count": 7,
          "data": {
            "text/plain": "array([1., 1., 1.])"
          },
          "metadata": {}
        }
      ]
    },
    {
      "metadata": {
        "trusted": true
      },
      "cell_type": "code",
      "source": "np.dot(x, np.ones(3))",
      "execution_count": 6,
      "outputs": [
        {
          "output_type": "execute_result",
          "execution_count": 6,
          "data": {
            "text/plain": "array([ 6., 15.])"
          },
          "metadata": {}
        }
      ]
    },
    {
      "metadata": {
        "trusted": true
      },
      "cell_type": "code",
      "source": "x @ np.ones(3)",
      "execution_count": 8,
      "outputs": [
        {
          "output_type": "execute_result",
          "execution_count": 8,
          "data": {
            "text/plain": "array([ 6., 15.])"
          },
          "metadata": {}
        }
      ]
    },
    {
      "metadata": {
        "trusted": true
      },
      "cell_type": "code",
      "source": "from numpy.linalg import inv, qr\nX = np.random.randn(5, 5)\nmat = X.T.dot(X)\ninv(mat)",
      "execution_count": 9,
      "outputs": [
        {
          "output_type": "execute_result",
          "execution_count": 9,
          "data": {
            "text/plain": "array([[ 3.0361, -0.1808, -0.6878, -2.8285, -1.1911],\n       [-0.1808,  0.5035,  0.1215,  0.6702,  0.0956],\n       [-0.6878,  0.1215,  0.2904,  0.8081,  0.3049],\n       [-2.8285,  0.6702,  0.8081,  3.4152,  1.1557],\n       [-1.1911,  0.0956,  0.3049,  1.1557,  0.6051]])"
          },
          "metadata": {}
        }
      ]
    },
    {
      "metadata": {
        "trusted": true
      },
      "cell_type": "code",
      "source": "X #random array",
      "execution_count": 10,
      "outputs": [
        {
          "output_type": "execute_result",
          "execution_count": 10,
          "data": {
            "text/plain": "array([[-0.2047,  0.4789, -0.5194, -0.5557,  1.9658],\n       [ 1.3934,  0.0929,  0.2817,  0.769 ,  1.2464],\n       [ 1.0072, -1.2962,  0.275 ,  0.2289,  1.3529],\n       [ 0.8864, -2.0016, -0.3718,  1.669 , -0.4386],\n       [-0.5397,  0.477 ,  3.2489, -1.0212, -0.5771]])"
          },
          "metadata": {}
        }
      ]
    },
    {
      "metadata": {
        "trusted": true
      },
      "cell_type": "code",
      "source": "X.T",
      "execution_count": 16,
      "outputs": [
        {
          "output_type": "execute_result",
          "execution_count": 16,
          "data": {
            "text/plain": "array([[-0.2047,  1.3934,  1.0072,  0.8864, -0.5397],\n       [ 0.4789,  0.0929, -1.2962, -2.0016,  0.477 ],\n       [-0.5194,  0.2817,  0.275 , -0.3718,  3.2489],\n       [-0.5557,  0.769 ,  0.2289,  1.669 , -1.0212],\n       [ 1.9658,  1.2464,  1.3529, -0.4386, -0.5771]])"
          },
          "metadata": {}
        }
      ]
    },
    {
      "metadata": {
        "trusted": true
      },
      "cell_type": "code",
      "source": "mat #dot product of X and transposed X",
      "execution_count": 11,
      "outputs": [
        {
          "output_type": "execute_result",
          "execution_count": 11,
          "data": {
            "text/plain": "array([[ 4.075 , -3.3059, -1.3073,  3.4466,  2.6197],\n       [-3.3059,  6.1523,  1.7149, -4.3193, -0.0938],\n       [-1.3073,  1.7149, 11.1187, -3.3702, -2.0097],\n       [ 3.4466, -4.3193, -3.3702,  4.7812,  0.0331],\n       [ 2.6197, -0.0938, -2.0097,  0.0331,  7.7736]])"
          },
          "metadata": {}
        }
      ]
    },
    {
      "metadata": {
        "trusted": true
      },
      "cell_type": "code",
      "source": "mat.dot(inv(mat)) #dot product of ",
      "execution_count": 12,
      "outputs": [
        {
          "output_type": "execute_result",
          "execution_count": 12,
          "data": {
            "text/plain": "array([[ 1.,  0., -0., -0.,  0.],\n       [-0.,  1., -0.,  0., -0.],\n       [-0.,  0.,  1.,  0.,  0.],\n       [ 0., -0., -0.,  1.,  0.],\n       [ 0., -0., -0., -0.,  1.]])"
          },
          "metadata": {}
        }
      ]
    },
    {
      "metadata": {
        "trusted": true
      },
      "cell_type": "code",
      "source": "q, r = qr(mat) #qr factorization of a matrix\nr",
      "execution_count": 14,
      "outputs": [
        {
          "output_type": "execute_result",
          "execution_count": 14,
          "data": {
            "text/plain": "array([[ -6.9271,   7.389 ,   6.1227,  -7.1163,  -4.9215],\n       [  0.    ,  -3.9735,  -0.8671,   2.9747,  -5.7402],\n       [  0.    ,   0.    , -10.2681,   1.8909,   1.6079],\n       [  0.    ,   0.    ,   0.    ,  -1.2996,   3.3577],\n       [  0.    ,   0.    ,   0.    ,   0.    ,   0.5571]])"
          },
          "metadata": {}
        }
      ]
    },
    {
      "metadata": {
        "trusted": true
      },
      "cell_type": "code",
      "source": "q",
      "execution_count": 15,
      "outputs": [
        {
          "output_type": "execute_result",
          "execution_count": 15,
          "data": {
            "text/plain": "array([[-0.5883, -0.2619, -0.2013, -0.3233, -0.6635],\n       [ 0.4772, -0.6609,  0.1734, -0.5501,  0.0532],\n       [ 0.1887, -0.0806, -0.9635, -0.0266,  0.1698],\n       [-0.4975,  0.1618,  0.0179, -0.5581,  0.6438],\n       [-0.3782, -0.6797,  0.0276,  0.5298,  0.3371]])"
          },
          "metadata": {}
        }
      ]
    },
    {
      "metadata": {
        "trusted": true
      },
      "cell_type": "code",
      "source": "samples = np.random.normal(size=(4, 4))\nsamples",
      "execution_count": 17,
      "outputs": [
        {
          "output_type": "execute_result",
          "execution_count": 17,
          "data": {
            "text/plain": "array([[ 0.1241,  0.3026,  0.5238,  0.0009],\n       [ 1.3438, -0.7135, -0.8312, -2.3702],\n       [-1.8608, -0.8608,  0.5601, -1.2659],\n       [ 0.1198, -1.0635,  0.3329, -2.3594]])"
          },
          "metadata": {}
        }
      ]
    },
    {
      "metadata": {
        "trusted": true
      },
      "cell_type": "code",
      "source": "from random import normalvariate\nN = 1000000\n%timeit samples = [normalvariate(0, 1) for _ in range(N)]",
      "execution_count": 18,
      "outputs": [
        {
          "output_type": "stream",
          "text": "1.07 s ± 48.2 ms per loop (mean ± std. dev. of 7 runs, 1 loop each)\n",
          "name": "stdout"
        }
      ]
    },
    {
      "metadata": {
        "trusted": true
      },
      "cell_type": "code",
      "source": "%timeit np.random.normal(size=N)",
      "execution_count": 19,
      "outputs": [
        {
          "output_type": "stream",
          "text": "54.4 ms ± 1.23 ms per loop (mean ± std. dev. of 7 runs, 10 loops each)\n",
          "name": "stdout"
        }
      ]
    },
    {
      "metadata": {
        "trusted": true
      },
      "cell_type": "code",
      "source": "np.random.seed(1234)\n\nrng = np.random.RandomState(1234)\nrng.randn(10)",
      "execution_count": 21,
      "outputs": [
        {
          "output_type": "execute_result",
          "execution_count": 21,
          "data": {
            "text/plain": "array([ 0.4714, -1.191 ,  1.4327, -0.3127, -0.7206,  0.8872,  0.8596,\n       -0.6365,  0.0157, -2.2427])"
          },
          "metadata": {}
        }
      ]
    },
    {
      "metadata": {
        "trusted": true
      },
      "cell_type": "code",
      "source": "import random\nposition = 0\nwalk = [position]\nsteps = 1000\nfor i in range(steps):\n    step = 1 if random.randint(0, 1) else -1\n    position += step\n    walk.append(position)",
      "execution_count": 37,
      "outputs": []
    },
    {
      "metadata": {
        "trusted": true
      },
      "cell_type": "code",
      "source": "plt.figure()",
      "execution_count": 23,
      "outputs": [
        {
          "output_type": "execute_result",
          "execution_count": 23,
          "data": {
            "text/plain": "<Figure size 432x288 with 0 Axes>"
          },
          "metadata": {}
        },
        {
          "output_type": "display_data",
          "data": {
            "text/plain": "<Figure size 432x288 with 0 Axes>"
          },
          "metadata": {}
        }
      ]
    },
    {
      "metadata": {
        "trusted": true
      },
      "cell_type": "code",
      "source": "plt.plot(walk[:100])",
      "execution_count": 24,
      "outputs": [
        {
          "output_type": "execute_result",
          "execution_count": 24,
          "data": {
            "text/plain": "[<matplotlib.lines.Line2D at 0x7f378670a470>]"
          },
          "metadata": {}
        },
        {
          "output_type": "display_data",
          "data": {
            "image/png": "[encoded data removed]",
            "text/plain": "<Figure size 432x288 with 1 Axes>"
          },
          "metadata": {
            "needs_background": "light"
          }
        }
      ]
    },
    {
      "metadata": {
        "trusted": true
      },
      "cell_type": "code",
      "source": "np.random.seed(12345)",
      "execution_count": 25,
      "outputs": []
    },
    {
      "metadata": {
        "trusted": true
      },
      "cell_type": "code",
      "source": "nsteps = 1000\ndraws = np.random.randint(0, 2, size=nsteps)\ndraws\nsteps = np.where(draws > 0, 1, -1)\nsteps\nwalk = steps.cumsum()\nwalk",
      "execution_count": 35,
      "outputs": [
        {
          "output_type": "execute_result",
          "execution_count": 35,
          "data": {
            "text/plain": "array([ -1,   0,  -1,  -2,  -1,   0,   1,   0,  -1,   0,   1,   0,   1,\n         2,   3,   2,   1,   0,  -1,   0,   1,   0,  -1,   0,  -1,   0,\n         1,   0,   1,   2,   3,   2,   1,   0,  -1,   0,   1,   2,   1,\n         2,   1,   2,   1,   2,   1,   0,  -1,  -2,  -1,  -2,  -3,  -2,\n        -3,  -2,  -1,  -2,  -3,  -4,  -5,  -4,  -3,  -4,  -3,  -2,  -1,\n         0,   1,   0,  -1,   0,   1,   2,   1,   0,  -1,   0,   1,   0,\n        -1,  -2,  -1,  -2,  -3,  -2,  -1,   0,   1,   0,   1,   0,   1,\n         2,   1,   0,   1,   2,   1,   0,   1,   2,   3,   2,   3,   4,\n         3,   4,   3,   2,   3,   2,   1,   0,   1,   2,   1,   2,   3,\n         4,   5,   6,   7,   6,   5,   4,   3,   4,   3,   2,   3,   2,\n         1,   2,   3,   4,   5,   4,   3,   2,   3,   2,   3,   2,   1,\n         0,   1,   2,   3,   2,   3,   4,   5,   6,   5,   4,   5,   6,\n         7,   8,   9,   8,   9,   8,   7,   6,   7,   6,   5,   6,   7,\n         8,   7,   6,   5,   6,   5,   4,   3,   2,   3,   4,   5,   4,\n         3,   4,   3,   2,   1,   2,   3,   2,   3,   2,   1,   2,   3,\n         4,   5,   6,   7,   8,   9,  10,  11,  10,  11,  12,  13,  12,\n        11,  10,   9,  10,   9,  10,   9,   8,   9,   8,   7,   6,   7,\n         6,   7,   8,   7,   6,   7,   6,   7,   8,   7,   6,   5,   6,\n         5,   4,   3,   2,   1,   2,   1,   2,   3,   2,   3,   2,   3,\n         4,   3,   2,   3,   2,   3,   2,   1,   0,  -1,  -2,  -3,  -2,\n        -3,  -4,  -3,  -2,  -3,  -2,  -1,  -2,  -1,   0,   1,   2,   1,\n         2,   1,   2,   1,   0,   1,   0,   1,   0,   1,   0,   1,   0,\n        -1,   0,   1,   2,   1,   0,   1,   2,   1,   0,   1,   2,   1,\n         0,  -1,  -2,  -1,  -2,  -3,  -4,  -5,  -6,  -7,  -8,  -7,  -8,\n        -7,  -8,  -9, -10,  -9,  -8,  -9, -10, -11, -10,  -9,  -8,  -7,\n        -6,  -7,  -6,  -5,  -6,  -7,  -8,  -7,  -6,  -5,  -4,  -3,  -2,\n        -3,  -4,  -5,  -4,  -5,  -6,  -5,  -6,  -7,  -6,  -5,  -4,  -5,\n        -6,  -7,  -6,  -5,  -4,  -3,  -4,  -3,  -2,  -1,   0,  -1,  -2,\n        -1,   0,   1,   0,  -1,   0,   1,   2,   3,   4,   5,   4,   3,\n         2,   3,   4,   5,   4,   3,   2,   3,   2,   3,   4,   3,   4,\n         3,   4,   5,   4,   5,   6,   7,   6,   5,   6,   5,   6,   5,\n         6,   5,   4,   5,   6,   7,   8,   9,   8,   9,   8,   7,   6,\n         5,   4,   3,   2,   3,   4,   5,   6,   7,   6,   5,   6,   5,\n         6,   5,   6,   7,   6,   5,   6,   7,   8,   9,  10,  11,  12,\n        11,  10,   9,   8,   9,  10,   9,   8,   7,   8,   7,   8,   7,\n         6,   5,   4,   5,   4,   3,   4,   3,   4,   5,   4,   5,   4,\n         3,   2,   3,   4,   5,   6,   5,   6,   5,   6,   7,   8,   9,\n        10,  11,  10,  11,  12,  13,  14,  15,  16,  17,  16,  17,  18,\n        19,  20,  19,  18,  17,  16,  17,  18,  19,  18,  17,  18,  17,\n        16,  15,  16,  15,  14,  13,  14,  13,  12,  11,  12,  13,  14,\n        15,  16,  15,  16,  15,  14,  15,  16,  15,  16,  15,  14,  13,\n        12,  11,  12,  13,  12,  11,  12,  11,  10,  11,  10,   9,  10,\n         9,   8,   9,  10,   9,   8,   9,   8,   9,  10,  11,  12,  11,\n        10,  11,  10,   9,  10,  11,  10,   9,  10,   9,   8,   7,   6,\n         7,   6,   5,   4,   5,   4,   5,   4,   5,   4,   5,   6,   7,\n         6,   7,   8,   9,  10,  11,  10,  11,  10,  11,  12,  11,  12,\n        11,  10,  11,  10,   9,  10,   9,  10,   9,   8,   9,   8,   7,\n         8,   9,  10,   9,   8,   7,   6,   5,   6,   7,   8,   9,   8,\n         7,   8,   7,   8,   7,   8,   9,   8,   9,   8,   7,   8,   9,\n         8,   7,   8,   7,   6,   7,   6,   7,   6,   5,   4,   3,   4,\n         3,   2,   3,   2,   3,   2,   3,   4,   5,   4,   5,   6,   7,\n         8,   9,   8,   9,   8,   9,  10,   9,  10,   9,  10,   9,   8,\n         7,   6,   7,   6,   5,   6,   5,   6,   5,   6,   7,   8,   7,\n         6,   7,   6,   5,   6,   5,   4,   3,   2,   3,   2,   1,   0,\n         1,   2,   3,   2,   3,   4,   3,   2,   1,   2,   3,   2,   3,\n         4,   3,   2,   3,   4,   3,   4,   3,   2,   3,   4,   3,   4,\n         5,   4,   5,   6,   5,   6,   7,   6,   5,   4,   5,   6,   7,\n         8,   9,   8,   7,   6,   7,   6,   7,   8,   9,  10,  11,  10,\n         9,   8,   9,   8,   7,   8,   9,   8,   7,   8,   7,   6,   7,\n         8,   9,   8,   9,  10,   9,  10,  11,  12,  13,  14,  13,  12,\n        13,  14,  13,  12,  13,  12,  11,  12,  13,  12,  11,  12,  11,\n        10,   9,  10,  11,  10,   9,   8,   7,   8,   7,   6,   5,   6,\n         7,   6,   5,   4,   5,   4,   5,   6,   7,   8,   7,   8,   7,\n         6,   7,   8,   7,   6,   5,   4,   3,   2,   3,   4,   5,   6,\n         5,   4,   5,   6,   7,   6,   7,   8,   9,   8,   9,   8,   7,\n         6,   7,   6,   5,   6,   5,   4,   5,   4,   3,   4,   3,   4,\n         5,   6,   7,   8,   9,  10,  11,  12,  13,  14,  15,  14,  15,\n        16,  15,  14,  15,  16,  15,  16,  15,  16,  15,  14,  15,  14,\n        13,  14,  15,  16,  15,  14,  13,  14,  13,  14,  13,  14,  13,\n        12,  13,  12,  13,  12,  13,  12,  13,  12,  13,  12,  11,  12,\n        11,  10,   9,   8,   7,   6,   7,   8,   7,   6,   7,   6,   5,\n         6,   5,   6,   7,   6,   7,   8,   7,   6,   5,   4,   5,   6,\n         5,   4,   5,   4,   5,   6,   5,   4,   3,   2,   1,   2,   1,\n         2,   1,   0,   1,   0,  -1,  -2,  -1,   0,  -1,   0,  -1,  -2,\n        -3,  -4,  -5,  -6,  -5,  -6,  -7,  -8,  -7,  -8,  -9, -10,  -9,\n       -10,  -9,  -8,  -7,  -6,  -5,  -4,  -5,  -4,  -3,  -2,  -3,  -4,\n        -3,  -2,  -1,   0,   1,   2,   3,   2,   3,   4,   5,   4])"
          },
          "metadata": {}
        }
      ]
    },
    {
      "metadata": {
        "trusted": true
      },
      "cell_type": "code",
      "source": "walk.min()",
      "execution_count": 33,
      "outputs": [
        {
          "output_type": "execute_result",
          "execution_count": 33,
          "data": {
            "text/plain": "-21"
          },
          "metadata": {}
        }
      ]
    },
    {
      "metadata": {
        "trusted": true
      },
      "cell_type": "code",
      "source": "walk.max()",
      "execution_count": 34,
      "outputs": [
        {
          "output_type": "execute_result",
          "execution_count": 34,
          "data": {
            "text/plain": "15"
          },
          "metadata": {}
        }
      ]
    },
    {
      "metadata": {
        "trusted": true
      },
      "cell_type": "code",
      "source": "(np.abs(walk) >= 10).argmax()",
      "execution_count": 38,
      "outputs": [
        {
          "output_type": "execute_result",
          "execution_count": 38,
          "data": {
            "text/plain": "162"
          },
          "metadata": {}
        }
      ]
    },
    {
      "metadata": {
        "trusted": true
      },
      "cell_type": "code",
      "source": "nwalks = 5000\nnsteps = 1000\ndraws = np.random.randint(0, 2, size=(nwalks, nsteps)) # 0 or 1\nsteps = np.where(draws > 0, 1, -1)\nwalks = steps.cumsum(1)\nwalks",
      "execution_count": 40,
      "outputs": [
        {
          "output_type": "execute_result",
          "execution_count": 40,
          "data": {
            "text/plain": "array([[ -1,   0,  -1, ..., -42, -41, -42],\n       [  1,   2,   3, ..., -14, -13, -14],\n       [ -1,  -2,  -3, ...,  30,  29,  28],\n       ...,\n       [  1,   2,   3, ...,  12,  13,  14],\n       [ -1,   0,   1, ..., -46, -47, -46],\n       [ -1,   0,   1, ..., -18, -17, -18]])"
          },
          "metadata": {}
        }
      ]
    },
    {
      "metadata": {
        "trusted": true
      },
      "cell_type": "code",
      "source": "walks.max()",
      "execution_count": 41,
      "outputs": [
        {
          "output_type": "execute_result",
          "execution_count": 41,
          "data": {
            "text/plain": "130"
          },
          "metadata": {}
        }
      ]
    },
    {
      "metadata": {
        "trusted": true
      },
      "cell_type": "code",
      "source": "walks.min()",
      "execution_count": 42,
      "outputs": [
        {
          "output_type": "execute_result",
          "execution_count": 42,
          "data": {
            "text/plain": "-117"
          },
          "metadata": {}
        }
      ]
    },
    {
      "metadata": {
        "trusted": true
      },
      "cell_type": "code",
      "source": "hits30 = (np.abs(walks) >= 30).any(1)\nhits30",
      "execution_count": 44,
      "outputs": [
        {
          "output_type": "execute_result",
          "execution_count": 44,
          "data": {
            "text/plain": "array([ True, False,  True, ..., False,  True,  True])"
          },
          "metadata": {}
        }
      ]
    },
    {
      "metadata": {
        "trusted": true
      },
      "cell_type": "code",
      "source": "np.abs(walks) >= 30",
      "execution_count": 46,
      "outputs": [
        {
          "output_type": "execute_result",
          "execution_count": 46,
          "data": {
            "text/plain": "array([[False, False, False, ...,  True,  True,  True],\n       [False, False, False, ..., False, False, False],\n       [False, False, False, ...,  True, False, False],\n       ...,\n       [False, False, False, ..., False, False, False],\n       [False, False, False, ...,  True,  True,  True],\n       [False, False, False, ..., False, False, False]])"
          },
          "metadata": {}
        }
      ]
    },
    {
      "metadata": {
        "trusted": true
      },
      "cell_type": "code",
      "source": "hits30.sum() # Number that hit 30 or -30",
      "execution_count": 45,
      "outputs": [
        {
          "output_type": "execute_result",
          "execution_count": 45,
          "data": {
            "text/plain": "3410"
          },
          "metadata": {}
        }
      ]
    },
    {
      "metadata": {
        "trusted": true
      },
      "cell_type": "code",
      "source": "crossing_times = (np.abs(walks[hits30]) >= 30).argmax(1)",
      "execution_count": 47,
      "outputs": []
    },
    {
      "metadata": {
        "trusted": true
      },
      "cell_type": "code",
      "source": "crossing_times",
      "execution_count": 48,
      "outputs": [
        {
          "output_type": "execute_result",
          "execution_count": 48,
          "data": {
            "text/plain": "array([867, 667, 357, ..., 353, 797, 687])"
          },
          "metadata": {}
        }
      ]
    },
    {
      "metadata": {
        "trusted": true
      },
      "cell_type": "code",
      "source": "crossing_times.mean()",
      "execution_count": 49,
      "outputs": [
        {
          "output_type": "execute_result",
          "execution_count": 49,
          "data": {
            "text/plain": "497.01935483870966"
          },
          "metadata": {}
        }
      ]
    },
    {
      "metadata": {
        "trusted": true
      },
      "cell_type": "code",
      "source": "steps = np.random.normal(loc=0, scale=0.25,\n                         size=(nwalks, nsteps))",
      "execution_count": 50,
      "outputs": []
    },
    {
      "metadata": {
        "trusted": true
      },
      "cell_type": "code",
      "source": "steps",
      "execution_count": 51,
      "outputs": [
        {
          "output_type": "execute_result",
          "execution_count": 51,
          "data": {
            "text/plain": "array([[ 0.3662, -0.301 ,  0.2525, ..., -0.0777,  0.5053,  0.1537],\n       [ 0.5291, -0.2634, -0.4069, ...,  0.1301,  0.1795, -0.0899],\n       [ 0.0236, -0.4426, -0.0454, ..., -0.1182, -0.0162,  0.4156],\n       ...,\n       [-0.4006, -0.1343, -0.4998, ...,  0.0871,  0.0989, -0.2374],\n       [-0.4076, -0.3294, -0.1986, ...,  0.2343, -0.3188,  0.2514],\n       [ 0.0842,  0.2496, -0.0146, ...,  0.039 , -0.3954, -0.0262]])"
          },
          "metadata": {}
        }
      ]
    },
    {
      "metadata": {
        "trusted": true
      },
      "cell_type": "code",
      "source": "",
      "execution_count": null,
      "outputs": []
    }
  ],
  "metadata": {
    "kernelspec": {
      "name": "python36",
      "display_name": "Python 3.6",
      "language": "python"
    },
    "language_info": {
      "mimetype": "text/x-python",
      "nbconvert_exporter": "python",
      "name": "python",
      "pygments_lexer": "ipython3",
      "version": "3.6.6",
      "file_extension": ".py",
      "codemirror_mode": {
        "version": 3,
        "name": "ipython"
      }
    }
  },
  "nbformat": 4,
  "nbformat_minor": 2
}