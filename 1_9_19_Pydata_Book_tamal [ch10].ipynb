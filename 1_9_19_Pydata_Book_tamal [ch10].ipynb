{
  "cells": [
    {
      "metadata": {
        "trusted": true
      },
      "cell_type": "code",
      "source": "import numpy as np\nimport pandas as pd\nPREVIOUS_MAX_ROWS = pd.options.display.max_rows\npd.options.display.max_rows = 20\nnp.random.seed(12345)\nimport matplotlib.pyplot as plt\nplt.rc('figure', figsize=(10, 6))\nnp.set_printoptions(precision=4, suppress=True)",
      "execution_count": 1,
      "outputs": []
    },
    {
      "metadata": {
        "trusted": true
      },
      "cell_type": "code",
      "source": "df = pd.DataFrame({'key1' : ['a', 'a', 'b', 'b', 'a'],\n                   'key2' : ['one', 'two', 'one', 'two', 'one'],\n                   'data1' : np.random.randn(5),\n                   'data2' : np.random.randn(5)})\ndf",
      "execution_count": 2,
      "outputs": [
        {
          "output_type": "execute_result",
          "execution_count": 2,
          "data": {
            "text/html": "<div>\n<style scoped>\n    .dataframe tbody tr th:only-of-type {\n        vertical-align: middle;\n    }\n\n    .dataframe tbody tr th {\n        vertical-align: top;\n    }\n\n    .dataframe thead th {\n        text-align: right;\n    }\n</style>\n<table border=\"1\" class=\"dataframe\">\n  <thead>\n    <tr style=\"text-align: right;\">\n      <th></th>\n      <th>data1</th>\n      <th>data2</th>\n      <th>key1</th>\n      <th>key2</th>\n    </tr>\n  </thead>\n  <tbody>\n    <tr>\n      <th>0</th>\n      <td>-0.204708</td>\n      <td>1.393406</td>\n      <td>a</td>\n      <td>one</td>\n    </tr>\n    <tr>\n      <th>1</th>\n      <td>0.478943</td>\n      <td>0.092908</td>\n      <td>a</td>\n      <td>two</td>\n    </tr>\n    <tr>\n      <th>2</th>\n      <td>-0.519439</td>\n      <td>0.281746</td>\n      <td>b</td>\n      <td>one</td>\n    </tr>\n    <tr>\n      <th>3</th>\n      <td>-0.555730</td>\n      <td>0.769023</td>\n      <td>b</td>\n      <td>two</td>\n    </tr>\n    <tr>\n      <th>4</th>\n      <td>1.965781</td>\n      <td>1.246435</td>\n      <td>a</td>\n      <td>one</td>\n    </tr>\n  </tbody>\n</table>\n</div>",
            "text/plain": "      data1     data2 key1 key2\n0 -0.204708  1.393406    a  one\n1  0.478943  0.092908    a  two\n2 -0.519439  0.281746    b  one\n3 -0.555730  0.769023    b  two\n4  1.965781  1.246435    a  one"
          },
          "metadata": {}
        }
      ]
    },
    {
      "metadata": {
        "trusted": true
      },
      "cell_type": "code",
      "source": "grouped = df['data1'].groupby(df['key1'])\ngrouped",
      "execution_count": 3,
      "outputs": [
        {
          "output_type": "execute_result",
          "execution_count": 3,
          "data": {
            "text/plain": "<pandas.core.groupby.SeriesGroupBy object at 0x7f6c57bf81d0>"
          },
          "metadata": {}
        }
      ]
    },
    {
      "metadata": {
        "trusted": true
      },
      "cell_type": "code",
      "source": "grouped.mean()",
      "execution_count": 4,
      "outputs": [
        {
          "output_type": "execute_result",
          "execution_count": 4,
          "data": {
            "text/plain": "key1\na    0.746672\nb   -0.537585\nName: data1, dtype: float64"
          },
          "metadata": {}
        }
      ]
    },
    {
      "metadata": {
        "trusted": true
      },
      "cell_type": "code",
      "source": "means = df['data1'].groupby([df['key1'], df['key2']]).mean()\nmeans",
      "execution_count": 5,
      "outputs": [
        {
          "output_type": "execute_result",
          "execution_count": 5,
          "data": {
            "text/plain": "key1  key2\na     one     0.880536\n      two     0.478943\nb     one    -0.519439\n      two    -0.555730\nName: data1, dtype: float64"
          },
          "metadata": {}
        }
      ]
    },
    {
      "metadata": {
        "trusted": true
      },
      "cell_type": "code",
      "source": "means.unstack()",
      "execution_count": 6,
      "outputs": [
        {
          "output_type": "execute_result",
          "execution_count": 6,
          "data": {
            "text/html": "<div>\n<style scoped>\n    .dataframe tbody tr th:only-of-type {\n        vertical-align: middle;\n    }\n\n    .dataframe tbody tr th {\n        vertical-align: top;\n    }\n\n    .dataframe thead th {\n        text-align: right;\n    }\n</style>\n<table border=\"1\" class=\"dataframe\">\n  <thead>\n    <tr style=\"text-align: right;\">\n      <th>key2</th>\n      <th>one</th>\n      <th>two</th>\n    </tr>\n    <tr>\n      <th>key1</th>\n      <th></th>\n      <th></th>\n    </tr>\n  </thead>\n  <tbody>\n    <tr>\n      <th>a</th>\n      <td>0.880536</td>\n      <td>0.478943</td>\n    </tr>\n    <tr>\n      <th>b</th>\n      <td>-0.519439</td>\n      <td>-0.555730</td>\n    </tr>\n  </tbody>\n</table>\n</div>",
            "text/plain": "key2       one       two\nkey1                    \na     0.880536  0.478943\nb    -0.519439 -0.555730"
          },
          "metadata": {}
        }
      ]
    },
    {
      "metadata": {
        "trusted": true
      },
      "cell_type": "code",
      "source": "states = np.array(['Ohio', 'California', 'California', 'Ohio', 'Ohio'])\nyears = np.array([2005, 2005, 2006, 2005, 2006])\ndf['data1'].groupby([states, years]).mean()",
      "execution_count": 7,
      "outputs": [
        {
          "output_type": "execute_result",
          "execution_count": 7,
          "data": {
            "text/plain": "California  2005    0.478943\n            2006   -0.519439\nOhio        2005   -0.380219\n            2006    1.965781\nName: data1, dtype: float64"
          },
          "metadata": {}
        }
      ]
    },
    {
      "metadata": {
        "trusted": true
      },
      "cell_type": "code",
      "source": "df.groupby('key1').mean()",
      "execution_count": 8,
      "outputs": [
        {
          "output_type": "execute_result",
          "execution_count": 8,
          "data": {
            "text/html": "<div>\n<style scoped>\n    .dataframe tbody tr th:only-of-type {\n        vertical-align: middle;\n    }\n\n    .dataframe tbody tr th {\n        vertical-align: top;\n    }\n\n    .dataframe thead th {\n        text-align: right;\n    }\n</style>\n<table border=\"1\" class=\"dataframe\">\n  <thead>\n    <tr style=\"text-align: right;\">\n      <th></th>\n      <th>data1</th>\n      <th>data2</th>\n    </tr>\n    <tr>\n      <th>key1</th>\n      <th></th>\n      <th></th>\n    </tr>\n  </thead>\n  <tbody>\n    <tr>\n      <th>a</th>\n      <td>0.746672</td>\n      <td>0.910916</td>\n    </tr>\n    <tr>\n      <th>b</th>\n      <td>-0.537585</td>\n      <td>0.525384</td>\n    </tr>\n  </tbody>\n</table>\n</div>",
            "text/plain": "         data1     data2\nkey1                    \na     0.746672  0.910916\nb    -0.537585  0.525384"
          },
          "metadata": {}
        }
      ]
    },
    {
      "metadata": {
        "trusted": true
      },
      "cell_type": "code",
      "source": "df.groupby(['key1', 'key2']).mean()",
      "execution_count": 9,
      "outputs": [
        {
          "output_type": "execute_result",
          "execution_count": 9,
          "data": {
            "text/html": "<div>\n<style scoped>\n    .dataframe tbody tr th:only-of-type {\n        vertical-align: middle;\n    }\n\n    .dataframe tbody tr th {\n        vertical-align: top;\n    }\n\n    .dataframe thead th {\n        text-align: right;\n    }\n</style>\n<table border=\"1\" class=\"dataframe\">\n  <thead>\n    <tr style=\"text-align: right;\">\n      <th></th>\n      <th></th>\n      <th>data1</th>\n      <th>data2</th>\n    </tr>\n    <tr>\n      <th>key1</th>\n      <th>key2</th>\n      <th></th>\n      <th></th>\n    </tr>\n  </thead>\n  <tbody>\n    <tr>\n      <th rowspan=\"2\" valign=\"top\">a</th>\n      <th>one</th>\n      <td>0.880536</td>\n      <td>1.319920</td>\n    </tr>\n    <tr>\n      <th>two</th>\n      <td>0.478943</td>\n      <td>0.092908</td>\n    </tr>\n    <tr>\n      <th rowspan=\"2\" valign=\"top\">b</th>\n      <th>one</th>\n      <td>-0.519439</td>\n      <td>0.281746</td>\n    </tr>\n    <tr>\n      <th>two</th>\n      <td>-0.555730</td>\n      <td>0.769023</td>\n    </tr>\n  </tbody>\n</table>\n</div>",
            "text/plain": "              data1     data2\nkey1 key2                    \na    one   0.880536  1.319920\n     two   0.478943  0.092908\nb    one  -0.519439  0.281746\n     two  -0.555730  0.769023"
          },
          "metadata": {}
        }
      ]
    },
    {
      "metadata": {
        "trusted": true
      },
      "cell_type": "code",
      "source": "df.groupby(['key1', 'key2']).size()",
      "execution_count": 10,
      "outputs": [
        {
          "output_type": "execute_result",
          "execution_count": 10,
          "data": {
            "text/plain": "key1  key2\na     one     2\n      two     1\nb     one     1\n      two     1\ndtype: int64"
          },
          "metadata": {}
        }
      ]
    },
    {
      "metadata": {
        "trusted": true
      },
      "cell_type": "code",
      "source": "for name, group in df.groupby('key1'):\n    print(name)\n    print(group)",
      "execution_count": 11,
      "outputs": [
        {
          "output_type": "stream",
          "text": "a\n      data1     data2 key1 key2\n0 -0.204708  1.393406    a  one\n1  0.478943  0.092908    a  two\n4  1.965781  1.246435    a  one\nb\n      data1     data2 key1 key2\n2 -0.519439  0.281746    b  one\n3 -0.555730  0.769023    b  two\n",
          "name": "stdout"
        }
      ]
    },
    {
      "metadata": {
        "trusted": true
      },
      "cell_type": "code",
      "source": "",
      "execution_count": null,
      "outputs": []
    }
  ],
  "metadata": {
    "kernelspec": {
      "name": "python36",
      "display_name": "Python 3.6",
      "language": "python"
    },
    "language_info": {
      "mimetype": "text/x-python",
      "nbconvert_exporter": "python",
      "name": "python",
      "pygments_lexer": "ipython3",
      "version": "3.6.6",
      "file_extension": ".py",
      "codemirror_mode": {
        "version": 3,
        "name": "ipython"
      }
    }
  },
  "nbformat": 4,
  "nbformat_minor": 2
}