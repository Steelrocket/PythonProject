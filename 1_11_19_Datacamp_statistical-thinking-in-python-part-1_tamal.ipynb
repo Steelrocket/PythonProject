{
  "cells": [
    {
      "metadata": {
        "trusted": true
      },
      "cell_type": "code",
      "source": "# Import plotting modules\nimport matplotlib.pyplot as plt\nimport seaborn as sns\n\n# Set default Seaborn style\nsns.set()\n\n# Plot histogram of versicolor petal lengths\ndd=plt.hist(versicolor_petal_length)\ndd=plt.xlabel('petal length')\ndd=plt.ylabel('number of petals')\n# Show histogram\nplt.show()",
      "execution_count": 1,
      "outputs": [
        {
          "output_type": "error",
          "ename": "NameError",
          "evalue": "name 'ecdf' is not defined",
          "traceback": [
            "\u001b[0;31m---------------------------------------------------------------------------\u001b[0m",
            "\u001b[0;31mNameError\u001b[0m                                 Traceback (most recent call last)",
            "\u001b[0;32m<ipython-input-1-f1e6cd6ccc5b>\u001b[0m in \u001b[0;36m<module>\u001b[0;34m\u001b[0m\n\u001b[1;32m      1\u001b[0m \u001b[0;31m# Compute ECDF for versicolor data: x_vers, y_vers\u001b[0m\u001b[0;34m\u001b[0m\u001b[0;34m\u001b[0m\u001b[0m\n\u001b[0;32m----> 2\u001b[0;31m \u001b[0mx_vers\u001b[0m\u001b[0;34m,\u001b[0m \u001b[0my_vers\u001b[0m \u001b[0;34m=\u001b[0m \u001b[0mecdf\u001b[0m\u001b[0;34m(\u001b[0m\u001b[0mversicolor_petal_length\u001b[0m\u001b[0;34m)\u001b[0m\u001b[0;34m\u001b[0m\u001b[0m\n\u001b[0m\u001b[1;32m      3\u001b[0m \u001b[0;34m\u001b[0m\u001b[0m\n\u001b[1;32m      4\u001b[0m \u001b[0;31m# Generate plot\u001b[0m\u001b[0;34m\u001b[0m\u001b[0;34m\u001b[0m\u001b[0m\n\u001b[1;32m      5\u001b[0m \u001b[0m_\u001b[0m\u001b[0;34m=\u001b[0m\u001b[0mplt\u001b[0m\u001b[0;34m.\u001b[0m\u001b[0mplot\u001b[0m\u001b[0;34m(\u001b[0m\u001b[0mx_vers\u001b[0m\u001b[0;34m,\u001b[0m \u001b[0my_vers\u001b[0m\u001b[0;34m,\u001b[0m \u001b[0mmarker\u001b[0m\u001b[0;34m=\u001b[0m \u001b[0;34m'.'\u001b[0m\u001b[0;34m,\u001b[0m \u001b[0mlinestyle\u001b[0m \u001b[0;34m=\u001b[0m \u001b[0;34m'none'\u001b[0m\u001b[0;34m)\u001b[0m\u001b[0;34m\u001b[0m\u001b[0m\n",
            "\u001b[0;31mNameError\u001b[0m: name 'ecdf' is not defined"
          ]
        }
      ]
    },
    {
      "metadata": {
        "trusted": true
      },
      "cell_type": "code",
      "source": "# Plot histogram of versicolor petal lengths\n_ = plt.hist(versicolor_petal_length)\n\n# Label axes\n_=plt.xlabel('petal length (cm)')\n_=plt.ylabel('count')\n\n# Show histogram\nplt.show()\n",
      "execution_count": null,
      "outputs": []
    },
    {
      "metadata": {
        "trusted": true
      },
      "cell_type": "code",
      "source": "# Import numpy\nimport numpy as np\n\n# Compute number of data points: n_data\nn_data=len(versicolor_petal_length)\n\n# Number of bins is the square root of number of data points: n_bins\nn_bins=np.sqrt(n_data)\n\n# Convert number of bins to integer: n_bins\nn_bins=int(n_bins)\n\n# Plot the histogram\nplt.hist(versicolor_petal_length, bins=n_bins)\n\n# Label axes\n_ = plt.xlabel('petal length (cm)')\n_ = plt.ylabel('count')\n\n# Show histogram\nplt.show()",
      "execution_count": null,
      "outputs": []
    },
    {
      "metadata": {
        "trusted": true
      },
      "cell_type": "code",
      "source": "# Create bee swarm plot with Seaborn's default settings\n_=sns.swarmplot(x='species', y='petal length (cm)', data=df)\n\n# Label the axes\n_=plt.xlabel('species')\n_=plt.ylabel('petal length (cm)')\n# Show the plot\nplt.show()",
      "execution_count": null,
      "outputs": []
    },
    {
      "metadata": {
        "trusted": true
      },
      "cell_type": "code",
      "source": "def ecdf(data):\n    \"\"\"Compute ECDF for a one-dimensional array of measurements.\"\"\"\n    # Number of data points: n\n    n = len(data)\n\n    # x-data for the ECDF: x\n    x = np.sort(data)\n\n    # y-data for the ECDF: y\n    y = np.arange(1, n+1) / n\n\n    return x, y\n",
      "execution_count": null,
      "outputs": []
    },
    {
      "metadata": {
        "trusted": true
      },
      "cell_type": "code",
      "source": "# Compute ECDF for versicolor data: x_vers, y_vers\nx_vers, y_vers = ecdf(versicolor_petal_length)\n\n# Generate plot\n_=plt.plot(x_vers, y_vers, marker= '.', linestyle = 'none')\n\n# Label the axes\n_=plt.xlabel('percent of petal length')\n_=plt.ylabel('ECDF')\n\n# Display the plot\nplt.show()\n",
      "execution_count": null,
      "outputs": []
    },
    {
      "metadata": {
        "trusted": true
      },
      "cell_type": "code",
      "source": "# Compute ECDFs\nx_set, y_set= ecdf(setosa_petal_length)\nx_vers, y_vers = ecdf(versicolor_petal_length)\nx_virg, y_virg = ecdf(virginica_petal_length)\n\n# Plot all ECDFs on the same plot\n_=plt.plot(x_set, y_set, marker= '.', linestyle = 'none')\n_=plt.plot(x_vers, y_vers, marker= '.', linestyle = 'none')\n_=plt.plot(x_virg, y_virg, marker= '.', linestyle = 'none')\n\n# Annotate the plot\nplt.legend(('setosa', 'versicolor', 'virginica'), loc='lower right')\n_ = plt.xlabel('petal length (cm)')\n_ = plt.ylabel('ECDF')\n\n# Display the plot\nplt.show()",
      "execution_count": null,
      "outputs": []
    },
    {
      "metadata": {
        "trusted": true
      },
      "cell_type": "code",
      "source": "# Compute the mean: mean_length_vers\nmean_length_vers=np.mean(versicolor_petal_length)\n\n# Print the result with some nice formatting\nprint('I. versicolor:', mean_length_vers, 'cm')",
      "execution_count": null,
      "outputs": []
    },
    {
      "metadata": {
        "trusted": true
      },
      "cell_type": "code",
      "source": "# Specify array of percentiles: percentiles\npercentiles=np.array([2.5,25,50,75,97.5])\n\n# Compute percentiles: ptiles_vers\nptiles_vers=np.percentile(versicolor_petal_length, percentiles)\n\n# Print the result\nprint(ptiles_vers)",
      "execution_count": null,
      "outputs": []
    }
  ],
  "metadata": {
    "kernelspec": {
      "name": "python36",
      "display_name": "Python 3.6",
      "language": "python"
    },
    "language_info": {
      "mimetype": "text/x-python",
      "nbconvert_exporter": "python",
      "name": "python",
      "pygments_lexer": "ipython3",
      "version": "3.6.6",
      "file_extension": ".py",
      "codemirror_mode": {
        "version": 3,
        "name": "ipython"
      }
    }
  },
  "nbformat": 4,
  "nbformat_minor": 2
}