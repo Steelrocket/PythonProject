{
  "cells": [
    {
      "metadata": {
        "trusted": true
      },
      "cell_type": "code",
      "source": "print(\"I will now count my chickens:\")\n\nprint(\"Hens\", 25 + 30 / 6)\nprint(\"Rosters\", 100 - 25 * 3 % 4)\n\nprint(\"Now I will count the eggs:\")\n\nprint(round(3 + 2 + 1 - 5 + 0 - .25 + 6))\n\nprint(\"Is it true that 3 + 2 < 5 - 7?\")\n\nprint(3 + 2 < 5 - 7)\n\nprint(\"What is 3 + 2?\", 3 + 2)\nprint(\"What is 5 - 7?\", 5 - 7)\n\nprint(\"Oh, that's why it's False.\")\n\nprint(\"How about some more.\")\n\nprint(\"It is greater?\", 5 > -2)\nprint(\"It is greater or equal?\", 5 >= -2)\nprint(\"It is less or equal?\", 5 <= -2)",
      "execution_count": null,
      "outputs": []
    },
    {
      "metadata": {
        "trusted": true
      },
      "cell_type": "code",
      "source": "cars = 100\nspace_in_a_car = 4.0\ndrivers = 30\npassengers = 90\ncars_not_driven = cars - drivers\ncars_driven = drivers\ncarpool_capacity = cars_driven * space_in_a_car\naverage_passengers_per_car = passengers / cars_driven\n\nprint(\"There are\", cars, \"cars available.\")\nprint(\"There are only\", drivers, \"drivers available.\")\nprint(\"There will be\", cars_not_driven, \"empty cars today\")\nprint(\"We can transport\", carpool_capacity, \"people today.\")\nprint(\"We have\", passengers, \"to carpool today.\")\nprint(\"We need to put about\", average_passengers_per_car, \"in each car.\")",
      "execution_count": null,
      "outputs": []
    },
    {
      "metadata": {
        "trusted": true
      },
      "cell_type": "code",
      "source": "100*10",
      "execution_count": null,
      "outputs": []
    },
    {
      "metadata": {
        "trusted": true
      },
      "cell_type": "code",
      "source": "x = 100\ny=1\nz1=x/y\ntype(z1)\n",
      "execution_count": null,
      "outputs": []
    },
    {
      "metadata": {
        "trusted": true
      },
      "cell_type": "code",
      "source": "x = 100\ny=1.0\nz2=x*y\ntype(z)",
      "execution_count": null,
      "outputs": []
    },
    {
      "metadata": {
        "trusted": true
      },
      "cell_type": "code",
      "source": "z1==z2",
      "execution_count": null,
      "outputs": []
    },
    {
      "metadata": {
        "trusted": true
      },
      "cell_type": "code",
      "source": "a= \"dog\"\ntype(a)",
      "execution_count": null,
      "outputs": []
    },
    {
      "metadata": {
        "trusted": true
      },
      "cell_type": "code",
      "source": "5 <= -2",
      "execution_count": null,
      "outputs": []
    },
    {
      "metadata": {
        "trusted": true
      },
      "cell_type": "code",
      "source": "a=1\nb=2\na=b \na",
      "execution_count": null,
      "outputs": []
    },
    {
      "metadata": {
        "trusted": true
      },
      "cell_type": "code",
      "source": "my_name = 'Zed A. Shaw'\nmy_age = 35  # not a lie\nmy_height = 74  # inches\nmy_weight = 180  # lbs\nmy_eyes = 'Blue'\nmy_teeth = 'White'\nmy_hair = 'Brown'\n\nprint(f\"Let's talk about {my_name}.\")\nprint(f\"He's {my_height} inches tall.\")\nprint(f\"He's {my_weight} pounds heavy.\")\nprint(\"Actually that's not too heavy.\")\nprint(f\"He's got {my_eyes} eyes and {my_hair} hair.\")\nprint(f\"His teeth are usually {my_teeth} depending on the coffee.\")\n\n# this line is tricky, try to get it exactly right\ntotal = my_age + my_height + my_weight\nprint(f\"If I add {my_age}, {my_height}, and {my_weight} I get {total}.\")\n",
      "execution_count": null,
      "outputs": []
    },
    {
      "metadata": {
        "trusted": true
      },
      "cell_type": "code",
      "source": "print(\"Let's talk about {my_name}.\")",
      "execution_count": null,
      "outputs": []
    },
    {
      "metadata": {
        "trusted": true
      },
      "cell_type": "code",
      "source": "print(f\"Let's talk about {my_name}.\")",
      "execution_count": null,
      "outputs": []
    },
    {
      "metadata": {
        "trusted": true
      },
      "cell_type": "code",
      "source": "d=\"dad\"\nm=\"mom\"\nt=\"tamal\"\nhair=\"black\"\neyes='brown'\nheightm=57 #feet\nheightd=60\nheightt=59\ntotal = heightm + heightd + heightt\nprint('If I add the heights of my family: dad:',heightd, ',mom:',heightm, ',and myself:',heightt, ', the combined heights are',total)",
      "execution_count": null,
      "outputs": []
    },
    {
      "metadata": {
        "trusted": true
      },
      "cell_type": "code",
      "source": "types_of_people = 10\nx = f\"There are {types_of_people} types of people.\"\n\nbinary = \"binary\"\ndo_not = \"don't\"\ny = f\"Those who know {binary} and those who {do_not}.\"\n\nprint(x)\nprint(y)\n\nprint(f\"I said: {x}\")\nprint(\"I also said :\",y)\n\nhilarious = False\njoke_evaluation = \"Isn't that joke so funny?! {}\"\n\nprint(joke_evaluation.format(hilarious))\n\nw = \"This is the left side of...\"\ne = \"a string with a right side.\"\n\nprint(w + e)",
      "execution_count": null,
      "outputs": []
    },
    {
      "metadata": {
        "trusted": true
      },
      "cell_type": "code",
      "source": "print(\"Mary had a little lamb.\")\nprint(\"Its fleece was white as {}.\".format('snow'))\nprint(\"And everywhere that Mary went.\")\nprint(\".\" * 10)  # what'd that do?\n\nch1 = \"C\"\nch2 = \"h\"\nch3 = \"e\"\nch4 = \"e\"\nch5 = \"s\"\nch6 = \"e\"\nch7 = \"B\"\nch8 = \"u\"\nch9 = \"r\"\nch10 = \"g\"\nch11 = \"e\"\nch12 = \"r\"\n\nprint(ch1 + ch2 + ch3 + ch4 + ch5 + ch6, end='')\nprint(ch7 + ch8 + ch9 + ch10 + ch11 + ch12)",
      "execution_count": null,
      "outputs": []
    },
    {
      "metadata": {
        "trusted": true
      },
      "cell_type": "code",
      "source": "print(\"hi,\"*14,\"hi\")",
      "execution_count": null,
      "outputs": []
    },
    {
      "metadata": {
        "trusted": true
      },
      "cell_type": "code",
      "source": "print(\" __ \\n/  \\ \\n----\")",
      "execution_count": null,
      "outputs": []
    },
    {
      "metadata": {
        "trusted": true
      },
      "cell_type": "code",
      "source": "# Here's some new strange stuff, remember type it exactly.\n\ndays = \"Mon Tue Wed Thu Fri Sat Sun\"\nmonths = \"Jan\\nFeb\\nMar\\nApr\\nMay\\nJun\\nJul\\nAug\"\n\nprint(\"Here are the days:\", days)\nprint(\"Here are the months: \", months)\n\nprint(\"\nThere's something going on here.\nWith the three double-quotes.\nWe'll be able to type as much as we like.\nEven 4 lines if we want, or 5, or 6.\n\")",
      "execution_count": null,
      "outputs": []
    },
    {
      "metadata": {
        "trusted": true
      },
      "cell_type": "code",
      "source": "tabby_cat = \"\\tI'm tabbed in.\"\npersian_cat = \"I'm split\\non a line.\"\nbackslash_cat = \"I'm \\\\ a \\\\ cat.\"\n\nfat_cat = \"\"\"\nI'll do a list:\n\\t\\t* Cat food\n\\t\\t* Fishes\n\\t\\t* Catnip\n\\t\\t* Grass\n\"\"\"\n\nprint(tabby_cat)\nprint(persian_cat)\nprint(backslash_cat)\nprint(fat_cat)",
      "execution_count": null,
      "outputs": []
    },
    {
      "metadata": {
        "trusted": true
      },
      "cell_type": "code",
      "source": "print(\"How old are you?\")\nage = input()\nprint(\"How tall are you?\")\nheight = input()\nprint(\"How much do you weigh?\")\nweight = input()\n\nprint(f\"So, you're {age} years old, {height} inches tall and {weight} pounds heavy.\")",
      "execution_count": null,
      "outputs": []
    },
    {
      "metadata": {
        "trusted": true
      },
      "cell_type": "code",
      "source": "x=int(age)\n",
      "execution_count": null,
      "outputs": []
    },
    {
      "metadata": {
        "trusted": true
      },
      "cell_type": "code",
      "source": "type(age)\n",
      "execution_count": null,
      "outputs": []
    },
    {
      "metadata": {
        "trusted": true
      },
      "cell_type": "code",
      "source": "first=input()\nsecond=input()\nthird=input()\nhome=input()\nprint(\"So first base takes\",first,\"m/s, second base takes\",second,\"m/s, third base takes\",third,\"m/s, and home base takes\",home,\"m/s\")",
      "execution_count": null,
      "outputs": []
    },
    {
      "metadata": {
        "trusted": true
      },
      "cell_type": "code",
      "source": "age = input(\"How old are you? \")\nheight = input(\"How tall are you? \")\nweight = input(\"How much do you weight? \")\n\nprint(f\"So, you're {age} old, {height} tall and {weight} heavy.\")",
      "execution_count": null,
      "outputs": []
    },
    {
      "metadata": {
        "trusted": true
      },
      "cell_type": "code",
      "source": "from sys import argv\n\n# read the WYSS section for how to run this\nscript, first, second = argv\n\nprint(\"The script is called:\", script)\nprint(\"Your first variable is:\", first)\nprint(\"Your second variable is:\", second)\n# print(\"Your third variable is:\", tree)",
      "execution_count": null,
      "outputs": []
    },
    {
      "metadata": {
        "trusted": true
      },
      "cell_type": "code",
      "source": "argv",
      "execution_count": null,
      "outputs": []
    },
    {
      "metadata": {
        "trusted": true
      },
      "cell_type": "code",
      "source": "type(argv)",
      "execution_count": null,
      "outputs": []
    },
    {
      "metadata": {
        "trusted": true
      },
      "cell_type": "code",
      "source": "x=[1,2,3]",
      "execution_count": null,
      "outputs": []
    },
    {
      "metadata": {
        "trusted": true
      },
      "cell_type": "code",
      "source": "type(x)",
      "execution_count": null,
      "outputs": []
    },
    {
      "metadata": {
        "trusted": true
      },
      "cell_type": "code",
      "source": "x[0]",
      "execution_count": null,
      "outputs": []
    },
    {
      "metadata": {
        "trusted": true
      },
      "cell_type": "code",
      "source": "x[2]",
      "execution_count": null,
      "outputs": []
    },
    {
      "metadata": {
        "trusted": true
      },
      "cell_type": "code",
      "source": "x=[\"yes\",\"no\",\"maybe\"]",
      "execution_count": null,
      "outputs": []
    },
    {
      "metadata": {
        "trusted": true
      },
      "cell_type": "code",
      "source": "x[2]",
      "execution_count": null,
      "outputs": []
    },
    {
      "metadata": {
        "trusted": true
      },
      "cell_type": "code",
      "source": "x[0]",
      "execution_count": null,
      "outputs": []
    },
    {
      "metadata": {
        "trusted": true
      },
      "cell_type": "code",
      "source": "from sys import argv\n\nscript, user_name, three = argv\n\nprint(f\"Hi {user_name}, I'm the {script} script.\")\nprint(\"I'd like to ask you a few questions.\")\nprint(f\"Do you like me {user_name}?\")\nlikes = input(\">\")\n\nprint(f\"Where do you live {user_name}?\")\nlives = input(\">\")\n\nprint(\"What kind of computer do you have?\")\ncomputer = input(\">\")\n\nprint(f\"\"\"\nAlright, so you said {likes} about liking me.\nYou live in {lives}. Not sure where that is.\nAnd you have a {computer} computer. Nice.\n\"\"\")",
      "execution_count": null,
      "outputs": []
    },
    {
      "metadata": {
        "trusted": true
      },
      "cell_type": "code",
      "source": "from sys import argv\n\nscript, filename, w = argv\n\ntxt = open(script)\n\nprint(f\"Here's your file {script}:\")\nprint(txt.read())\n\nprint(\"Type the filename again:\")\nfile_again = input(\"> \")\n\ntxt_again = open(file_again)\n\nprint(txt_again.read())",
      "execution_count": null,
      "outputs": []
    },
    {
      "metadata": {
        "trusted": true
      },
      "cell_type": "code",
      "source": "\nfrom sys import argv\n\nscript, filename, w = argv\n\ntxt = open(script)\n\nprint(txt.read())\n",
      "execution_count": null,
      "outputs": []
    },
    {
      "metadata": {
        "trusted": true
      },
      "cell_type": "code",
      "source": "from sys import argv\n\nscript, filename, hir = argv\n\nprint(f\"We're going to erase {filename}.\")\nprint(\"If you don't want that, hit CTRL-C (^C).\")\nprint(\"If you do want that, hit RETURN.\")\n\ninput(\"?\")\nfilename ='tamal'\nprint(\"Opening the file...\")\ntarget = open(filename, 'w')\n\nprint(\"Truncating the file. Goodbye!\")\ntarget.truncate()\n\nprint(\"Now I'm going to ask you for three lines.\")\n\nline1 = input(\"line1: \")\nline2 = input(\"line2: \")\nline3 = input(\"line3: \")\n\nprint(\"I'm going to write these to the file.\")\n\ntarget.write(line1)\ntarget.write(\"\\n\")\ntarget.write(line2)\ntarget.write(\"\\n\")\ntarget.write(line3)\ntarget.write(\"\\n\")\n\nprint(\"And finally, we close it.\")\ntarget.close()",
      "execution_count": null,
      "outputs": []
    },
    {
      "metadata": {
        "trusted": true
      },
      "cell_type": "code",
      "source": "target = open(filename, 'w')\n",
      "execution_count": null,
      "outputs": []
    },
    {
      "metadata": {
        "trusted": true
      },
      "cell_type": "code",
      "source": "target.read()",
      "execution_count": null,
      "outputs": []
    },
    {
      "metadata": {
        "trusted": true
      },
      "cell_type": "code",
      "source": "print(open('tamal').read())",
      "execution_count": null,
      "outputs": []
    },
    {
      "metadata": {
        "trusted": true
      },
      "cell_type": "code",
      "source": "from os.path import exists\nfrom sys import argv\n\nfrom_file, to_file = ['tamal', 'new']\n\nprint(f\"Copying from {from_file} to {to_file}\")\n\n# we could do these two on one line too, how?\nin_file = open(from_file)\nindata = in_file.read()\n\nprint(f\"The input file is {len(indata)} bytes long\")\n\nprint(f\"Does the output file exists? {exists(to_file)}\")\nprint(\"Ready, hit RETURN to continue, CTRL-C to abort.\")\ninput()\n\nout_file = open(to_file, 'w')\nout_file.write(indata)\n\nprint(\"Alright, all done.\")\n\nout_file.close()\nin_file.close()",
      "execution_count": null,
      "outputs": []
    },
    {
      "metadata": {
        "trusted": true
      },
      "cell_type": "code",
      "source": "# this one is like your scripts with argv\ndef print_two(*args):\n    arg1, arg2 = args\n    print(f\"arg1: {arg1}, arg2: {arg2}\")\n\n\n# ok, that *args is actually pointless, we can just do this\ndef print_two_again(arg1, arg2):\n    print(f\"arg1: {arg1}, arg2: {arg2}\")\n\n\n# this just takes one argument\ndef print_one(arg1):\n    print(f\"arg1: {arg1}\")\n\n\n# this one takes no arguments\ndef print_none():\n    print(\"I got nothin'.\")\n\n\nprint_two(\"Zed\", \"Shaw\")\nprint_two_again(\"Zed\", \"Shaw\")\nprint_one(\"First!\")\nprint_none()",
      "execution_count": null,
      "outputs": []
    },
    {
      "metadata": {
        "trusted": true
      },
      "cell_type": "code",
      "source": "print_two(\"ger\")",
      "execution_count": null,
      "outputs": []
    },
    {
      "metadata": {
        "trusted": true
      },
      "cell_type": "code",
      "source": "def add_one(xx):\n    print(xx+1)",
      "execution_count": null,
      "outputs": []
    },
    {
      "metadata": {
        "trusted": true
      },
      "cell_type": "code",
      "source": "add_one(1111)",
      "execution_count": null,
      "outputs": []
    },
    {
      "metadata": {
        "trusted": true
      },
      "cell_type": "code",
      "source": " print_none()",
      "execution_count": null,
      "outputs": []
    },
    {
      "metadata": {
        "trusted": true
      },
      "cell_type": "code",
      "source": "def cheese_and_crackers(cheese_count, boxes_of_crackers):\n    print(f\"You have {cheese_count} cheeses!\")\n    print(f\"You have {boxes_of_crackers} boxes of crackers!\")\n    print(\"Man that's enought for a party!\")\n    print(\"Get a blanket.\\n\")\n\n\nprint(\"We can just give the function numbers directly:\")\ncheese_and_crackers(20, 30)\n\nprint(\"OR, we can use variables from our script:\")\namount_of_cheese = 10\namount_of_crackers = 50\n\ncheese_and_crackers(amount_of_cheese, amount_of_crackers)\n\nprint(\"We can even do math inside too:\")\ncheese_and_crackers(10 + 20, 5 + 6)\n\nprint(\"And we can combine the two, variables and math:\")\ncheese_and_crackers(amount_of_cheese + 100, amount_of_crackers + 1000)",
      "execution_count": null,
      "outputs": []
    },
    {
      "metadata": {
        "trusted": true
      },
      "cell_type": "code",
      "source": "from sys import argv\n\nscript, input_file, fre = argv\n\n\ndef print_all(f):\n    print(f.read())\n\n\ndef rewind(f):\n    f.seek(0)\n\n\ndef print_a_line(line_count, f):\n    print(line_count, f.readline())\n\n\ncurrent_file = open(input_file)\n\nprint(\"First let's print the whole file:\\n\")\n\nprint_all(current_file)\n\nprint(\"Now let's rewind, kind of like a tape.\")\n\nrewind(current_file)\n\nprint(\"Let's print three lines:\")\n\ncurrent_line = 1\nprint_a_line(current_line, current_file)\n\ncurrent_line = current_line + 1\nprint_a_line(current_line, current_file)\n\ncurrent_line = current_line + 1\nprint_a_line(current_line, current_file)",
      "execution_count": null,
      "outputs": []
    },
    {
      "metadata": {
        "trusted": true
      },
      "cell_type": "code",
      "source": "current_file = open('tamal')",
      "execution_count": null,
      "outputs": []
    },
    {
      "metadata": {
        "trusted": true
      },
      "cell_type": "code",
      "source": "current_file.readline()",
      "execution_count": null,
      "outputs": []
    },
    {
      "metadata": {
        "trusted": true
      },
      "cell_type": "code",
      "source": "current_file.readline()",
      "execution_count": null,
      "outputs": []
    },
    {
      "metadata": {
        "trusted": true
      },
      "cell_type": "code",
      "source": "def add(a, b):\n    print(f\"ADDING {a} + {b}\")\n    return a + b\n\n\ndef subtract(a, b):\n    print(f\"SUBTRACTING {a} - {b}\")\n    return a - b\n\n\ndef multiply(a, b):\n    print(f\"MULTIPLYING {a} * {b}\")\n    return a * b\n\n\ndef divide(a, b):\n    print(f\"DIVIDING {a} / {b}\")\n    return a / b\n\n\nprint(\"Let's do some math with just functions!\")\n\nage = add(30, 5)\nheight = subtract(78, 4)\nweight = multiply(90, 2)\niq = divide(100, 2)\n\nprint(f\"Age: {age}, Height: {height}, Weight: {weight}, IQ: {iq}\")\n\n# A puzzle for the extra credit, type it in anyway.\nprint(\"Here is a puzzle.\")\n\nwhat = add(age, subtract(height, multiply(weight, divide(iq, 2))))\nprint(f\"That becomes: {what} Can you do it by hand?\")",
      "execution_count": null,
      "outputs": []
    },
    {
      "metadata": {
        "trusted": true
      },
      "cell_type": "code",
      "source": "x = add(1,8)",
      "execution_count": null,
      "outputs": []
    },
    {
      "metadata": {
        "trusted": true
      },
      "cell_type": "code",
      "source": "x",
      "execution_count": null,
      "outputs": []
    },
    {
      "metadata": {
        "trusted": true
      },
      "cell_type": "code",
      "source": "\ndef add(a, b):\n    print(f\"ADDING {a} + {b}\")\n    return a + b\n\n\ndef addtam(a, b):\n    print(f\"ADDING {a} + {b}\")\n",
      "execution_count": null,
      "outputs": []
    },
    {
      "metadata": {
        "trusted": true
      },
      "cell_type": "code",
      "source": "x = addtam(1,8)",
      "execution_count": null,
      "outputs": []
    },
    {
      "metadata": {
        "trusted": true
      },
      "cell_type": "code",
      "source": "x",
      "execution_count": null,
      "outputs": []
    },
    {
      "metadata": {
        "trusted": true
      },
      "cell_type": "code",
      "source": "import sys\n\nscript, input_encoding, error = sys.argv\n\n\ndef main(language_file, encoding, errors):\n    line = language_file.readline()\n\n    if line:\n        print_line(line, encoding, errors)\n        return main(language_file, encoding, errors)\n\n\ndef print_line(line, encoding, errors):\n    next_lang = line.strip()\n    raw_bytes = next_lang.encode(encoding, errors=errors)\n    cooked_string = raw_bytes.decode(encoding, errors=errors)\n\n    print(raw_bytes, \"<==>\", cooked_string)\n\n\nlanguages = open(\"languages.txt\", encoding=\"utf-8\")\n\nmain(languages, input_encoding, error)",
      "execution_count": null,
      "outputs": []
    },
    {
      "metadata": {
        "trusted": true
      },
      "cell_type": "code",
      "source": "print(\"Let's practice everything.\")\nprint('You\\'d need to know \\'bout escapes with \\\\ that do:')\nprint('\\n newlines and \\t tabs.')\n\npoem = \"\"\"\n\\tThe lovely world\nwith logic so firmly planted\ncannot discern \\n the needs of love\nnor comprehend passion from intuition\nand requires an explanation\n\\n\\t\\twhere there is none.\n\"\"\"\n\nprint(\"--------------\")\nprint(poem)\nprint(\"--------------\")\n\nfive = 10 - 2 + 3 - 6\nprint(f\"This should be five: {five}\")\n\n\ndef secret_formula(started):\n    jelly_beans = started * 500\n    jars = jelly_beans / 1000\n    crates = jars / 100\n    gold= crates + 1\n    return jelly_beans, jars, crates, gold\n\n\nstart_point = 10000\nbeans, jars, crates, gold = secret_formula(start_point)\n\n# remember that this is another way to format string\nprint(f\"With a starting point of: {start_point}.\")\n# it's just like with an f\"\" string\nprint(f\"We'd have {beans} beans, {jars} jars, {gold} gold, and {crates} crates.\")\n\nstart_point = start_point / 10\n\nprint(\"We can also do that this way:\")\nformula = secret_formula(start_point)\n# this is an easy way to apply a list to a format string\nprint(\"We'd have {} beans, {} jars, and {} {} crates.\".format(*formula))",
      "execution_count": null,
      "outputs": []
    },
    {
      "metadata": {
        "trusted": true
      },
      "cell_type": "code",
      "source": "type(formula)",
      "execution_count": null,
      "outputs": []
    },
    {
      "metadata": {
        "trusted": true
      },
      "cell_type": "code",
      "source": "def add(a, b):\n    print(f\"ADDING {a} + {b}\")\n    return a + b\n\n\ndef addtam(a, b):\n    print(f\"ADDING {a} + {b}\")",
      "execution_count": null,
      "outputs": []
    },
    {
      "metadata": {
        "trusted": true
      },
      "cell_type": "code",
      "source": "x=add(1,3)",
      "execution_count": null,
      "outputs": []
    },
    {
      "metadata": {
        "trusted": true
      },
      "cell_type": "code",
      "source": "x",
      "execution_count": null,
      "outputs": []
    },
    {
      "metadata": {
        "trusted": true
      },
      "cell_type": "code",
      "source": "y=addtam(1,3)",
      "execution_count": null,
      "outputs": []
    },
    {
      "metadata": {
        "trusted": true
      },
      "cell_type": "code",
      "source": "y",
      "execution_count": null,
      "outputs": []
    },
    {
      "metadata": {
        "trusted": true
      },
      "cell_type": "code",
      "source": "type(y)",
      "execution_count": null,
      "outputs": []
    },
    {
      "metadata": {
        "trusted": true
      },
      "cell_type": "code",
      "source": "def break_words(stuff):\n    \"\"\"This function will break up words for us.\"\"\"\n    words = stuff.split()\n    return words\n\n\ndef sort_words(words):\n    \"\"\"Sorts the words.\"\"\"\n    return sorted(words)\n\n\ndef print_first_word(words):\n    \"\"\"Prints the first word after popping it off.\"\"\"\n    word = words.pop(0)\n    print(word)\n\n\ndef print_last_word(words):\n    \"\"\"Prints the last word after popping it of.\"\"\"\n    word = words.pop(-1)\n    print(word)\n\n\ndef sort_sentence(sentence):\n    \"\"\"Takes in a full sentence and returns the sorted words.\"\"\"\n    words = break_words(sentence)\n    return (sort_words(words))\n\n\ndef print_first_and_last(sentence):\n    \"\"\"Prints the first and last words of a sentence.\"\"\"\n    words = break_words(sentence)\n    print_first_word(words)\n    print_last_word(words)\n\n\ndef print_first_and_last_sorted(sentence):\n    \"\"\"Sorts the words then prints the first and last one.\"\"\"\n    words = sort_sentence(sentence)\n    print_first_word(words)\n    print_last_word(words)",
      "execution_count": null,
      "outputs": []
    },
    {
      "metadata": {
        "trusted": true
      },
      "cell_type": "code",
      "source": "print(f\"{break_words}\")",
      "execution_count": null,
      "outputs": []
    },
    {
      "metadata": {
        "trusted": true
      },
      "cell_type": "code",
      "source": "break_words(\"hello i am here\")",
      "execution_count": null,
      "outputs": []
    },
    {
      "metadata": {
        "trusted": true
      },
      "cell_type": "code",
      "source": "z= break_words(\"hello i amm here\")",
      "execution_count": null,
      "outputs": []
    },
    {
      "metadata": {
        "trusted": true
      },
      "cell_type": "code",
      "source": "z",
      "execution_count": null,
      "outputs": []
    },
    {
      "metadata": {
        "trusted": true
      },
      "cell_type": "code",
      "source": "type(z)",
      "execution_count": null,
      "outputs": []
    },
    {
      "metadata": {
        "trusted": true
      },
      "cell_type": "code",
      "source": "sort_words(\"hello, I, am, here\")",
      "execution_count": null,
      "outputs": []
    },
    {
      "metadata": {
        "trusted": true
      },
      "cell_type": "code",
      "source": "h=sort_words(\"hello, I, am, here\")",
      "execution_count": null,
      "outputs": []
    },
    {
      "metadata": {
        "trusted": true
      },
      "cell_type": "code",
      "source": "type(h)",
      "execution_count": null,
      "outputs": []
    },
    {
      "metadata": {
        "trusted": true
      },
      "cell_type": "code",
      "source": "len(h)",
      "execution_count": null,
      "outputs": []
    },
    {
      "metadata": {
        "trusted": true
      },
      "cell_type": "code",
      "source": "sort_sentence(\"hello i am here\")",
      "execution_count": null,
      "outputs": []
    },
    {
      "metadata": {
        "trusted": true
      },
      "cell_type": "code",
      "source": "len(sort_sentence(\"hello i am here\"))",
      "execution_count": null,
      "outputs": []
    },
    {
      "metadata": {
        "trusted": true
      },
      "cell_type": "code",
      "source": "print_first_word([\"hi\",\"I\",\"am\",\"here\"])",
      "execution_count": null,
      "outputs": []
    },
    {
      "metadata": {
        "trusted": true
      },
      "cell_type": "code",
      "source": "print_last_word([\"a\",\"b\",\"c\"])",
      "execution_count": null,
      "outputs": []
    },
    {
      "metadata": {
        "trusted": true
      },
      "cell_type": "code",
      "source": "print_first_and_last(\"I am here\")",
      "execution_count": null,
      "outputs": []
    },
    {
      "metadata": {
        "trusted": true
      },
      "cell_type": "code",
      "source": "print_first_and_last_sorted(\"first, i came here\")",
      "execution_count": null,
      "outputs": []
    },
    {
      "metadata": {
        "trusted": true
      },
      "cell_type": "code",
      "source": "h=[\"a\",\"b\",\"c\"]",
      "execution_count": null,
      "outputs": []
    },
    {
      "metadata": {
        "trusted": true
      },
      "cell_type": "code",
      "source": "catched = h.pop(-3)",
      "execution_count": null,
      "outputs": []
    },
    {
      "metadata": {
        "trusted": true
      },
      "cell_type": "code",
      "source": "sorted(h)",
      "execution_count": null,
      "outputs": []
    },
    {
      "metadata": {
        "trusted": true
      },
      "cell_type": "code",
      "source": "catched",
      "execution_count": null,
      "outputs": []
    },
    {
      "metadata": {
        "trusted": true
      },
      "cell_type": "code",
      "source": "from sys import argv\n\nprint(\"How old are you?\", end=' ')\nage = input()\nprint(\"How tall are you?\", end=' ')\nheight = input()\nprint(\"How much do you weigh?\", end=' ')\nweight = input()\n\nprint(f\"So, you're {age} old, {height} tall and {weight} heavy.\")\n\nscript, filename, der = argv\n\ntxt = open(filename)\n\nprint(f\"Here's your file {filename}:\")\nprint(txt.read())\n\nprint(\"Type the filename again:\")\nfile_again = input(\"> \")\n\ntxt_again = open(file_again)\n\nprint(txt_again.read())\n\nprint(\"Let's practice everything.\")\nprint('You\\'d need to know \\'bout escapes with \\\\ that do:')\nprint('\\n newlines and \\t tabs.')\n\npoem = \"\"\"\n\\tThe lovely world\nwith logic so firmly planted\ncannot discern \\n the needs of love\nnor comprehend passion from intuition\nand requires an explanation\n\\n\\t\\twhere there is none.\n\"\"\"\n\nprint(\"--------------\")\nprint(poem)\nprint(\"--------------\")\n\nfive = 10 - 2 + 3 - 6\nprint(f\"This should be five: {five}\")\n\n\ndef secret_formula(started):\n    jelly_beans = started * 500\n    jars = jelly_beans / 1000\n    crates = jars / 100\n    return jelly_beans, jars, crates\n\n\nstart_point = 10000\nbeans, jars, crates = secret_formula(start_point)\n\n# remember that this is another way to format a string\nprint(\"With a starting point of: {}\".format(start_point))\n# it's just like with an f\"\" string\nprint(f\"We'd have {beans} beans, {jars} jars, and {crates} crates.\")\n\nstart_point = start_point / 10\n\nprint(\"We can also do that this way:\")\nformula = secret_formula(start_point)\n# this is an easy way to apply a list to a format string\nprint(\"We'd have {} beans, {} jars, and {} crates.\".format(*formula))\n\npeople = 20\ncats = 30\ndogs = 15\n\nif people < cats:\n    print(\"Too many cats! The world is doomed!\")\n\nif people > cats:\n    print(\"Not many cats! The world is saved!\")\n\nif people < dogs:\n    print(\"The world is drooled on!\")\n\nif people > dogs:\n    print(\"The world is dry!\")\n\ndogs += 5\n\nif people >= dogs:\n    print(\"People are greater than or equal to dogs.\")\n\nif people <= dogs:\n    print(\"People are less than or equal to dogs.\")\n\nif people == dogs:\n    print(\"People are dogs.\")",
      "execution_count": null,
      "outputs": []
    },
    {
      "metadata": {
        "trusted": true
      },
      "cell_type": "code",
      "source": "people = 15\ncars = 15\ntrucks = 15\n\nif cars > people:\n    print(\"We should take the cars.\")\nelif cars < people:\n    print(\"We should not take the cars.\")\nelse:\n    print(\"We can't decide.\")\n\nif trucks > cars:\n    print(\"That's too many trucks.\")\nelif trucks < cars:\n    print(\"Maybe we could take the trucks.\")\nelse:\n    print(\"We still can't decide.\")\n\nif people > trucks:\n    print(\"Alright, let's just take the trucks.\")\nelse:\n    print(\"Fine, let's stay home then.\")",
      "execution_count": null,
      "outputs": []
    },
    {
      "metadata": {
        "trusted": true
      },
      "cell_type": "code",
      "source": "print(\"You enter a dark room with two doors.\")\nprint(\"Do you go through door #1 or door #2 or door #3?\")\n\ndoor = input(\"> \")\n\nif door == \"1\":\n    print(\"\"\"There's a giant bear here eating a cheese cake.\n    What do you do?\n    1. Take the cake.\n    2. Scream at the bear.\"\"\")\n\n    bear = input(\"> \")\n\n    if bear == \"1\":\n        print(\"The bear eats your face off. Good job!\")\n    elif bear == \"2\":\n        print(\"The bear eats your legs off. Good job!\")\n    else:\n        print(f\"Well, doing {bear} is probably better.\")\n        print(\"Bear runs away.\")\n\nelif door == \"2\":\n    print(\"You stare into the endless abyss at Cthulhu's retina.\")\n    print(\"1. Blueberries.\")\n    print(\"2. Yellow jacket clothespins.\")\n    print(\"3. Understanding revolvers yelling melodies.\")\n\n    insanity = input(\"> \")\n\n    if insanity == \"1\" or insanity == \"2\":\n        print(\"Your body survives powered by a mind of jello.\")\n        print(\"Good job!\")\n    else:\n        print(\"The insanity rots your eyes into a pool of muck.\")\n        print(\"Good job!\")\nelif door == \"3\":\n    print(\"\"\"You fall down a slide and are about to hit a spike trap. Do you:\n    1. Harpoon the ceiling\n    2. Try to get a hold on the slide\"\"\")\n    \n    slide= input(\"> \")\n    if slide == \"1\":\n        print(\"You are now stuck to the ceiling\")\n    elif slide == \"2\":\n        print(\"Your hands burn off from the friction, but stop at the bottom of the slide\")\n    else:\n        print(\"You fall into the spikes and die\")\n    \nelse:\n    print(\"You stumble around and fall on knife and die. Good job!\")",
      "execution_count": null,
      "outputs": []
    },
    {
      "metadata": {
        "trusted": true
      },
      "cell_type": "code",
      "source": "the_count = [1, 2, 3, 4, 5]\nfruits = ['apples', 'oranges', 'pears', 'apricots']\nchange = [1, 'pennies', 2, 'dimes', 3, 'quarters']\n\n# this first kind of for-loop goes through a list\nfor number in the_count:\n    print(f\"This is count {number},{number+1}\")\n\n# same as above\nfor fruit in fruits:\n    print(f\"A fruit of type: {fruit}\")\n\n# also we can go through mixed lists too\n# notice we have to use %r since we don't know what's in items\nfor i in change: \n    print(f\"I got {i}\")\n\n# we can also build lists, first start with an empty one\nelements = []\n\n# then use the range function to do 0 to 5 counts\nfor i in range(0, 6):\n    print(f\"Adding {i} to the list.\")\n    # append is a function that lists understand\n    elements.append(i)\n\n# now we can print them out too\nfor i in elements:\n    print(f\"Element was: {i}\")",
      "execution_count": null,
      "outputs": []
    },
    {
      "metadata": {
        "trusted": true
      },
      "cell_type": "code",
      "source": "range(0, 6)",
      "execution_count": null,
      "outputs": []
    },
    {
      "metadata": {
        "trusted": true
      },
      "cell_type": "code",
      "source": "list(range(0, 6))",
      "execution_count": null,
      "outputs": []
    },
    {
      "metadata": {
        "trusted": true
      },
      "cell_type": "code",
      "source": "x= range(0, 6)",
      "execution_count": null,
      "outputs": []
    },
    {
      "metadata": {
        "trusted": true
      },
      "cell_type": "code",
      "source": "x= list(range(0, 6))",
      "execution_count": null,
      "outputs": []
    },
    {
      "metadata": {
        "trusted": true
      },
      "cell_type": "code",
      "source": "x",
      "execution_count": null,
      "outputs": []
    },
    {
      "metadata": {
        "trusted": true
      },
      "cell_type": "code",
      "source": "fences= [\"metal\",\"wood\",\"plastic\"]\nfor x in fences:\n    print(f\"There are {x} fences\")",
      "execution_count": null,
      "outputs": []
    },
    {
      "metadata": {
        "trusted": true
      },
      "cell_type": "code",
      "source": "i = 0\nnumbers = []\n\nwhile i <= 10:\n    print(f\"At the top i is {i}\")\n    numbers.append(i)\n\n    i = i + 1\n    print(\"Numbers now: \", numbers)\n    print(f\"At the bottom i is {i}\")\n\nprint(\"The numbers: \")\n\nfor num in numbers:\n    print(num)",
      "execution_count": null,
      "outputs": []
    },
    {
      "metadata": {
        "trusted": true
      },
      "cell_type": "code",
      "source": "hi=[2,3,4]",
      "execution_count": null,
      "outputs": []
    },
    {
      "metadata": {
        "trusted": true
      },
      "cell_type": "code",
      "source": "hello=hi.pop()\nprint(hello)",
      "execution_count": null,
      "outputs": []
    },
    {
      "metadata": {
        "trusted": true
      },
      "cell_type": "code",
      "source": "tyu=[]",
      "execution_count": null,
      "outputs": []
    },
    {
      "metadata": {
        "trusted": true
      },
      "cell_type": "code",
      "source": "for i in range(10,20):\n    print(f\"these values are tyu {i}\")\n    tyu.append(i)",
      "execution_count": null,
      "outputs": []
    },
    {
      "metadata": {
        "trusted": true
      },
      "cell_type": "code",
      "source": "tyu",
      "execution_count": null,
      "outputs": []
    },
    {
      "metadata": {
        "trusted": true
      },
      "cell_type": "code",
      "source": "tyu.pop()",
      "execution_count": null,
      "outputs": []
    },
    {
      "metadata": {
        "trusted": true
      },
      "cell_type": "code",
      "source": "tyu[4:8]",
      "execution_count": null,
      "outputs": []
    },
    {
      "metadata": {
        "trusted": true
      },
      "cell_type": "code",
      "source": "tyu.remove(11,12,13)",
      "execution_count": null,
      "outputs": []
    },
    {
      "metadata": {
        "trusted": true
      },
      "cell_type": "code",
      "source": "i=[]",
      "execution_count": null,
      "outputs": []
    },
    {
      "metadata": {
        "trusted": true
      },
      "cell_type": "code",
      "source": "tyu",
      "execution_count": null,
      "outputs": []
    },
    {
      "metadata": {
        "trusted": true
      },
      "cell_type": "code",
      "source": "tyu[8]",
      "execution_count": null,
      "outputs": []
    },
    {
      "metadata": {
        "trusted": true
      },
      "cell_type": "code",
      "source": "tyu[10:]",
      "execution_count": null,
      "outputs": []
    },
    {
      "metadata": {
        "trusted": true
      },
      "cell_type": "code",
      "source": "new_tyu=[]\nfor e in tyu:\n    if e not in (10,11,12,13,14,15,16,17,18):\n        new_tyu.append(e)\ntyu = new_tyu\nprint(tyu)",
      "execution_count": null,
      "outputs": []
    },
    {
      "metadata": {
        "trusted": true
      },
      "cell_type": "code",
      "source": "from sys import exit\n\n\ndef gold_room():\n    print(\"This room is full of gold. How much do you take?\")\n\n    choice = input(\"> \")\n    if \"0\" in choice or \"1\" in choice:\n        how_much = int(choice)\n    else:\n        dead(\"Man, learn to type a number.\")\n\n    if how_much < 50:\n        print(\"Nice, you're not greedy, you win!\")\n        exit(0)\n    else:\n        dead(\"You greedy bastard!\")\n\n\ndef bear_room():\n    print(\"There is bear here.\")\n    print(\"The bear has a bunch of honey.\")\n    print(\"The fat bear is in front of another door.\")\n    print(\"How are you going to move the bear?\")\n    bear_moved = False\n\n    while True:\n        choice = input(\"> \")\n\n        if choice == \"take honey\":\n            dead(\"The bear looks at you then slaps your face off.\")\n        elif choice == \"taunt bear\" and not bear_moved:\n            print(\"The bear has moved from the door.\")\n            print(\"You can go through it now.\")\n            bear_moved = True\n        elif choice == \"taunt bear\" and bear_moved:\n            dead(\"The bear gets pissed off and chews your leg off.\")\n        elif choice == \"open door\" and bear_moved:\n            gold_room()\n        else:\n            print(\"I got no idea what that means.\")\n\n\ndef cthulhu_room():\n    print(\"Here you see the great evil Cthulhu.\")\n    print(\"He, it, whatever stares at you and you go insane.\")\n    print(\"Do you flee for your life or eat your head?\")\n\n    choice = input(\"> \")\n\n    if \"flee\" in choice:\n        start()\n    elif \"head\" in choice:\n        dead(\"Well that was tasty!\")\n    else:\n        cthulhu_room()\n\n\ndef dead(why):\n    print(why, \"Good job!\")\n    exit(0)\n\n\ndef start():\n    print(\"You are in a dark room.\")\n    print(\"There is a door to your right and left.\")\n    print(\"Which one do you take?\")\n\n    choice = input(\"> \")\n\n    if choice == \"left\":\n        bear_room()\n    elif choice == \"right\":\n        cthulhu_room()\n    else:\n        dead(\"You stumble around the room until you starve.\")\n\n\nstart()",
      "execution_count": 1,
      "outputs": [
        {
          "output_type": "stream",
          "text": "You are in a dark room.\nThere is a door to your right and left.\nWhich one do you take?\n> left\nThere is bear here.\nThe bear has a bunch of honey.\nThe fat bear is in front of another door.\nHow are you going to move the bear?\n> taunt bear\nThe bear has moved from the door.\nYou can go through it now.\n> open door\nThis room is full of gold. How much do you take?\n> 100\nYou greedy bastard! Good job!\n",
          "name": "stdout"
        },
        {
          "output_type": "error",
          "ename": "SystemExit",
          "evalue": "0",
          "traceback": [
            "An exception has occurred, use %tb to see the full traceback.\n",
            "\u001b[0;31mSystemExit\u001b[0m\u001b[0;31m:\u001b[0m 0\n"
          ]
        },
        {
          "output_type": "stream",
          "text": "/home/nbuser/anaconda3_501/lib/python3.6/site-packages/IPython/core/interactiveshell.py:3273: UserWarning: To exit: use 'exit', 'quit', or Ctrl-D.\n  warn(\"To exit: use 'exit', 'quit', or Ctrl-D.\", stacklevel=1)\n",
          "name": "stderr"
        }
      ]
    },
    {
      "metadata": {
        "trusted": true
      },
      "cell_type": "code",
      "source": "%tb\n",
      "execution_count": null,
      "outputs": []
    },
    {
      "metadata": {
        "trusted": true
      },
      "cell_type": "code",
      "source": "def pool():\n    print(\"There is a pool\")\n    print(\"It is deep\")\n    end\n    ",
      "execution_count": null,
      "outputs": []
    },
    {
      "metadata": {
        "trusted": true
      },
      "cell_type": "code",
      "source": "ten_things = \"Apples Oranges Crows Telephone Light Sugar\"\n\nprint(\"Wait there's not 10 things in that list, let's fix that.\")\n\nstuff = ten_things.split(' ')\nmore_stuff = [\"Day\", \"Night\", \"Song\", \"Frisbee\",\n              \"Corn\", \"Banana\", \"Girl\", \"Boy\"]\n\nwhile len(stuff) != 10:\n    next_one = more_stuff.pop()\n    print(\"Adding: \", next_one)\n    stuff.append(next_one)\n    print(f\"There's {len(stuff)} items now.\")\n\nprint(\"There we go: \", stuff)\n\nprint(\"Let's do some things with stuff.\")\n\nprint(stuff[1])\nprint(stuff[-1])  # whoa! fancy\nprint(stuff.pop())\nprint(' '.join(stuff))  # what= cool!\nprint('#'.join(stuff[3:5]))  # super stellar!",
      "execution_count": 16,
      "outputs": [
        {
          "output_type": "stream",
          "text": "Wait there's not 10 things in that list, let's fix that.\nAdding:  Boy\nThere's 7 items now.\nAdding:  Girl\nThere's 8 items now.\nAdding:  Banana\nThere's 9 items now.\nAdding:  Corn\nThere's 10 items now.\nThere we go:  ['Apples', 'Oranges', 'Crows', 'Telephone', 'Light', 'Sugar', 'Boy', 'Girl', 'Banana', 'Corn']\nLet's do some things with stuff.\nOranges\nCorn\nCorn\nApples Oranges Crows Telephone Light Sugar Boy Girl Banana\nTelephone#Light\n",
          "name": "stdout"
        }
      ]
    },
    {
      "metadata": {
        "trusted": true
      },
      "cell_type": "code",
      "source": "class Mat(list):\n    def __matmul__(self, B):\n        A = self\n        return Mat([[sum(A[i][k]*B[k][j] for k in range(len(B)))\n                    for j in range(len(B[0])) ] for i in range(len(A))])\n\nA = Mat([[1,3],[7,5]])\nB = Mat([[6,8],[4,2]])\n\nprint(A @ B)",
      "execution_count": 4,
      "outputs": [
        {
          "output_type": "stream",
          "text": "[[18, 14], [62, 66]]\n",
          "name": "stdout"
        }
      ]
    },
    {
      "metadata": {
        "trusted": true
      },
      "cell_type": "code",
      "source": "print(\"Wait \\a there's \\b not 10 \\fthings in that list, \\t let's fix \\v that.\")",
      "execution_count": 14,
      "outputs": [
        {
          "output_type": "stream",
          "text": "Wait \u0007 there's \b not 10 \fthings in that list, \t let's fix \u000b that.\n",
          "name": "stdout"
        }
      ]
    },
    {
      "metadata": {
        "trusted": true
      },
      "cell_type": "code",
      "source": "print(\"wait theres how \\a many\")",
      "execution_count": 7,
      "outputs": [
        {
          "output_type": "stream",
          "text": "wait theres how \u0007 many\n",
          "name": "stdout"
        }
      ]
    },
    {
      "metadata": {
        "trusted": true
      },
      "cell_type": "code",
      "source": "print(\"person theres how many \\rpeople\")",
      "execution_count": 13,
      "outputs": [
        {
          "output_type": "stream",
          "text": "person theres how many \rpeople\n",
          "name": "stdout"
        }
      ]
    },
    {
      "metadata": {
        "trusted": true
      },
      "cell_type": "code",
      "source": "# create a mapping of state to abbreviation\nstates = {\n    'Oregon': 'OR',\n    'Florida': 'FL',\n    'California': 'CA',\n    'New York': 'NY',\n    'Michigan': 'MI'\n}\n\n# create a basic set of states and some cities in them\ncities = {'CA': 'San Francisco',\n          'MI': 'Detroit',\n          'FL': 'Jacksonville'}\n\n# add some more cities\ncities['NY'] = 'New York City'\ncities['OR'] = 'Portland'\n\n# print out some cities\nprint('-' * 10)\nprint(f\"NY State has: {cities['NY']}\")\nprint(f\"OR State has: {cities['OR']}\")\n\n# print some states\nprint('-' * 10)\nprint(\"Michigan's abbreviation is: \", states[\"Michigan\"])\nprint(\"Florida's abbreviation is: \", states['Florida'])\n\n# do it by using the state then cities dict\nprint('-' * 10)\nprint(\"Michigan has: \", cities[states['Michigan']])\nprint(\"Florida has: \", cities[states['Florida']])\n\n# print every state abbreviation\nprint('-' * 10)\nfor state, abbrev in states.items():\n    print(f\"{state} is abbreviated {abbrev}\")\n\n# print every city in state\nprint('-' * 10)\nfor abbrev, city in cities.items():\n    print(f\"{abbrev} has the city {city}\")\n\n# now do both at the same time\nprint('-' * 10)\nfor state, abbrev in states.items():\n    print(f\"{state} state is abbreviated {abbrev}\")\n    print(f\"and has city {cities[abbrev]}\")\n\nprint('-' * 10)\n# safely get an abbreviation by state that might not be there\nstate = states.get('Texas')\n\nif not state:\n    print(\"Sorry, no Texas.\")\n\n# get a city with a default values\ncity = cities.get('TX', 'Does not Exist')\nprint(f\"The city for the state 'TX' is: {city}\")",
      "execution_count": 24,
      "outputs": [
        {
          "output_type": "stream",
          "text": "----------\nNY State has: New York City\nOR State has: Portland\n----------\nMichigan's abbreviation is:  MI\nFlorida's abbreviation is:  FL\n----------\nMichigan has:  Detroit\nFlorida has:  Jacksonville\n----------\nOregon is abbreviated OR\nFlorida is abbreviated FL\nCalifornia is abbreviated CA\nNew York is abbreviated NY\nMichigan is abbreviated MI\n----------\nCA has the city San Francisco\nMI has the city Detroit\nFL has the city Jacksonville\nNY has the city New York City\nOR has the city Portland\n----------\nOregon state is abbreviated OR\nand has city Portland\nFlorida state is abbreviated FL\nand has city Jacksonville\nCalifornia state is abbreviated CA\nand has city San Francisco\nNew York state is abbreviated NY\nand has city New York City\nMichigan state is abbreviated MI\nand has city Detroit\n----------\nSorry, no Texas.\nThe city for the state 'TX' is: xxx\n",
          "name": "stdout"
        }
      ]
    },
    {
      "metadata": {
        "trusted": true
      },
      "cell_type": "code",
      "source": "states.items()",
      "execution_count": 23,
      "outputs": [
        {
          "output_type": "execute_result",
          "execution_count": 23,
          "data": {
            "text/plain": "dict_items([('Oregon', 'OR'), ('Florida', 'FL'), ('California', 'CA'), ('New York', 'NY'), ('Michigan', 'MI')])"
          },
          "metadata": {}
        }
      ]
    },
    {
      "metadata": {
        "trusted": true
      },
      "cell_type": "code",
      "source": "class Song(object):\n    def __init__(self, lyrics):\n        self.lyrics = lyrics\n\n    def sing_me_a_song(self):\n        for line in self.lyrics:\n            print(line)\n\n\nhappy_bday = Song([\"Happy birthday to you\",\n                   \"I don't want to get sued\",\n                   \"So I'll stop right there\"])\n\nbulls_on_parade = Song([\"They rally around the family\",\n                        \"With pockets full of shells\"])\n\nhappy_bday.sing_me_a_song()\n\nbulls_on_parade.sing_me_a_song()",
      "execution_count": 25,
      "outputs": [
        {
          "output_type": "stream",
          "text": "Happy birthday to you\nI don't want to get sued\nSo I'll stop right there\nThey rally around the family\nWith pockets full of shells\n",
          "name": "stdout"
        }
      ]
    },
    {
      "metadata": {
        "trusted": true
      },
      "cell_type": "code",
      "source": "x1=[\"Happy birthday to you\",\n                   \"I don't want to get sued\",\n                   \"So I'll stop right there\"]\nfor line in x1:\n            print(line)",
      "execution_count": 26,
      "outputs": [
        {
          "output_type": "stream",
          "text": "Happy birthday to you\nI don't want to get sued\nSo I'll stop right there\n",
          "name": "stdout"
        }
      ]
    },
    {
      "metadata": {
        "trusted": true
      },
      "cell_type": "code",
      "source": "",
      "execution_count": null,
      "outputs": []
    }
  ],
  "metadata": {
    "kernelspec": {
      "name": "python36",
      "display_name": "Python 3.6",
      "language": "python"
    },
    "language_info": {
      "mimetype": "text/x-python",
      "nbconvert_exporter": "python",
      "name": "python",
      "pygments_lexer": "ipython3",
      "version": "3.6.6",
      "file_extension": ".py",
      "codemirror_mode": {
        "version": 3,
        "name": "ipython"
      }
    }
  },
  "nbformat": 4,
  "nbformat_minor": 2
}